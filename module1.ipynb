{
 "cells": [
  {
   "cell_type": "code",
   "execution_count": 1,
   "source": [
    "import pandas as pd\n",
    "import numpy as np\n",
    "import matplotlib.pyplot as plt\n",
    "import re\n",
    "import plotly.express as px\n",
    "import seaborn as sns\n",
    "import plotly.graph_objs as go\n",
    "# Data Source\n",
    "import yfinance as yf\n",
    "import datetime\n",
    "from pandas_datareader import data as pdr\n",
    "from src.robinassistant.ingest import ETL "
   ],
   "outputs": [],
   "metadata": {}
  },
  {
   "cell_type": "code",
   "execution_count": 9,
   "source": [
    "\n",
    "\n"
   ],
   "outputs": [],
   "metadata": {}
  },
  {
   "cell_type": "code",
   "execution_count": 20,
   "source": [
    "e = ETL()"
   ],
   "outputs": [],
   "metadata": {}
  },
  {
   "cell_type": "code",
   "execution_count": 28,
   "source": [
    "# Ingestion\n",
    "\n",
    "class Setup:\n",
    "    def __init__(self, e):\n",
    "        self.cat = {}\n",
    "        cat['energy'] = ['']\n",
    "        cat['momentum'] = []\n",
    "        cat['watchlist'] = [\"CLOV\", \"CCIV\"]\n",
    "        cat['research_more'] = [\"\"]\n",
    "        cat['sus'] = [\"BNGO\", \"\"]\n",
    "        e = ETL()\n",
    "\n",
    "    def get_holdings(self, path_to_stocks = \"/Users/mtaruno/Documents/DevZone/robinhood/data/stocks.txt\"):\n",
    "        with open(path_to_stocks as f:\n",
    "            data = f.readlines()\n",
    "            data = \"\".join(data)\n",
    "\n",
    "        holdings = e.ingest_robin_table(data)\n",
    "        # getting full data\n",
    "        return e.additional_robin_columns(holdings)\n",
    "\n",
    "    def display_fancy_table(self, df = None):\n",
    "\n",
    "        if df is None:\n",
    "            df = self.get_holdings()\n",
    "\n",
    "        format_dict = {'Percentage': '{:.2%}', 'Decay/Increase': '{:.2%}'} # 'sum':'${0:,.0f}', 'date': '{:%m-%Y}', \n",
    "\n",
    "        # seeing my portfolio\n",
    "        show = lambda x: x.style.set_properties(**{'background-color': \n",
    "            'black','color': 'lawngreen','border-color': 'white'})\\\n",
    "        .applymap(lambda x: f\"color: {'cyan' if isinstance(x,str) else 'lawngreen'}\")\\\n",
    "        .background_gradient(cmap='Purples')\\\n",
    "        .format(format_dict)\n",
    "\n",
    "        show(df)"
   ],
   "outputs": [
    {
     "output_type": "error",
     "ename": "IndentationError",
     "evalue": "unindent does not match any outer indentation level (<tokenize>, line 18)",
     "traceback": [
      "\u001b[0;36m  File \u001b[0;32m\"<tokenize>\"\u001b[0;36m, line \u001b[0;32m18\u001b[0m\n\u001b[0;31m    holdings = e.ingest_robin_table(data)\u001b[0m\n\u001b[0m    ^\u001b[0m\n\u001b[0;31mIndentationError\u001b[0m\u001b[0;31m:\u001b[0m unindent does not match any outer indentation level\n"
     ]
    }
   ],
   "metadata": {}
  },
  {
   "cell_type": "markdown",
   "source": [
    "Sources:\n",
    "\n",
    "Earnings Call Calendar: https://finance.yahoo.com/calendar/earnings/\n",
    "\n",
    "\n",
    "JMIA Pay, Talk, .. etc.\n",
    "\n",
    "First mover advantage\n",
    "\n",
    "\n",
    "Tipranks:\n",
    "Finviz:\n",
    "Seeking Alpha"
   ],
   "metadata": {}
  },
  {
   "cell_type": "code",
   "execution_count": 23,
   "source": [],
   "outputs": [
    {
     "output_type": "execute_result",
     "data": {
      "text/html": [
       "<style  type=\"text/css\" >\n",
       "#T_be17d_row0_col0,#T_be17d_row0_col1,#T_be17d_row1_col0,#T_be17d_row1_col1,#T_be17d_row2_col0,#T_be17d_row2_col1,#T_be17d_row3_col0,#T_be17d_row3_col1,#T_be17d_row4_col0,#T_be17d_row4_col1,#T_be17d_row5_col0,#T_be17d_row5_col1,#T_be17d_row6_col0,#T_be17d_row6_col1,#T_be17d_row7_col0,#T_be17d_row7_col1,#T_be17d_row8_col0,#T_be17d_row8_col1,#T_be17d_row9_col0,#T_be17d_row9_col1,#T_be17d_row10_col0,#T_be17d_row10_col1,#T_be17d_row11_col0,#T_be17d_row11_col1,#T_be17d_row12_col0,#T_be17d_row12_col1,#T_be17d_row13_col0,#T_be17d_row13_col1,#T_be17d_row14_col0,#T_be17d_row14_col1,#T_be17d_row15_col0,#T_be17d_row15_col1,#T_be17d_row16_col0,#T_be17d_row16_col1,#T_be17d_row17_col0,#T_be17d_row17_col1,#T_be17d_row18_col0,#T_be17d_row18_col1,#T_be17d_row19_col0,#T_be17d_row19_col1,#T_be17d_row20_col0,#T_be17d_row20_col1,#T_be17d_row21_col0,#T_be17d_row21_col1,#T_be17d_row22_col0,#T_be17d_row22_col1,#T_be17d_row23_col0,#T_be17d_row23_col1,#T_be17d_row24_col0,#T_be17d_row24_col1,#T_be17d_row25_col0,#T_be17d_row25_col1,#T_be17d_row26_col0,#T_be17d_row26_col1,#T_be17d_row27_col0,#T_be17d_row27_col1,#T_be17d_row28_col0,#T_be17d_row28_col1,#T_be17d_row29_col0,#T_be17d_row29_col1,#T_be17d_row30_col0,#T_be17d_row30_col1,#T_be17d_row31_col0,#T_be17d_row31_col1,#T_be17d_row32_col0,#T_be17d_row32_col1,#T_be17d_row33_col0,#T_be17d_row33_col1,#T_be17d_row34_col0,#T_be17d_row34_col1,#T_be17d_row35_col0,#T_be17d_row35_col1,#T_be17d_row36_col0,#T_be17d_row36_col1,#T_be17d_row37_col0,#T_be17d_row37_col1,#T_be17d_row38_col0,#T_be17d_row38_col1,#T_be17d_row39_col0,#T_be17d_row39_col1,#T_be17d_row40_col0,#T_be17d_row40_col1,#T_be17d_row41_col0,#T_be17d_row41_col1,#T_be17d_row42_col0,#T_be17d_row42_col1{\n",
       "            background-color:  black;\n",
       "            color:  lawngreen;\n",
       "            border-color:  white;\n",
       "            color:  cyan;\n",
       "        }#T_be17d_row0_col2,#T_be17d_row4_col2,#T_be17d_row8_col5,#T_be17d_row34_col4{\n",
       "            background-color:  black;\n",
       "            color:  lawngreen;\n",
       "            border-color:  white;\n",
       "            color:  lawngreen;\n",
       "            background-color:  #f4f2f8;\n",
       "            color:  #000000;\n",
       "        }#T_be17d_row0_col3,#T_be17d_row12_col2{\n",
       "            background-color:  black;\n",
       "            color:  lawngreen;\n",
       "            border-color:  white;\n",
       "            color:  lawngreen;\n",
       "            background-color:  #d8d8ea;\n",
       "            color:  #000000;\n",
       "        }#T_be17d_row0_col4,#T_be17d_row35_col7,#T_be17d_row36_col7,#T_be17d_row37_col7,#T_be17d_row38_col10{\n",
       "            background-color:  black;\n",
       "            color:  lawngreen;\n",
       "            border-color:  white;\n",
       "            color:  lawngreen;\n",
       "            background-color:  #cccce4;\n",
       "            color:  #000000;\n",
       "        }#T_be17d_row0_col5,#T_be17d_row0_col6,#T_be17d_row0_col7,#T_be17d_row0_col9,#T_be17d_row1_col10,#T_be17d_row2_col3,#T_be17d_row2_col4,#T_be17d_row12_col8,#T_be17d_row40_col2{\n",
       "            background-color:  black;\n",
       "            color:  lawngreen;\n",
       "            border-color:  white;\n",
       "            color:  lawngreen;\n",
       "            background-color:  #3f007d;\n",
       "            color:  #f1f1f1;\n",
       "        }#T_be17d_row0_col8{\n",
       "            background-color:  black;\n",
       "            color:  lawngreen;\n",
       "            border-color:  white;\n",
       "            color:  lawngreen;\n",
       "            background-color:  #63449d;\n",
       "            color:  #f1f1f1;\n",
       "        }#T_be17d_row0_col10,#T_be17d_row25_col8{\n",
       "            background-color:  black;\n",
       "            color:  lawngreen;\n",
       "            border-color:  white;\n",
       "            color:  lawngreen;\n",
       "            background-color:  #8885be;\n",
       "            color:  #000000;\n",
       "        }#T_be17d_row1_col2,#T_be17d_row3_col3{\n",
       "            background-color:  black;\n",
       "            color:  lawngreen;\n",
       "            border-color:  white;\n",
       "            color:  lawngreen;\n",
       "            background-color:  #eeecf5;\n",
       "            color:  #000000;\n",
       "        }#T_be17d_row1_col3,#T_be17d_row1_col4,#T_be17d_row2_col2,#T_be17d_row4_col4,#T_be17d_row5_col3,#T_be17d_row5_col4,#T_be17d_row7_col2,#T_be17d_row9_col2,#T_be17d_row12_col3,#T_be17d_row12_col4,#T_be17d_row14_col2,#T_be17d_row15_col6,#T_be17d_row15_col9,#T_be17d_row16_col2,#T_be17d_row16_col6,#T_be17d_row16_col9,#T_be17d_row17_col2,#T_be17d_row17_col5,#T_be17d_row17_col6,#T_be17d_row17_col9,#T_be17d_row18_col2,#T_be17d_row18_col5,#T_be17d_row18_col6,#T_be17d_row18_col9,#T_be17d_row19_col5,#T_be17d_row20_col3,#T_be17d_row20_col4,#T_be17d_row20_col5,#T_be17d_row20_col6,#T_be17d_row20_col9,#T_be17d_row21_col3,#T_be17d_row21_col4,#T_be17d_row21_col5,#T_be17d_row21_col6,#T_be17d_row21_col9,#T_be17d_row22_col2,#T_be17d_row22_col5,#T_be17d_row22_col6,#T_be17d_row22_col9,#T_be17d_row23_col5,#T_be17d_row24_col2,#T_be17d_row24_col5,#T_be17d_row24_col6,#T_be17d_row24_col9,#T_be17d_row25_col5,#T_be17d_row26_col3,#T_be17d_row26_col4,#T_be17d_row26_col5,#T_be17d_row26_col6,#T_be17d_row26_col9,#T_be17d_row27_col3,#T_be17d_row27_col4,#T_be17d_row27_col6,#T_be17d_row27_col9,#T_be17d_row28_col3,#T_be17d_row28_col4,#T_be17d_row29_col3,#T_be17d_row29_col4,#T_be17d_row33_col3,#T_be17d_row35_col3,#T_be17d_row38_col2,#T_be17d_row40_col3,#T_be17d_row40_col4,#T_be17d_row40_col8,#T_be17d_row42_col3,#T_be17d_row42_col7,#T_be17d_row42_col10{\n",
       "            background-color:  black;\n",
       "            color:  lawngreen;\n",
       "            border-color:  white;\n",
       "            color:  lawngreen;\n",
       "            background-color:  #fcfbfd;\n",
       "            color:  #000000;\n",
       "        }#T_be17d_row1_col5,#T_be17d_row39_col7{\n",
       "            background-color:  black;\n",
       "            color:  lawngreen;\n",
       "            border-color:  white;\n",
       "            color:  lawngreen;\n",
       "            background-color:  #dadaeb;\n",
       "            color:  #000000;\n",
       "        }#T_be17d_row1_col6,#T_be17d_row1_col9,#T_be17d_row6_col2,#T_be17d_row17_col4,#T_be17d_row34_col3{\n",
       "            background-color:  black;\n",
       "            color:  lawngreen;\n",
       "            border-color:  white;\n",
       "            color:  lawngreen;\n",
       "            background-color:  #f6f4f9;\n",
       "            color:  #000000;\n",
       "        }#T_be17d_row1_col7{\n",
       "            background-color:  black;\n",
       "            color:  lawngreen;\n",
       "            border-color:  white;\n",
       "            color:  lawngreen;\n",
       "            background-color:  #9e9bc8;\n",
       "            color:  #000000;\n",
       "        }#T_be17d_row1_col8{\n",
       "            background-color:  black;\n",
       "            color:  lawngreen;\n",
       "            border-color:  white;\n",
       "            color:  lawngreen;\n",
       "            background-color:  #4a1486;\n",
       "            color:  #f1f1f1;\n",
       "        }#T_be17d_row2_col5,#T_be17d_row40_col7,#T_be17d_row41_col5{\n",
       "            background-color:  black;\n",
       "            color:  lawngreen;\n",
       "            border-color:  white;\n",
       "            color:  lawngreen;\n",
       "            background-color:  #dcdcec;\n",
       "            color:  #000000;\n",
       "        }#T_be17d_row2_col6,#T_be17d_row2_col9,#T_be17d_row35_col2{\n",
       "            background-color:  black;\n",
       "            color:  lawngreen;\n",
       "            border-color:  white;\n",
       "            color:  lawngreen;\n",
       "            background-color:  #f4f3f8;\n",
       "            color:  #000000;\n",
       "        }#T_be17d_row2_col7,#T_be17d_row23_col10,#T_be17d_row37_col10{\n",
       "            background-color:  black;\n",
       "            color:  lawngreen;\n",
       "            border-color:  white;\n",
       "            color:  lawngreen;\n",
       "            background-color:  #a19eca;\n",
       "            color:  #000000;\n",
       "        }#T_be17d_row2_col8{\n",
       "            background-color:  black;\n",
       "            color:  lawngreen;\n",
       "            border-color:  white;\n",
       "            color:  lawngreen;\n",
       "            background-color:  #460d83;\n",
       "            color:  #f1f1f1;\n",
       "        }#T_be17d_row2_col10{\n",
       "            background-color:  black;\n",
       "            color:  lawngreen;\n",
       "            border-color:  white;\n",
       "            color:  lawngreen;\n",
       "            background-color:  #5b3495;\n",
       "            color:  #f1f1f1;\n",
       "        }#T_be17d_row3_col2,#T_be17d_row4_col3,#T_be17d_row6_col3,#T_be17d_row6_col4,#T_be17d_row10_col2,#T_be17d_row13_col3,#T_be17d_row15_col2,#T_be17d_row15_col3,#T_be17d_row15_col4,#T_be17d_row16_col3,#T_be17d_row16_col4,#T_be17d_row16_col5,#T_be17d_row19_col3,#T_be17d_row19_col4,#T_be17d_row19_col6,#T_be17d_row19_col9,#T_be17d_row25_col3,#T_be17d_row25_col4,#T_be17d_row27_col2,#T_be17d_row27_col5,#T_be17d_row28_col5,#T_be17d_row29_col5,#T_be17d_row30_col3,#T_be17d_row30_col5,#T_be17d_row31_col3,#T_be17d_row31_col5,#T_be17d_row32_col2,#T_be17d_row32_col5,#T_be17d_row32_col6,#T_be17d_row32_col9,#T_be17d_row33_col4,#T_be17d_row33_col6,#T_be17d_row33_col9,#T_be17d_row35_col4,#T_be17d_row37_col3,#T_be17d_row38_col6,#T_be17d_row38_col9,#T_be17d_row39_col3,#T_be17d_row41_col2,#T_be17d_row42_col4{\n",
       "            background-color:  black;\n",
       "            color:  lawngreen;\n",
       "            border-color:  white;\n",
       "            color:  lawngreen;\n",
       "            background-color:  #fbfafc;\n",
       "            color:  #000000;\n",
       "        }#T_be17d_row3_col4,#T_be17d_row5_col5,#T_be17d_row24_col4{\n",
       "            background-color:  black;\n",
       "            color:  lawngreen;\n",
       "            border-color:  white;\n",
       "            color:  lawngreen;\n",
       "            background-color:  #edebf4;\n",
       "            color:  #000000;\n",
       "        }#T_be17d_row3_col5,#T_be17d_row4_col5{\n",
       "            background-color:  black;\n",
       "            color:  lawngreen;\n",
       "            border-color:  white;\n",
       "            color:  lawngreen;\n",
       "            background-color:  #e8e7f2;\n",
       "            color:  #000000;\n",
       "        }#T_be17d_row3_col6,#T_be17d_row3_col9,#T_be17d_row8_col3,#T_be17d_row22_col3,#T_be17d_row34_col6,#T_be17d_row34_col9{\n",
       "            background-color:  black;\n",
       "            color:  lawngreen;\n",
       "            border-color:  white;\n",
       "            color:  lawngreen;\n",
       "            background-color:  #f5f3f8;\n",
       "            color:  #000000;\n",
       "        }#T_be17d_row3_col7,#T_be17d_row4_col7{\n",
       "            background-color:  black;\n",
       "            color:  lawngreen;\n",
       "            border-color:  white;\n",
       "            color:  lawngreen;\n",
       "            background-color:  #adabd2;\n",
       "            color:  #000000;\n",
       "        }#T_be17d_row3_col8,#T_be17d_row13_col10{\n",
       "            background-color:  black;\n",
       "            color:  lawngreen;\n",
       "            border-color:  white;\n",
       "            color:  lawngreen;\n",
       "            background-color:  #8582bc;\n",
       "            color:  #000000;\n",
       "        }#T_be17d_row3_col10,#T_be17d_row5_col8,#T_be17d_row24_col8,#T_be17d_row26_col8{\n",
       "            background-color:  black;\n",
       "            color:  lawngreen;\n",
       "            border-color:  white;\n",
       "            color:  lawngreen;\n",
       "            background-color:  #6e58a7;\n",
       "            color:  #f1f1f1;\n",
       "        }#T_be17d_row4_col6,#T_be17d_row4_col9,#T_be17d_row6_col6,#T_be17d_row6_col9,#T_be17d_row11_col6,#T_be17d_row11_col9,#T_be17d_row14_col3,#T_be17d_row18_col4,#T_be17d_row23_col4,#T_be17d_row42_col6,#T_be17d_row42_col9{\n",
       "            background-color:  black;\n",
       "            color:  lawngreen;\n",
       "            border-color:  white;\n",
       "            color:  lawngreen;\n",
       "            background-color:  #f8f7fa;\n",
       "            color:  #000000;\n",
       "        }#T_be17d_row4_col8,#T_be17d_row15_col8{\n",
       "            background-color:  black;\n",
       "            color:  lawngreen;\n",
       "            border-color:  white;\n",
       "            color:  lawngreen;\n",
       "            background-color:  #7566ae;\n",
       "            color:  #000000;\n",
       "        }#T_be17d_row4_col10{\n",
       "            background-color:  black;\n",
       "            color:  lawngreen;\n",
       "            border-color:  white;\n",
       "            color:  lawngreen;\n",
       "            background-color:  #460c83;\n",
       "            color:  #f1f1f1;\n",
       "        }#T_be17d_row5_col2{\n",
       "            background-color:  black;\n",
       "            color:  lawngreen;\n",
       "            border-color:  white;\n",
       "            color:  lawngreen;\n",
       "            background-color:  #e2e1ef;\n",
       "            color:  #000000;\n",
       "        }#T_be17d_row5_col6,#T_be17d_row5_col9,#T_be17d_row7_col3,#T_be17d_row7_col4,#T_be17d_row7_col5,#T_be17d_row9_col3,#T_be17d_row39_col2,#T_be17d_row41_col3{\n",
       "            background-color:  black;\n",
       "            color:  lawngreen;\n",
       "            border-color:  white;\n",
       "            color:  lawngreen;\n",
       "            background-color:  #f3f1f7;\n",
       "            color:  #000000;\n",
       "        }#T_be17d_row5_col7{\n",
       "            background-color:  black;\n",
       "            color:  lawngreen;\n",
       "            border-color:  white;\n",
       "            color:  lawngreen;\n",
       "            background-color:  #b1b1d5;\n",
       "            color:  #000000;\n",
       "        }#T_be17d_row5_col10{\n",
       "            background-color:  black;\n",
       "            color:  lawngreen;\n",
       "            border-color:  white;\n",
       "            color:  lawngreen;\n",
       "            background-color:  #7b74b5;\n",
       "            color:  #000000;\n",
       "        }#T_be17d_row6_col5{\n",
       "            background-color:  black;\n",
       "            color:  lawngreen;\n",
       "            border-color:  white;\n",
       "            color:  lawngreen;\n",
       "            background-color:  #f0eef5;\n",
       "            color:  #000000;\n",
       "        }#T_be17d_row6_col7{\n",
       "            background-color:  black;\n",
       "            color:  lawngreen;\n",
       "            border-color:  white;\n",
       "            color:  lawngreen;\n",
       "            background-color:  #b4b4d7;\n",
       "            color:  #000000;\n",
       "        }#T_be17d_row6_col8,#T_be17d_row29_col8{\n",
       "            background-color:  black;\n",
       "            color:  lawngreen;\n",
       "            border-color:  white;\n",
       "            color:  lawngreen;\n",
       "            background-color:  #918ec2;\n",
       "            color:  #000000;\n",
       "        }#T_be17d_row6_col10{\n",
       "            background-color:  black;\n",
       "            color:  lawngreen;\n",
       "            border-color:  white;\n",
       "            color:  lawngreen;\n",
       "            background-color:  #613f9a;\n",
       "            color:  #f1f1f1;\n",
       "        }#T_be17d_row7_col6,#T_be17d_row7_col9,#T_be17d_row11_col3,#T_be17d_row13_col5,#T_be17d_row26_col2,#T_be17d_row30_col2,#T_be17d_row34_col2,#T_be17d_row35_col5,#T_be17d_row35_col6,#T_be17d_row35_col9,#T_be17d_row36_col5,#T_be17d_row36_col6,#T_be17d_row36_col9,#T_be17d_row37_col5{\n",
       "            background-color:  black;\n",
       "            color:  lawngreen;\n",
       "            border-color:  white;\n",
       "            color:  lawngreen;\n",
       "            background-color:  #faf8fb;\n",
       "            color:  #000000;\n",
       "        }#T_be17d_row7_col7{\n",
       "            background-color:  black;\n",
       "            color:  lawngreen;\n",
       "            border-color:  white;\n",
       "            color:  lawngreen;\n",
       "            background-color:  #b9b9da;\n",
       "            color:  #000000;\n",
       "        }#T_be17d_row7_col8{\n",
       "            background-color:  black;\n",
       "            color:  lawngreen;\n",
       "            border-color:  white;\n",
       "            color:  lawngreen;\n",
       "            background-color:  #674ca1;\n",
       "            color:  #f1f1f1;\n",
       "        }#T_be17d_row7_col10{\n",
       "            background-color:  black;\n",
       "            color:  lawngreen;\n",
       "            border-color:  white;\n",
       "            color:  lawngreen;\n",
       "            background-color:  #572c92;\n",
       "            color:  #f1f1f1;\n",
       "        }#T_be17d_row8_col2,#T_be17d_row10_col6,#T_be17d_row10_col9,#T_be17d_row13_col4,#T_be17d_row13_col6,#T_be17d_row13_col9,#T_be17d_row14_col5,#T_be17d_row14_col6,#T_be17d_row14_col9,#T_be17d_row15_col5,#T_be17d_row19_col2,#T_be17d_row21_col2,#T_be17d_row23_col2,#T_be17d_row30_col4,#T_be17d_row30_col6,#T_be17d_row30_col9,#T_be17d_row31_col2,#T_be17d_row31_col4,#T_be17d_row31_col6,#T_be17d_row31_col9,#T_be17d_row33_col5,#T_be17d_row34_col5,#T_be17d_row36_col3,#T_be17d_row36_col4,#T_be17d_row37_col4,#T_be17d_row39_col4{\n",
       "            background-color:  black;\n",
       "            color:  lawngreen;\n",
       "            border-color:  white;\n",
       "            color:  lawngreen;\n",
       "            background-color:  #faf9fc;\n",
       "            color:  #000000;\n",
       "        }#T_be17d_row8_col4{\n",
       "            background-color:  black;\n",
       "            color:  lawngreen;\n",
       "            border-color:  white;\n",
       "            color:  lawngreen;\n",
       "            background-color:  #f3f2f8;\n",
       "            color:  #000000;\n",
       "        }#T_be17d_row8_col6,#T_be17d_row8_col9,#T_be17d_row12_col6,#T_be17d_row12_col9,#T_be17d_row20_col2,#T_be17d_row24_col3{\n",
       "            background-color:  black;\n",
       "            color:  lawngreen;\n",
       "            border-color:  white;\n",
       "            color:  lawngreen;\n",
       "            background-color:  #f5f4f9;\n",
       "            color:  #000000;\n",
       "        }#T_be17d_row8_col7{\n",
       "            background-color:  black;\n",
       "            color:  lawngreen;\n",
       "            border-color:  white;\n",
       "            color:  lawngreen;\n",
       "            background-color:  #bbbbdb;\n",
       "            color:  #000000;\n",
       "        }#T_be17d_row8_col8{\n",
       "            background-color:  black;\n",
       "            color:  lawngreen;\n",
       "            border-color:  white;\n",
       "            color:  lawngreen;\n",
       "            background-color:  #6f5ba8;\n",
       "            color:  #f1f1f1;\n",
       "        }#T_be17d_row8_col10{\n",
       "            background-color:  black;\n",
       "            color:  lawngreen;\n",
       "            border-color:  white;\n",
       "            color:  lawngreen;\n",
       "            background-color:  #8380bb;\n",
       "            color:  #000000;\n",
       "        }#T_be17d_row9_col4{\n",
       "            background-color:  black;\n",
       "            color:  lawngreen;\n",
       "            border-color:  white;\n",
       "            color:  lawngreen;\n",
       "            background-color:  #f1f0f6;\n",
       "            color:  #000000;\n",
       "        }#T_be17d_row9_col5,#T_be17d_row10_col3,#T_be17d_row25_col6,#T_be17d_row25_col9{\n",
       "            background-color:  black;\n",
       "            color:  lawngreen;\n",
       "            border-color:  white;\n",
       "            color:  lawngreen;\n",
       "            background-color:  #f7f5fa;\n",
       "            color:  #000000;\n",
       "        }#T_be17d_row9_col6,#T_be17d_row9_col9,#T_be17d_row12_col5,#T_be17d_row18_col3,#T_be17d_row29_col6,#T_be17d_row29_col9,#T_be17d_row32_col3,#T_be17d_row38_col5{\n",
       "            background-color:  black;\n",
       "            color:  lawngreen;\n",
       "            border-color:  white;\n",
       "            color:  lawngreen;\n",
       "            background-color:  #f9f7fb;\n",
       "            color:  #000000;\n",
       "        }#T_be17d_row9_col7,#T_be17d_row10_col7{\n",
       "            background-color:  black;\n",
       "            color:  lawngreen;\n",
       "            border-color:  white;\n",
       "            color:  lawngreen;\n",
       "            background-color:  #bfc0de;\n",
       "            color:  #000000;\n",
       "        }#T_be17d_row9_col8,#T_be17d_row18_col8,#T_be17d_row23_col8{\n",
       "            background-color:  black;\n",
       "            color:  lawngreen;\n",
       "            border-color:  white;\n",
       "            color:  lawngreen;\n",
       "            background-color:  #7262ac;\n",
       "            color:  #000000;\n",
       "        }#T_be17d_row9_col10{\n",
       "            background-color:  black;\n",
       "            color:  lawngreen;\n",
       "            border-color:  white;\n",
       "            color:  lawngreen;\n",
       "            background-color:  #7d78b7;\n",
       "            color:  #000000;\n",
       "        }#T_be17d_row10_col4,#T_be17d_row17_col3{\n",
       "            background-color:  black;\n",
       "            color:  lawngreen;\n",
       "            border-color:  white;\n",
       "            color:  lawngreen;\n",
       "            background-color:  #f6f5f9;\n",
       "            color:  #000000;\n",
       "        }#T_be17d_row10_col5,#T_be17d_row14_col4,#T_be17d_row39_col6,#T_be17d_row39_col9{\n",
       "            background-color:  black;\n",
       "            color:  lawngreen;\n",
       "            border-color:  white;\n",
       "            color:  lawngreen;\n",
       "            background-color:  #f7f6fa;\n",
       "            color:  #000000;\n",
       "        }#T_be17d_row10_col8{\n",
       "            background-color:  black;\n",
       "            color:  lawngreen;\n",
       "            border-color:  white;\n",
       "            color:  lawngreen;\n",
       "            background-color:  #7465ad;\n",
       "            color:  #000000;\n",
       "        }#T_be17d_row10_col10{\n",
       "            background-color:  black;\n",
       "            color:  lawngreen;\n",
       "            border-color:  white;\n",
       "            color:  lawngreen;\n",
       "            background-color:  #705eaa;\n",
       "            color:  #f1f1f1;\n",
       "        }#T_be17d_row11_col2,#T_be17d_row11_col4,#T_be17d_row13_col2,#T_be17d_row23_col3,#T_be17d_row23_col6,#T_be17d_row23_col9,#T_be17d_row28_col6,#T_be17d_row28_col9,#T_be17d_row33_col2,#T_be17d_row36_col2{\n",
       "            background-color:  black;\n",
       "            color:  lawngreen;\n",
       "            border-color:  white;\n",
       "            color:  lawngreen;\n",
       "            background-color:  #f9f8fb;\n",
       "            color:  #000000;\n",
       "        }#T_be17d_row11_col5,#T_be17d_row41_col6,#T_be17d_row41_col9{\n",
       "            background-color:  black;\n",
       "            color:  lawngreen;\n",
       "            border-color:  white;\n",
       "            color:  lawngreen;\n",
       "            background-color:  #f8f7fb;\n",
       "            color:  #000000;\n",
       "        }#T_be17d_row11_col7{\n",
       "            background-color:  black;\n",
       "            color:  lawngreen;\n",
       "            border-color:  white;\n",
       "            color:  lawngreen;\n",
       "            background-color:  #c1c2df;\n",
       "            color:  #000000;\n",
       "        }#T_be17d_row11_col8{\n",
       "            background-color:  black;\n",
       "            color:  lawngreen;\n",
       "            border-color:  white;\n",
       "            color:  lawngreen;\n",
       "            background-color:  #6b53a4;\n",
       "            color:  #f1f1f1;\n",
       "        }#T_be17d_row11_col10{\n",
       "            background-color:  black;\n",
       "            color:  lawngreen;\n",
       "            border-color:  white;\n",
       "            color:  lawngreen;\n",
       "            background-color:  #8986be;\n",
       "            color:  #000000;\n",
       "        }#T_be17d_row12_col7{\n",
       "            background-color:  black;\n",
       "            color:  lawngreen;\n",
       "            border-color:  white;\n",
       "            color:  lawngreen;\n",
       "            background-color:  #c2c3df;\n",
       "            color:  #000000;\n",
       "        }#T_be17d_row12_col10{\n",
       "            background-color:  black;\n",
       "            color:  lawngreen;\n",
       "            border-color:  white;\n",
       "            color:  lawngreen;\n",
       "            background-color:  #9390c3;\n",
       "            color:  #000000;\n",
       "        }#T_be17d_row13_col7,#T_be17d_row39_col10{\n",
       "            background-color:  black;\n",
       "            color:  lawngreen;\n",
       "            border-color:  white;\n",
       "            color:  lawngreen;\n",
       "            background-color:  #c3c4e0;\n",
       "            color:  #000000;\n",
       "        }#T_be17d_row13_col8,#T_be17d_row39_col8{\n",
       "            background-color:  black;\n",
       "            color:  lawngreen;\n",
       "            border-color:  white;\n",
       "            color:  lawngreen;\n",
       "            background-color:  #776ab0;\n",
       "            color:  #000000;\n",
       "        }#T_be17d_row14_col7,#T_be17d_row15_col7{\n",
       "            background-color:  black;\n",
       "            color:  lawngreen;\n",
       "            border-color:  white;\n",
       "            color:  lawngreen;\n",
       "            background-color:  #c4c5e0;\n",
       "            color:  #000000;\n",
       "        }#T_be17d_row14_col8{\n",
       "            background-color:  black;\n",
       "            color:  lawngreen;\n",
       "            border-color:  white;\n",
       "            color:  lawngreen;\n",
       "            background-color:  #7567af;\n",
       "            color:  #000000;\n",
       "        }#T_be17d_row14_col10{\n",
       "            background-color:  black;\n",
       "            color:  lawngreen;\n",
       "            border-color:  white;\n",
       "            color:  lawngreen;\n",
       "            background-color:  #807cba;\n",
       "            color:  #000000;\n",
       "        }#T_be17d_row15_col10{\n",
       "            background-color:  black;\n",
       "            color:  lawngreen;\n",
       "            border-color:  white;\n",
       "            color:  lawngreen;\n",
       "            background-color:  #64459e;\n",
       "            color:  #f1f1f1;\n",
       "        }#T_be17d_row16_col7{\n",
       "            background-color:  black;\n",
       "            color:  lawngreen;\n",
       "            border-color:  white;\n",
       "            color:  lawngreen;\n",
       "            background-color:  #c6c7e1;\n",
       "            color:  #000000;\n",
       "        }#T_be17d_row16_col8,#T_be17d_row19_col8{\n",
       "            background-color:  black;\n",
       "            color:  lawngreen;\n",
       "            border-color:  white;\n",
       "            color:  lawngreen;\n",
       "            background-color:  #7669af;\n",
       "            color:  #000000;\n",
       "        }#T_be17d_row16_col10{\n",
       "            background-color:  black;\n",
       "            color:  lawngreen;\n",
       "            border-color:  white;\n",
       "            color:  lawngreen;\n",
       "            background-color:  #481185;\n",
       "            color:  #f1f1f1;\n",
       "        }#T_be17d_row17_col7,#T_be17d_row18_col7,#T_be17d_row19_col7{\n",
       "            background-color:  black;\n",
       "            color:  lawngreen;\n",
       "            border-color:  white;\n",
       "            color:  lawngreen;\n",
       "            background-color:  #c7c8e1;\n",
       "            color:  #000000;\n",
       "        }#T_be17d_row17_col8,#T_be17d_row28_col8{\n",
       "            background-color:  black;\n",
       "            color:  lawngreen;\n",
       "            border-color:  white;\n",
       "            color:  lawngreen;\n",
       "            background-color:  #705ca9;\n",
       "            color:  #f1f1f1;\n",
       "        }#T_be17d_row17_col10,#T_be17d_row22_col8{\n",
       "            background-color:  black;\n",
       "            color:  lawngreen;\n",
       "            border-color:  white;\n",
       "            color:  lawngreen;\n",
       "            background-color:  #715faa;\n",
       "            color:  #000000;\n",
       "        }#T_be17d_row18_col10{\n",
       "            background-color:  black;\n",
       "            color:  lawngreen;\n",
       "            border-color:  white;\n",
       "            color:  lawngreen;\n",
       "            background-color:  #9591c4;\n",
       "            color:  #000000;\n",
       "        }#T_be17d_row19_col10{\n",
       "            background-color:  black;\n",
       "            color:  lawngreen;\n",
       "            border-color:  white;\n",
       "            color:  lawngreen;\n",
       "            background-color:  #9e9ac8;\n",
       "            color:  #000000;\n",
       "        }#T_be17d_row20_col7,#T_be17d_row21_col7,#T_be17d_row22_col7{\n",
       "            background-color:  black;\n",
       "            color:  lawngreen;\n",
       "            border-color:  white;\n",
       "            color:  lawngreen;\n",
       "            background-color:  #c8c8e2;\n",
       "            color:  #000000;\n",
       "        }#T_be17d_row20_col8,#T_be17d_row31_col8{\n",
       "            background-color:  black;\n",
       "            color:  lawngreen;\n",
       "            border-color:  white;\n",
       "            color:  lawngreen;\n",
       "            background-color:  #694fa2;\n",
       "            color:  #f1f1f1;\n",
       "        }#T_be17d_row20_col10{\n",
       "            background-color:  black;\n",
       "            color:  lawngreen;\n",
       "            border-color:  white;\n",
       "            color:  lawngreen;\n",
       "            background-color:  #9f9cc9;\n",
       "            color:  #000000;\n",
       "        }#T_be17d_row21_col8,#T_be17d_row30_col8,#T_be17d_row32_col8{\n",
       "            background-color:  black;\n",
       "            color:  lawngreen;\n",
       "            border-color:  white;\n",
       "            color:  lawngreen;\n",
       "            background-color:  #7363ad;\n",
       "            color:  #000000;\n",
       "        }#T_be17d_row21_col10{\n",
       "            background-color:  black;\n",
       "            color:  lawngreen;\n",
       "            border-color:  white;\n",
       "            color:  lawngreen;\n",
       "            background-color:  #a7a4ce;\n",
       "            color:  #000000;\n",
       "        }#T_be17d_row22_col4,#T_be17d_row28_col2,#T_be17d_row29_col2{\n",
       "            background-color:  black;\n",
       "            color:  lawngreen;\n",
       "            border-color:  white;\n",
       "            color:  lawngreen;\n",
       "            background-color:  #f2f0f7;\n",
       "            color:  #000000;\n",
       "        }#T_be17d_row22_col10,#T_be17d_row42_col8{\n",
       "            background-color:  black;\n",
       "            color:  lawngreen;\n",
       "            border-color:  white;\n",
       "            color:  lawngreen;\n",
       "            background-color:  #a3a0cb;\n",
       "            color:  #000000;\n",
       "        }#T_be17d_row23_col7,#T_be17d_row24_col7,#T_be17d_row25_col7,#T_be17d_row26_col7,#T_be17d_row27_col7{\n",
       "            background-color:  black;\n",
       "            color:  lawngreen;\n",
       "            border-color:  white;\n",
       "            color:  lawngreen;\n",
       "            background-color:  #c9c9e2;\n",
       "            color:  #000000;\n",
       "        }#T_be17d_row24_col10,#T_be17d_row42_col2{\n",
       "            background-color:  black;\n",
       "            color:  lawngreen;\n",
       "            border-color:  white;\n",
       "            color:  lawngreen;\n",
       "            background-color:  #efedf5;\n",
       "            color:  #000000;\n",
       "        }#T_be17d_row25_col2,#T_be17d_row39_col5{\n",
       "            background-color:  black;\n",
       "            color:  lawngreen;\n",
       "            border-color:  white;\n",
       "            color:  lawngreen;\n",
       "            background-color:  #f1eff6;\n",
       "            color:  #000000;\n",
       "        }#T_be17d_row25_col10,#T_be17d_row42_col5{\n",
       "            background-color:  black;\n",
       "            color:  lawngreen;\n",
       "            border-color:  white;\n",
       "            color:  lawngreen;\n",
       "            background-color:  #a09dca;\n",
       "            color:  #000000;\n",
       "        }#T_be17d_row26_col10{\n",
       "            background-color:  black;\n",
       "            color:  lawngreen;\n",
       "            border-color:  white;\n",
       "            color:  lawngreen;\n",
       "            background-color:  #d2d2e7;\n",
       "            color:  #000000;\n",
       "        }#T_be17d_row27_col8{\n",
       "            background-color:  black;\n",
       "            color:  lawngreen;\n",
       "            border-color:  white;\n",
       "            color:  lawngreen;\n",
       "            background-color:  #7261ab;\n",
       "            color:  #000000;\n",
       "        }#T_be17d_row27_col10{\n",
       "            background-color:  black;\n",
       "            color:  lawngreen;\n",
       "            border-color:  white;\n",
       "            color:  lawngreen;\n",
       "            background-color:  #e1e0ee;\n",
       "            color:  #000000;\n",
       "        }#T_be17d_row28_col7,#T_be17d_row29_col7,#T_be17d_row30_col7,#T_be17d_row31_col7,#T_be17d_row32_col7,#T_be17d_row33_col7{\n",
       "            background-color:  black;\n",
       "            color:  lawngreen;\n",
       "            border-color:  white;\n",
       "            color:  lawngreen;\n",
       "            background-color:  #cacae3;\n",
       "            color:  #000000;\n",
       "        }#T_be17d_row28_col10{\n",
       "            background-color:  black;\n",
       "            color:  lawngreen;\n",
       "            border-color:  white;\n",
       "            color:  lawngreen;\n",
       "            background-color:  #a6a3cd;\n",
       "            color:  #000000;\n",
       "        }#T_be17d_row29_col10{\n",
       "            background-color:  black;\n",
       "            color:  lawngreen;\n",
       "            border-color:  white;\n",
       "            color:  lawngreen;\n",
       "            background-color:  #a5a2cd;\n",
       "            color:  #000000;\n",
       "        }#T_be17d_row30_col10,#T_be17d_row31_col10,#T_be17d_row40_col10{\n",
       "            background-color:  black;\n",
       "            color:  lawngreen;\n",
       "            border-color:  white;\n",
       "            color:  lawngreen;\n",
       "            background-color:  #aeacd2;\n",
       "            color:  #000000;\n",
       "        }#T_be17d_row32_col4{\n",
       "            background-color:  black;\n",
       "            color:  lawngreen;\n",
       "            border-color:  white;\n",
       "            color:  lawngreen;\n",
       "            background-color:  #f8f6fa;\n",
       "            color:  #000000;\n",
       "        }#T_be17d_row32_col10{\n",
       "            background-color:  black;\n",
       "            color:  lawngreen;\n",
       "            border-color:  white;\n",
       "            color:  lawngreen;\n",
       "            background-color:  #b2b2d5;\n",
       "            color:  #000000;\n",
       "        }#T_be17d_row33_col8,#T_be17d_row35_col8{\n",
       "            background-color:  black;\n",
       "            color:  lawngreen;\n",
       "            border-color:  white;\n",
       "            color:  lawngreen;\n",
       "            background-color:  #6e5aa8;\n",
       "            color:  #f1f1f1;\n",
       "        }#T_be17d_row33_col10{\n",
       "            background-color:  black;\n",
       "            color:  lawngreen;\n",
       "            border-color:  white;\n",
       "            color:  lawngreen;\n",
       "            background-color:  #b3b3d6;\n",
       "            color:  #000000;\n",
       "        }#T_be17d_row34_col7{\n",
       "            background-color:  black;\n",
       "            color:  lawngreen;\n",
       "            border-color:  white;\n",
       "            color:  lawngreen;\n",
       "            background-color:  #cbcbe3;\n",
       "            color:  #000000;\n",
       "        }#T_be17d_row34_col8{\n",
       "            background-color:  black;\n",
       "            color:  lawngreen;\n",
       "            border-color:  white;\n",
       "            color:  lawngreen;\n",
       "            background-color:  #786db2;\n",
       "            color:  #000000;\n",
       "        }#T_be17d_row34_col10{\n",
       "            background-color:  black;\n",
       "            color:  lawngreen;\n",
       "            border-color:  white;\n",
       "            color:  lawngreen;\n",
       "            background-color:  #a29fcb;\n",
       "            color:  #000000;\n",
       "        }#T_be17d_row35_col10{\n",
       "            background-color:  black;\n",
       "            color:  lawngreen;\n",
       "            border-color:  white;\n",
       "            color:  lawngreen;\n",
       "            background-color:  #aeadd3;\n",
       "            color:  #000000;\n",
       "        }#T_be17d_row36_col8{\n",
       "            background-color:  black;\n",
       "            color:  lawngreen;\n",
       "            border-color:  white;\n",
       "            color:  lawngreen;\n",
       "            background-color:  #7b72b4;\n",
       "            color:  #000000;\n",
       "        }#T_be17d_row36_col10{\n",
       "            background-color:  black;\n",
       "            color:  lawngreen;\n",
       "            border-color:  white;\n",
       "            color:  lawngreen;\n",
       "            background-color:  #b0afd4;\n",
       "            color:  #000000;\n",
       "        }#T_be17d_row37_col2{\n",
       "            background-color:  black;\n",
       "            color:  lawngreen;\n",
       "            border-color:  white;\n",
       "            color:  lawngreen;\n",
       "            background-color:  #e0e0ee;\n",
       "            color:  #000000;\n",
       "        }#T_be17d_row37_col6,#T_be17d_row37_col9{\n",
       "            background-color:  black;\n",
       "            color:  lawngreen;\n",
       "            border-color:  white;\n",
       "            color:  lawngreen;\n",
       "            background-color:  #eae8f2;\n",
       "            color:  #000000;\n",
       "        }#T_be17d_row37_col8,#T_be17d_row41_col8{\n",
       "            background-color:  black;\n",
       "            color:  lawngreen;\n",
       "            border-color:  white;\n",
       "            color:  lawngreen;\n",
       "            background-color:  #4d1b89;\n",
       "            color:  #f1f1f1;\n",
       "        }#T_be17d_row38_col3{\n",
       "            background-color:  black;\n",
       "            color:  lawngreen;\n",
       "            border-color:  white;\n",
       "            color:  lawngreen;\n",
       "            background-color:  #f0eef6;\n",
       "            color:  #000000;\n",
       "        }#T_be17d_row38_col4,#T_be17d_row41_col4{\n",
       "            background-color:  black;\n",
       "            color:  lawngreen;\n",
       "            border-color:  white;\n",
       "            color:  lawngreen;\n",
       "            background-color:  #e6e5f1;\n",
       "            color:  #000000;\n",
       "        }#T_be17d_row38_col7{\n",
       "            background-color:  black;\n",
       "            color:  lawngreen;\n",
       "            border-color:  white;\n",
       "            color:  lawngreen;\n",
       "            background-color:  #cdcde4;\n",
       "            color:  #000000;\n",
       "        }#T_be17d_row38_col8{\n",
       "            background-color:  black;\n",
       "            color:  lawngreen;\n",
       "            border-color:  white;\n",
       "            color:  lawngreen;\n",
       "            background-color:  #684da1;\n",
       "            color:  #f1f1f1;\n",
       "        }#T_be17d_row40_col5{\n",
       "            background-color:  black;\n",
       "            color:  lawngreen;\n",
       "            border-color:  white;\n",
       "            color:  lawngreen;\n",
       "            background-color:  #eeecf4;\n",
       "            color:  #000000;\n",
       "        }#T_be17d_row40_col6,#T_be17d_row40_col9,#T_be17d_row41_col10{\n",
       "            background-color:  black;\n",
       "            color:  lawngreen;\n",
       "            border-color:  white;\n",
       "            color:  lawngreen;\n",
       "            background-color:  #eae9f3;\n",
       "            color:  #000000;\n",
       "        }#T_be17d_row41_col7{\n",
       "            background-color:  black;\n",
       "            color:  lawngreen;\n",
       "            border-color:  white;\n",
       "            color:  lawngreen;\n",
       "            background-color:  #e8e6f2;\n",
       "            color:  #000000;\n",
       "        }</style><table id=\"T_be17d_\" ><thead>    <tr>        <th class=\"blank level0\" ></th>        <th class=\"col_heading level0 col0\" >Name</th>        <th class=\"col_heading level0 col1\" >Symbol</th>        <th class=\"col_heading level0 col2\" >Shares</th>        <th class=\"col_heading level0 col3\" >Price</th>        <th class=\"col_heading level0 col4\" >Average Cost</th>        <th class=\"col_heading level0 col5\" >Total Return (Abs)</th>        <th class=\"col_heading level0 col6\" >Equity</th>        <th class=\"col_heading level0 col7\" >Total Return</th>        <th class=\"col_heading level0 col8\" >Diff</th>        <th class=\"col_heading level0 col9\" >Percentage</th>        <th class=\"col_heading level0 col10\" >Decay/Increase</th>    </tr></thead><tbody>\n",
       "                <tr>\n",
       "                        <th id=\"T_be17d_level0_row0\" class=\"row_heading level0 row0\" >0</th>\n",
       "                        <td id=\"T_be17d_row0_col0\" class=\"data row0 col0\" >Tesla</td>\n",
       "                        <td id=\"T_be17d_row0_col1\" class=\"data row0 col1\" >TSLA</td>\n",
       "                        <td id=\"T_be17d_row0_col2\" class=\"data row0 col2\" >8.828000</td>\n",
       "                        <td id=\"T_be17d_row0_col3\" class=\"data row0 col3\" >756.440000</td>\n",
       "                        <td id=\"T_be17d_row0_col4\" class=\"data row0 col4\" >699.250000</td>\n",
       "                        <td id=\"T_be17d_row0_col5\" class=\"data row0 col5\" >504.850000</td>\n",
       "                        <td id=\"T_be17d_row0_col6\" class=\"data row0 col6\" >6678.010000</td>\n",
       "                        <td id=\"T_be17d_row0_col7\" class=\"data row0 col7\" >504.873320</td>\n",
       "                        <td id=\"T_be17d_row0_col8\" class=\"data row0 col8\" >0.023320</td>\n",
       "                        <td id=\"T_be17d_row0_col9\" class=\"data row0 col9\" >39.27%</td>\n",
       "                        <td id=\"T_be17d_row0_col10\" class=\"data row0 col10\" >8.18%</td>\n",
       "            </tr>\n",
       "            <tr>\n",
       "                        <th id=\"T_be17d_level0_row1\" class=\"row_heading level0 row1\" >1</th>\n",
       "                        <td id=\"T_be17d_row1_col0\" class=\"data row1 col0\" >Callaway</td>\n",
       "                        <td id=\"T_be17d_row1_col1\" class=\"data row1 col1\" >ELY</td>\n",
       "                        <td id=\"T_be17d_row1_col2\" class=\"data row1 col2\" >14.603000</td>\n",
       "                        <td id=\"T_be17d_row1_col3\" class=\"data row1 col3\" >28.070000</td>\n",
       "                        <td id=\"T_be17d_row1_col4\" class=\"data row1 col4\" >19.390000</td>\n",
       "                        <td id=\"T_be17d_row1_col5\" class=\"data row1 col5\" >126.690000</td>\n",
       "                        <td id=\"T_be17d_row1_col6\" class=\"data row1 col6\" >409.870000</td>\n",
       "                        <td id=\"T_be17d_row1_col7\" class=\"data row1 col7\" >126.754040</td>\n",
       "                        <td id=\"T_be17d_row1_col8\" class=\"data row1 col8\" >0.064040</td>\n",
       "                        <td id=\"T_be17d_row1_col9\" class=\"data row1 col9\" >2.41%</td>\n",
       "                        <td id=\"T_be17d_row1_col10\" class=\"data row1 col10\" >44.77%</td>\n",
       "            </tr>\n",
       "            <tr>\n",
       "                        <th id=\"T_be17d_level0_row2\" class=\"row_heading level0 row2\" >2</th>\n",
       "                        <td id=\"T_be17d_row2_col0\" class=\"data row2 col0\" >Alphabet Class A</td>\n",
       "                        <td id=\"T_be17d_row2_col1\" class=\"data row2 col1\" >GOOGL</td>\n",
       "                        <td id=\"T_be17d_row2_col2\" class=\"data row2 col2\" >0.179000</td>\n",
       "                        <td id=\"T_be17d_row2_col3\" class=\"data row2 col3\" >2888.400000</td>\n",
       "                        <td id=\"T_be17d_row2_col4\" class=\"data row2 col4\" >2225.270000</td>\n",
       "                        <td id=\"T_be17d_row2_col5\" class=\"data row2 col5\" >118.630000</td>\n",
       "                        <td id=\"T_be17d_row2_col6\" class=\"data row2 col6\" >516.720000</td>\n",
       "                        <td id=\"T_be17d_row2_col7\" class=\"data row2 col7\" >118.700270</td>\n",
       "                        <td id=\"T_be17d_row2_col8\" class=\"data row2 col8\" >0.070270</td>\n",
       "                        <td id=\"T_be17d_row2_col9\" class=\"data row2 col9\" >3.04%</td>\n",
       "                        <td id=\"T_be17d_row2_col10\" class=\"data row2 col10\" >29.80%</td>\n",
       "            </tr>\n",
       "            <tr>\n",
       "                        <th id=\"T_be17d_level0_row3\" class=\"row_heading level0 row3\" >3</th>\n",
       "                        <td id=\"T_be17d_row3_col0\" class=\"data row3 col0\" >Facebook</td>\n",
       "                        <td id=\"T_be17d_row3_col1\" class=\"data row3 col1\" >FB</td>\n",
       "                        <td id=\"T_be17d_row3_col2\" class=\"data row3 col2\" >1.312000</td>\n",
       "                        <td id=\"T_be17d_row3_col3\" class=\"data row3 col3\" >378.190000</td>\n",
       "                        <td id=\"T_be17d_row3_col4\" class=\"data row3 col4\" >313.920000</td>\n",
       "                        <td id=\"T_be17d_row3_col5\" class=\"data row3 col5\" >84.350000</td>\n",
       "                        <td id=\"T_be17d_row3_col6\" class=\"data row3 col6\" >496.350000</td>\n",
       "                        <td id=\"T_be17d_row3_col7\" class=\"data row3 col7\" >84.322240</td>\n",
       "                        <td id=\"T_be17d_row3_col8\" class=\"data row3 col8\" >-0.027760</td>\n",
       "                        <td id=\"T_be17d_row3_col9\" class=\"data row3 col9\" >2.92%</td>\n",
       "                        <td id=\"T_be17d_row3_col10\" class=\"data row3 col10\" >20.47%</td>\n",
       "            </tr>\n",
       "            <tr>\n",
       "                        <th id=\"T_be17d_level0_row4\" class=\"row_heading level0 row4\" >4</th>\n",
       "                        <td id=\"T_be17d_row4_col0\" class=\"data row4 col0\" >Dropbox</td>\n",
       "                        <td id=\"T_be17d_row4_col1\" class=\"data row4 col1\" >DBX</td>\n",
       "                        <td id=\"T_be17d_row4_col2\" class=\"data row4 col2\" >9.032000</td>\n",
       "                        <td id=\"T_be17d_row4_col3\" class=\"data row4 col3\" >31.750000</td>\n",
       "                        <td id=\"T_be17d_row4_col4\" class=\"data row4 col4\" >22.500000</td>\n",
       "                        <td id=\"T_be17d_row4_col5\" class=\"data row4 col5\" >83.550000</td>\n",
       "                        <td id=\"T_be17d_row4_col6\" class=\"data row4 col6\" >286.770000</td>\n",
       "                        <td id=\"T_be17d_row4_col7\" class=\"data row4 col7\" >83.546000</td>\n",
       "                        <td id=\"T_be17d_row4_col8\" class=\"data row4 col8\" >-0.004000</td>\n",
       "                        <td id=\"T_be17d_row4_col9\" class=\"data row4 col9\" >1.69%</td>\n",
       "                        <td id=\"T_be17d_row4_col10\" class=\"data row4 col10\" >41.11%</td>\n",
       "            </tr>\n",
       "            <tr>\n",
       "                        <th id=\"T_be17d_level0_row5\" class=\"row_heading level0 row5\" >5</th>\n",
       "                        <td id=\"T_be17d_row5_col0\" class=\"data row5 col0\" >Palantir Technologies</td>\n",
       "                        <td id=\"T_be17d_row5_col1\" class=\"data row5 col1\" >PLTR</td>\n",
       "                        <td id=\"T_be17d_row5_col2\" class=\"data row5 col2\" >22.456000</td>\n",
       "                        <td id=\"T_be17d_row5_col3\" class=\"data row5 col3\" >26.650000</td>\n",
       "                        <td id=\"T_be17d_row5_col4\" class=\"data row5 col4\" >23.520000</td>\n",
       "                        <td id=\"T_be17d_row5_col5\" class=\"data row5 col5\" >70.280000</td>\n",
       "                        <td id=\"T_be17d_row5_col6\" class=\"data row5 col6\" >598.330000</td>\n",
       "                        <td id=\"T_be17d_row5_col7\" class=\"data row5 col7\" >70.287280</td>\n",
       "                        <td id=\"T_be17d_row5_col8\" class=\"data row5 col8\" >0.007280</td>\n",
       "                        <td id=\"T_be17d_row5_col9\" class=\"data row5 col9\" >3.52%</td>\n",
       "                        <td id=\"T_be17d_row5_col10\" class=\"data row5 col10\" >13.31%</td>\n",
       "            </tr>\n",
       "            <tr>\n",
       "                        <th id=\"T_be17d_level0_row6\" class=\"row_heading level0 row6\" >6</th>\n",
       "                        <td id=\"T_be17d_row6_col0\" class=\"data row6 col0\" >Marathon Digital</td>\n",
       "                        <td id=\"T_be17d_row6_col1\" class=\"data row6 col1\" >MARA</td>\n",
       "                        <td id=\"T_be17d_row6_col2\" class=\"data row6 col2\" >6.854000</td>\n",
       "                        <td id=\"T_be17d_row6_col3\" class=\"data row6 col3\" >41.700000</td>\n",
       "                        <td id=\"T_be17d_row6_col4\" class=\"data row6 col4\" >32.850000</td>\n",
       "                        <td id=\"T_be17d_row6_col5\" class=\"data row6 col5\" >60.700000</td>\n",
       "                        <td id=\"T_be17d_row6_col6\" class=\"data row6 col6\" >285.820000</td>\n",
       "                        <td id=\"T_be17d_row6_col7\" class=\"data row6 col7\" >60.657900</td>\n",
       "                        <td id=\"T_be17d_row6_col8\" class=\"data row6 col8\" >-0.042100</td>\n",
       "                        <td id=\"T_be17d_row6_col9\" class=\"data row6 col9\" >1.68%</td>\n",
       "                        <td id=\"T_be17d_row6_col10\" class=\"data row6 col10\" >26.94%</td>\n",
       "            </tr>\n",
       "            <tr>\n",
       "                        <th id=\"T_be17d_level0_row7\" class=\"row_heading level0 row7\" >7</th>\n",
       "                        <td id=\"T_be17d_row7_col0\" class=\"data row7 col0\" >CrowdStrike Holdings</td>\n",
       "                        <td id=\"T_be17d_row7_col1\" class=\"data row7 col1\" >CRWD</td>\n",
       "                        <td id=\"T_be17d_row7_col2\" class=\"data row7 col2\" >0.680000</td>\n",
       "                        <td id=\"T_be17d_row7_col3\" class=\"data row7 col3\" >271.930000</td>\n",
       "                        <td id=\"T_be17d_row7_col4\" class=\"data row7 col4\" >205.920000</td>\n",
       "                        <td id=\"T_be17d_row7_col5\" class=\"data row7 col5\" >44.870000</td>\n",
       "                        <td id=\"T_be17d_row7_col6\" class=\"data row7 col6\" >184.870000</td>\n",
       "                        <td id=\"T_be17d_row7_col7\" class=\"data row7 col7\" >44.886800</td>\n",
       "                        <td id=\"T_be17d_row7_col8\" class=\"data row7 col8\" >0.016800</td>\n",
       "                        <td id=\"T_be17d_row7_col9\" class=\"data row7 col9\" >1.09%</td>\n",
       "                        <td id=\"T_be17d_row7_col10\" class=\"data row7 col10\" >32.06%</td>\n",
       "            </tr>\n",
       "            <tr>\n",
       "                        <th id=\"T_be17d_level0_row8\" class=\"row_heading level0 row8\" >8</th>\n",
       "                        <td id=\"T_be17d_row8_col0\" class=\"data row8 col0\" >Etsy</td>\n",
       "                        <td id=\"T_be17d_row8_col1\" class=\"data row8 col1\" >ETSY</td>\n",
       "                        <td id=\"T_be17d_row8_col2\" class=\"data row8 col2\" >2.042000</td>\n",
       "                        <td id=\"T_be17d_row8_col3\" class=\"data row8 col3\" >215.310000</td>\n",
       "                        <td id=\"T_be17d_row8_col4\" class=\"data row8 col4\" >195.920000</td>\n",
       "                        <td id=\"T_be17d_row8_col5\" class=\"data row8 col5\" >39.590000</td>\n",
       "                        <td id=\"T_be17d_row8_col6\" class=\"data row8 col6\" >439.590000</td>\n",
       "                        <td id=\"T_be17d_row8_col7\" class=\"data row8 col7\" >39.594380</td>\n",
       "                        <td id=\"T_be17d_row8_col8\" class=\"data row8 col8\" >0.004380</td>\n",
       "                        <td id=\"T_be17d_row8_col9\" class=\"data row8 col9\" >2.59%</td>\n",
       "                        <td id=\"T_be17d_row8_col10\" class=\"data row8 col10\" >9.90%</td>\n",
       "            </tr>\n",
       "            <tr>\n",
       "                        <th id=\"T_be17d_level0_row9\" class=\"row_heading level0 row9\" >9</th>\n",
       "                        <td id=\"T_be17d_row9_col0\" class=\"data row9 col0\" >Square</td>\n",
       "                        <td id=\"T_be17d_row9_col1\" class=\"data row9 col1\" >SQ</td>\n",
       "                        <td id=\"T_be17d_row9_col2\" class=\"data row9 col2\" >0.881000</td>\n",
       "                        <td id=\"T_be17d_row9_col3\" class=\"data row9 col3\" >266.270000</td>\n",
       "                        <td id=\"T_be17d_row9_col4\" class=\"data row9 col4\" >236.850000</td>\n",
       "                        <td id=\"T_be17d_row9_col5\" class=\"data row9 col5\" >25.920000</td>\n",
       "                        <td id=\"T_be17d_row9_col6\" class=\"data row9 col6\" >234.600000</td>\n",
       "                        <td id=\"T_be17d_row9_col7\" class=\"data row9 col7\" >25.919020</td>\n",
       "                        <td id=\"T_be17d_row9_col8\" class=\"data row9 col8\" >-0.000980</td>\n",
       "                        <td id=\"T_be17d_row9_col9\" class=\"data row9 col9\" >1.38%</td>\n",
       "                        <td id=\"T_be17d_row9_col10\" class=\"data row9 col10\" >12.42%</td>\n",
       "            </tr>\n",
       "            <tr>\n",
       "                        <th id=\"T_be17d_level0_row10\" class=\"row_heading level0 row10\" >10</th>\n",
       "                        <td id=\"T_be17d_row10_col0\" class=\"data row10 col0\" >Apple</td>\n",
       "                        <td id=\"T_be17d_row10_col1\" class=\"data row10 col1\" >AAPL</td>\n",
       "                        <td id=\"T_be17d_row10_col2\" class=\"data row10 col2\" >1.027000</td>\n",
       "                        <td id=\"T_be17d_row10_col3\" class=\"data row10 col3\" >156.060000</td>\n",
       "                        <td id=\"T_be17d_row10_col4\" class=\"data row10 col4\" >131.350000</td>\n",
       "                        <td id=\"T_be17d_row10_col5\" class=\"data row10 col5\" >25.380000</td>\n",
       "                        <td id=\"T_be17d_row10_col6\" class=\"data row10 col6\" >160.350000</td>\n",
       "                        <td id=\"T_be17d_row10_col7\" class=\"data row10 col7\" >25.377170</td>\n",
       "                        <td id=\"T_be17d_row10_col8\" class=\"data row10 col8\" >-0.002830</td>\n",
       "                        <td id=\"T_be17d_row10_col9\" class=\"data row10 col9\" >0.94%</td>\n",
       "                        <td id=\"T_be17d_row10_col10\" class=\"data row10 col10\" >18.81%</td>\n",
       "            </tr>\n",
       "            <tr>\n",
       "                        <th id=\"T_be17d_level0_row11\" class=\"row_heading level0 row11\" >11</th>\n",
       "                        <td id=\"T_be17d_row11_col0\" class=\"data row11 col0\" >Lemonade</td>\n",
       "                        <td id=\"T_be17d_row11_col1\" class=\"data row11 col1\" >LMND</td>\n",
       "                        <td id=\"T_be17d_row11_col2\" class=\"data row11 col2\" >3.461000</td>\n",
       "                        <td id=\"T_be17d_row11_col3\" class=\"data row11 col3\" >77.820000</td>\n",
       "                        <td id=\"T_be17d_row11_col4\" class=\"data row11 col4\" >72.220000</td>\n",
       "                        <td id=\"T_be17d_row11_col5\" class=\"data row11 col5\" >19.370000</td>\n",
       "                        <td id=\"T_be17d_row11_col6\" class=\"data row11 col6\" >269.370000</td>\n",
       "                        <td id=\"T_be17d_row11_col7\" class=\"data row11 col7\" >19.381600</td>\n",
       "                        <td id=\"T_be17d_row11_col8\" class=\"data row11 col8\" >0.011600</td>\n",
       "                        <td id=\"T_be17d_row11_col9\" class=\"data row11 col9\" >1.58%</td>\n",
       "                        <td id=\"T_be17d_row11_col10\" class=\"data row11 col10\" >7.75%</td>\n",
       "            </tr>\n",
       "            <tr>\n",
       "                        <th id=\"T_be17d_level0_row12\" class=\"row_heading level0 row12\" >12</th>\n",
       "                        <td id=\"T_be17d_row12_col0\" class=\"data row12 col0\" >Matterport</td>\n",
       "                        <td id=\"T_be17d_row12_col1\" class=\"data row12 col1\" >MTTR</td>\n",
       "                        <td id=\"T_be17d_row12_col2\" class=\"data row12 col2\" >28.594000</td>\n",
       "                        <td id=\"T_be17d_row12_col3\" class=\"data row12 col3\" >16.540000</td>\n",
       "                        <td id=\"T_be17d_row12_col4\" class=\"data row12 col4\" >15.930000</td>\n",
       "                        <td id=\"T_be17d_row12_col5\" class=\"data row12 col5\" >17.360000</td>\n",
       "                        <td id=\"T_be17d_row12_col6\" class=\"data row12 col6\" >472.800000</td>\n",
       "                        <td id=\"T_be17d_row12_col7\" class=\"data row12 col7\" >17.442340</td>\n",
       "                        <td id=\"T_be17d_row12_col8\" class=\"data row12 col8\" >0.082340</td>\n",
       "                        <td id=\"T_be17d_row12_col9\" class=\"data row12 col9\" >2.78%</td>\n",
       "                        <td id=\"T_be17d_row12_col10\" class=\"data row12 col10\" >3.83%</td>\n",
       "            </tr>\n",
       "            <tr>\n",
       "                        <th id=\"T_be17d_level0_row13\" class=\"row_heading level0 row13\" >13</th>\n",
       "                        <td id=\"T_be17d_row13_col0\" class=\"data row13 col0\" >Walgreens</td>\n",
       "                        <td id=\"T_be17d_row13_col1\" class=\"data row13 col1\" >WBA</td>\n",
       "                        <td id=\"T_be17d_row13_col2\" class=\"data row13 col2\" >3.058000</td>\n",
       "                        <td id=\"T_be17d_row13_col3\" class=\"data row13 col3\" >50.860000</td>\n",
       "                        <td id=\"T_be17d_row13_col4\" class=\"data row13 col4\" >46.680000</td>\n",
       "                        <td id=\"T_be17d_row13_col5\" class=\"data row13 col5\" >12.790000</td>\n",
       "                        <td id=\"T_be17d_row13_col6\" class=\"data row13 col6\" >155.530000</td>\n",
       "                        <td id=\"T_be17d_row13_col7\" class=\"data row13 col7\" >12.782440</td>\n",
       "                        <td id=\"T_be17d_row13_col8\" class=\"data row13 col8\" >-0.007560</td>\n",
       "                        <td id=\"T_be17d_row13_col9\" class=\"data row13 col9\" >0.91%</td>\n",
       "                        <td id=\"T_be17d_row13_col10\" class=\"data row13 col10\" >8.95%</td>\n",
       "            </tr>\n",
       "            <tr>\n",
       "                        <th id=\"T_be17d_level0_row14\" class=\"row_heading level0 row14\" >14</th>\n",
       "                        <td id=\"T_be17d_row14_col0\" class=\"data row14 col0\" >ARK Innovation ETF</td>\n",
       "                        <td id=\"T_be17d_row14_col1\" class=\"data row14 col1\" >ARKK</td>\n",
       "                        <td id=\"T_be17d_row14_col2\" class=\"data row14 col2\" >0.889000</td>\n",
       "                        <td id=\"T_be17d_row14_col3\" class=\"data row14 col3\" >125.250000</td>\n",
       "                        <td id=\"T_be17d_row14_col4\" class=\"data row14 col4\" >112.500000</td>\n",
       "                        <td id=\"T_be17d_row14_col5\" class=\"data row14 col5\" >11.340000</td>\n",
       "                        <td id=\"T_be17d_row14_col6\" class=\"data row14 col6\" >111.340000</td>\n",
       "                        <td id=\"T_be17d_row14_col7\" class=\"data row14 col7\" >11.334750</td>\n",
       "                        <td id=\"T_be17d_row14_col8\" class=\"data row14 col8\" >-0.005250</td>\n",
       "                        <td id=\"T_be17d_row14_col9\" class=\"data row14 col9\" >0.65%</td>\n",
       "                        <td id=\"T_be17d_row14_col10\" class=\"data row14 col10\" >11.33%</td>\n",
       "            </tr>\n",
       "            <tr>\n",
       "                        <th id=\"T_be17d_level0_row15\" class=\"row_heading level0 row15\" >15</th>\n",
       "                        <td id=\"T_be17d_row15_col0\" class=\"data row15 col0\" >Robinhood Markets</td>\n",
       "                        <td id=\"T_be17d_row15_col1\" class=\"data row15 col1\" >HOOD</td>\n",
       "                        <td id=\"T_be17d_row15_col2\" class=\"data row15 col2\" >1.298000</td>\n",
       "                        <td id=\"T_be17d_row15_col3\" class=\"data row15 col3\" >42.930000</td>\n",
       "                        <td id=\"T_be17d_row15_col4\" class=\"data row15 col4\" >34.320000</td>\n",
       "                        <td id=\"T_be17d_row15_col5\" class=\"data row15 col5\" >11.180000</td>\n",
       "                        <td id=\"T_be17d_row15_col6\" class=\"data row15 col6\" >55.740000</td>\n",
       "                        <td id=\"T_be17d_row15_col7\" class=\"data row15 col7\" >11.175780</td>\n",
       "                        <td id=\"T_be17d_row15_col8\" class=\"data row15 col8\" >-0.004220</td>\n",
       "                        <td id=\"T_be17d_row15_col9\" class=\"data row15 col9\" >0.33%</td>\n",
       "                        <td id=\"T_be17d_row15_col10\" class=\"data row15 col10\" >25.09%</td>\n",
       "            </tr>\n",
       "            <tr>\n",
       "                        <th id=\"T_be17d_level0_row16\" class=\"row_heading level0 row16\" >16</th>\n",
       "                        <td id=\"T_be17d_row16_col0\" class=\"data row16 col0\" >Pfizer</td>\n",
       "                        <td id=\"T_be17d_row16_col1\" class=\"data row16 col1\" >PFE</td>\n",
       "                        <td id=\"T_be17d_row16_col2\" class=\"data row16 col2\" >0.429000</td>\n",
       "                        <td id=\"T_be17d_row16_col3\" class=\"data row16 col3\" >46.890000</td>\n",
       "                        <td id=\"T_be17d_row16_col4\" class=\"data row16 col4\" >33.570000</td>\n",
       "                        <td id=\"T_be17d_row16_col5\" class=\"data row16 col5\" >5.720000</td>\n",
       "                        <td id=\"T_be17d_row16_col6\" class=\"data row16 col6\" >20.140000</td>\n",
       "                        <td id=\"T_be17d_row16_col7\" class=\"data row16 col7\" >5.714280</td>\n",
       "                        <td id=\"T_be17d_row16_col8\" class=\"data row16 col8\" >-0.005720</td>\n",
       "                        <td id=\"T_be17d_row16_col9\" class=\"data row16 col9\" >0.12%</td>\n",
       "                        <td id=\"T_be17d_row16_col10\" class=\"data row16 col10\" >39.68%</td>\n",
       "            </tr>\n",
       "            <tr>\n",
       "                        <th id=\"T_be17d_level0_row17\" class=\"row_heading level0 row17\" >17</th>\n",
       "                        <td id=\"T_be17d_row17_col0\" class=\"data row17 col0\" >Enphase Energy</td>\n",
       "                        <td id=\"T_be17d_row17_col1\" class=\"data row17 col1\" >ENPH</td>\n",
       "                        <td id=\"T_be17d_row17_col2\" class=\"data row17 col2\" >0.070000</td>\n",
       "                        <td id=\"T_be17d_row17_col3\" class=\"data row17 col3\" >169.830000</td>\n",
       "                        <td id=\"T_be17d_row17_col4\" class=\"data row17 col4\" >143.200000</td>\n",
       "                        <td id=\"T_be17d_row17_col5\" class=\"data row17 col5\" >1.860000</td>\n",
       "                        <td id=\"T_be17d_row17_col6\" class=\"data row17 col6\" >11.860000</td>\n",
       "                        <td id=\"T_be17d_row17_col7\" class=\"data row17 col7\" >1.864100</td>\n",
       "                        <td id=\"T_be17d_row17_col8\" class=\"data row17 col8\" >0.004100</td>\n",
       "                        <td id=\"T_be17d_row17_col9\" class=\"data row17 col9\" >0.07%</td>\n",
       "                        <td id=\"T_be17d_row17_col10\" class=\"data row17 col10\" >18.60%</td>\n",
       "            </tr>\n",
       "            <tr>\n",
       "                        <th id=\"T_be17d_level0_row18\" class=\"row_heading level0 row18\" >18</th>\n",
       "                        <td id=\"T_be17d_row18_col0\" class=\"data row18 col0\" >Peloton Interactive</td>\n",
       "                        <td id=\"T_be17d_row18_col1\" class=\"data row18 col1\" >PTON</td>\n",
       "                        <td id=\"T_be17d_row18_col2\" class=\"data row18 col2\" >0.590000</td>\n",
       "                        <td id=\"T_be17d_row18_col3\" class=\"data row18 col3\" >97.880000</td>\n",
       "                        <td id=\"T_be17d_row18_col4\" class=\"data row18 col4\" >95.000000</td>\n",
       "                        <td id=\"T_be17d_row18_col5\" class=\"data row18 col5\" >1.700000</td>\n",
       "                        <td id=\"T_be17d_row18_col6\" class=\"data row18 col6\" >57.790000</td>\n",
       "                        <td id=\"T_be17d_row18_col7\" class=\"data row18 col7\" >1.699200</td>\n",
       "                        <td id=\"T_be17d_row18_col8\" class=\"data row18 col8\" >-0.000800</td>\n",
       "                        <td id=\"T_be17d_row18_col9\" class=\"data row18 col9\" >0.34%</td>\n",
       "                        <td id=\"T_be17d_row18_col10\" class=\"data row18 col10\" >3.03%</td>\n",
       "            </tr>\n",
       "            <tr>\n",
       "                        <th id=\"T_be17d_level0_row19\" class=\"row_heading level0 row19\" >19</th>\n",
       "                        <td id=\"T_be17d_row19_col0\" class=\"data row19 col0\" >Coursera</td>\n",
       "                        <td id=\"T_be17d_row19_col1\" class=\"data row19 col1\" >COUR</td>\n",
       "                        <td id=\"T_be17d_row19_col2\" class=\"data row19 col2\" >1.853000</td>\n",
       "                        <td id=\"T_be17d_row19_col3\" class=\"data row19 col3\" >37.820000</td>\n",
       "                        <td id=\"T_be17d_row19_col4\" class=\"data row19 col4\" >37.780000</td>\n",
       "                        <td id=\"T_be17d_row19_col5\" class=\"data row19 col5\" >0.080000</td>\n",
       "                        <td id=\"T_be17d_row19_col6\" class=\"data row19 col6\" >70.080000</td>\n",
       "                        <td id=\"T_be17d_row19_col7\" class=\"data row19 col7\" >0.074120</td>\n",
       "                        <td id=\"T_be17d_row19_col8\" class=\"data row19 col8\" >-0.005880</td>\n",
       "                        <td id=\"T_be17d_row19_col9\" class=\"data row19 col9\" >0.41%</td>\n",
       "                        <td id=\"T_be17d_row19_col10\" class=\"data row19 col10\" >0.11%</td>\n",
       "            </tr>\n",
       "            <tr>\n",
       "                        <th id=\"T_be17d_level0_row20\" class=\"row_heading level0 row20\" >20</th>\n",
       "                        <td id=\"T_be17d_row20_col0\" class=\"data row20 col0\" >Owlet</td>\n",
       "                        <td id=\"T_be17d_row20_col1\" class=\"data row20 col1\" >OWLT</td>\n",
       "                        <td id=\"T_be17d_row20_col2\" class=\"data row20 col2\" >7.409000</td>\n",
       "                        <td id=\"T_be17d_row20_col3\" class=\"data row20 col3\" >6.690000</td>\n",
       "                        <td id=\"T_be17d_row20_col4\" class=\"data row20 col4\" >6.750000</td>\n",
       "                        <td id=\"T_be17d_row20_col5\" class=\"data row20 col5\" >0.430000</td>\n",
       "                        <td id=\"T_be17d_row20_col6\" class=\"data row20 col6\" >49.570000</td>\n",
       "                        <td id=\"T_be17d_row20_col7\" class=\"data row20 col7\" >-0.444540</td>\n",
       "                        <td id=\"T_be17d_row20_col8\" class=\"data row20 col8\" >0.014540</td>\n",
       "                        <td id=\"T_be17d_row20_col9\" class=\"data row20 col9\" >0.29%</td>\n",
       "                        <td id=\"T_be17d_row20_col10\" class=\"data row20 col10\" >-0.89%</td>\n",
       "            </tr>\n",
       "            <tr>\n",
       "                        <th id=\"T_be17d_level0_row21\" class=\"row_heading level0 row21\" >21</th>\n",
       "                        <td id=\"T_be17d_row21_col0\" class=\"data row21 col0\" >Skillz</td>\n",
       "                        <td id=\"T_be17d_row21_col1\" class=\"data row21 col1\" >SKLZ</td>\n",
       "                        <td id=\"T_be17d_row21_col2\" class=\"data row21 col2\" >2.454000</td>\n",
       "                        <td id=\"T_be17d_row21_col3\" class=\"data row21 col3\" >12.170000</td>\n",
       "                        <td id=\"T_be17d_row21_col4\" class=\"data row21 col4\" >12.630000</td>\n",
       "                        <td id=\"T_be17d_row21_col5\" class=\"data row21 col5\" >1.130000</td>\n",
       "                        <td id=\"T_be17d_row21_col6\" class=\"data row21 col6\" >29.870000</td>\n",
       "                        <td id=\"T_be17d_row21_col7\" class=\"data row21 col7\" >-1.128840</td>\n",
       "                        <td id=\"T_be17d_row21_col8\" class=\"data row21 col8\" >-0.001160</td>\n",
       "                        <td id=\"T_be17d_row21_col9\" class=\"data row21 col9\" >0.18%</td>\n",
       "                        <td id=\"T_be17d_row21_col10\" class=\"data row21 col10\" >-3.64%</td>\n",
       "            </tr>\n",
       "            <tr>\n",
       "                        <th id=\"T_be17d_level0_row22\" class=\"row_heading level0 row22\" >22</th>\n",
       "                        <td id=\"T_be17d_row22_col0\" class=\"data row22 col0\" >Boeing</td>\n",
       "                        <td id=\"T_be17d_row22_col1\" class=\"data row22 col1\" >BA</td>\n",
       "                        <td id=\"T_be17d_row22_col2\" class=\"data row22 col2\" >0.245000</td>\n",
       "                        <td id=\"T_be17d_row22_col3\" class=\"data row22 col3\" >212.960000</td>\n",
       "                        <td id=\"T_be17d_row22_col4\" class=\"data row22 col4\" >217.620000</td>\n",
       "                        <td id=\"T_be17d_row22_col5\" class=\"data row22 col5\" >1.140000</td>\n",
       "                        <td id=\"T_be17d_row22_col6\" class=\"data row22 col6\" >52.230000</td>\n",
       "                        <td id=\"T_be17d_row22_col7\" class=\"data row22 col7\" >-1.141700</td>\n",
       "                        <td id=\"T_be17d_row22_col8\" class=\"data row22 col8\" >0.001700</td>\n",
       "                        <td id=\"T_be17d_row22_col9\" class=\"data row22 col9\" >0.31%</td>\n",
       "                        <td id=\"T_be17d_row22_col10\" class=\"data row22 col10\" >-2.14%</td>\n",
       "            </tr>\n",
       "            <tr>\n",
       "                        <th id=\"T_be17d_level0_row23\" class=\"row_heading level0 row23\" >23</th>\n",
       "                        <td id=\"T_be17d_row23_col0\" class=\"data row23 col0\" >Affirm</td>\n",
       "                        <td id=\"T_be17d_row23_col1\" class=\"data row23 col1\" >AFRM</td>\n",
       "                        <td id=\"T_be17d_row23_col2\" class=\"data row23 col2\" >2.087000</td>\n",
       "                        <td id=\"T_be17d_row23_col3\" class=\"data row23 col3\" >94.330000</td>\n",
       "                        <td id=\"T_be17d_row23_col4\" class=\"data row23 col4\" >95.820000</td>\n",
       "                        <td id=\"T_be17d_row23_col5\" class=\"data row23 col5\" >3.110000</td>\n",
       "                        <td id=\"T_be17d_row23_col6\" class=\"data row23 col6\" >196.890000</td>\n",
       "                        <td id=\"T_be17d_row23_col7\" class=\"data row23 col7\" >-3.109630</td>\n",
       "                        <td id=\"T_be17d_row23_col8\" class=\"data row23 col8\" >-0.000370</td>\n",
       "                        <td id=\"T_be17d_row23_col9\" class=\"data row23 col9\" >1.16%</td>\n",
       "                        <td id=\"T_be17d_row23_col10\" class=\"data row23 col10\" >-1.55%</td>\n",
       "            </tr>\n",
       "            <tr>\n",
       "                        <th id=\"T_be17d_level0_row24\" class=\"row_heading level0 row24\" >24</th>\n",
       "                        <td id=\"T_be17d_row24_col0\" class=\"data row24 col0\" >GameStop</td>\n",
       "                        <td id=\"T_be17d_row24_col1\" class=\"data row24 col1\" >GME</td>\n",
       "                        <td id=\"T_be17d_row24_col2\" class=\"data row24 col2\" >0.032000</td>\n",
       "                        <td id=\"T_be17d_row24_col3\" class=\"data row24 col3\" >206.490000</td>\n",
       "                        <td id=\"T_be17d_row24_col4\" class=\"data row24 col4\" >313.580000</td>\n",
       "                        <td id=\"T_be17d_row24_col5\" class=\"data row24 col5\" >3.420000</td>\n",
       "                        <td id=\"T_be17d_row24_col6\" class=\"data row24 col6\" >6.580000</td>\n",
       "                        <td id=\"T_be17d_row24_col7\" class=\"data row24 col7\" >-3.426880</td>\n",
       "                        <td id=\"T_be17d_row24_col8\" class=\"data row24 col8\" >0.006880</td>\n",
       "                        <td id=\"T_be17d_row24_col9\" class=\"data row24 col9\" >0.04%</td>\n",
       "                        <td id=\"T_be17d_row24_col10\" class=\"data row24 col10\" >-34.15%</td>\n",
       "            </tr>\n",
       "            <tr>\n",
       "                        <th id=\"T_be17d_level0_row25\" class=\"row_heading level0 row25\" >25</th>\n",
       "                        <td id=\"T_be17d_row25_col0\" class=\"data row25 col0\" >Corsair Gaming</td>\n",
       "                        <td id=\"T_be17d_row25_col1\" class=\"data row25 col1\" >CRSR</td>\n",
       "                        <td id=\"T_be17d_row25_col2\" class=\"data row25 col2\" >11.928000</td>\n",
       "                        <td id=\"T_be17d_row25_col3\" class=\"data row25 col3\" >29.050000</td>\n",
       "                        <td id=\"T_be17d_row25_col4\" class=\"data row25 col4\" >29.340000</td>\n",
       "                        <td id=\"T_be17d_row25_col5\" class=\"data row25 col5\" >3.490000</td>\n",
       "                        <td id=\"T_be17d_row25_col6\" class=\"data row25 col6\" >346.510000</td>\n",
       "                        <td id=\"T_be17d_row25_col7\" class=\"data row25 col7\" >-3.459120</td>\n",
       "                        <td id=\"T_be17d_row25_col8\" class=\"data row25 col8\" >-0.030880</td>\n",
       "                        <td id=\"T_be17d_row25_col9\" class=\"data row25 col9\" >2.04%</td>\n",
       "                        <td id=\"T_be17d_row25_col10\" class=\"data row25 col10\" >-0.99%</td>\n",
       "            </tr>\n",
       "            <tr>\n",
       "                        <th id=\"T_be17d_level0_row26\" class=\"row_heading level0 row26\" >26</th>\n",
       "                        <td id=\"T_be17d_row26_col0\" class=\"data row26 col0\" >Bionano Genomics</td>\n",
       "                        <td id=\"T_be17d_row26_col1\" class=\"data row26 col1\" >BNGO</td>\n",
       "                        <td id=\"T_be17d_row26_col2\" class=\"data row26 col2\" >2.706000</td>\n",
       "                        <td id=\"T_be17d_row26_col3\" class=\"data row26 col3\" >5.900000</td>\n",
       "                        <td id=\"T_be17d_row26_col4\" class=\"data row26 col4\" >7.340000</td>\n",
       "                        <td id=\"T_be17d_row26_col5\" class=\"data row26 col5\" >3.890000</td>\n",
       "                        <td id=\"T_be17d_row26_col6\" class=\"data row26 col6\" >15.960000</td>\n",
       "                        <td id=\"T_be17d_row26_col7\" class=\"data row26 col7\" >-3.896640</td>\n",
       "                        <td id=\"T_be17d_row26_col8\" class=\"data row26 col8\" >0.006640</td>\n",
       "                        <td id=\"T_be17d_row26_col9\" class=\"data row26 col9\" >0.09%</td>\n",
       "                        <td id=\"T_be17d_row26_col10\" class=\"data row26 col10\" >-19.62%</td>\n",
       "            </tr>\n",
       "            <tr>\n",
       "                        <th id=\"T_be17d_level0_row27\" class=\"row_heading level0 row27\" >27</th>\n",
       "                        <td id=\"T_be17d_row27_col0\" class=\"data row27 col0\" >Clover Health Investments</td>\n",
       "                        <td id=\"T_be17d_row27_col1\" class=\"data row27 col1\" >CLOV</td>\n",
       "                        <td id=\"T_be17d_row27_col2\" class=\"data row27 col2\" >1.513000</td>\n",
       "                        <td id=\"T_be17d_row27_col3\" class=\"data row27 col3\" >9.730000</td>\n",
       "                        <td id=\"T_be17d_row27_col4\" class=\"data row27 col4\" >13.220000</td>\n",
       "                        <td id=\"T_be17d_row27_col5\" class=\"data row27 col5\" >5.280000</td>\n",
       "                        <td id=\"T_be17d_row27_col6\" class=\"data row27 col6\" >14.720000</td>\n",
       "                        <td id=\"T_be17d_row27_col7\" class=\"data row27 col7\" >-5.280370</td>\n",
       "                        <td id=\"T_be17d_row27_col8\" class=\"data row27 col8\" >0.000370</td>\n",
       "                        <td id=\"T_be17d_row27_col9\" class=\"data row27 col9\" >0.09%</td>\n",
       "                        <td id=\"T_be17d_row27_col10\" class=\"data row27 col10\" >-26.40%</td>\n",
       "            </tr>\n",
       "            <tr>\n",
       "                        <th id=\"T_be17d_level0_row28\" class=\"row_heading level0 row28\" >28</th>\n",
       "                        <td id=\"T_be17d_row28_col0\" class=\"data row28 col0\" >Lucid Group</td>\n",
       "                        <td id=\"T_be17d_row28_col1\" class=\"data row28 col1\" >LCID</td>\n",
       "                        <td id=\"T_be17d_row28_col2\" class=\"data row28 col2\" >10.375000</td>\n",
       "                        <td id=\"T_be17d_row28_col3\" class=\"data row28 col3\" >19.590000</td>\n",
       "                        <td id=\"T_be17d_row28_col4\" class=\"data row28 col4\" >20.240000</td>\n",
       "                        <td id=\"T_be17d_row28_col5\" class=\"data row28 col5\" >6.740000</td>\n",
       "                        <td id=\"T_be17d_row28_col6\" class=\"data row28 col6\" >203.260000</td>\n",
       "                        <td id=\"T_be17d_row28_col7\" class=\"data row28 col7\" >-6.743750</td>\n",
       "                        <td id=\"T_be17d_row28_col8\" class=\"data row28 col8\" >0.003750</td>\n",
       "                        <td id=\"T_be17d_row28_col9\" class=\"data row28 col9\" >1.20%</td>\n",
       "                        <td id=\"T_be17d_row28_col10\" class=\"data row28 col10\" >-3.21%</td>\n",
       "            </tr>\n",
       "            <tr>\n",
       "                        <th id=\"T_be17d_level0_row29\" class=\"row_heading level0 row29\" >29</th>\n",
       "                        <td id=\"T_be17d_row29_col0\" class=\"data row29 col0\" >Tattooed Chef</td>\n",
       "                        <td id=\"T_be17d_row29_col1\" class=\"data row29 col1\" >TTCF</td>\n",
       "                        <td id=\"T_be17d_row29_col2\" class=\"data row29 col2\" >11.078000</td>\n",
       "                        <td id=\"T_be17d_row29_col3\" class=\"data row29 col3\" >21.260000</td>\n",
       "                        <td id=\"T_be17d_row29_col4\" class=\"data row29 col4\" >21.880000</td>\n",
       "                        <td id=\"T_be17d_row29_col5\" class=\"data row29 col5\" >6.910000</td>\n",
       "                        <td id=\"T_be17d_row29_col6\" class=\"data row29 col6\" >235.520000</td>\n",
       "                        <td id=\"T_be17d_row29_col7\" class=\"data row29 col7\" >-6.868360</td>\n",
       "                        <td id=\"T_be17d_row29_col8\" class=\"data row29 col8\" >-0.041640</td>\n",
       "                        <td id=\"T_be17d_row29_col9\" class=\"data row29 col9\" >1.39%</td>\n",
       "                        <td id=\"T_be17d_row29_col10\" class=\"data row29 col10\" >-2.83%</td>\n",
       "            </tr>\n",
       "            <tr>\n",
       "                        <th id=\"T_be17d_level0_row30\" class=\"row_heading level0 row30\" >30</th>\n",
       "                        <td id=\"T_be17d_row30_col0\" class=\"data row30 col0\" >NIO</td>\n",
       "                        <td id=\"T_be17d_row30_col1\" class=\"data row30 col1\" >NIO</td>\n",
       "                        <td id=\"T_be17d_row30_col2\" class=\"data row30 col2\" >2.703000</td>\n",
       "                        <td id=\"T_be17d_row30_col3\" class=\"data row30 col3\" >41.280000</td>\n",
       "                        <td id=\"T_be17d_row30_col4\" class=\"data row30 col4\" >43.980000</td>\n",
       "                        <td id=\"T_be17d_row30_col5\" class=\"data row30 col5\" >7.300000</td>\n",
       "                        <td id=\"T_be17d_row30_col6\" class=\"data row30 col6\" >111.550000</td>\n",
       "                        <td id=\"T_be17d_row30_col7\" class=\"data row30 col7\" >-7.298100</td>\n",
       "                        <td id=\"T_be17d_row30_col8\" class=\"data row30 col8\" >-0.001900</td>\n",
       "                        <td id=\"T_be17d_row30_col9\" class=\"data row30 col9\" >0.66%</td>\n",
       "                        <td id=\"T_be17d_row30_col10\" class=\"data row30 col10\" >-6.14%</td>\n",
       "            </tr>\n",
       "            <tr>\n",
       "                        <th id=\"T_be17d_level0_row31\" class=\"row_heading level0 row31\" >31</th>\n",
       "                        <td id=\"T_be17d_row31_col0\" class=\"data row31 col0\" >AMC Entertainment</td>\n",
       "                        <td id=\"T_be17d_row31_col1\" class=\"data row31 col1\" >AMC</td>\n",
       "                        <td id=\"T_be17d_row31_col2\" class=\"data row31 col2\" >2.603000</td>\n",
       "                        <td id=\"T_be17d_row31_col3\" class=\"data row31 col3\" >47.000000</td>\n",
       "                        <td id=\"T_be17d_row31_col4\" class=\"data row31 col4\" >50.010000</td>\n",
       "                        <td id=\"T_be17d_row31_col5\" class=\"data row31 col5\" >7.820000</td>\n",
       "                        <td id=\"T_be17d_row31_col6\" class=\"data row31 col6\" >122.320000</td>\n",
       "                        <td id=\"T_be17d_row31_col7\" class=\"data row31 col7\" >-7.835030</td>\n",
       "                        <td id=\"T_be17d_row31_col8\" class=\"data row31 col8\" >0.015030</td>\n",
       "                        <td id=\"T_be17d_row31_col9\" class=\"data row31 col9\" >0.72%</td>\n",
       "                        <td id=\"T_be17d_row31_col10\" class=\"data row31 col10\" >-6.02%</td>\n",
       "            </tr>\n",
       "            <tr>\n",
       "                        <th id=\"T_be17d_level0_row32\" class=\"row_heading level0 row32\" >32</th>\n",
       "                        <td id=\"T_be17d_row32_col0\" class=\"data row32 col0\" >Wynn Resorts</td>\n",
       "                        <td id=\"T_be17d_row32_col1\" class=\"data row32 col1\" >WYNN</td>\n",
       "                        <td id=\"T_be17d_row32_col2\" class=\"data row32 col2\" >0.905000</td>\n",
       "                        <td id=\"T_be17d_row32_col3\" class=\"data row32 col3\" >101.740000</td>\n",
       "                        <td id=\"T_be17d_row32_col4\" class=\"data row32 col4\" >110.490000</td>\n",
       "                        <td id=\"T_be17d_row32_col5\" class=\"data row32 col5\" >7.920000</td>\n",
       "                        <td id=\"T_be17d_row32_col6\" class=\"data row32 col6\" >92.080000</td>\n",
       "                        <td id=\"T_be17d_row32_col7\" class=\"data row32 col7\" >-7.918750</td>\n",
       "                        <td id=\"T_be17d_row32_col8\" class=\"data row32 col8\" >-0.001250</td>\n",
       "                        <td id=\"T_be17d_row32_col9\" class=\"data row32 col9\" >0.54%</td>\n",
       "                        <td id=\"T_be17d_row32_col10\" class=\"data row32 col10\" >-7.92%</td>\n",
       "            </tr>\n",
       "            <tr>\n",
       "                        <th id=\"T_be17d_level0_row33\" class=\"row_heading level0 row33\" >33</th>\n",
       "                        <td id=\"T_be17d_row33_col0\" class=\"data row33 col0\" >Plug Power</td>\n",
       "                        <td id=\"T_be17d_row33_col1\" class=\"data row33 col1\" >PLUG</td>\n",
       "                        <td id=\"T_be17d_row33_col2\" class=\"data row33 col2\" >3.453000</td>\n",
       "                        <td id=\"T_be17d_row33_col3\" class=\"data row33 col3\" >26.650000</td>\n",
       "                        <td id=\"T_be17d_row33_col4\" class=\"data row33 col4\" >28.960000</td>\n",
       "                        <td id=\"T_be17d_row33_col5\" class=\"data row33 col5\" >7.970000</td>\n",
       "                        <td id=\"T_be17d_row33_col6\" class=\"data row33 col6\" >92.030000</td>\n",
       "                        <td id=\"T_be17d_row33_col7\" class=\"data row33 col7\" >-7.976430</td>\n",
       "                        <td id=\"T_be17d_row33_col8\" class=\"data row33 col8\" >0.006430</td>\n",
       "                        <td id=\"T_be17d_row33_col9\" class=\"data row33 col9\" >0.54%</td>\n",
       "                        <td id=\"T_be17d_row33_col10\" class=\"data row33 col10\" >-7.98%</td>\n",
       "            </tr>\n",
       "            <tr>\n",
       "                        <th id=\"T_be17d_level0_row34\" class=\"row_heading level0 row34\" >34</th>\n",
       "                        <td id=\"T_be17d_row34_col0\" class=\"data row34 col0\" >Disney</td>\n",
       "                        <td id=\"T_be17d_row34_col1\" class=\"data row34 col1\" >DIS</td>\n",
       "                        <td id=\"T_be17d_row34_col2\" class=\"data row34 col2\" >2.718000</td>\n",
       "                        <td id=\"T_be17d_row34_col3\" class=\"data row34 col3\" >180.670000</td>\n",
       "                        <td id=\"T_be17d_row34_col4\" class=\"data row34 col4\" >183.930000</td>\n",
       "                        <td id=\"T_be17d_row34_col5\" class=\"data row34 col5\" >8.870000</td>\n",
       "                        <td id=\"T_be17d_row34_col6\" class=\"data row34 col6\" >491.130000</td>\n",
       "                        <td id=\"T_be17d_row34_col7\" class=\"data row34 col7\" >-8.860680</td>\n",
       "                        <td id=\"T_be17d_row34_col8\" class=\"data row34 col8\" >-0.009320</td>\n",
       "                        <td id=\"T_be17d_row34_col9\" class=\"data row34 col9\" >2.89%</td>\n",
       "                        <td id=\"T_be17d_row34_col10\" class=\"data row34 col10\" >-1.77%</td>\n",
       "            </tr>\n",
       "            <tr>\n",
       "                        <th id=\"T_be17d_level0_row35\" class=\"row_heading level0 row35\" >35</th>\n",
       "                        <td id=\"T_be17d_row35_col0\" class=\"data row35 col0\" >ChargePoint</td>\n",
       "                        <td id=\"T_be17d_row35_col1\" class=\"data row35 col1\" >CHPT</td>\n",
       "                        <td id=\"T_be17d_row35_col2\" class=\"data row35 col2\" >8.285000</td>\n",
       "                        <td id=\"T_be17d_row35_col3\" class=\"data row35 col3\" >22.610000</td>\n",
       "                        <td id=\"T_be17d_row35_col4\" class=\"data row35 col4\" >24.140000</td>\n",
       "                        <td id=\"T_be17d_row35_col5\" class=\"data row35 col5\" >12.670000</td>\n",
       "                        <td id=\"T_be17d_row35_col6\" class=\"data row35 col6\" >187.330000</td>\n",
       "                        <td id=\"T_be17d_row35_col7\" class=\"data row35 col7\" >-12.676050</td>\n",
       "                        <td id=\"T_be17d_row35_col8\" class=\"data row35 col8\" >0.006050</td>\n",
       "                        <td id=\"T_be17d_row35_col9\" class=\"data row35 col9\" >1.10%</td>\n",
       "                        <td id=\"T_be17d_row35_col10\" class=\"data row35 col10\" >-6.34%</td>\n",
       "            </tr>\n",
       "            <tr>\n",
       "                        <th id=\"T_be17d_level0_row36\" class=\"row_heading level0 row36\" >36</th>\n",
       "                        <td id=\"T_be17d_row36_col0\" class=\"data row36 col0\" >C3.AI</td>\n",
       "                        <td id=\"T_be17d_row36_col1\" class=\"data row36 col1\" >AI</td>\n",
       "                        <td id=\"T_be17d_row36_col2\" class=\"data row36 col2\" >3.273000</td>\n",
       "                        <td id=\"T_be17d_row36_col3\" class=\"data row36 col3\" >51.330000</td>\n",
       "                        <td id=\"T_be17d_row36_col4\" class=\"data row36 col4\" >55.310000</td>\n",
       "                        <td id=\"T_be17d_row36_col5\" class=\"data row36 col5\" >13.040000</td>\n",
       "                        <td id=\"T_be17d_row36_col6\" class=\"data row36 col6\" >168.020000</td>\n",
       "                        <td id=\"T_be17d_row36_col7\" class=\"data row36 col7\" >-13.026540</td>\n",
       "                        <td id=\"T_be17d_row36_col8\" class=\"data row36 col8\" >-0.013460</td>\n",
       "                        <td id=\"T_be17d_row36_col9\" class=\"data row36 col9\" >0.99%</td>\n",
       "                        <td id=\"T_be17d_row36_col10\" class=\"data row36 col10\" >-7.20%</td>\n",
       "            </tr>\n",
       "            <tr>\n",
       "                        <th id=\"T_be17d_level0_row37\" class=\"row_heading level0 row37\" >37</th>\n",
       "                        <td id=\"T_be17d_row37_col0\" class=\"data row37 col0\" >Upwork</td>\n",
       "                        <td id=\"T_be17d_row37_col1\" class=\"data row37 col1\" >UPWK</td>\n",
       "                        <td id=\"T_be17d_row37_col2\" class=\"data row37 col2\" >23.386000</td>\n",
       "                        <td id=\"T_be17d_row37_col3\" class=\"data row37 col3\" >45.330000</td>\n",
       "                        <td id=\"T_be17d_row37_col4\" class=\"data row37 col4\" >45.920000</td>\n",
       "                        <td id=\"T_be17d_row37_col5\" class=\"data row37 col5\" >13.740000</td>\n",
       "                        <td id=\"T_be17d_row37_col6\" class=\"data row37 col6\" >1060.080000</td>\n",
       "                        <td id=\"T_be17d_row37_col7\" class=\"data row37 col7\" >-13.797740</td>\n",
       "                        <td id=\"T_be17d_row37_col8\" class=\"data row37 col8\" >0.057740</td>\n",
       "                        <td id=\"T_be17d_row37_col9\" class=\"data row37 col9\" >6.23%</td>\n",
       "                        <td id=\"T_be17d_row37_col10\" class=\"data row37 col10\" >-1.28%</td>\n",
       "            </tr>\n",
       "            <tr>\n",
       "                        <th id=\"T_be17d_level0_row38\" class=\"row_heading level0 row38\" >38</th>\n",
       "                        <td id=\"T_be17d_row38_col0\" class=\"data row38 col0\" >Roku</td>\n",
       "                        <td id=\"T_be17d_row38_col1\" class=\"data row38 col1\" >ROKU</td>\n",
       "                        <td id=\"T_be17d_row38_col2\" class=\"data row38 col2\" >0.243000</td>\n",
       "                        <td id=\"T_be17d_row38_col3\" class=\"data row38 col3\" >341.310000</td>\n",
       "                        <td id=\"T_be17d_row38_col4\" class=\"data row38 col4\" >411.950000</td>\n",
       "                        <td id=\"T_be17d_row38_col5\" class=\"data row38 col5\" >17.150000</td>\n",
       "                        <td id=\"T_be17d_row38_col6\" class=\"data row38 col6\" >82.850000</td>\n",
       "                        <td id=\"T_be17d_row38_col7\" class=\"data row38 col7\" >-17.165520</td>\n",
       "                        <td id=\"T_be17d_row38_col8\" class=\"data row38 col8\" >0.015520</td>\n",
       "                        <td id=\"T_be17d_row38_col9\" class=\"data row38 col9\" >0.49%</td>\n",
       "                        <td id=\"T_be17d_row38_col10\" class=\"data row38 col10\" >-17.15%</td>\n",
       "            </tr>\n",
       "            <tr>\n",
       "                        <th id=\"T_be17d_level0_row39\" class=\"row_heading level0 row39\" >39</th>\n",
       "                        <td id=\"T_be17d_row39_col0\" class=\"data row39 col0\" >Freeport-McMoRan</td>\n",
       "                        <td id=\"T_be17d_row39_col1\" class=\"data row39 col1\" >FCX</td>\n",
       "                        <td id=\"T_be17d_row39_col2\" class=\"data row39 col2\" >9.503000</td>\n",
       "                        <td id=\"T_be17d_row39_col3\" class=\"data row39 col3\" >36.160000</td>\n",
       "                        <td id=\"T_be17d_row39_col4\" class=\"data row39 col4\" >42.090000</td>\n",
       "                        <td id=\"T_be17d_row39_col5\" class=\"data row39 col5\" >56.360000</td>\n",
       "                        <td id=\"T_be17d_row39_col6\" class=\"data row39 col6\" >343.640000</td>\n",
       "                        <td id=\"T_be17d_row39_col7\" class=\"data row39 col7\" >-56.352790</td>\n",
       "                        <td id=\"T_be17d_row39_col8\" class=\"data row39 col8\" >-0.007210</td>\n",
       "                        <td id=\"T_be17d_row39_col9\" class=\"data row39 col9\" >2.02%</td>\n",
       "                        <td id=\"T_be17d_row39_col10\" class=\"data row39 col10\" >-14.09%</td>\n",
       "            </tr>\n",
       "            <tr>\n",
       "                        <th id=\"T_be17d_level0_row40\" class=\"row_heading level0 row40\" >40</th>\n",
       "                        <td id=\"T_be17d_row40_col0\" class=\"data row40 col0\" >Astra Space</td>\n",
       "                        <td id=\"T_be17d_row40_col1\" class=\"data row40 col1\" >ASTR</td>\n",
       "                        <td id=\"T_be17d_row40_col2\" class=\"data row40 col2\" >110.172000</td>\n",
       "                        <td id=\"T_be17d_row40_col3\" class=\"data row40 col3\" >9.370000</td>\n",
       "                        <td id=\"T_be17d_row40_col4\" class=\"data row40 col4\" >9.980000</td>\n",
       "                        <td id=\"T_be17d_row40_col5\" class=\"data row40 col5\" >67.400000</td>\n",
       "                        <td id=\"T_be17d_row40_col6\" class=\"data row40 col6\" >1032.590000</td>\n",
       "                        <td id=\"T_be17d_row40_col7\" class=\"data row40 col7\" >-67.204920</td>\n",
       "                        <td id=\"T_be17d_row40_col8\" class=\"data row40 col8\" >-0.195080</td>\n",
       "                        <td id=\"T_be17d_row40_col9\" class=\"data row40 col9\" >6.07%</td>\n",
       "                        <td id=\"T_be17d_row40_col10\" class=\"data row40 col10\" >-6.11%</td>\n",
       "            </tr>\n",
       "            <tr>\n",
       "                        <th id=\"T_be17d_level0_row41\" class=\"row_heading level0 row41\" >41</th>\n",
       "                        <td id=\"T_be17d_row41_col0\" class=\"data row41 col0\" >Coinbase</td>\n",
       "                        <td id=\"T_be17d_row41_col1\" class=\"data row41 col1\" >COIN</td>\n",
       "                        <td id=\"T_be17d_row41_col2\" class=\"data row41 col2\" >0.958000</td>\n",
       "                        <td id=\"T_be17d_row41_col3\" class=\"data row41 col3\" >272.890000</td>\n",
       "                        <td id=\"T_be17d_row41_col4\" class=\"data row41 col4\" >398.170000</td>\n",
       "                        <td id=\"T_be17d_row41_col5\" class=\"data row41 col5\" >119.960000</td>\n",
       "                        <td id=\"T_be17d_row41_col6\" class=\"data row41 col6\" >261.290000</td>\n",
       "                        <td id=\"T_be17d_row41_col7\" class=\"data row41 col7\" >-120.018240</td>\n",
       "                        <td id=\"T_be17d_row41_col8\" class=\"data row41 col8\" >0.058240</td>\n",
       "                        <td id=\"T_be17d_row41_col9\" class=\"data row41 col9\" >1.54%</td>\n",
       "                        <td id=\"T_be17d_row41_col10\" class=\"data row41 col10\" >-31.46%</td>\n",
       "            </tr>\n",
       "            <tr>\n",
       "                        <th id=\"T_be17d_level0_row42\" class=\"row_heading level0 row42\" >42</th>\n",
       "                        <td id=\"T_be17d_row42_col0\" class=\"data row42 col0\" >Jumia Technologies</td>\n",
       "                        <td id=\"T_be17d_row42_col1\" class=\"data row42 col1\" >JMIA</td>\n",
       "                        <td id=\"T_be17d_row42_col2\" class=\"data row42 col2\" >13.997000</td>\n",
       "                        <td id=\"T_be17d_row42_col3\" class=\"data row42 col3\" >21.340000</td>\n",
       "                        <td id=\"T_be17d_row42_col4\" class=\"data row42 col4\" >38.950000</td>\n",
       "                        <td id=\"T_be17d_row42_col5\" class=\"data row42 col5\" >246.550000</td>\n",
       "                        <td id=\"T_be17d_row42_col6\" class=\"data row42 col6\" >292.400000</td>\n",
       "                        <td id=\"T_be17d_row42_col7\" class=\"data row42 col7\" >-246.487170</td>\n",
       "                        <td id=\"T_be17d_row42_col8\" class=\"data row42 col8\" >-0.062830</td>\n",
       "                        <td id=\"T_be17d_row42_col9\" class=\"data row42 col9\" >1.72%</td>\n",
       "                        <td id=\"T_be17d_row42_col10\" class=\"data row42 col10\" >-45.21%</td>\n",
       "            </tr>\n",
       "    </tbody></table>"
      ],
      "text/plain": [
       "<pandas.io.formats.style.Styler at 0x7ffdcb0f9910>"
      ]
     },
     "metadata": {},
     "execution_count": 23
    }
   ],
   "metadata": {
    "scrolled": false
   }
  },
  {
   "cell_type": "code",
   "execution_count": 26,
   "source": [
    "from src.robinassistant.utils.visualize import Visualize\n",
    "\n",
    "v = Visualize()\n",
    "\n",
    "v.bar(x = holdings.Symbol,y=holdings[\"Total Return\"], color = v.main[\"gold\"], display_type = \"fig\", title = \"Total Returns\")\n",
    "v.bar(x = holdings.Symbol, y=holdings[\"Percentage\"], color=v.main[\"silver\"], title = \"Percentage of Holdings\", display_type = \"fig\")\n",
    "v.bar(x = holdings.Symbol, y = holdings[\"Decay/Increase\"],color=v.main[\"bronze\"], title = \"Stock Performances Since Avg Cost\", display_type = \"fig\")"
   ],
   "outputs": [
    {
     "output_type": "display_data",
     "data": {
      "application/vnd.plotly.v1+json": {
       "config": {
        "plotlyServerURL": "https://plot.ly"
       },
       "data": [
        {
         "marker": {
          "color": "#FFD700"
         },
         "type": "bar",
         "x": [
          "TSLA",
          "ELY",
          "GOOGL",
          "FB",
          "DBX",
          "PLTR",
          "MARA",
          "CRWD",
          "ETSY",
          "SQ",
          "AAPL",
          "LMND",
          "MTTR",
          "WBA",
          "ARKK",
          "HOOD",
          "PFE",
          "ENPH",
          "PTON",
          "COUR",
          "OWLT",
          "SKLZ",
          "BA",
          "AFRM",
          "GME",
          "CRSR",
          "BNGO",
          "CLOV",
          "LCID",
          "TTCF",
          "NIO",
          "AMC",
          "WYNN",
          "PLUG",
          "DIS",
          "CHPT",
          "AI",
          "UPWK",
          "ROKU",
          "FCX",
          "ASTR",
          "COIN",
          "JMIA"
         ],
         "y": [
          504.8733200000006,
          126.75403999999997,
          118.70026999999999,
          84.32224000000002,
          83.54600000000002,
          70.28728000000001,
          60.657899999999984,
          44.88680000000002,
          39.59438,
          25.91901999999999,
          25.377170000000007,
          19.38159999999999,
          17.442339999999945,
          12.782440000000008,
          11.33475,
          11.175779999999996,
          5.7142800000000005,
          1.8641000000000005,
          1.6991999999999976,
          0.07412000000000774,
          -0.4445400000000035,
          -1.1288400000000003,
          -1.141699999999993,
          -3.1096299999999815,
          -3.426879999999999,
          -3.4591199999999844,
          -3.8966399999999997,
          -5.280370000000001,
          -6.743749999999977,
          -6.868359999999967,
          -7.298099999999991,
          -7.835029999999989,
          -7.918750000000003,
          -7.976430000000008,
          -8.860680000000059,
          -12.676050000000004,
          -13.026540000000011,
          -13.797739999999976,
          -17.16552,
          -56.352790000000084,
          -67.20492000000013,
          -120.01824000000005,
          -246.48717000000005
         ]
        }
       ],
       "layout": {
        "barmode": "stack",
        "template": {
         "data": {
          "bar": [
           {
            "error_x": {
             "color": "#2a3f5f"
            },
            "error_y": {
             "color": "#2a3f5f"
            },
            "marker": {
             "line": {
              "color": "#E5ECF6",
              "width": 0.5
             }
            },
            "type": "bar"
           }
          ],
          "barpolar": [
           {
            "marker": {
             "line": {
              "color": "#E5ECF6",
              "width": 0.5
             }
            },
            "type": "barpolar"
           }
          ],
          "carpet": [
           {
            "aaxis": {
             "endlinecolor": "#2a3f5f",
             "gridcolor": "white",
             "linecolor": "white",
             "minorgridcolor": "white",
             "startlinecolor": "#2a3f5f"
            },
            "baxis": {
             "endlinecolor": "#2a3f5f",
             "gridcolor": "white",
             "linecolor": "white",
             "minorgridcolor": "white",
             "startlinecolor": "#2a3f5f"
            },
            "type": "carpet"
           }
          ],
          "choropleth": [
           {
            "colorbar": {
             "outlinewidth": 0,
             "ticks": ""
            },
            "type": "choropleth"
           }
          ],
          "contour": [
           {
            "colorbar": {
             "outlinewidth": 0,
             "ticks": ""
            },
            "colorscale": [
             [
              0,
              "#0d0887"
             ],
             [
              0.1111111111111111,
              "#46039f"
             ],
             [
              0.2222222222222222,
              "#7201a8"
             ],
             [
              0.3333333333333333,
              "#9c179e"
             ],
             [
              0.4444444444444444,
              "#bd3786"
             ],
             [
              0.5555555555555556,
              "#d8576b"
             ],
             [
              0.6666666666666666,
              "#ed7953"
             ],
             [
              0.7777777777777778,
              "#fb9f3a"
             ],
             [
              0.8888888888888888,
              "#fdca26"
             ],
             [
              1,
              "#f0f921"
             ]
            ],
            "type": "contour"
           }
          ],
          "contourcarpet": [
           {
            "colorbar": {
             "outlinewidth": 0,
             "ticks": ""
            },
            "type": "contourcarpet"
           }
          ],
          "heatmap": [
           {
            "colorbar": {
             "outlinewidth": 0,
             "ticks": ""
            },
            "colorscale": [
             [
              0,
              "#0d0887"
             ],
             [
              0.1111111111111111,
              "#46039f"
             ],
             [
              0.2222222222222222,
              "#7201a8"
             ],
             [
              0.3333333333333333,
              "#9c179e"
             ],
             [
              0.4444444444444444,
              "#bd3786"
             ],
             [
              0.5555555555555556,
              "#d8576b"
             ],
             [
              0.6666666666666666,
              "#ed7953"
             ],
             [
              0.7777777777777778,
              "#fb9f3a"
             ],
             [
              0.8888888888888888,
              "#fdca26"
             ],
             [
              1,
              "#f0f921"
             ]
            ],
            "type": "heatmap"
           }
          ],
          "heatmapgl": [
           {
            "colorbar": {
             "outlinewidth": 0,
             "ticks": ""
            },
            "colorscale": [
             [
              0,
              "#0d0887"
             ],
             [
              0.1111111111111111,
              "#46039f"
             ],
             [
              0.2222222222222222,
              "#7201a8"
             ],
             [
              0.3333333333333333,
              "#9c179e"
             ],
             [
              0.4444444444444444,
              "#bd3786"
             ],
             [
              0.5555555555555556,
              "#d8576b"
             ],
             [
              0.6666666666666666,
              "#ed7953"
             ],
             [
              0.7777777777777778,
              "#fb9f3a"
             ],
             [
              0.8888888888888888,
              "#fdca26"
             ],
             [
              1,
              "#f0f921"
             ]
            ],
            "type": "heatmapgl"
           }
          ],
          "histogram": [
           {
            "marker": {
             "colorbar": {
              "outlinewidth": 0,
              "ticks": ""
             }
            },
            "type": "histogram"
           }
          ],
          "histogram2d": [
           {
            "colorbar": {
             "outlinewidth": 0,
             "ticks": ""
            },
            "colorscale": [
             [
              0,
              "#0d0887"
             ],
             [
              0.1111111111111111,
              "#46039f"
             ],
             [
              0.2222222222222222,
              "#7201a8"
             ],
             [
              0.3333333333333333,
              "#9c179e"
             ],
             [
              0.4444444444444444,
              "#bd3786"
             ],
             [
              0.5555555555555556,
              "#d8576b"
             ],
             [
              0.6666666666666666,
              "#ed7953"
             ],
             [
              0.7777777777777778,
              "#fb9f3a"
             ],
             [
              0.8888888888888888,
              "#fdca26"
             ],
             [
              1,
              "#f0f921"
             ]
            ],
            "type": "histogram2d"
           }
          ],
          "histogram2dcontour": [
           {
            "colorbar": {
             "outlinewidth": 0,
             "ticks": ""
            },
            "colorscale": [
             [
              0,
              "#0d0887"
             ],
             [
              0.1111111111111111,
              "#46039f"
             ],
             [
              0.2222222222222222,
              "#7201a8"
             ],
             [
              0.3333333333333333,
              "#9c179e"
             ],
             [
              0.4444444444444444,
              "#bd3786"
             ],
             [
              0.5555555555555556,
              "#d8576b"
             ],
             [
              0.6666666666666666,
              "#ed7953"
             ],
             [
              0.7777777777777778,
              "#fb9f3a"
             ],
             [
              0.8888888888888888,
              "#fdca26"
             ],
             [
              1,
              "#f0f921"
             ]
            ],
            "type": "histogram2dcontour"
           }
          ],
          "mesh3d": [
           {
            "colorbar": {
             "outlinewidth": 0,
             "ticks": ""
            },
            "type": "mesh3d"
           }
          ],
          "parcoords": [
           {
            "line": {
             "colorbar": {
              "outlinewidth": 0,
              "ticks": ""
             }
            },
            "type": "parcoords"
           }
          ],
          "pie": [
           {
            "automargin": true,
            "type": "pie"
           }
          ],
          "scatter": [
           {
            "marker": {
             "colorbar": {
              "outlinewidth": 0,
              "ticks": ""
             }
            },
            "type": "scatter"
           }
          ],
          "scatter3d": [
           {
            "line": {
             "colorbar": {
              "outlinewidth": 0,
              "ticks": ""
             }
            },
            "marker": {
             "colorbar": {
              "outlinewidth": 0,
              "ticks": ""
             }
            },
            "type": "scatter3d"
           }
          ],
          "scattercarpet": [
           {
            "marker": {
             "colorbar": {
              "outlinewidth": 0,
              "ticks": ""
             }
            },
            "type": "scattercarpet"
           }
          ],
          "scattergeo": [
           {
            "marker": {
             "colorbar": {
              "outlinewidth": 0,
              "ticks": ""
             }
            },
            "type": "scattergeo"
           }
          ],
          "scattergl": [
           {
            "marker": {
             "colorbar": {
              "outlinewidth": 0,
              "ticks": ""
             }
            },
            "type": "scattergl"
           }
          ],
          "scattermapbox": [
           {
            "marker": {
             "colorbar": {
              "outlinewidth": 0,
              "ticks": ""
             }
            },
            "type": "scattermapbox"
           }
          ],
          "scatterpolar": [
           {
            "marker": {
             "colorbar": {
              "outlinewidth": 0,
              "ticks": ""
             }
            },
            "type": "scatterpolar"
           }
          ],
          "scatterpolargl": [
           {
            "marker": {
             "colorbar": {
              "outlinewidth": 0,
              "ticks": ""
             }
            },
            "type": "scatterpolargl"
           }
          ],
          "scatterternary": [
           {
            "marker": {
             "colorbar": {
              "outlinewidth": 0,
              "ticks": ""
             }
            },
            "type": "scatterternary"
           }
          ],
          "surface": [
           {
            "colorbar": {
             "outlinewidth": 0,
             "ticks": ""
            },
            "colorscale": [
             [
              0,
              "#0d0887"
             ],
             [
              0.1111111111111111,
              "#46039f"
             ],
             [
              0.2222222222222222,
              "#7201a8"
             ],
             [
              0.3333333333333333,
              "#9c179e"
             ],
             [
              0.4444444444444444,
              "#bd3786"
             ],
             [
              0.5555555555555556,
              "#d8576b"
             ],
             [
              0.6666666666666666,
              "#ed7953"
             ],
             [
              0.7777777777777778,
              "#fb9f3a"
             ],
             [
              0.8888888888888888,
              "#fdca26"
             ],
             [
              1,
              "#f0f921"
             ]
            ],
            "type": "surface"
           }
          ],
          "table": [
           {
            "cells": {
             "fill": {
              "color": "#EBF0F8"
             },
             "line": {
              "color": "white"
             }
            },
            "header": {
             "fill": {
              "color": "#C8D4E3"
             },
             "line": {
              "color": "white"
             }
            },
            "type": "table"
           }
          ]
         },
         "layout": {
          "annotationdefaults": {
           "arrowcolor": "#2a3f5f",
           "arrowhead": 0,
           "arrowwidth": 1
          },
          "autotypenumbers": "strict",
          "coloraxis": {
           "colorbar": {
            "outlinewidth": 0,
            "ticks": ""
           }
          },
          "colorscale": {
           "diverging": [
            [
             0,
             "#8e0152"
            ],
            [
             0.1,
             "#c51b7d"
            ],
            [
             0.2,
             "#de77ae"
            ],
            [
             0.3,
             "#f1b6da"
            ],
            [
             0.4,
             "#fde0ef"
            ],
            [
             0.5,
             "#f7f7f7"
            ],
            [
             0.6,
             "#e6f5d0"
            ],
            [
             0.7,
             "#b8e186"
            ],
            [
             0.8,
             "#7fbc41"
            ],
            [
             0.9,
             "#4d9221"
            ],
            [
             1,
             "#276419"
            ]
           ],
           "sequential": [
            [
             0,
             "#0d0887"
            ],
            [
             0.1111111111111111,
             "#46039f"
            ],
            [
             0.2222222222222222,
             "#7201a8"
            ],
            [
             0.3333333333333333,
             "#9c179e"
            ],
            [
             0.4444444444444444,
             "#bd3786"
            ],
            [
             0.5555555555555556,
             "#d8576b"
            ],
            [
             0.6666666666666666,
             "#ed7953"
            ],
            [
             0.7777777777777778,
             "#fb9f3a"
            ],
            [
             0.8888888888888888,
             "#fdca26"
            ],
            [
             1,
             "#f0f921"
            ]
           ],
           "sequentialminus": [
            [
             0,
             "#0d0887"
            ],
            [
             0.1111111111111111,
             "#46039f"
            ],
            [
             0.2222222222222222,
             "#7201a8"
            ],
            [
             0.3333333333333333,
             "#9c179e"
            ],
            [
             0.4444444444444444,
             "#bd3786"
            ],
            [
             0.5555555555555556,
             "#d8576b"
            ],
            [
             0.6666666666666666,
             "#ed7953"
            ],
            [
             0.7777777777777778,
             "#fb9f3a"
            ],
            [
             0.8888888888888888,
             "#fdca26"
            ],
            [
             1,
             "#f0f921"
            ]
           ]
          },
          "colorway": [
           "#636efa",
           "#EF553B",
           "#00cc96",
           "#ab63fa",
           "#FFA15A",
           "#19d3f3",
           "#FF6692",
           "#B6E880",
           "#FF97FF",
           "#FECB52"
          ],
          "font": {
           "color": "#2a3f5f"
          },
          "geo": {
           "bgcolor": "white",
           "lakecolor": "white",
           "landcolor": "#E5ECF6",
           "showlakes": true,
           "showland": true,
           "subunitcolor": "white"
          },
          "hoverlabel": {
           "align": "left"
          },
          "hovermode": "closest",
          "mapbox": {
           "style": "light"
          },
          "paper_bgcolor": "white",
          "plot_bgcolor": "#E5ECF6",
          "polar": {
           "angularaxis": {
            "gridcolor": "white",
            "linecolor": "white",
            "ticks": ""
           },
           "bgcolor": "#E5ECF6",
           "radialaxis": {
            "gridcolor": "white",
            "linecolor": "white",
            "ticks": ""
           }
          },
          "scene": {
           "xaxis": {
            "backgroundcolor": "#E5ECF6",
            "gridcolor": "white",
            "gridwidth": 2,
            "linecolor": "white",
            "showbackground": true,
            "ticks": "",
            "zerolinecolor": "white"
           },
           "yaxis": {
            "backgroundcolor": "#E5ECF6",
            "gridcolor": "white",
            "gridwidth": 2,
            "linecolor": "white",
            "showbackground": true,
            "ticks": "",
            "zerolinecolor": "white"
           },
           "zaxis": {
            "backgroundcolor": "#E5ECF6",
            "gridcolor": "white",
            "gridwidth": 2,
            "linecolor": "white",
            "showbackground": true,
            "ticks": "",
            "zerolinecolor": "white"
           }
          },
          "shapedefaults": {
           "line": {
            "color": "#2a3f5f"
           }
          },
          "ternary": {
           "aaxis": {
            "gridcolor": "white",
            "linecolor": "white",
            "ticks": ""
           },
           "baxis": {
            "gridcolor": "white",
            "linecolor": "white",
            "ticks": ""
           },
           "bgcolor": "#E5ECF6",
           "caxis": {
            "gridcolor": "white",
            "linecolor": "white",
            "ticks": ""
           }
          },
          "title": {
           "x": 0.05
          },
          "xaxis": {
           "automargin": true,
           "gridcolor": "white",
           "linecolor": "white",
           "ticks": "",
           "title": {
            "standoff": 15
           },
           "zerolinecolor": "white",
           "zerolinewidth": 2
          },
          "yaxis": {
           "automargin": true,
           "gridcolor": "white",
           "linecolor": "white",
           "ticks": "",
           "title": {
            "standoff": 15
           },
           "zerolinecolor": "white",
           "zerolinewidth": 2
          }
         }
        },
        "title": {
         "text": "Total Returns"
        },
        "xaxis": {
         "dtick": 1,
         "showticklabels": true,
         "tickangle": 90,
         "type": "category"
        }
       }
      }
     },
     "metadata": {}
    },
    {
     "output_type": "stream",
     "name": "stdout",
     "text": [
      "Bar displayed...\n"
     ]
    },
    {
     "output_type": "display_data",
     "data": {
      "application/vnd.plotly.v1+json": {
       "config": {
        "plotlyServerURL": "https://plot.ly"
       },
       "data": [
        {
         "marker": {
          "color": "#C0C0C0"
         },
         "type": "bar",
         "x": [
          "TSLA",
          "ELY",
          "GOOGL",
          "FB",
          "DBX",
          "PLTR",
          "MARA",
          "CRWD",
          "ETSY",
          "SQ",
          "AAPL",
          "LMND",
          "MTTR",
          "WBA",
          "ARKK",
          "HOOD",
          "PFE",
          "ENPH",
          "PTON",
          "COUR",
          "OWLT",
          "SKLZ",
          "BA",
          "AFRM",
          "GME",
          "CRSR",
          "BNGO",
          "CLOV",
          "LCID",
          "TTCF",
          "NIO",
          "AMC",
          "WYNN",
          "PLUG",
          "DIS",
          "CHPT",
          "AI",
          "UPWK",
          "ROKU",
          "FCX",
          "ASTR",
          "COIN",
          "JMIA"
         ],
         "y": [
          0.3927236266014284,
          0.02410383225468777,
          0.030387518487916324,
          0.029189589722629795,
          0.016864508199372512,
          0.035186878651639136,
          0.016808640142081287,
          0.010871923948871905,
          0.025851620320682642,
          0.013796469726864007,
          0.009429939985944772,
          0.01584124062372275,
          0.027804649986621067,
          0.009146483105793517,
          0.006547736314531281,
          0.0032779847509607834,
          0.0011844028145739176,
          0.0006974685889198939,
          0.0033985421377471054,
          0.004121298373651447,
          0.002915136420974633,
          0.001756609338198755,
          0.0030715669813900556,
          0.011578801894809266,
          0.00038695980734341503,
          0.02037772687577002,
          0.0009385833624925386,
          0.0008656608456071534,
          0.011953411921067254,
          0.013850573529714454,
          0.006560086095616709,
          0.007193453439855095,
          0.0054150849635534425,
          0.005412144539485484,
          0.028882609449934867,
          0.011016592813015492,
          0.009881001037969695,
          0.06234169491924124,
          0.004872282680608196,
          0.02020894653426917,
          0.060725049766677336,
          0.015366068094340565,
          0.0171955999494247
         ]
        }
       ],
       "layout": {
        "barmode": "stack",
        "template": {
         "data": {
          "bar": [
           {
            "error_x": {
             "color": "#2a3f5f"
            },
            "error_y": {
             "color": "#2a3f5f"
            },
            "marker": {
             "line": {
              "color": "#E5ECF6",
              "width": 0.5
             }
            },
            "type": "bar"
           }
          ],
          "barpolar": [
           {
            "marker": {
             "line": {
              "color": "#E5ECF6",
              "width": 0.5
             }
            },
            "type": "barpolar"
           }
          ],
          "carpet": [
           {
            "aaxis": {
             "endlinecolor": "#2a3f5f",
             "gridcolor": "white",
             "linecolor": "white",
             "minorgridcolor": "white",
             "startlinecolor": "#2a3f5f"
            },
            "baxis": {
             "endlinecolor": "#2a3f5f",
             "gridcolor": "white",
             "linecolor": "white",
             "minorgridcolor": "white",
             "startlinecolor": "#2a3f5f"
            },
            "type": "carpet"
           }
          ],
          "choropleth": [
           {
            "colorbar": {
             "outlinewidth": 0,
             "ticks": ""
            },
            "type": "choropleth"
           }
          ],
          "contour": [
           {
            "colorbar": {
             "outlinewidth": 0,
             "ticks": ""
            },
            "colorscale": [
             [
              0,
              "#0d0887"
             ],
             [
              0.1111111111111111,
              "#46039f"
             ],
             [
              0.2222222222222222,
              "#7201a8"
             ],
             [
              0.3333333333333333,
              "#9c179e"
             ],
             [
              0.4444444444444444,
              "#bd3786"
             ],
             [
              0.5555555555555556,
              "#d8576b"
             ],
             [
              0.6666666666666666,
              "#ed7953"
             ],
             [
              0.7777777777777778,
              "#fb9f3a"
             ],
             [
              0.8888888888888888,
              "#fdca26"
             ],
             [
              1,
              "#f0f921"
             ]
            ],
            "type": "contour"
           }
          ],
          "contourcarpet": [
           {
            "colorbar": {
             "outlinewidth": 0,
             "ticks": ""
            },
            "type": "contourcarpet"
           }
          ],
          "heatmap": [
           {
            "colorbar": {
             "outlinewidth": 0,
             "ticks": ""
            },
            "colorscale": [
             [
              0,
              "#0d0887"
             ],
             [
              0.1111111111111111,
              "#46039f"
             ],
             [
              0.2222222222222222,
              "#7201a8"
             ],
             [
              0.3333333333333333,
              "#9c179e"
             ],
             [
              0.4444444444444444,
              "#bd3786"
             ],
             [
              0.5555555555555556,
              "#d8576b"
             ],
             [
              0.6666666666666666,
              "#ed7953"
             ],
             [
              0.7777777777777778,
              "#fb9f3a"
             ],
             [
              0.8888888888888888,
              "#fdca26"
             ],
             [
              1,
              "#f0f921"
             ]
            ],
            "type": "heatmap"
           }
          ],
          "heatmapgl": [
           {
            "colorbar": {
             "outlinewidth": 0,
             "ticks": ""
            },
            "colorscale": [
             [
              0,
              "#0d0887"
             ],
             [
              0.1111111111111111,
              "#46039f"
             ],
             [
              0.2222222222222222,
              "#7201a8"
             ],
             [
              0.3333333333333333,
              "#9c179e"
             ],
             [
              0.4444444444444444,
              "#bd3786"
             ],
             [
              0.5555555555555556,
              "#d8576b"
             ],
             [
              0.6666666666666666,
              "#ed7953"
             ],
             [
              0.7777777777777778,
              "#fb9f3a"
             ],
             [
              0.8888888888888888,
              "#fdca26"
             ],
             [
              1,
              "#f0f921"
             ]
            ],
            "type": "heatmapgl"
           }
          ],
          "histogram": [
           {
            "marker": {
             "colorbar": {
              "outlinewidth": 0,
              "ticks": ""
             }
            },
            "type": "histogram"
           }
          ],
          "histogram2d": [
           {
            "colorbar": {
             "outlinewidth": 0,
             "ticks": ""
            },
            "colorscale": [
             [
              0,
              "#0d0887"
             ],
             [
              0.1111111111111111,
              "#46039f"
             ],
             [
              0.2222222222222222,
              "#7201a8"
             ],
             [
              0.3333333333333333,
              "#9c179e"
             ],
             [
              0.4444444444444444,
              "#bd3786"
             ],
             [
              0.5555555555555556,
              "#d8576b"
             ],
             [
              0.6666666666666666,
              "#ed7953"
             ],
             [
              0.7777777777777778,
              "#fb9f3a"
             ],
             [
              0.8888888888888888,
              "#fdca26"
             ],
             [
              1,
              "#f0f921"
             ]
            ],
            "type": "histogram2d"
           }
          ],
          "histogram2dcontour": [
           {
            "colorbar": {
             "outlinewidth": 0,
             "ticks": ""
            },
            "colorscale": [
             [
              0,
              "#0d0887"
             ],
             [
              0.1111111111111111,
              "#46039f"
             ],
             [
              0.2222222222222222,
              "#7201a8"
             ],
             [
              0.3333333333333333,
              "#9c179e"
             ],
             [
              0.4444444444444444,
              "#bd3786"
             ],
             [
              0.5555555555555556,
              "#d8576b"
             ],
             [
              0.6666666666666666,
              "#ed7953"
             ],
             [
              0.7777777777777778,
              "#fb9f3a"
             ],
             [
              0.8888888888888888,
              "#fdca26"
             ],
             [
              1,
              "#f0f921"
             ]
            ],
            "type": "histogram2dcontour"
           }
          ],
          "mesh3d": [
           {
            "colorbar": {
             "outlinewidth": 0,
             "ticks": ""
            },
            "type": "mesh3d"
           }
          ],
          "parcoords": [
           {
            "line": {
             "colorbar": {
              "outlinewidth": 0,
              "ticks": ""
             }
            },
            "type": "parcoords"
           }
          ],
          "pie": [
           {
            "automargin": true,
            "type": "pie"
           }
          ],
          "scatter": [
           {
            "marker": {
             "colorbar": {
              "outlinewidth": 0,
              "ticks": ""
             }
            },
            "type": "scatter"
           }
          ],
          "scatter3d": [
           {
            "line": {
             "colorbar": {
              "outlinewidth": 0,
              "ticks": ""
             }
            },
            "marker": {
             "colorbar": {
              "outlinewidth": 0,
              "ticks": ""
             }
            },
            "type": "scatter3d"
           }
          ],
          "scattercarpet": [
           {
            "marker": {
             "colorbar": {
              "outlinewidth": 0,
              "ticks": ""
             }
            },
            "type": "scattercarpet"
           }
          ],
          "scattergeo": [
           {
            "marker": {
             "colorbar": {
              "outlinewidth": 0,
              "ticks": ""
             }
            },
            "type": "scattergeo"
           }
          ],
          "scattergl": [
           {
            "marker": {
             "colorbar": {
              "outlinewidth": 0,
              "ticks": ""
             }
            },
            "type": "scattergl"
           }
          ],
          "scattermapbox": [
           {
            "marker": {
             "colorbar": {
              "outlinewidth": 0,
              "ticks": ""
             }
            },
            "type": "scattermapbox"
           }
          ],
          "scatterpolar": [
           {
            "marker": {
             "colorbar": {
              "outlinewidth": 0,
              "ticks": ""
             }
            },
            "type": "scatterpolar"
           }
          ],
          "scatterpolargl": [
           {
            "marker": {
             "colorbar": {
              "outlinewidth": 0,
              "ticks": ""
             }
            },
            "type": "scatterpolargl"
           }
          ],
          "scatterternary": [
           {
            "marker": {
             "colorbar": {
              "outlinewidth": 0,
              "ticks": ""
             }
            },
            "type": "scatterternary"
           }
          ],
          "surface": [
           {
            "colorbar": {
             "outlinewidth": 0,
             "ticks": ""
            },
            "colorscale": [
             [
              0,
              "#0d0887"
             ],
             [
              0.1111111111111111,
              "#46039f"
             ],
             [
              0.2222222222222222,
              "#7201a8"
             ],
             [
              0.3333333333333333,
              "#9c179e"
             ],
             [
              0.4444444444444444,
              "#bd3786"
             ],
             [
              0.5555555555555556,
              "#d8576b"
             ],
             [
              0.6666666666666666,
              "#ed7953"
             ],
             [
              0.7777777777777778,
              "#fb9f3a"
             ],
             [
              0.8888888888888888,
              "#fdca26"
             ],
             [
              1,
              "#f0f921"
             ]
            ],
            "type": "surface"
           }
          ],
          "table": [
           {
            "cells": {
             "fill": {
              "color": "#EBF0F8"
             },
             "line": {
              "color": "white"
             }
            },
            "header": {
             "fill": {
              "color": "#C8D4E3"
             },
             "line": {
              "color": "white"
             }
            },
            "type": "table"
           }
          ]
         },
         "layout": {
          "annotationdefaults": {
           "arrowcolor": "#2a3f5f",
           "arrowhead": 0,
           "arrowwidth": 1
          },
          "autotypenumbers": "strict",
          "coloraxis": {
           "colorbar": {
            "outlinewidth": 0,
            "ticks": ""
           }
          },
          "colorscale": {
           "diverging": [
            [
             0,
             "#8e0152"
            ],
            [
             0.1,
             "#c51b7d"
            ],
            [
             0.2,
             "#de77ae"
            ],
            [
             0.3,
             "#f1b6da"
            ],
            [
             0.4,
             "#fde0ef"
            ],
            [
             0.5,
             "#f7f7f7"
            ],
            [
             0.6,
             "#e6f5d0"
            ],
            [
             0.7,
             "#b8e186"
            ],
            [
             0.8,
             "#7fbc41"
            ],
            [
             0.9,
             "#4d9221"
            ],
            [
             1,
             "#276419"
            ]
           ],
           "sequential": [
            [
             0,
             "#0d0887"
            ],
            [
             0.1111111111111111,
             "#46039f"
            ],
            [
             0.2222222222222222,
             "#7201a8"
            ],
            [
             0.3333333333333333,
             "#9c179e"
            ],
            [
             0.4444444444444444,
             "#bd3786"
            ],
            [
             0.5555555555555556,
             "#d8576b"
            ],
            [
             0.6666666666666666,
             "#ed7953"
            ],
            [
             0.7777777777777778,
             "#fb9f3a"
            ],
            [
             0.8888888888888888,
             "#fdca26"
            ],
            [
             1,
             "#f0f921"
            ]
           ],
           "sequentialminus": [
            [
             0,
             "#0d0887"
            ],
            [
             0.1111111111111111,
             "#46039f"
            ],
            [
             0.2222222222222222,
             "#7201a8"
            ],
            [
             0.3333333333333333,
             "#9c179e"
            ],
            [
             0.4444444444444444,
             "#bd3786"
            ],
            [
             0.5555555555555556,
             "#d8576b"
            ],
            [
             0.6666666666666666,
             "#ed7953"
            ],
            [
             0.7777777777777778,
             "#fb9f3a"
            ],
            [
             0.8888888888888888,
             "#fdca26"
            ],
            [
             1,
             "#f0f921"
            ]
           ]
          },
          "colorway": [
           "#636efa",
           "#EF553B",
           "#00cc96",
           "#ab63fa",
           "#FFA15A",
           "#19d3f3",
           "#FF6692",
           "#B6E880",
           "#FF97FF",
           "#FECB52"
          ],
          "font": {
           "color": "#2a3f5f"
          },
          "geo": {
           "bgcolor": "white",
           "lakecolor": "white",
           "landcolor": "#E5ECF6",
           "showlakes": true,
           "showland": true,
           "subunitcolor": "white"
          },
          "hoverlabel": {
           "align": "left"
          },
          "hovermode": "closest",
          "mapbox": {
           "style": "light"
          },
          "paper_bgcolor": "white",
          "plot_bgcolor": "#E5ECF6",
          "polar": {
           "angularaxis": {
            "gridcolor": "white",
            "linecolor": "white",
            "ticks": ""
           },
           "bgcolor": "#E5ECF6",
           "radialaxis": {
            "gridcolor": "white",
            "linecolor": "white",
            "ticks": ""
           }
          },
          "scene": {
           "xaxis": {
            "backgroundcolor": "#E5ECF6",
            "gridcolor": "white",
            "gridwidth": 2,
            "linecolor": "white",
            "showbackground": true,
            "ticks": "",
            "zerolinecolor": "white"
           },
           "yaxis": {
            "backgroundcolor": "#E5ECF6",
            "gridcolor": "white",
            "gridwidth": 2,
            "linecolor": "white",
            "showbackground": true,
            "ticks": "",
            "zerolinecolor": "white"
           },
           "zaxis": {
            "backgroundcolor": "#E5ECF6",
            "gridcolor": "white",
            "gridwidth": 2,
            "linecolor": "white",
            "showbackground": true,
            "ticks": "",
            "zerolinecolor": "white"
           }
          },
          "shapedefaults": {
           "line": {
            "color": "#2a3f5f"
           }
          },
          "ternary": {
           "aaxis": {
            "gridcolor": "white",
            "linecolor": "white",
            "ticks": ""
           },
           "baxis": {
            "gridcolor": "white",
            "linecolor": "white",
            "ticks": ""
           },
           "bgcolor": "#E5ECF6",
           "caxis": {
            "gridcolor": "white",
            "linecolor": "white",
            "ticks": ""
           }
          },
          "title": {
           "x": 0.05
          },
          "xaxis": {
           "automargin": true,
           "gridcolor": "white",
           "linecolor": "white",
           "ticks": "",
           "title": {
            "standoff": 15
           },
           "zerolinecolor": "white",
           "zerolinewidth": 2
          },
          "yaxis": {
           "automargin": true,
           "gridcolor": "white",
           "linecolor": "white",
           "ticks": "",
           "title": {
            "standoff": 15
           },
           "zerolinecolor": "white",
           "zerolinewidth": 2
          }
         }
        },
        "title": {
         "text": "Percentage of Holdings"
        },
        "xaxis": {
         "dtick": 1,
         "showticklabels": true,
         "tickangle": 90,
         "type": "category"
        }
       }
      }
     },
     "metadata": {}
    },
    {
     "output_type": "stream",
     "name": "stdout",
     "text": [
      "Bar displayed...\n"
     ]
    },
    {
     "output_type": "display_data",
     "data": {
      "application/vnd.plotly.v1+json": {
       "config": {
        "plotlyServerURL": "https://plot.ly"
       },
       "data": [
        {
         "marker": {
          "color": "#CD7F32"
         },
         "type": "bar",
         "x": [
          "TSLA",
          "ELY",
          "GOOGL",
          "FB",
          "DBX",
          "PLTR",
          "MARA",
          "CRWD",
          "ETSY",
          "SQ",
          "AAPL",
          "LMND",
          "MTTR",
          "WBA",
          "ARKK",
          "HOOD",
          "PFE",
          "ENPH",
          "PTON",
          "COUR",
          "OWLT",
          "SKLZ",
          "BA",
          "AFRM",
          "GME",
          "CRSR",
          "BNGO",
          "CLOV",
          "LCID",
          "TTCF",
          "NIO",
          "AMC",
          "WYNN",
          "PLUG",
          "DIS",
          "CHPT",
          "AI",
          "UPWK",
          "ROKU",
          "FCX",
          "ASTR",
          "COIN",
          "JMIA"
         ],
         "y": [
          0.08178762960314631,
          0.44765342960288806,
          0.2979997932835117,
          0.2047336901121304,
          0.4111111111111111,
          0.13307823129251697,
          0.26940639269406397,
          0.32056138306138315,
          0.09896896692527571,
          0.12421363732320029,
          0.1881233346022079,
          0.07754084741068948,
          0.03829252981795351,
          0.08954584404455869,
          0.11333333333333333,
          0.25087412587412583,
          0.3967828418230563,
          0.18596368715083816,
          0.030315789473684164,
          0.0010587612493382515,
          -0.008888888888888832,
          -0.03642121931908162,
          -0.021413473026376237,
          -0.015549989563765342,
          -0.3415077492187001,
          -0.009884117246080407,
          -0.19618528610354216,
          -0.2639939485627837,
          -0.032114624505928786,
          -0.028336380255941384,
          -0.061391541609822554,
          -0.06018796240751846,
          -0.07919268712100642,
          -0.07976519337016583,
          -0.01772413418148219,
          -0.06338028169014089,
          -0.07195805460133799,
          -0.012848432055749202,
          -0.17147712100983126,
          -0.1408885721073891,
          -0.06112224448897807,
          -0.3146394756008741,
          -0.4521181001283697
         ]
        }
       ],
       "layout": {
        "barmode": "stack",
        "template": {
         "data": {
          "bar": [
           {
            "error_x": {
             "color": "#2a3f5f"
            },
            "error_y": {
             "color": "#2a3f5f"
            },
            "marker": {
             "line": {
              "color": "#E5ECF6",
              "width": 0.5
             }
            },
            "type": "bar"
           }
          ],
          "barpolar": [
           {
            "marker": {
             "line": {
              "color": "#E5ECF6",
              "width": 0.5
             }
            },
            "type": "barpolar"
           }
          ],
          "carpet": [
           {
            "aaxis": {
             "endlinecolor": "#2a3f5f",
             "gridcolor": "white",
             "linecolor": "white",
             "minorgridcolor": "white",
             "startlinecolor": "#2a3f5f"
            },
            "baxis": {
             "endlinecolor": "#2a3f5f",
             "gridcolor": "white",
             "linecolor": "white",
             "minorgridcolor": "white",
             "startlinecolor": "#2a3f5f"
            },
            "type": "carpet"
           }
          ],
          "choropleth": [
           {
            "colorbar": {
             "outlinewidth": 0,
             "ticks": ""
            },
            "type": "choropleth"
           }
          ],
          "contour": [
           {
            "colorbar": {
             "outlinewidth": 0,
             "ticks": ""
            },
            "colorscale": [
             [
              0,
              "#0d0887"
             ],
             [
              0.1111111111111111,
              "#46039f"
             ],
             [
              0.2222222222222222,
              "#7201a8"
             ],
             [
              0.3333333333333333,
              "#9c179e"
             ],
             [
              0.4444444444444444,
              "#bd3786"
             ],
             [
              0.5555555555555556,
              "#d8576b"
             ],
             [
              0.6666666666666666,
              "#ed7953"
             ],
             [
              0.7777777777777778,
              "#fb9f3a"
             ],
             [
              0.8888888888888888,
              "#fdca26"
             ],
             [
              1,
              "#f0f921"
             ]
            ],
            "type": "contour"
           }
          ],
          "contourcarpet": [
           {
            "colorbar": {
             "outlinewidth": 0,
             "ticks": ""
            },
            "type": "contourcarpet"
           }
          ],
          "heatmap": [
           {
            "colorbar": {
             "outlinewidth": 0,
             "ticks": ""
            },
            "colorscale": [
             [
              0,
              "#0d0887"
             ],
             [
              0.1111111111111111,
              "#46039f"
             ],
             [
              0.2222222222222222,
              "#7201a8"
             ],
             [
              0.3333333333333333,
              "#9c179e"
             ],
             [
              0.4444444444444444,
              "#bd3786"
             ],
             [
              0.5555555555555556,
              "#d8576b"
             ],
             [
              0.6666666666666666,
              "#ed7953"
             ],
             [
              0.7777777777777778,
              "#fb9f3a"
             ],
             [
              0.8888888888888888,
              "#fdca26"
             ],
             [
              1,
              "#f0f921"
             ]
            ],
            "type": "heatmap"
           }
          ],
          "heatmapgl": [
           {
            "colorbar": {
             "outlinewidth": 0,
             "ticks": ""
            },
            "colorscale": [
             [
              0,
              "#0d0887"
             ],
             [
              0.1111111111111111,
              "#46039f"
             ],
             [
              0.2222222222222222,
              "#7201a8"
             ],
             [
              0.3333333333333333,
              "#9c179e"
             ],
             [
              0.4444444444444444,
              "#bd3786"
             ],
             [
              0.5555555555555556,
              "#d8576b"
             ],
             [
              0.6666666666666666,
              "#ed7953"
             ],
             [
              0.7777777777777778,
              "#fb9f3a"
             ],
             [
              0.8888888888888888,
              "#fdca26"
             ],
             [
              1,
              "#f0f921"
             ]
            ],
            "type": "heatmapgl"
           }
          ],
          "histogram": [
           {
            "marker": {
             "colorbar": {
              "outlinewidth": 0,
              "ticks": ""
             }
            },
            "type": "histogram"
           }
          ],
          "histogram2d": [
           {
            "colorbar": {
             "outlinewidth": 0,
             "ticks": ""
            },
            "colorscale": [
             [
              0,
              "#0d0887"
             ],
             [
              0.1111111111111111,
              "#46039f"
             ],
             [
              0.2222222222222222,
              "#7201a8"
             ],
             [
              0.3333333333333333,
              "#9c179e"
             ],
             [
              0.4444444444444444,
              "#bd3786"
             ],
             [
              0.5555555555555556,
              "#d8576b"
             ],
             [
              0.6666666666666666,
              "#ed7953"
             ],
             [
              0.7777777777777778,
              "#fb9f3a"
             ],
             [
              0.8888888888888888,
              "#fdca26"
             ],
             [
              1,
              "#f0f921"
             ]
            ],
            "type": "histogram2d"
           }
          ],
          "histogram2dcontour": [
           {
            "colorbar": {
             "outlinewidth": 0,
             "ticks": ""
            },
            "colorscale": [
             [
              0,
              "#0d0887"
             ],
             [
              0.1111111111111111,
              "#46039f"
             ],
             [
              0.2222222222222222,
              "#7201a8"
             ],
             [
              0.3333333333333333,
              "#9c179e"
             ],
             [
              0.4444444444444444,
              "#bd3786"
             ],
             [
              0.5555555555555556,
              "#d8576b"
             ],
             [
              0.6666666666666666,
              "#ed7953"
             ],
             [
              0.7777777777777778,
              "#fb9f3a"
             ],
             [
              0.8888888888888888,
              "#fdca26"
             ],
             [
              1,
              "#f0f921"
             ]
            ],
            "type": "histogram2dcontour"
           }
          ],
          "mesh3d": [
           {
            "colorbar": {
             "outlinewidth": 0,
             "ticks": ""
            },
            "type": "mesh3d"
           }
          ],
          "parcoords": [
           {
            "line": {
             "colorbar": {
              "outlinewidth": 0,
              "ticks": ""
             }
            },
            "type": "parcoords"
           }
          ],
          "pie": [
           {
            "automargin": true,
            "type": "pie"
           }
          ],
          "scatter": [
           {
            "marker": {
             "colorbar": {
              "outlinewidth": 0,
              "ticks": ""
             }
            },
            "type": "scatter"
           }
          ],
          "scatter3d": [
           {
            "line": {
             "colorbar": {
              "outlinewidth": 0,
              "ticks": ""
             }
            },
            "marker": {
             "colorbar": {
              "outlinewidth": 0,
              "ticks": ""
             }
            },
            "type": "scatter3d"
           }
          ],
          "scattercarpet": [
           {
            "marker": {
             "colorbar": {
              "outlinewidth": 0,
              "ticks": ""
             }
            },
            "type": "scattercarpet"
           }
          ],
          "scattergeo": [
           {
            "marker": {
             "colorbar": {
              "outlinewidth": 0,
              "ticks": ""
             }
            },
            "type": "scattergeo"
           }
          ],
          "scattergl": [
           {
            "marker": {
             "colorbar": {
              "outlinewidth": 0,
              "ticks": ""
             }
            },
            "type": "scattergl"
           }
          ],
          "scattermapbox": [
           {
            "marker": {
             "colorbar": {
              "outlinewidth": 0,
              "ticks": ""
             }
            },
            "type": "scattermapbox"
           }
          ],
          "scatterpolar": [
           {
            "marker": {
             "colorbar": {
              "outlinewidth": 0,
              "ticks": ""
             }
            },
            "type": "scatterpolar"
           }
          ],
          "scatterpolargl": [
           {
            "marker": {
             "colorbar": {
              "outlinewidth": 0,
              "ticks": ""
             }
            },
            "type": "scatterpolargl"
           }
          ],
          "scatterternary": [
           {
            "marker": {
             "colorbar": {
              "outlinewidth": 0,
              "ticks": ""
             }
            },
            "type": "scatterternary"
           }
          ],
          "surface": [
           {
            "colorbar": {
             "outlinewidth": 0,
             "ticks": ""
            },
            "colorscale": [
             [
              0,
              "#0d0887"
             ],
             [
              0.1111111111111111,
              "#46039f"
             ],
             [
              0.2222222222222222,
              "#7201a8"
             ],
             [
              0.3333333333333333,
              "#9c179e"
             ],
             [
              0.4444444444444444,
              "#bd3786"
             ],
             [
              0.5555555555555556,
              "#d8576b"
             ],
             [
              0.6666666666666666,
              "#ed7953"
             ],
             [
              0.7777777777777778,
              "#fb9f3a"
             ],
             [
              0.8888888888888888,
              "#fdca26"
             ],
             [
              1,
              "#f0f921"
             ]
            ],
            "type": "surface"
           }
          ],
          "table": [
           {
            "cells": {
             "fill": {
              "color": "#EBF0F8"
             },
             "line": {
              "color": "white"
             }
            },
            "header": {
             "fill": {
              "color": "#C8D4E3"
             },
             "line": {
              "color": "white"
             }
            },
            "type": "table"
           }
          ]
         },
         "layout": {
          "annotationdefaults": {
           "arrowcolor": "#2a3f5f",
           "arrowhead": 0,
           "arrowwidth": 1
          },
          "autotypenumbers": "strict",
          "coloraxis": {
           "colorbar": {
            "outlinewidth": 0,
            "ticks": ""
           }
          },
          "colorscale": {
           "diverging": [
            [
             0,
             "#8e0152"
            ],
            [
             0.1,
             "#c51b7d"
            ],
            [
             0.2,
             "#de77ae"
            ],
            [
             0.3,
             "#f1b6da"
            ],
            [
             0.4,
             "#fde0ef"
            ],
            [
             0.5,
             "#f7f7f7"
            ],
            [
             0.6,
             "#e6f5d0"
            ],
            [
             0.7,
             "#b8e186"
            ],
            [
             0.8,
             "#7fbc41"
            ],
            [
             0.9,
             "#4d9221"
            ],
            [
             1,
             "#276419"
            ]
           ],
           "sequential": [
            [
             0,
             "#0d0887"
            ],
            [
             0.1111111111111111,
             "#46039f"
            ],
            [
             0.2222222222222222,
             "#7201a8"
            ],
            [
             0.3333333333333333,
             "#9c179e"
            ],
            [
             0.4444444444444444,
             "#bd3786"
            ],
            [
             0.5555555555555556,
             "#d8576b"
            ],
            [
             0.6666666666666666,
             "#ed7953"
            ],
            [
             0.7777777777777778,
             "#fb9f3a"
            ],
            [
             0.8888888888888888,
             "#fdca26"
            ],
            [
             1,
             "#f0f921"
            ]
           ],
           "sequentialminus": [
            [
             0,
             "#0d0887"
            ],
            [
             0.1111111111111111,
             "#46039f"
            ],
            [
             0.2222222222222222,
             "#7201a8"
            ],
            [
             0.3333333333333333,
             "#9c179e"
            ],
            [
             0.4444444444444444,
             "#bd3786"
            ],
            [
             0.5555555555555556,
             "#d8576b"
            ],
            [
             0.6666666666666666,
             "#ed7953"
            ],
            [
             0.7777777777777778,
             "#fb9f3a"
            ],
            [
             0.8888888888888888,
             "#fdca26"
            ],
            [
             1,
             "#f0f921"
            ]
           ]
          },
          "colorway": [
           "#636efa",
           "#EF553B",
           "#00cc96",
           "#ab63fa",
           "#FFA15A",
           "#19d3f3",
           "#FF6692",
           "#B6E880",
           "#FF97FF",
           "#FECB52"
          ],
          "font": {
           "color": "#2a3f5f"
          },
          "geo": {
           "bgcolor": "white",
           "lakecolor": "white",
           "landcolor": "#E5ECF6",
           "showlakes": true,
           "showland": true,
           "subunitcolor": "white"
          },
          "hoverlabel": {
           "align": "left"
          },
          "hovermode": "closest",
          "mapbox": {
           "style": "light"
          },
          "paper_bgcolor": "white",
          "plot_bgcolor": "#E5ECF6",
          "polar": {
           "angularaxis": {
            "gridcolor": "white",
            "linecolor": "white",
            "ticks": ""
           },
           "bgcolor": "#E5ECF6",
           "radialaxis": {
            "gridcolor": "white",
            "linecolor": "white",
            "ticks": ""
           }
          },
          "scene": {
           "xaxis": {
            "backgroundcolor": "#E5ECF6",
            "gridcolor": "white",
            "gridwidth": 2,
            "linecolor": "white",
            "showbackground": true,
            "ticks": "",
            "zerolinecolor": "white"
           },
           "yaxis": {
            "backgroundcolor": "#E5ECF6",
            "gridcolor": "white",
            "gridwidth": 2,
            "linecolor": "white",
            "showbackground": true,
            "ticks": "",
            "zerolinecolor": "white"
           },
           "zaxis": {
            "backgroundcolor": "#E5ECF6",
            "gridcolor": "white",
            "gridwidth": 2,
            "linecolor": "white",
            "showbackground": true,
            "ticks": "",
            "zerolinecolor": "white"
           }
          },
          "shapedefaults": {
           "line": {
            "color": "#2a3f5f"
           }
          },
          "ternary": {
           "aaxis": {
            "gridcolor": "white",
            "linecolor": "white",
            "ticks": ""
           },
           "baxis": {
            "gridcolor": "white",
            "linecolor": "white",
            "ticks": ""
           },
           "bgcolor": "#E5ECF6",
           "caxis": {
            "gridcolor": "white",
            "linecolor": "white",
            "ticks": ""
           }
          },
          "title": {
           "x": 0.05
          },
          "xaxis": {
           "automargin": true,
           "gridcolor": "white",
           "linecolor": "white",
           "ticks": "",
           "title": {
            "standoff": 15
           },
           "zerolinecolor": "white",
           "zerolinewidth": 2
          },
          "yaxis": {
           "automargin": true,
           "gridcolor": "white",
           "linecolor": "white",
           "ticks": "",
           "title": {
            "standoff": 15
           },
           "zerolinecolor": "white",
           "zerolinewidth": 2
          }
         }
        },
        "title": {
         "text": "Stock Performances Since Avg Cost"
        },
        "xaxis": {
         "dtick": 1,
         "showticklabels": true,
         "tickangle": 90,
         "type": "category"
        }
       }
      }
     },
     "metadata": {}
    },
    {
     "output_type": "stream",
     "name": "stdout",
     "text": [
      "Bar displayed...\n"
     ]
    }
   ],
   "metadata": {}
  },
  {
   "cell_type": "markdown",
   "source": [
    "# Stock Comparisons\n",
    "\n",
    "These are the stuff that I can do with the additional price data from an API such as Tiingo. But if you want to keep it simple, stick with the above (only works with the raw text data from the website)."
   ],
   "metadata": {}
  },
  {
   "cell_type": "code",
   "execution_count": 6,
   "source": [
    "jmia = get_data(\"JMIA\")\n",
    "\n",
    "jmia['pct'] = (jmia['Close'] - jmia['Close'].iloc[0])  / jmia['Close'].iloc[0]\n"
   ],
   "outputs": [],
   "metadata": {}
  },
  {
   "cell_type": "code",
   "execution_count": 7,
   "source": [
    "info = get_data(\"BNGO\", start_date = \"2021-01-04\")\n",
    "\n",
    "info['pct'] = (info['Close'] - info['Close'].iloc[0])  / info['Close'].iloc[0]\n",
    "\n",
    "info"
   ],
   "outputs": [
    {
     "output_type": "execute_result",
     "data": {
      "text/html": [
       "<div>\n",
       "<style scoped>\n",
       "    .dataframe tbody tr th:only-of-type {\n",
       "        vertical-align: middle;\n",
       "    }\n",
       "\n",
       "    .dataframe tbody tr th {\n",
       "        vertical-align: top;\n",
       "    }\n",
       "\n",
       "    .dataframe thead th {\n",
       "        text-align: right;\n",
       "    }\n",
       "</style>\n",
       "<table border=\"1\" class=\"dataframe\">\n",
       "  <thead>\n",
       "    <tr style=\"text-align: right;\">\n",
       "      <th></th>\n",
       "      <th>High</th>\n",
       "      <th>Low</th>\n",
       "      <th>Open</th>\n",
       "      <th>Close</th>\n",
       "      <th>Volume</th>\n",
       "      <th>Adj Close</th>\n",
       "      <th>pct</th>\n",
       "    </tr>\n",
       "    <tr>\n",
       "      <th>Date</th>\n",
       "      <th></th>\n",
       "      <th></th>\n",
       "      <th></th>\n",
       "      <th></th>\n",
       "      <th></th>\n",
       "      <th></th>\n",
       "      <th></th>\n",
       "    </tr>\n",
       "  </thead>\n",
       "  <tbody>\n",
       "    <tr>\n",
       "      <th>2021-01-04</th>\n",
       "      <td>7.24</td>\n",
       "      <td>4.51</td>\n",
       "      <td>5.21</td>\n",
       "      <td>7.20</td>\n",
       "      <td>583898300</td>\n",
       "      <td>7.20</td>\n",
       "      <td>0.000000</td>\n",
       "    </tr>\n",
       "    <tr>\n",
       "      <th>2021-01-05</th>\n",
       "      <td>5.84</td>\n",
       "      <td>4.28</td>\n",
       "      <td>5.30</td>\n",
       "      <td>4.95</td>\n",
       "      <td>236533800</td>\n",
       "      <td>4.95</td>\n",
       "      <td>-0.312500</td>\n",
       "    </tr>\n",
       "    <tr>\n",
       "      <th>2021-01-06</th>\n",
       "      <td>5.79</td>\n",
       "      <td>4.39</td>\n",
       "      <td>4.60</td>\n",
       "      <td>4.77</td>\n",
       "      <td>170457300</td>\n",
       "      <td>4.77</td>\n",
       "      <td>-0.337500</td>\n",
       "    </tr>\n",
       "    <tr>\n",
       "      <th>2021-01-07</th>\n",
       "      <td>5.18</td>\n",
       "      <td>4.72</td>\n",
       "      <td>4.93</td>\n",
       "      <td>5.00</td>\n",
       "      <td>92321300</td>\n",
       "      <td>5.00</td>\n",
       "      <td>-0.305556</td>\n",
       "    </tr>\n",
       "    <tr>\n",
       "      <th>2021-01-08</th>\n",
       "      <td>4.89</td>\n",
       "      <td>3.91</td>\n",
       "      <td>4.13</td>\n",
       "      <td>4.70</td>\n",
       "      <td>137183800</td>\n",
       "      <td>4.70</td>\n",
       "      <td>-0.347222</td>\n",
       "    </tr>\n",
       "    <tr>\n",
       "      <th>...</th>\n",
       "      <td>...</td>\n",
       "      <td>...</td>\n",
       "      <td>...</td>\n",
       "      <td>...</td>\n",
       "      <td>...</td>\n",
       "      <td>...</td>\n",
       "      <td>...</td>\n",
       "    </tr>\n",
       "    <tr>\n",
       "      <th>2021-05-25</th>\n",
       "      <td>5.64</td>\n",
       "      <td>5.40</td>\n",
       "      <td>5.50</td>\n",
       "      <td>5.48</td>\n",
       "      <td>10788000</td>\n",
       "      <td>5.48</td>\n",
       "      <td>-0.238889</td>\n",
       "    </tr>\n",
       "    <tr>\n",
       "      <th>2021-05-26</th>\n",
       "      <td>6.15</td>\n",
       "      <td>5.47</td>\n",
       "      <td>5.51</td>\n",
       "      <td>6.02</td>\n",
       "      <td>24477400</td>\n",
       "      <td>6.02</td>\n",
       "      <td>-0.163889</td>\n",
       "    </tr>\n",
       "    <tr>\n",
       "      <th>2021-05-27</th>\n",
       "      <td>6.23</td>\n",
       "      <td>5.78</td>\n",
       "      <td>6.05</td>\n",
       "      <td>6.22</td>\n",
       "      <td>20500500</td>\n",
       "      <td>6.22</td>\n",
       "      <td>-0.136111</td>\n",
       "    </tr>\n",
       "    <tr>\n",
       "      <th>2021-05-28</th>\n",
       "      <td>6.39</td>\n",
       "      <td>6.05</td>\n",
       "      <td>6.27</td>\n",
       "      <td>6.17</td>\n",
       "      <td>12883500</td>\n",
       "      <td>6.17</td>\n",
       "      <td>-0.143056</td>\n",
       "    </tr>\n",
       "    <tr>\n",
       "      <th>2021-06-01</th>\n",
       "      <td>6.32</td>\n",
       "      <td>5.88</td>\n",
       "      <td>6.18</td>\n",
       "      <td>6.32</td>\n",
       "      <td>16662260</td>\n",
       "      <td>6.32</td>\n",
       "      <td>-0.122222</td>\n",
       "    </tr>\n",
       "  </tbody>\n",
       "</table>\n",
       "<p>103 rows × 7 columns</p>\n",
       "</div>"
      ],
      "text/plain": [
       "            High   Low  Open  Close     Volume  Adj Close       pct\n",
       "Date                                                               \n",
       "2021-01-04  7.24  4.51  5.21   7.20  583898300       7.20  0.000000\n",
       "2021-01-05  5.84  4.28  5.30   4.95  236533800       4.95 -0.312500\n",
       "2021-01-06  5.79  4.39  4.60   4.77  170457300       4.77 -0.337500\n",
       "2021-01-07  5.18  4.72  4.93   5.00   92321300       5.00 -0.305556\n",
       "2021-01-08  4.89  3.91  4.13   4.70  137183800       4.70 -0.347222\n",
       "...          ...   ...   ...    ...        ...        ...       ...\n",
       "2021-05-25  5.64  5.40  5.50   5.48   10788000       5.48 -0.238889\n",
       "2021-05-26  6.15  5.47  5.51   6.02   24477400       6.02 -0.163889\n",
       "2021-05-27  6.23  5.78  6.05   6.22   20500500       6.22 -0.136111\n",
       "2021-05-28  6.39  6.05  6.27   6.17   12883500       6.17 -0.143056\n",
       "2021-06-01  6.32  5.88  6.18   6.32   16662260       6.32 -0.122222\n",
       "\n",
       "[103 rows x 7 columns]"
      ]
     },
     "metadata": {},
     "execution_count": 7
    }
   ],
   "metadata": {}
  },
  {
   "cell_type": "code",
   "execution_count": 8,
   "source": [
    "# creating a relative comparison chart\n",
    "comparison = [\"JMIA\", \"XPEV\", \"BNGO\"]\n",
    "comparison = df['Symbol'].tolist()\n",
    "performances = []\n",
    "\n",
    "rel_start_date = \"2021-03-04\"\n",
    "\n",
    "data=[]\n",
    "for t in comparison:\n",
    "    info = get_data(t, start_date = rel_start_date)\n",
    "    \n",
    "    # creating column for percent change since relative start date\n",
    "    info['pct'] = (info['Close'] - info['Close'].iloc[0])  / info['Close'].iloc[0]\n",
    "    trace = go.Scatter(x = info.index.tolist(), y = info['pct'], name = t)\n",
    "    data.append(trace)\n",
    "    performances.append(info['pct'].iloc[-1])\n",
    "\n",
    "layout=go.Layout(title='Comparison Charts')\n",
    "fig=go.Figure(data=data, layout=layout)\n",
    "fig.show()\n"
   ],
   "outputs": [
    {
     "output_type": "display_data",
     "data": {
      "application/vnd.plotly.v1+json": {
       "config": {
        "plotlyServerURL": "https://plot.ly"
       },
       "data": [
        {
         "name": "ELY",
         "type": "scatter",
         "x": [
          "2021-03-04T00:00:00",
          "2021-03-05T00:00:00",
          "2021-03-08T00:00:00",
          "2021-03-09T00:00:00",
          "2021-03-10T00:00:00",
          "2021-03-11T00:00:00",
          "2021-03-12T00:00:00",
          "2021-03-15T00:00:00",
          "2021-03-16T00:00:00",
          "2021-03-17T00:00:00",
          "2021-03-18T00:00:00",
          "2021-03-19T00:00:00",
          "2021-03-22T00:00:00",
          "2021-03-23T00:00:00",
          "2021-03-24T00:00:00",
          "2021-03-25T00:00:00",
          "2021-03-26T00:00:00",
          "2021-03-29T00:00:00",
          "2021-03-30T00:00:00",
          "2021-03-31T00:00:00",
          "2021-04-01T00:00:00",
          "2021-04-05T00:00:00",
          "2021-04-06T00:00:00",
          "2021-04-07T00:00:00",
          "2021-04-08T00:00:00",
          "2021-04-09T00:00:00",
          "2021-04-12T00:00:00",
          "2021-04-13T00:00:00",
          "2021-04-14T00:00:00",
          "2021-04-15T00:00:00",
          "2021-04-16T00:00:00",
          "2021-04-19T00:00:00",
          "2021-04-20T00:00:00",
          "2021-04-21T00:00:00",
          "2021-04-22T00:00:00",
          "2021-04-23T00:00:00",
          "2021-04-26T00:00:00",
          "2021-04-27T00:00:00",
          "2021-04-28T00:00:00",
          "2021-04-29T00:00:00",
          "2021-04-30T00:00:00",
          "2021-05-03T00:00:00",
          "2021-05-04T00:00:00",
          "2021-05-05T00:00:00",
          "2021-05-06T00:00:00",
          "2021-05-07T00:00:00",
          "2021-05-10T00:00:00",
          "2021-05-11T00:00:00",
          "2021-05-12T00:00:00",
          "2021-05-13T00:00:00",
          "2021-05-14T00:00:00",
          "2021-05-17T00:00:00",
          "2021-05-18T00:00:00",
          "2021-05-19T00:00:00",
          "2021-05-20T00:00:00",
          "2021-05-21T00:00:00",
          "2021-05-24T00:00:00",
          "2021-05-25T00:00:00",
          "2021-05-26T00:00:00",
          "2021-05-27T00:00:00",
          "2021-05-28T00:00:00",
          "2021-06-01T00:00:00"
         ],
         "y": [
          0,
          0.04685214864361819,
          0.08052711520916465,
          0.10834557192114691,
          0.10907758329151408,
          0.12811127522315002,
          0.13103953014993214,
          0.11127382684792902,
          0.0823572483577393,
          0.08491946269178559,
          0.0695461068724034,
          0.04062959819731815,
          0.0442899343095719,
          -0.013177182078071718,
          -0.043191812531364435,
          -0.02525624237793597,
          0.011346979114392607,
          -0.03660322149232858,
          -0.019033691931635933,
          -0.020863825080210573,
          -0.006222550446300037,
          -0.007686643002138856,
          -0.0014640925558388187,
          0.0007320811854716443,
          -0.002196173741310463,
          0.017569529560692645,
          0.02489020178520015,
          0.021229865672946397,
          0.05893120894348244,
          0.05783308716527497,
          0.0666178519456213,
          0.05453879164575704,
          0.03843342445600769,
          0.07833087165274973,
          0.0666178519456213,
          0.07210839102155416,
          0.06918006627966758,
          0.08272328895047512,
          0.0907759725453498,
          0.09004396117498262,
          0.059663290128954084,
          0.06332355642610336,
          0.05673503520217198,
          0.05563691342396451,
          0.1325036925208754,
          0.13945825433754264,
          0.09553443043581102,
          0.24048315403418202,
          0.15483161015692481,
          0.19253302324256533,
          0.23792093970013575,
          0.26244517070770457,
          0.28513912893648974,
          0.24670577429558654,
          0.24450953073917162,
          0.24304536836822832,
          0.27598832356340763,
          0.29099563879005397,
          0.3609077862551932,
          0.35651543877257225,
          0.35139087047427076,
          0.3649341629601828
         ]
        },
        {
         "name": "WBA",
         "type": "scatter",
         "x": [
          "2021-03-04T00:00:00",
          "2021-03-05T00:00:00",
          "2021-03-08T00:00:00",
          "2021-03-09T00:00:00",
          "2021-03-10T00:00:00",
          "2021-03-11T00:00:00",
          "2021-03-12T00:00:00",
          "2021-03-15T00:00:00",
          "2021-03-16T00:00:00",
          "2021-03-17T00:00:00",
          "2021-03-18T00:00:00",
          "2021-03-19T00:00:00",
          "2021-03-22T00:00:00",
          "2021-03-23T00:00:00",
          "2021-03-24T00:00:00",
          "2021-03-25T00:00:00",
          "2021-03-26T00:00:00",
          "2021-03-29T00:00:00",
          "2021-03-30T00:00:00",
          "2021-03-31T00:00:00",
          "2021-04-01T00:00:00",
          "2021-04-05T00:00:00",
          "2021-04-06T00:00:00",
          "2021-04-07T00:00:00",
          "2021-04-08T00:00:00",
          "2021-04-09T00:00:00",
          "2021-04-12T00:00:00",
          "2021-04-13T00:00:00",
          "2021-04-14T00:00:00",
          "2021-04-15T00:00:00",
          "2021-04-16T00:00:00",
          "2021-04-19T00:00:00",
          "2021-04-20T00:00:00",
          "2021-04-21T00:00:00",
          "2021-04-22T00:00:00",
          "2021-04-23T00:00:00",
          "2021-04-26T00:00:00",
          "2021-04-27T00:00:00",
          "2021-04-28T00:00:00",
          "2021-04-29T00:00:00",
          "2021-04-30T00:00:00",
          "2021-05-03T00:00:00",
          "2021-05-04T00:00:00",
          "2021-05-05T00:00:00",
          "2021-05-06T00:00:00",
          "2021-05-07T00:00:00",
          "2021-05-10T00:00:00",
          "2021-05-11T00:00:00",
          "2021-05-12T00:00:00",
          "2021-05-13T00:00:00",
          "2021-05-14T00:00:00",
          "2021-05-17T00:00:00",
          "2021-05-18T00:00:00",
          "2021-05-19T00:00:00",
          "2021-05-20T00:00:00",
          "2021-05-21T00:00:00",
          "2021-05-24T00:00:00",
          "2021-05-25T00:00:00",
          "2021-05-26T00:00:00",
          "2021-05-27T00:00:00",
          "2021-05-28T00:00:00",
          "2021-06-01T00:00:00"
         ],
         "y": [
          0,
          0.007255658304724461,
          0.034571039496036654,
          0.03414422648914024,
          0.07810498932438342,
          0.0994451512316604,
          0.13550999554870585,
          0.17477589671434576,
          0.1675202384096213,
          0.1545027266211812,
          0.1246265487947478,
          0.12121212614583378,
          0.13337601192048107,
          0.11032859798561845,
          0.1049935575087992,
          0.1034997526877904,
          0.11032859798561845,
          0.127827524237085,
          0.13060176807878301,
          0.1715749212720086,
          0.16837386442341412,
          0.21212118005208047,
          0.18864703451657872,
          0.1860862378814575,
          0.16922749043720695,
          0.15620997864876685,
          0.16730687260930174,
          0.16517280757481967,
          0.1623986451393789,
          0.14639352370892117,
          0.13743061337661108,
          0.14788732852993,
          0.1382842393904039,
          0.1534357348070688,
          0.1220657521596266,
          0.13145539409257584,
          0.12526672760196378,
          0.12057186593236052,
          0.11822451650381616,
          0.12548017480854062,
          0.13316256471390422,
          0.15877077528388805,
          0.1549295396280776,
          0.1623986451393789,
          0.16218519793280206,
          0.16367900275381086,
          0.176056335735035,
          0.15749041766945607,
          0.13188220709947227,
          0.15535635263497402,
          0.1675202384096213,
          0.180110937191165,
          0.17925731117737218,
          0.16965430344410337,
          0.16517280757481967,
          0.17114810826511218,
          0.17008111645099977,
          0.1564233444490864,
          0.10990178497872204,
          0.13188220709947227,
          0.12377292278095497,
          0.1276141584367654
         ]
        },
        {
         "name": "GOOGL",
         "type": "scatter",
         "x": [
          "2021-03-04T00:00:00",
          "2021-03-05T00:00:00",
          "2021-03-08T00:00:00",
          "2021-03-09T00:00:00",
          "2021-03-10T00:00:00",
          "2021-03-11T00:00:00",
          "2021-03-12T00:00:00",
          "2021-03-15T00:00:00",
          "2021-03-16T00:00:00",
          "2021-03-17T00:00:00",
          "2021-03-18T00:00:00",
          "2021-03-19T00:00:00",
          "2021-03-22T00:00:00",
          "2021-03-23T00:00:00",
          "2021-03-24T00:00:00",
          "2021-03-25T00:00:00",
          "2021-03-26T00:00:00",
          "2021-03-29T00:00:00",
          "2021-03-30T00:00:00",
          "2021-03-31T00:00:00",
          "2021-04-01T00:00:00",
          "2021-04-05T00:00:00",
          "2021-04-06T00:00:00",
          "2021-04-07T00:00:00",
          "2021-04-08T00:00:00",
          "2021-04-09T00:00:00",
          "2021-04-12T00:00:00",
          "2021-04-13T00:00:00",
          "2021-04-14T00:00:00",
          "2021-04-15T00:00:00",
          "2021-04-16T00:00:00",
          "2021-04-19T00:00:00",
          "2021-04-20T00:00:00",
          "2021-04-21T00:00:00",
          "2021-04-22T00:00:00",
          "2021-04-23T00:00:00",
          "2021-04-26T00:00:00",
          "2021-04-27T00:00:00",
          "2021-04-28T00:00:00",
          "2021-04-29T00:00:00",
          "2021-04-30T00:00:00",
          "2021-05-03T00:00:00",
          "2021-05-04T00:00:00",
          "2021-05-05T00:00:00",
          "2021-05-06T00:00:00",
          "2021-05-07T00:00:00",
          "2021-05-10T00:00:00",
          "2021-05-11T00:00:00",
          "2021-05-12T00:00:00",
          "2021-05-13T00:00:00",
          "2021-05-14T00:00:00",
          "2021-05-17T00:00:00",
          "2021-05-18T00:00:00",
          "2021-05-19T00:00:00",
          "2021-05-20T00:00:00",
          "2021-05-21T00:00:00",
          "2021-05-24T00:00:00",
          "2021-05-25T00:00:00",
          "2021-05-26T00:00:00",
          "2021-05-27T00:00:00",
          "2021-05-28T00:00:00",
          "2021-06-01T00:00:00"
         ],
         "y": [
          0,
          0.03104335595672897,
          -0.012994573565947094,
          0.0031613337090395455,
          0.0011110941063038522,
          0.03274939825488666,
          0.007900933593927004,
          0.010083870710249788,
          0.024563204017775824,
          0.023742171911999524,
          -0.006190029921458796,
          -0.003426908787114117,
          -0.0015930303496798546,
          0.003638228527204641,
          -0.0006883345921892119,
          -0.0007227843311304106,
          -0.004523298736552823,
          0.00583106844304885,
          0.006165362948105429,
          0.014056513776444601,
          0.04712550237952269,
          0.09097161767631709,
          0.08620254946073255,
          0.10083924725519905,
          0.10644411175039184,
          0.11639528494705453,
          0.10358766423267858,
          0.10841074771837998,
          0.10225516753586239,
          0.12356371146123009,
          0.1223345639812375,
          0.12578109831649406,
          0.12049576415252591,
          0.12017131243002396,
          0.10747172225588174,
          0.1307812318542452,
          0.13569782177421558,
          0.12638090788265843,
          0.15984324768612088,
          0.17642197449218894,
          0.1571194376650279,
          0.15199638937927754,
          0.1341737509193849,
          0.13807749450769732,
          0.14917919295784918,
          0.15634749943809115,
          0.12675949490921085,
          0.11609544018093915,
          0.0817726971414819,
          0.09592757872650598,
          0.12018595656992231,
          0.12536806155100047,
          0.11236370521946554,
          0.11680340032127082,
          0.13423268758077908,
          0.12792958569387566,
          0.16082656567011494,
          0.16172634003632827,
          0.17030084404861254,
          0.1616328336020593,
          0.1587665433017914,
          0.1707285249540045
         ]
        },
        {
         "name": "DBX",
         "type": "scatter",
         "x": [
          "2021-03-04T00:00:00",
          "2021-03-05T00:00:00",
          "2021-03-08T00:00:00",
          "2021-03-09T00:00:00",
          "2021-03-10T00:00:00",
          "2021-03-11T00:00:00",
          "2021-03-12T00:00:00",
          "2021-03-15T00:00:00",
          "2021-03-16T00:00:00",
          "2021-03-17T00:00:00",
          "2021-03-18T00:00:00",
          "2021-03-19T00:00:00",
          "2021-03-22T00:00:00",
          "2021-03-23T00:00:00",
          "2021-03-24T00:00:00",
          "2021-03-25T00:00:00",
          "2021-03-26T00:00:00",
          "2021-03-29T00:00:00",
          "2021-03-30T00:00:00",
          "2021-03-31T00:00:00",
          "2021-04-01T00:00:00",
          "2021-04-05T00:00:00",
          "2021-04-06T00:00:00",
          "2021-04-07T00:00:00",
          "2021-04-08T00:00:00",
          "2021-04-09T00:00:00",
          "2021-04-12T00:00:00",
          "2021-04-13T00:00:00",
          "2021-04-14T00:00:00",
          "2021-04-15T00:00:00",
          "2021-04-16T00:00:00",
          "2021-04-19T00:00:00",
          "2021-04-20T00:00:00",
          "2021-04-21T00:00:00",
          "2021-04-22T00:00:00",
          "2021-04-23T00:00:00",
          "2021-04-26T00:00:00",
          "2021-04-27T00:00:00",
          "2021-04-28T00:00:00",
          "2021-04-29T00:00:00",
          "2021-04-30T00:00:00",
          "2021-05-03T00:00:00",
          "2021-05-04T00:00:00",
          "2021-05-05T00:00:00",
          "2021-05-06T00:00:00",
          "2021-05-07T00:00:00",
          "2021-05-10T00:00:00",
          "2021-05-11T00:00:00",
          "2021-05-12T00:00:00",
          "2021-05-13T00:00:00",
          "2021-05-14T00:00:00",
          "2021-05-17T00:00:00",
          "2021-05-18T00:00:00",
          "2021-05-19T00:00:00",
          "2021-05-20T00:00:00",
          "2021-05-21T00:00:00",
          "2021-05-24T00:00:00",
          "2021-05-25T00:00:00",
          "2021-05-26T00:00:00",
          "2021-05-27T00:00:00",
          "2021-05-28T00:00:00",
          "2021-06-01T00:00:00"
         ],
         "y": [
          0,
          0.018655111471084677,
          0.030802647085546368,
          0.0733188976136875,
          0.06203906084632661,
          0.10412154469923386,
          0.17396964692451813,
          0.2130151848125726,
          0.20390459516296372,
          0.2173535962997601,
          0.1427332331637379,
          0.16529290669845967,
          0.18524948369187902,
          0.18655103196253023,
          0.1514100561381129,
          0.1431670825872883,
          0.15357922050754838,
          0.1349241090364637,
          0.1388286711001008,
          0.15661608372408467,
          0.1882863469084153,
          0.209110705497252,
          0.2065076089559496,
          0.19826471815344152,
          0.2013015813699778,
          0.17093278370798184,
          0.1301518481257258,
          0.1353579584600141,
          0.1418655343166371,
          0.1440347814343891,
          0.14446854810962298,
          0.13318879409057863,
          0.11583514814182863,
          0.12147510789966734,
          0.12754883433273992,
          0.13904555443771774,
          0.15227767223689717,
          0.1440347814343891,
          0.1514100561381129,
          0.1383948216765504,
          0.11496753204304436,
          0.09848158494139515,
          0.08546643322814919,
          0.0785250079479758,
          0.06420830796407863,
          0.07158358266780242,
          0.10325384585213306,
          0.10845987343810484,
          0.07635576083022379,
          0.060303745900441526,
          0.10108459873438105,
          0.13232109524347782,
          0.1388286711001008,
          0.14446854810962298,
          0.16182219405837298,
          0.15921909751707056,
          0.17787420898815523,
          0.15965294694062096,
          0.18915404575551611,
          0.2047722940100645,
          0.18655103196253023,
          0.16312365958070765
         ]
        },
        {
         "name": "FB",
         "type": "scatter",
         "x": [
          "2021-03-04T00:00:00",
          "2021-03-05T00:00:00",
          "2021-03-08T00:00:00",
          "2021-03-09T00:00:00",
          "2021-03-10T00:00:00",
          "2021-03-11T00:00:00",
          "2021-03-12T00:00:00",
          "2021-03-15T00:00:00",
          "2021-03-16T00:00:00",
          "2021-03-17T00:00:00",
          "2021-03-18T00:00:00",
          "2021-03-19T00:00:00",
          "2021-03-22T00:00:00",
          "2021-03-23T00:00:00",
          "2021-03-24T00:00:00",
          "2021-03-25T00:00:00",
          "2021-03-26T00:00:00",
          "2021-03-29T00:00:00",
          "2021-03-30T00:00:00",
          "2021-03-31T00:00:00",
          "2021-04-01T00:00:00",
          "2021-04-05T00:00:00",
          "2021-04-06T00:00:00",
          "2021-04-07T00:00:00",
          "2021-04-08T00:00:00",
          "2021-04-09T00:00:00",
          "2021-04-12T00:00:00",
          "2021-04-13T00:00:00",
          "2021-04-14T00:00:00",
          "2021-04-15T00:00:00",
          "2021-04-16T00:00:00",
          "2021-04-19T00:00:00",
          "2021-04-20T00:00:00",
          "2021-04-21T00:00:00",
          "2021-04-22T00:00:00",
          "2021-04-23T00:00:00",
          "2021-04-26T00:00:00",
          "2021-04-27T00:00:00",
          "2021-04-28T00:00:00",
          "2021-04-29T00:00:00",
          "2021-04-30T00:00:00",
          "2021-05-03T00:00:00",
          "2021-05-04T00:00:00",
          "2021-05-05T00:00:00",
          "2021-05-06T00:00:00",
          "2021-05-07T00:00:00",
          "2021-05-10T00:00:00",
          "2021-05-11T00:00:00",
          "2021-05-12T00:00:00",
          "2021-05-13T00:00:00",
          "2021-05-14T00:00:00",
          "2021-05-17T00:00:00",
          "2021-05-18T00:00:00",
          "2021-05-19T00:00:00",
          "2021-05-20T00:00:00",
          "2021-05-21T00:00:00",
          "2021-05-24T00:00:00",
          "2021-05-25T00:00:00",
          "2021-05-26T00:00:00",
          "2021-05-27T00:00:00",
          "2021-05-28T00:00:00",
          "2021-06-01T00:00:00"
         ],
         "y": [
          0,
          0.025772332531186822,
          -0.009043692584101011,
          0.03143912096492587,
          0.028178772066728357,
          0.06303364893273768,
          0.04176361836778109,
          0.06252904997519647,
          0.08399310239284143,
          0.10235209446471527,
          0.08143137430487347,
          0.12602844611475386,
          0.13934168551213477,
          0.12804684194491864,
          0.09509392410736918,
          0.08189712151169319,
          0.0985094431075336,
          0.1287843145058697,
          0.11783878134376835,
          0.14318421841885692,
          0.1592143560061727,
          0.19899854874497,
          0.18871290309283625,
          0.21522270818497413,
          0.2149509828308428,
          0.21277741689871113,
          0.2092066093461203,
          0.202297749393889,
          0.17536093039519338,
          0.19476785368241156,
          0.18840232598798343,
          0.17310966096161873,
          0.17470104288522578,
          0.17012103741755255,
          0.15090813598302275,
          0.16880138084807686,
          0.17621483975784935,
          0.1782719688882761,
          0.19197325199103377,
          0.2789550963784009,
          0.26176047232357635,
          0.2520570106799672,
          0.2356775626875367,
          0.22271375214573008,
          0.24212067543294827,
          0.2384721643789145,
          0.18758726837604894,
          0.1897608343081806,
          0.1743128807293895,
          0.1848315184353926,
          0.22628467814878042,
          0.22442157087104203,
          0.20307395525510202,
          0.21716340051369595,
          0.2366479088518976,
          0.22741031286556773,
          0.2600139202980024,
          0.27227911002957944,
          0.27177451107203826,
          0.29153074476437124,
          0.27592762108361324,
          0.2774801512564988
         ]
        },
        {
         "name": "VGZ",
         "type": "scatter",
         "x": [
          "2021-03-04T00:00:00",
          "2021-03-05T00:00:00",
          "2021-03-08T00:00:00",
          "2021-03-09T00:00:00",
          "2021-03-10T00:00:00",
          "2021-03-11T00:00:00",
          "2021-03-12T00:00:00",
          "2021-03-15T00:00:00",
          "2021-03-16T00:00:00",
          "2021-03-17T00:00:00",
          "2021-03-18T00:00:00",
          "2021-03-19T00:00:00",
          "2021-03-22T00:00:00",
          "2021-03-23T00:00:00",
          "2021-03-24T00:00:00",
          "2021-03-25T00:00:00",
          "2021-03-26T00:00:00",
          "2021-03-29T00:00:00",
          "2021-03-30T00:00:00",
          "2021-03-31T00:00:00",
          "2021-04-01T00:00:00",
          "2021-04-05T00:00:00",
          "2021-04-06T00:00:00",
          "2021-04-07T00:00:00",
          "2021-04-08T00:00:00",
          "2021-04-09T00:00:00",
          "2021-04-12T00:00:00",
          "2021-04-13T00:00:00",
          "2021-04-14T00:00:00",
          "2021-04-15T00:00:00",
          "2021-04-16T00:00:00",
          "2021-04-19T00:00:00",
          "2021-04-20T00:00:00",
          "2021-04-21T00:00:00",
          "2021-04-22T00:00:00",
          "2021-04-23T00:00:00",
          "2021-04-26T00:00:00",
          "2021-04-27T00:00:00",
          "2021-04-28T00:00:00",
          "2021-04-29T00:00:00",
          "2021-04-30T00:00:00",
          "2021-05-03T00:00:00",
          "2021-05-04T00:00:00",
          "2021-05-05T00:00:00",
          "2021-05-06T00:00:00",
          "2021-05-07T00:00:00",
          "2021-05-10T00:00:00",
          "2021-05-11T00:00:00",
          "2021-05-12T00:00:00",
          "2021-05-13T00:00:00",
          "2021-05-14T00:00:00",
          "2021-05-17T00:00:00",
          "2021-05-18T00:00:00",
          "2021-05-19T00:00:00",
          "2021-05-20T00:00:00",
          "2021-05-21T00:00:00",
          "2021-05-24T00:00:00",
          "2021-05-25T00:00:00",
          "2021-05-26T00:00:00",
          "2021-05-27T00:00:00",
          "2021-05-28T00:00:00",
          "2021-06-01T00:00:00"
         ],
         "y": [
          0,
          0,
          -0.032258097595362786,
          0.021505355669564928,
          0.04301077543014525,
          0.10752684243884003,
          0.09677416460405756,
          0.0860214867692751,
          0.0860214867692751,
          0.10752684243884003,
          0.09677416460405756,
          0.06451613109971018,
          0.09677416460405756,
          0.10752684243884003,
          0.09677416460405756,
          0.11827952027362248,
          0.13978487594318742,
          0.13978487594318742,
          0.12903219810840497,
          0.13978487594318742,
          0.12903219810840497,
          0.13978487594318742,
          0.18279571546434806,
          0.21505374896869545,
          0.2258064268034779,
          0.2258064268034779,
          0.16129035979478312,
          0.16129035979478312,
          0.1720430376295656,
          0.2258064268034779,
          0.23655910463826038,
          0.204301071133913,
          0.1935483932991305,
          0.24731178247304283,
          0.204301071133913,
          0.18279571546434806,
          0.18279571546434806,
          0.1720430376295656,
          0.18279571546434806,
          0.1720430376295656,
          0.13978487594318742,
          0.1720430376295656,
          0.13978487594318742,
          0.1720430376295656,
          0.1935483932991305,
          0.2258064268034779,
          0.18279571546434806,
          0.204301071133913,
          0.13978487594318742,
          0.09677416460405756,
          0.12903219810840497,
          0.1935483932991305,
          0.204301071133913,
          0.15053768196000067,
          0.13978487594318742,
          0.1935483932991305,
          0.18279571546434806,
          0.18279571546434806,
          0.1720430376295656,
          0.24731178247304283,
          0.2258064268034779,
          0.279569944159421
         ]
        },
        {
         "name": "PFE",
         "type": "scatter",
         "x": [
          "2021-03-04T00:00:00",
          "2021-03-05T00:00:00",
          "2021-03-08T00:00:00",
          "2021-03-09T00:00:00",
          "2021-03-10T00:00:00",
          "2021-03-11T00:00:00",
          "2021-03-12T00:00:00",
          "2021-03-15T00:00:00",
          "2021-03-16T00:00:00",
          "2021-03-17T00:00:00",
          "2021-03-18T00:00:00",
          "2021-03-19T00:00:00",
          "2021-03-22T00:00:00",
          "2021-03-23T00:00:00",
          "2021-03-24T00:00:00",
          "2021-03-25T00:00:00",
          "2021-03-26T00:00:00",
          "2021-03-29T00:00:00",
          "2021-03-30T00:00:00",
          "2021-03-31T00:00:00",
          "2021-04-01T00:00:00",
          "2021-04-05T00:00:00",
          "2021-04-06T00:00:00",
          "2021-04-07T00:00:00",
          "2021-04-08T00:00:00",
          "2021-04-09T00:00:00",
          "2021-04-12T00:00:00",
          "2021-04-13T00:00:00",
          "2021-04-14T00:00:00",
          "2021-04-15T00:00:00",
          "2021-04-16T00:00:00",
          "2021-04-19T00:00:00",
          "2021-04-20T00:00:00",
          "2021-04-21T00:00:00",
          "2021-04-22T00:00:00",
          "2021-04-23T00:00:00",
          "2021-04-26T00:00:00",
          "2021-04-27T00:00:00",
          "2021-04-28T00:00:00",
          "2021-04-29T00:00:00",
          "2021-04-30T00:00:00",
          "2021-05-03T00:00:00",
          "2021-05-04T00:00:00",
          "2021-05-05T00:00:00",
          "2021-05-06T00:00:00",
          "2021-05-07T00:00:00",
          "2021-05-10T00:00:00",
          "2021-05-11T00:00:00",
          "2021-05-12T00:00:00",
          "2021-05-13T00:00:00",
          "2021-05-14T00:00:00",
          "2021-05-17T00:00:00",
          "2021-05-18T00:00:00",
          "2021-05-19T00:00:00",
          "2021-05-20T00:00:00",
          "2021-05-21T00:00:00",
          "2021-05-24T00:00:00",
          "2021-05-25T00:00:00",
          "2021-05-26T00:00:00",
          "2021-05-27T00:00:00",
          "2021-05-28T00:00:00",
          "2021-06-01T00:00:00"
         ],
         "y": [
          0,
          0.005555515276914111,
          0.004385897889925909,
          0.007309941357396413,
          0.02134501537869514,
          0.014912231291113262,
          0.021637363955015573,
          0.03538008939999387,
          0.04766084888166352,
          0.046491231494675316,
          0.04590642280118122,
          0.038888830020105236,
          0.05263155546508353,
          0.03391812343668523,
          0.04122806479408164,
          0.04298237933371071,
          0.05994149682247994,
          0.07076017879998774,
          0.05584794750887447,
          0.05935668812898584,
          0.06140346278578858,
          0.06081865409229448,
          0.05409352142839217,
          0.04999997211478669,
          0.05146193807809533,
          0.07017537010649363,
          0.08099416362485465,
          0.08654967890176876,
          0.0868420274780892,
          0.09941513553607928,
          0.1277777436958504,
          0.13830407709703776,
          0.14122800902365504,
          0.15584789173844785,
          0.12982451835265313,
          0.13040932704614724,
          0.13099413573964133,
          0.12426900307573903,
          0.13479533647692638,
          0.12865490096566493,
          0.1301169784698268,
          0.16461991060000614,
          0.1681286512201175,
          0.1687134599136116,
          0.1459063670307546,
          0.15730996924260973,
          0.16549706786982066,
          0.15058472503785417,
          0.16052624974554744,
          0.1725145491100434,
          0.17017542587692025,
          0.1728070092272171,
          0.17105258314673477,
          0.16461991060000614,
          0.17309935780353752,
          0.1681286512201175,
          0.16403510190651202,
          0.1500000278852133,
          0.13801161697986408,
          0.1301169784698268,
          0.13245610170294997,
          0.12573096903904765
         ]
        },
        {
         "name": "BA",
         "type": "scatter",
         "x": [
          "2021-03-04T00:00:00",
          "2021-03-05T00:00:00",
          "2021-03-08T00:00:00",
          "2021-03-09T00:00:00",
          "2021-03-10T00:00:00",
          "2021-03-11T00:00:00",
          "2021-03-12T00:00:00",
          "2021-03-15T00:00:00",
          "2021-03-16T00:00:00",
          "2021-03-17T00:00:00",
          "2021-03-18T00:00:00",
          "2021-03-19T00:00:00",
          "2021-03-22T00:00:00",
          "2021-03-23T00:00:00",
          "2021-03-24T00:00:00",
          "2021-03-25T00:00:00",
          "2021-03-26T00:00:00",
          "2021-03-29T00:00:00",
          "2021-03-30T00:00:00",
          "2021-03-31T00:00:00",
          "2021-04-01T00:00:00",
          "2021-04-05T00:00:00",
          "2021-04-06T00:00:00",
          "2021-04-07T00:00:00",
          "2021-04-08T00:00:00",
          "2021-04-09T00:00:00",
          "2021-04-12T00:00:00",
          "2021-04-13T00:00:00",
          "2021-04-14T00:00:00",
          "2021-04-15T00:00:00",
          "2021-04-16T00:00:00",
          "2021-04-19T00:00:00",
          "2021-04-20T00:00:00",
          "2021-04-21T00:00:00",
          "2021-04-22T00:00:00",
          "2021-04-23T00:00:00",
          "2021-04-26T00:00:00",
          "2021-04-27T00:00:00",
          "2021-04-28T00:00:00",
          "2021-04-29T00:00:00",
          "2021-04-30T00:00:00",
          "2021-05-03T00:00:00",
          "2021-05-04T00:00:00",
          "2021-05-05T00:00:00",
          "2021-05-06T00:00:00",
          "2021-05-07T00:00:00",
          "2021-05-10T00:00:00",
          "2021-05-11T00:00:00",
          "2021-05-12T00:00:00",
          "2021-05-13T00:00:00",
          "2021-05-14T00:00:00",
          "2021-05-17T00:00:00",
          "2021-05-18T00:00:00",
          "2021-05-19T00:00:00",
          "2021-05-20T00:00:00",
          "2021-05-21T00:00:00",
          "2021-05-24T00:00:00",
          "2021-05-25T00:00:00",
          "2021-05-26T00:00:00",
          "2021-05-27T00:00:00",
          "2021-05-28T00:00:00",
          "2021-06-01T00:00:00"
         ],
         "y": [
          0,
          -0.006630792793581952,
          -0.003026157777816257,
          0.026256035424346225,
          0.09180716927436383,
          0.12144538503299643,
          0.1979439918053019,
          0.18210136151635867,
          0.13573049302978726,
          0.17302295608726934,
          0.1395131053716083,
          0.1384451056065574,
          0.11801872734328607,
          0.07360594896512059,
          0.06466111141102203,
          0.10004002961988158,
          0.08971557919532655,
          0.11485913749919788,
          0.12148986238842041,
          0.1335498803355426,
          0.12571758780627837,
          0.1541986453759338,
          0.1355524477993725,
          0.12402649763913519,
          0.13457340274516955,
          0.12304745258493223,
          0.11040895739986059,
          0.12709713277237542,
          0.12335892988161894,
          0.11748472746076062,
          0.10444566445943547,
          0.08651144409145495,
          0.04160914318618798,
          0.049886480887129714,
          0.04281071082622969,
          0.060833953809417585,
          0.07445149404869218,
          0.07903517411866083,
          0.04783943606787584,
          0.0499755035023371,
          0.042721688211022305,
          0.046637868427834135,
          0.039695598337565474,
          0.015442062472689715,
          0.02269587776400451,
          0.04788391342329982,
          0.03658041794454183,
          0.018557242865713357,
          -0.01748924310066244,
          -0.009211905399720709,
          0.016732652727938807,
          0.014552040033694143,
          0.012638495185071635,
          -0.001290590255249092,
          0.013083472452389708,
          0.04499132352047435,
          0.05665077365134303,
          0.07133638156002796,
          0.07413994884764605,
          0.11566013732298606,
          0.09928350715151738,
          0.1335943576909666
         ]
        },
        {
         "name": "MARA",
         "type": "scatter",
         "x": [
          "2021-03-04T00:00:00",
          "2021-03-05T00:00:00",
          "2021-03-08T00:00:00",
          "2021-03-09T00:00:00",
          "2021-03-10T00:00:00",
          "2021-03-11T00:00:00",
          "2021-03-12T00:00:00",
          "2021-03-15T00:00:00",
          "2021-03-16T00:00:00",
          "2021-03-17T00:00:00",
          "2021-03-18T00:00:00",
          "2021-03-19T00:00:00",
          "2021-03-22T00:00:00",
          "2021-03-23T00:00:00",
          "2021-03-24T00:00:00",
          "2021-03-25T00:00:00",
          "2021-03-26T00:00:00",
          "2021-03-29T00:00:00",
          "2021-03-30T00:00:00",
          "2021-03-31T00:00:00",
          "2021-04-01T00:00:00",
          "2021-04-05T00:00:00",
          "2021-04-06T00:00:00",
          "2021-04-07T00:00:00",
          "2021-04-08T00:00:00",
          "2021-04-09T00:00:00",
          "2021-04-12T00:00:00",
          "2021-04-13T00:00:00",
          "2021-04-14T00:00:00",
          "2021-04-15T00:00:00",
          "2021-04-16T00:00:00",
          "2021-04-19T00:00:00",
          "2021-04-20T00:00:00",
          "2021-04-21T00:00:00",
          "2021-04-22T00:00:00",
          "2021-04-23T00:00:00",
          "2021-04-26T00:00:00",
          "2021-04-27T00:00:00",
          "2021-04-28T00:00:00",
          "2021-04-29T00:00:00",
          "2021-04-30T00:00:00",
          "2021-05-03T00:00:00",
          "2021-05-04T00:00:00",
          "2021-05-05T00:00:00",
          "2021-05-06T00:00:00",
          "2021-05-07T00:00:00",
          "2021-05-10T00:00:00",
          "2021-05-11T00:00:00",
          "2021-05-12T00:00:00",
          "2021-05-13T00:00:00",
          "2021-05-14T00:00:00",
          "2021-05-17T00:00:00",
          "2021-05-18T00:00:00",
          "2021-05-19T00:00:00",
          "2021-05-20T00:00:00",
          "2021-05-21T00:00:00",
          "2021-05-24T00:00:00",
          "2021-05-25T00:00:00",
          "2021-05-26T00:00:00",
          "2021-05-27T00:00:00",
          "2021-05-28T00:00:00",
          "2021-06-01T00:00:00"
         ],
         "y": [
          0,
          -0.06185559945986458,
          -0.10934077713765171,
          0.14870360468055394,
          0.19306468694871753,
          0.3061544381639448,
          0.27147775373547783,
          0.346454255985625,
          0.1983755895590503,
          0.3489535323133238,
          0.2983443783979677,
          0.34489226786684046,
          0.24929721260139606,
          0.188378722592364,
          0.0634177663367309,
          0.06841619982007403,
          0.12746023258333194,
          0.19119034887499792,
          0.37894413321338266,
          0.5001562941495221,
          0.5260856306030975,
          0.7669479643565918,
          0.6385505627364001,
          0.445173406660693,
          0.5563887006301461,
          0.5307717141315057,
          0.5641987603961232,
          0.5932521922593222,
          0.34239311071119616,
          0.3164636550855661,
          0.21618251629171364,
          0.11059047488752839,
          0.048734815841636546,
          0.09122156003608053,
          -0.029678191359096506,
          0.009059697929826489,
          0.0665417425742999,
          0.0659169234923752,
          0.17588257929797887,
          0.07029053789379362,
          0.14901595463548903,
          0.1315214970298153,
          0.060606140054096966,
          0.04810999675971184,
          -0.019056505310485507,
          -0.021243312511194726,
          -0.13089655877583606,
          -0.18931577245716927,
          -0.2861605254724904,
          -0.38581690477044545,
          -0.278975284788438,
          -0.30146823546348217,
          -0.28178691107107195,
          -0.32177443852384435,
          -0.3161511859585765,
          -0.34739142502248477,
          -0.2767884775877288,
          -0.29334576615654273,
          -0.2108715540953536,
          -0.1927522178217279,
          -0.2261792640863454,
          -0.21274595175510047
         ]
        },
        {
         "name": "COUR",
         "type": "scatter",
         "x": [
          "2021-03-31T00:00:00",
          "2021-04-01T00:00:00",
          "2021-04-05T00:00:00",
          "2021-04-06T00:00:00",
          "2021-04-07T00:00:00",
          "2021-04-08T00:00:00",
          "2021-04-09T00:00:00",
          "2021-04-12T00:00:00",
          "2021-04-13T00:00:00",
          "2021-04-14T00:00:00",
          "2021-04-15T00:00:00",
          "2021-04-16T00:00:00",
          "2021-04-19T00:00:00",
          "2021-04-20T00:00:00",
          "2021-04-21T00:00:00",
          "2021-04-22T00:00:00",
          "2021-04-23T00:00:00",
          "2021-04-26T00:00:00",
          "2021-04-27T00:00:00",
          "2021-04-28T00:00:00",
          "2021-04-29T00:00:00",
          "2021-04-30T00:00:00",
          "2021-05-03T00:00:00",
          "2021-05-04T00:00:00",
          "2021-05-05T00:00:00",
          "2021-05-06T00:00:00",
          "2021-05-07T00:00:00",
          "2021-05-10T00:00:00",
          "2021-05-11T00:00:00",
          "2021-05-12T00:00:00",
          "2021-05-13T00:00:00",
          "2021-05-14T00:00:00",
          "2021-05-17T00:00:00",
          "2021-05-18T00:00:00",
          "2021-05-19T00:00:00",
          "2021-05-20T00:00:00",
          "2021-05-21T00:00:00",
          "2021-05-24T00:00:00",
          "2021-05-25T00:00:00",
          "2021-05-26T00:00:00",
          "2021-05-27T00:00:00",
          "2021-05-28T00:00:00",
          "2021-06-01T00:00:00"
         ],
         "y": [
          0,
          0.01733330620659722,
          0.1024444580078125,
          0.24955554538302951,
          0.28888888888888886,
          0.24444444444444444,
          0.19222225613064237,
          0.14177780151367186,
          0.14111107720269098,
          0.07955559624565972,
          0.05444446139865451,
          0.021777767605251738,
          -0.06488884819878472,
          -0.08888888888888889,
          -0.06977776421440972,
          -0.01866667005750868,
          0.030444420708550347,
          0.06111111111111111,
          0.03644443088107639,
          0.008888922797309028,
          0.003333367241753472,
          -0.006666649712456597,
          0.024666680230034724,
          0.014444478352864583,
          -0.0664444817437066,
          -0.13377778795030382,
          -0.19688890245225693,
          -0.22666668362087675,
          -0.10088890923394098,
          -0.21733330620659722,
          -0.23777779473198785,
          -0.152888912624783,
          -0.15755555894639756,
          -0.14444444444444443,
          -0.14733335706922743,
          -0.1773333231608073,
          -0.16600002712673612,
          -0.16666666666666666,
          -0.17599995930989584,
          -0.15600001017252604,
          -0.15555555555555556,
          -0.15555555555555556,
          -0.1437778049045139
         ]
        },
        {
         "name": "CRWD",
         "type": "scatter",
         "x": [
          "2021-03-04T00:00:00",
          "2021-03-05T00:00:00",
          "2021-03-08T00:00:00",
          "2021-03-09T00:00:00",
          "2021-03-10T00:00:00",
          "2021-03-11T00:00:00",
          "2021-03-12T00:00:00",
          "2021-03-15T00:00:00",
          "2021-03-16T00:00:00",
          "2021-03-17T00:00:00",
          "2021-03-18T00:00:00",
          "2021-03-19T00:00:00",
          "2021-03-22T00:00:00",
          "2021-03-23T00:00:00",
          "2021-03-24T00:00:00",
          "2021-03-25T00:00:00",
          "2021-03-26T00:00:00",
          "2021-03-29T00:00:00",
          "2021-03-30T00:00:00",
          "2021-03-31T00:00:00",
          "2021-04-01T00:00:00",
          "2021-04-05T00:00:00",
          "2021-04-06T00:00:00",
          "2021-04-07T00:00:00",
          "2021-04-08T00:00:00",
          "2021-04-09T00:00:00",
          "2021-04-12T00:00:00",
          "2021-04-13T00:00:00",
          "2021-04-14T00:00:00",
          "2021-04-15T00:00:00",
          "2021-04-16T00:00:00",
          "2021-04-19T00:00:00",
          "2021-04-20T00:00:00",
          "2021-04-21T00:00:00",
          "2021-04-22T00:00:00",
          "2021-04-23T00:00:00",
          "2021-04-26T00:00:00",
          "2021-04-27T00:00:00",
          "2021-04-28T00:00:00",
          "2021-04-29T00:00:00",
          "2021-04-30T00:00:00",
          "2021-05-03T00:00:00",
          "2021-05-04T00:00:00",
          "2021-05-05T00:00:00",
          "2021-05-06T00:00:00",
          "2021-05-07T00:00:00",
          "2021-05-10T00:00:00",
          "2021-05-11T00:00:00",
          "2021-05-12T00:00:00",
          "2021-05-13T00:00:00",
          "2021-05-14T00:00:00",
          "2021-05-17T00:00:00",
          "2021-05-18T00:00:00",
          "2021-05-19T00:00:00",
          "2021-05-20T00:00:00",
          "2021-05-21T00:00:00",
          "2021-05-24T00:00:00",
          "2021-05-25T00:00:00",
          "2021-05-26T00:00:00",
          "2021-05-27T00:00:00",
          "2021-05-28T00:00:00",
          "2021-06-01T00:00:00"
         ],
         "y": [
          0,
          -0.05114259855454623,
          -0.06860461742218583,
          0.03165967374703239,
          0.00968959564724059,
          0.06637648165177909,
          0.03114148057293474,
          0.03917300038038257,
          0.017202922280590772,
          0.07793146203452254,
          -0.014404884709925281,
          0.008497846225029141,
          0.014197575814215175,
          -0.012384057835228644,
          -0.05901859715762268,
          -0.07166175157990015,
          -0.07930466603936355,
          -0.0991761171296842,
          -0.09176644494418908,
          -0.0543033871601156,
          -0.030882463051063534,
          -0.033006944373615225,
          0.007202442354962641,
          0.004870652136700846,
          0.054199653647082936,
          0.05020978758902838,
          0.05699777028292604,
          0.12104254078162095,
          0.07881232717834645,
          0.10420229047075644,
          0.11508363554020848,
          0.10560126972350038,
          0.07052178984902742,
          0.09005642328270237,
          0.12301150089980126,
          0.13632829063537014,
          0.16311723318052407,
          0.1464324250088533,
          0.1411990218372486,
          0.09606711621545355,
          0.08041861532680049,
          0.06285294201130584,
          0.024871691053134724,
          0.001295403870066501,
          -0.030675154155353428,
          -0.019742021394562673,
          -0.028032558723881707,
          0.010933211825968372,
          -0.019275615911803743,
          -0.047826367809783096,
          -0.012176828004696156,
          -0.02311003983066453,
          0.019638287881530003,
          0.029638846872335752,
          0.05720500011345853,
          0.09124825177009142,
          0.11067930982108895,
          0.10295867429202865,
          0.13974817582798832,
          0.15451573250763986,
          0.15109584731502168,
          0.1506813876539567
         ]
        },
        {
         "name": "DIS",
         "type": "scatter",
         "x": [
          "2021-03-04T00:00:00",
          "2021-03-05T00:00:00",
          "2021-03-08T00:00:00",
          "2021-03-09T00:00:00",
          "2021-03-10T00:00:00",
          "2021-03-11T00:00:00",
          "2021-03-12T00:00:00",
          "2021-03-15T00:00:00",
          "2021-03-16T00:00:00",
          "2021-03-17T00:00:00",
          "2021-03-18T00:00:00",
          "2021-03-19T00:00:00",
          "2021-03-22T00:00:00",
          "2021-03-23T00:00:00",
          "2021-03-24T00:00:00",
          "2021-03-25T00:00:00",
          "2021-03-26T00:00:00",
          "2021-03-29T00:00:00",
          "2021-03-30T00:00:00",
          "2021-03-31T00:00:00",
          "2021-04-01T00:00:00",
          "2021-04-05T00:00:00",
          "2021-04-06T00:00:00",
          "2021-04-07T00:00:00",
          "2021-04-08T00:00:00",
          "2021-04-09T00:00:00",
          "2021-04-12T00:00:00",
          "2021-04-13T00:00:00",
          "2021-04-14T00:00:00",
          "2021-04-15T00:00:00",
          "2021-04-16T00:00:00",
          "2021-04-19T00:00:00",
          "2021-04-20T00:00:00",
          "2021-04-21T00:00:00",
          "2021-04-22T00:00:00",
          "2021-04-23T00:00:00",
          "2021-04-26T00:00:00",
          "2021-04-27T00:00:00",
          "2021-04-28T00:00:00",
          "2021-04-29T00:00:00",
          "2021-04-30T00:00:00",
          "2021-05-03T00:00:00",
          "2021-05-04T00:00:00",
          "2021-05-05T00:00:00",
          "2021-05-06T00:00:00",
          "2021-05-07T00:00:00",
          "2021-05-10T00:00:00",
          "2021-05-11T00:00:00",
          "2021-05-12T00:00:00",
          "2021-05-13T00:00:00",
          "2021-05-14T00:00:00",
          "2021-05-17T00:00:00",
          "2021-05-18T00:00:00",
          "2021-05-19T00:00:00",
          "2021-05-20T00:00:00",
          "2021-05-21T00:00:00",
          "2021-05-24T00:00:00",
          "2021-05-25T00:00:00",
          "2021-05-26T00:00:00",
          "2021-05-27T00:00:00",
          "2021-05-28T00:00:00",
          "2021-06-01T00:00:00"
         ],
         "y": [
          0,
          0.010423904305651651,
          0.07381803421221297,
          0.034462563259094935,
          0.037387644657427485,
          0.046375585158293604,
          0.04855610775985264,
          0.04642873894705509,
          0.03302668060513195,
          0.038344980910892015,
          0.022602776299480293,
          0.016539917196946717,
          0.025687400214919838,
          0.003722793983867541,
          -0.017603561027934225,
          -0.005956470374188066,
          -0.011221616891186647,
          -0.016912156019922204,
          -0.013295750764400174,
          -0.01866720485892173,
          0.004999215271546071,
          0.0024996076357730354,
          0.00904109428962761,
          -0.0024996076357730354,
          -0.0037759477726290284,
          -0.0007445587967735083,
          -0.00819014676450859,
          -0.013508447070268659,
          -0.0030313889758555204,
          -0.01116846310242516,
          -0.004095113957665563,
          -0.003191012643785056,
          -0.027867922816478874,
          -0.026166027766240836,
          -0.028027465333585876,
          -0.026644655317561834,
          -0.019996779935361746,
          -0.018029034790493732,
          -0.02467691017269382,
          -0.01435939459538768,
          -0.010689754400281627,
          -0.013402139492745685,
          -0.020103168663707257,
          -0.034675340715785964,
          -0.03318622312223894,
          -0.016965390959506225,
          -0.019837237418254747,
          -0.03382439319066694,
          -0.054140258160242684,
          -0.05153434294694668,
          -0.0762112531196405,
          -0.09546347425822874,
          -0.09759084307102628,
          -0.09977128452176279,
          -0.08865605635892165,
          -0.08312505974729309,
          -0.07296708668709395,
          -0.06307504487234732,
          -0.06147953855045479,
          -0.04781154896307913,
          -0.04988568283629266,
          -0.048875192794066644
         ]
        },
        {
         "name": "GME",
         "type": "scatter",
         "x": [
          "2021-03-04T00:00:00",
          "2021-03-05T00:00:00",
          "2021-03-08T00:00:00",
          "2021-03-09T00:00:00",
          "2021-03-10T00:00:00",
          "2021-03-11T00:00:00",
          "2021-03-12T00:00:00",
          "2021-03-15T00:00:00",
          "2021-03-16T00:00:00",
          "2021-03-17T00:00:00",
          "2021-03-18T00:00:00",
          "2021-03-19T00:00:00",
          "2021-03-22T00:00:00",
          "2021-03-23T00:00:00",
          "2021-03-24T00:00:00",
          "2021-03-25T00:00:00",
          "2021-03-26T00:00:00",
          "2021-03-29T00:00:00",
          "2021-03-30T00:00:00",
          "2021-03-31T00:00:00",
          "2021-04-01T00:00:00",
          "2021-04-05T00:00:00",
          "2021-04-06T00:00:00",
          "2021-04-07T00:00:00",
          "2021-04-08T00:00:00",
          "2021-04-09T00:00:00",
          "2021-04-12T00:00:00",
          "2021-04-13T00:00:00",
          "2021-04-14T00:00:00",
          "2021-04-15T00:00:00",
          "2021-04-16T00:00:00",
          "2021-04-19T00:00:00",
          "2021-04-20T00:00:00",
          "2021-04-21T00:00:00",
          "2021-04-22T00:00:00",
          "2021-04-23T00:00:00",
          "2021-04-26T00:00:00",
          "2021-04-27T00:00:00",
          "2021-04-28T00:00:00",
          "2021-04-29T00:00:00",
          "2021-04-30T00:00:00",
          "2021-05-03T00:00:00",
          "2021-05-04T00:00:00",
          "2021-05-05T00:00:00",
          "2021-05-06T00:00:00",
          "2021-05-07T00:00:00",
          "2021-05-10T00:00:00",
          "2021-05-11T00:00:00",
          "2021-05-12T00:00:00",
          "2021-05-13T00:00:00",
          "2021-05-14T00:00:00",
          "2021-05-17T00:00:00",
          "2021-05-18T00:00:00",
          "2021-05-19T00:00:00",
          "2021-05-20T00:00:00",
          "2021-05-21T00:00:00",
          "2021-05-24T00:00:00",
          "2021-05-25T00:00:00",
          "2021-05-26T00:00:00",
          "2021-05-27T00:00:00",
          "2021-05-28T00:00:00",
          "2021-06-01T00:00:00"
         ],
         "y": [
          0,
          0.04072534296245312,
          0.46958814529917486,
          0.865507990255589,
          1.0022666247006753,
          0.9644880091402852,
          0.9984887631446363,
          0.6633168812812079,
          0.5728748664063392,
          0.5852662476984997,
          0.5243671378617405,
          0.5131846999373969,
          0.46951262957288076,
          0.3732526756201801,
          -0.09074430836241554,
          0.38836412184433616,
          0.3675858832861216,
          0.369852623277982,
          0.46928596710281323,
          0.4342274164744186,
          0.4465431667490999,
          0.4125424127447488,
          0.39403091417839464,
          0.34469205147982,
          0.286437375557577,
          0.19652431664032263,
          0.06603694621320337,
          0.06528144307670669,
          0.25825456063105784,
          0.18201734210007506,
          0.16879482665393852,
          0.24193417103908488,
          0.19780877573443367,
          0.19765762899066025,
          0.14219864901789203,
          0.14227416474418617,
          0.27638824998357103,
          0.3431809299156414,
          0.349301047189835,
          0.3312428735636159,
          0.31159794735573904,
          0.22553826572081778,
          0.21443134352276827,
          0.20498668963267075,
          0.21654693677085532,
          0.2173025551985372,
          0.08213067333510882,
          0.11008682579156046,
          0.09399309866965501,
          0.24291645193683425,
          0.2083112262485747,
          0.36456364015776443,
          0.3650924808241936,
          0.27563274684707434,
          0.28817527488300826,
          0.33577623825615166,
          0.3601056759003377,
          0.5823950360227308,
          0.8327161796190549,
          0.9201359513655665,
          0.6773705308813204,
          0.8815262016512003
         ]
        },
        {
         "name": "AAPL",
         "type": "scatter",
         "x": [
          "2021-03-04T00:00:00",
          "2021-03-05T00:00:00",
          "2021-03-08T00:00:00",
          "2021-03-09T00:00:00",
          "2021-03-10T00:00:00",
          "2021-03-11T00:00:00",
          "2021-03-12T00:00:00",
          "2021-03-15T00:00:00",
          "2021-03-16T00:00:00",
          "2021-03-17T00:00:00",
          "2021-03-18T00:00:00",
          "2021-03-19T00:00:00",
          "2021-03-22T00:00:00",
          "2021-03-23T00:00:00",
          "2021-03-24T00:00:00",
          "2021-03-25T00:00:00",
          "2021-03-26T00:00:00",
          "2021-03-29T00:00:00",
          "2021-03-30T00:00:00",
          "2021-03-31T00:00:00",
          "2021-04-01T00:00:00",
          "2021-04-05T00:00:00",
          "2021-04-06T00:00:00",
          "2021-04-07T00:00:00",
          "2021-04-08T00:00:00",
          "2021-04-09T00:00:00",
          "2021-04-12T00:00:00",
          "2021-04-13T00:00:00",
          "2021-04-14T00:00:00",
          "2021-04-15T00:00:00",
          "2021-04-16T00:00:00",
          "2021-04-19T00:00:00",
          "2021-04-20T00:00:00",
          "2021-04-21T00:00:00",
          "2021-04-22T00:00:00",
          "2021-04-23T00:00:00",
          "2021-04-26T00:00:00",
          "2021-04-27T00:00:00",
          "2021-04-28T00:00:00",
          "2021-04-29T00:00:00",
          "2021-04-30T00:00:00",
          "2021-05-03T00:00:00",
          "2021-05-04T00:00:00",
          "2021-05-05T00:00:00",
          "2021-05-06T00:00:00",
          "2021-05-07T00:00:00",
          "2021-05-10T00:00:00",
          "2021-05-11T00:00:00",
          "2021-05-12T00:00:00",
          "2021-05-13T00:00:00",
          "2021-05-14T00:00:00",
          "2021-05-17T00:00:00",
          "2021-05-18T00:00:00",
          "2021-05-19T00:00:00",
          "2021-05-20T00:00:00",
          "2021-05-21T00:00:00",
          "2021-05-24T00:00:00",
          "2021-05-25T00:00:00",
          "2021-05-26T00:00:00",
          "2021-05-27T00:00:00",
          "2021-05-28T00:00:00",
          "2021-06-01T00:00:00"
         ],
         "y": [
          0,
          0.010738374635987435,
          -0.03138264154883381,
          0.00799133527363285,
          -0.0012485965197182034,
          0.015233512635434775,
          0.007491896665745568,
          0.032131862970152004,
          0.04528429672674008,
          0.0385416214823127,
          0.003329738908052171,
          -0.0011653990913951693,
          0.02713728636281738,
          0.02006163087663606,
          -0.00033298024175394404,
          0.003829177515939452,
          0.008990275998894681,
          0.010488655332043795,
          -0.0019145570032260914,
          0.016815152906394192,
          0.023890808392575513,
          0.04803133608909466,
          0.05061185357582865,
          0.06467996711986825,
          0.0851577756665813,
          0.10713396354644344,
          0.09248321396619352,
          0.11903767376433877,
          0.09905936733500029,
          0.11962043681952363,
          0.116790200028846,
          0.12245067361020125,
          0.10804964333389497,
          0.11129612130413684,
          0.09831020942316937,
          0.11812212099586178,
          0.12145179639442669,
          0.1187047570320721,
          0.11196208178764472,
          0.11112959942851623,
          0.09431457354109658,
          0.10330472252101672,
          0.06426372594030401,
          0.06634486832863797,
          0.07999674069311333,
          0.08390917914686309,
          0.05593941042491721,
          0.048114597026904966,
          0.021976187879862153,
          0.04028972011940546,
          0.060933987032251835,
          0.05111129218371593,
          0.039290779394143625,
          0.03795892193661512,
          0.05976858794085666,
          0.04411889763534491,
          0.05802048930376391,
          0.05635565160448146,
          0.05593941042491721,
          0.042870237606139436,
          0.03729296145310723,
          0.03454592209075264
         ]
        },
        {
         "name": "FVRR",
         "type": "scatter",
         "x": [
          "2021-03-04T00:00:00",
          "2021-03-05T00:00:00",
          "2021-03-08T00:00:00",
          "2021-03-09T00:00:00",
          "2021-03-10T00:00:00",
          "2021-03-11T00:00:00",
          "2021-03-12T00:00:00",
          "2021-03-15T00:00:00",
          "2021-03-16T00:00:00",
          "2021-03-17T00:00:00",
          "2021-03-18T00:00:00",
          "2021-03-19T00:00:00",
          "2021-03-22T00:00:00",
          "2021-03-23T00:00:00",
          "2021-03-24T00:00:00",
          "2021-03-25T00:00:00",
          "2021-03-26T00:00:00",
          "2021-03-29T00:00:00",
          "2021-03-30T00:00:00",
          "2021-03-31T00:00:00",
          "2021-04-01T00:00:00",
          "2021-04-05T00:00:00",
          "2021-04-06T00:00:00",
          "2021-04-07T00:00:00",
          "2021-04-08T00:00:00",
          "2021-04-09T00:00:00",
          "2021-04-12T00:00:00",
          "2021-04-13T00:00:00",
          "2021-04-14T00:00:00",
          "2021-04-15T00:00:00",
          "2021-04-16T00:00:00",
          "2021-04-19T00:00:00",
          "2021-04-20T00:00:00",
          "2021-04-21T00:00:00",
          "2021-04-22T00:00:00",
          "2021-04-23T00:00:00",
          "2021-04-26T00:00:00",
          "2021-04-27T00:00:00",
          "2021-04-28T00:00:00",
          "2021-04-29T00:00:00",
          "2021-04-30T00:00:00",
          "2021-05-03T00:00:00",
          "2021-05-04T00:00:00",
          "2021-05-05T00:00:00",
          "2021-05-06T00:00:00",
          "2021-05-07T00:00:00",
          "2021-05-10T00:00:00",
          "2021-05-11T00:00:00",
          "2021-05-12T00:00:00",
          "2021-05-13T00:00:00",
          "2021-05-14T00:00:00",
          "2021-05-17T00:00:00",
          "2021-05-18T00:00:00",
          "2021-05-19T00:00:00",
          "2021-05-20T00:00:00",
          "2021-05-21T00:00:00",
          "2021-05-24T00:00:00",
          "2021-05-25T00:00:00",
          "2021-05-26T00:00:00",
          "2021-05-27T00:00:00",
          "2021-05-28T00:00:00",
          "2021-06-01T00:00:00"
         ],
         "y": [
          0,
          -0.03461705301777517,
          -0.1305444490090973,
          0.015050948415835043,
          0.016777373383456553,
          0.08840195555673237,
          0.07959279093459039,
          0.06821604284403301,
          0.04780877974129901,
          0.057503345923579606,
          -0.043559081911262336,
          -0.004293940889381409,
          -0.001770668026966246,
          -0.02266487496911429,
          -0.10190345124232485,
          -0.09995567588466868,
          -0.10633018885639595,
          -0.1466577712224499,
          -0.11261614816277825,
          -0.03860115739843246,
          -0.003629889719277451,
          -0.0366533820407763,
          -0.014696733754455208,
          -0.030721502302462844,
          0.01416561440235192,
          0.0033200532105533273,
          0.003364363816553551,
          0.0301018292850146,
          -0.019743211932630046,
          0.010225820627694858,
          -0.043072138071848294,
          -0.06139882909223644,
          -0.07649402056741622,
          -0.03776006644429407,
          -0.03776006644429407,
          -0.029393535055565904,
          -0.003629889719277451,
          -0.007304090044555125,
          -0.014342586639730861,
          -0.04741032202057444,
          -0.07892867221783094,
          -0.11270470182812321,
          -0.15152720961659033,
          -0.1860114659096758,
          -0.20407256348068456,
          -0.2017263979489593,
          -0.2599380381019876,
          -0.21841521766707092,
          -0.26228420363371285,
          -0.3007082537014554,
          -0.2487826404014649,
          -0.24785299578198156,
          -0.24271796393846176,
          -0.23939791072790842,
          -0.19318282677619672,
          -0.18946431584491882,
          -0.16086762868414656,
          -0.16024788812004284,
          -0.14741030851124334,
          -0.1273571925232337,
          -0.0911465112625267,
          -0.08778214744597315
         ]
        },
        {
         "name": "KGC",
         "type": "scatter",
         "x": [
          "2021-03-04T00:00:00",
          "2021-03-05T00:00:00",
          "2021-03-08T00:00:00",
          "2021-03-09T00:00:00",
          "2021-03-10T00:00:00",
          "2021-03-11T00:00:00",
          "2021-03-12T00:00:00",
          "2021-03-15T00:00:00",
          "2021-03-16T00:00:00",
          "2021-03-17T00:00:00",
          "2021-03-18T00:00:00",
          "2021-03-19T00:00:00",
          "2021-03-22T00:00:00",
          "2021-03-23T00:00:00",
          "2021-03-24T00:00:00",
          "2021-03-25T00:00:00",
          "2021-03-26T00:00:00",
          "2021-03-29T00:00:00",
          "2021-03-30T00:00:00",
          "2021-03-31T00:00:00",
          "2021-04-01T00:00:00",
          "2021-04-05T00:00:00",
          "2021-04-06T00:00:00",
          "2021-04-07T00:00:00",
          "2021-04-08T00:00:00",
          "2021-04-09T00:00:00",
          "2021-04-12T00:00:00",
          "2021-04-13T00:00:00",
          "2021-04-14T00:00:00",
          "2021-04-15T00:00:00",
          "2021-04-16T00:00:00",
          "2021-04-19T00:00:00",
          "2021-04-20T00:00:00",
          "2021-04-21T00:00:00",
          "2021-04-22T00:00:00",
          "2021-04-23T00:00:00",
          "2021-04-26T00:00:00",
          "2021-04-27T00:00:00",
          "2021-04-28T00:00:00",
          "2021-04-29T00:00:00",
          "2021-04-30T00:00:00",
          "2021-05-03T00:00:00",
          "2021-05-04T00:00:00",
          "2021-05-05T00:00:00",
          "2021-05-06T00:00:00",
          "2021-05-07T00:00:00",
          "2021-05-10T00:00:00",
          "2021-05-11T00:00:00",
          "2021-05-12T00:00:00",
          "2021-05-13T00:00:00",
          "2021-05-14T00:00:00",
          "2021-05-17T00:00:00",
          "2021-05-18T00:00:00",
          "2021-05-19T00:00:00",
          "2021-05-20T00:00:00",
          "2021-05-21T00:00:00",
          "2021-05-24T00:00:00",
          "2021-05-25T00:00:00",
          "2021-05-26T00:00:00",
          "2021-05-27T00:00:00",
          "2021-05-28T00:00:00",
          "2021-06-01T00:00:00"
         ],
         "y": [
          0,
          0.015503935570056991,
          -0.0015503492000594383,
          0.027907024883507568,
          0.031007797211870216,
          0.055813975838771374,
          0.043410886525320797,
          0.06666671595216252,
          0.06666671595216252,
          0.09457366690742632,
          0.06046517129543722,
          0.0728682606088878,
          0.07596903293725045,
          0.041860463397017586,
          0.027907024883507568,
          0.018604707898419635,
          0.041860463397017586,
          0.041860463397017586,
          -0.0015503492000594383,
          0.03410856954023286,
          0.08837212225070103,
          0.09147289457906367,
          0.12403104099099332,
          0.11162795167754275,
          0.15658918740292296,
          0.14883721961789448,
          0.12093026866263068,
          0.1379845534327471,
          0.11007752854923954,
          0.15658918740292296,
          0.16279073205964825,
          0.15503876427461977,
          0.17674424450140205,
          0.19689922767163737,
          0.16899227671637354,
          0.13953490263280655,
          0.13953490263280655,
          0.11007752854923954,
          0.12248061786269011,
          0.10232563469245481,
          0.09147289457906367,
          0.1426356749611692,
          0.12403104099099332,
          0.1317830087760218,
          0.17674424450140205,
          0.2,
          0.2,
          0.18759691068654943,
          0.13488378110438445,
          0.16279073205964825,
          0.20620161858496905,
          0.2806202283939163,
          0.274418683737191,
          0.24186053732526136,
          0.258914748167134,
          0.24651165885368342,
          0.24651165885368342,
          0.25116278038210554,
          0.25581404976701516,
          0.2356589187402923,
          0.25581404976701516,
          0.2604651712954372
         ]
        },
        {
         "name": "SQ",
         "type": "scatter",
         "x": [
          "2021-03-04T00:00:00",
          "2021-03-05T00:00:00",
          "2021-03-08T00:00:00",
          "2021-03-09T00:00:00",
          "2021-03-10T00:00:00",
          "2021-03-11T00:00:00",
          "2021-03-12T00:00:00",
          "2021-03-15T00:00:00",
          "2021-03-16T00:00:00",
          "2021-03-17T00:00:00",
          "2021-03-18T00:00:00",
          "2021-03-19T00:00:00",
          "2021-03-22T00:00:00",
          "2021-03-23T00:00:00",
          "2021-03-24T00:00:00",
          "2021-03-25T00:00:00",
          "2021-03-26T00:00:00",
          "2021-03-29T00:00:00",
          "2021-03-30T00:00:00",
          "2021-03-31T00:00:00",
          "2021-04-01T00:00:00",
          "2021-04-05T00:00:00",
          "2021-04-06T00:00:00",
          "2021-04-07T00:00:00",
          "2021-04-08T00:00:00",
          "2021-04-09T00:00:00",
          "2021-04-12T00:00:00",
          "2021-04-13T00:00:00",
          "2021-04-14T00:00:00",
          "2021-04-15T00:00:00",
          "2021-04-16T00:00:00",
          "2021-04-19T00:00:00",
          "2021-04-20T00:00:00",
          "2021-04-21T00:00:00",
          "2021-04-22T00:00:00",
          "2021-04-23T00:00:00",
          "2021-04-26T00:00:00",
          "2021-04-27T00:00:00",
          "2021-04-28T00:00:00",
          "2021-04-29T00:00:00",
          "2021-04-30T00:00:00",
          "2021-05-03T00:00:00",
          "2021-05-04T00:00:00",
          "2021-05-05T00:00:00",
          "2021-05-06T00:00:00",
          "2021-05-07T00:00:00",
          "2021-05-10T00:00:00",
          "2021-05-11T00:00:00",
          "2021-05-12T00:00:00",
          "2021-05-13T00:00:00",
          "2021-05-14T00:00:00",
          "2021-05-17T00:00:00",
          "2021-05-18T00:00:00",
          "2021-05-19T00:00:00",
          "2021-05-20T00:00:00",
          "2021-05-21T00:00:00",
          "2021-05-24T00:00:00",
          "2021-05-25T00:00:00",
          "2021-05-26T00:00:00",
          "2021-05-27T00:00:00",
          "2021-05-28T00:00:00",
          "2021-06-01T00:00:00"
         ],
         "y": [
          0,
          -0.00901973896649354,
          -0.07572917113499092,
          0.030584646141554556,
          0.03809345692013773,
          0.10672586954696187,
          0.10851149924848316,
          0.15026780603055057,
          0.11423468032554504,
          0.12847395763979702,
          0.026967626440593563,
          0.02944000992614218,
          0.035346371920978184,
          0.021931199147559005,
          -0.02243491173991272,
          -0.0455107471028841,
          -0.022022789606446068,
          -0.051417109097720105,
          -0.025548288711570256,
          0.03955862481012969,
          0.05082180604647933,
          0.05283637696369315,
          0.08282585978010745,
          0.12229289413135008,
          0.182958613548206,
          0.19797623510537235,
          0.2142301531998884,
          0.2509958628498899,
          0.18309596430501146,
          0.20452352072326702,
          0.1725653670136578,
          0.12325441929203859,
          0.12403276353495298,
          0.1228881273195406,
          0.12224713383343168,
          0.12829077672202288,
          0.17105443882574745,
          0.16198886969828524,
          0.1638660898586936,
          0.13438024977158275,
          0.12091938656329543,
          0.11569977835248675,
          0.058513797742836625,
          0.061627174714494165,
          0.025410937954764793,
          0.06840347141113161,
          -0.009065569127462201,
          0.010255895777742722,
          -0.053752141826463255,
          -0.09743142906685741,
          -0.04834942256093071,
          -0.0709216850576489,
          -0.06982280914015492,
          -0.08378738494079596,
          -0.06181035563226829,
          -0.084245267372181,
          -0.03415597540764741,
          -0.010118614883987515,
          0.017993647772018423,
          0.011400531993155098,
          0.01881782217590147,
          0.016208018070497127
         ]
        },
        {
         "name": "CHPT",
         "type": "scatter",
         "x": [
          "2021-03-04T00:00:00",
          "2021-03-05T00:00:00",
          "2021-03-08T00:00:00",
          "2021-03-09T00:00:00",
          "2021-03-10T00:00:00",
          "2021-03-11T00:00:00",
          "2021-03-12T00:00:00",
          "2021-03-15T00:00:00",
          "2021-03-16T00:00:00",
          "2021-03-17T00:00:00",
          "2021-03-18T00:00:00",
          "2021-03-19T00:00:00",
          "2021-03-22T00:00:00",
          "2021-03-23T00:00:00",
          "2021-03-24T00:00:00",
          "2021-03-25T00:00:00",
          "2021-03-26T00:00:00",
          "2021-03-29T00:00:00",
          "2021-03-30T00:00:00",
          "2021-03-31T00:00:00",
          "2021-04-01T00:00:00",
          "2021-04-05T00:00:00",
          "2021-04-06T00:00:00",
          "2021-04-07T00:00:00",
          "2021-04-08T00:00:00",
          "2021-04-09T00:00:00",
          "2021-04-12T00:00:00",
          "2021-04-13T00:00:00",
          "2021-04-14T00:00:00",
          "2021-04-15T00:00:00",
          "2021-04-16T00:00:00",
          "2021-04-19T00:00:00",
          "2021-04-20T00:00:00",
          "2021-04-21T00:00:00",
          "2021-04-22T00:00:00",
          "2021-04-23T00:00:00",
          "2021-04-26T00:00:00",
          "2021-04-27T00:00:00",
          "2021-04-28T00:00:00",
          "2021-04-29T00:00:00",
          "2021-04-30T00:00:00",
          "2021-05-03T00:00:00",
          "2021-05-04T00:00:00",
          "2021-05-05T00:00:00",
          "2021-05-06T00:00:00",
          "2021-05-07T00:00:00",
          "2021-05-10T00:00:00",
          "2021-05-11T00:00:00",
          "2021-05-12T00:00:00",
          "2021-05-13T00:00:00",
          "2021-05-14T00:00:00",
          "2021-05-17T00:00:00",
          "2021-05-18T00:00:00",
          "2021-05-19T00:00:00",
          "2021-05-20T00:00:00",
          "2021-05-21T00:00:00",
          "2021-05-24T00:00:00",
          "2021-05-25T00:00:00",
          "2021-05-26T00:00:00",
          "2021-05-27T00:00:00",
          "2021-05-28T00:00:00",
          "2021-06-01T00:00:00"
         ],
         "y": [
          0,
          0.07930607802151295,
          0.060718763993920434,
          0.1763734249995194,
          0.18256919634205027,
          0.25691868880294133,
          0.14993809192018412,
          0.07021895197136818,
          0.02023964052031149,
          -0.008261002195538774,
          -0.008674064122841765,
          -0.028913625859646238,
          0.021065685591410456,
          -0.052870666158670615,
          -0.1453944107198512,
          -0.1652209893128597,
          -0.15406855362619998,
          -0.13589422274240345,
          -0.07228418282437613,
          0.10285013517674134,
          0.23254858657661398,
          0.16232963460524577,
          0.2841801457368826,
          0.17843873463603438,
          0.18050396548904232,
          0.1420900728684413,
          0.05947957821201146,
          0.025609288008236343,
          -0.03263110442186614,
          -0.013217666539667654,
          -0.0801321230926119,
          -0.1069805180992502,
          -0.16563397245665568,
          -0.11648078486020497,
          -0.0883932040716577,
          0.007021895197136818,
          0.09169769949008164,
          0.038826954547904,
          0.08756715900055874,
          0.031805059350767176,
          0.04584884974504082,
          -0.026022271152032313,
          -0.04502264710692781,
          -0.04502264710692781,
          -0.07063193511516415,
          -0.0652622876272393,
          -0.11854601571321291,
          -0.08384960165483181,
          -0.13506809888779747,
          -0.1652209893128597,
          -0.09087149685196863,
          -0.046674894816139775,
          -0.019000375954895496,
          -0.01693514510188756,
          0.005369726271431871,
          -0.021891730662509417,
          -0.03345722827647212,
          -0.0495662495237537,
          0.0346964140583811,
          0.04626191167234381,
          0.005782788198734863,
          0.07228418282437613
         ]
        },
        {
         "name": "PLUG",
         "type": "scatter",
         "x": [
          "2021-03-04T00:00:00",
          "2021-03-05T00:00:00",
          "2021-03-08T00:00:00",
          "2021-03-09T00:00:00",
          "2021-03-10T00:00:00",
          "2021-03-11T00:00:00",
          "2021-03-12T00:00:00",
          "2021-03-15T00:00:00",
          "2021-03-16T00:00:00",
          "2021-03-17T00:00:00",
          "2021-03-18T00:00:00",
          "2021-03-19T00:00:00",
          "2021-03-22T00:00:00",
          "2021-03-23T00:00:00",
          "2021-03-24T00:00:00",
          "2021-03-25T00:00:00",
          "2021-03-26T00:00:00",
          "2021-03-29T00:00:00",
          "2021-03-30T00:00:00",
          "2021-03-31T00:00:00",
          "2021-04-01T00:00:00",
          "2021-04-05T00:00:00",
          "2021-04-06T00:00:00",
          "2021-04-07T00:00:00",
          "2021-04-08T00:00:00",
          "2021-04-09T00:00:00",
          "2021-04-12T00:00:00",
          "2021-04-13T00:00:00",
          "2021-04-14T00:00:00",
          "2021-04-15T00:00:00",
          "2021-04-16T00:00:00",
          "2021-04-19T00:00:00",
          "2021-04-20T00:00:00",
          "2021-04-21T00:00:00",
          "2021-04-22T00:00:00",
          "2021-04-23T00:00:00",
          "2021-04-26T00:00:00",
          "2021-04-27T00:00:00",
          "2021-04-28T00:00:00",
          "2021-04-29T00:00:00",
          "2021-04-30T00:00:00",
          "2021-05-03T00:00:00",
          "2021-05-04T00:00:00",
          "2021-05-05T00:00:00",
          "2021-05-06T00:00:00",
          "2021-05-07T00:00:00",
          "2021-05-10T00:00:00",
          "2021-05-11T00:00:00",
          "2021-05-12T00:00:00",
          "2021-05-13T00:00:00",
          "2021-05-14T00:00:00",
          "2021-05-17T00:00:00",
          "2021-05-18T00:00:00",
          "2021-05-19T00:00:00",
          "2021-05-20T00:00:00",
          "2021-05-21T00:00:00",
          "2021-05-24T00:00:00",
          "2021-05-25T00:00:00",
          "2021-05-26T00:00:00",
          "2021-05-27T00:00:00",
          "2021-05-28T00:00:00",
          "2021-06-01T00:00:00"
         ],
         "y": [
          0,
          -0.017991034794289925,
          -0.047726132572834076,
          0.05747124464648423,
          0.07021492606569649,
          0.20339828327186638,
          0.18065965666009245,
          0.16091950407411,
          0.0664667620436292,
          -0.01724134479801407,
          -0.09145426800468935,
          -0.043478302312943765,
          -0.02773614686794008,
          -0.08070963281585183,
          -0.17041478302884863,
          -0.14792608485575687,
          -0.14967520264744943,
          -0.2308845493610096,
          -0.14942527420876728,
          -0.10444778254281312,
          -0.11894058175371792,
          -0.16441783497726575,
          -0.13368321408353423,
          -0.2013993323612623,
          -0.18490758223975343,
          -0.19290357652171103,
          -0.25837081545015284,
          -0.26811592752380303,
          -0.2906047210166654,
          -0.34807596566314963,
          -0.3193403433399075,
          -0.36931535526202786,
          -0.369065474483231,
          -0.3218391034679906,
          -0.3378310920319058,
          -0.3008495946479093,
          -0.26811592752380303,
          -0.28660672387568664,
          -0.27886056271264054,
          -0.29360319504245685,
          -0.28760619933098863,
          -0.3345827372273175,
          -0.38530734382594306,
          -0.3930534573291038,
          -0.4362818788632507,
          -0.4240380066615175,
          -0.4985007629871043,
          -0.4102948497870032,
          -0.44427787314520834,
          -0.45127439197186386,
          -0.38580710538353674,
          -0.37681158798639175,
          -0.32483757749378206,
          -0.3135932284072362,
          -0.3135932284072362,
          -0.3030984739971955,
          -0.32033981879520956,
          -0.3050974725676849,
          -0.258120934671356,
          -0.25212393895988783,
          -0.232883547931499,
          -0.22813595611401502
         ]
        },
        {
         "name": "MP",
         "type": "scatter",
         "x": [
          "2021-05-14T00:00:00",
          "2021-05-17T00:00:00",
          "2021-05-18T00:00:00",
          "2021-05-19T00:00:00",
          "2021-05-20T00:00:00",
          "2021-05-21T00:00:00",
          "2021-05-24T00:00:00",
          "2021-05-25T00:00:00",
          "2021-05-26T00:00:00",
          "2021-05-27T00:00:00",
          "2021-05-28T00:00:00",
          "2021-06-01T00:00:00"
         ],
         "y": [
          0,
          0.05011482034730966,
          0.07459834768441741,
          0.0478194349344555,
          0.05011482034730966,
          0.013389456374980955,
          0.013006892139505262,
          -0.009946451222366794,
          0.045906686723744115,
          0.07306809074251464,
          0.07421578344894172,
          0.08301454196488144
         ]
        },
        {
         "name": "SFT",
         "type": "scatter",
         "x": [
          "2021-03-04T00:00:00",
          "2021-03-05T00:00:00",
          "2021-03-08T00:00:00",
          "2021-03-09T00:00:00",
          "2021-03-10T00:00:00",
          "2021-03-11T00:00:00",
          "2021-03-12T00:00:00",
          "2021-03-15T00:00:00",
          "2021-03-16T00:00:00",
          "2021-03-17T00:00:00",
          "2021-03-18T00:00:00",
          "2021-03-19T00:00:00",
          "2021-03-22T00:00:00",
          "2021-03-23T00:00:00",
          "2021-03-24T00:00:00",
          "2021-03-25T00:00:00",
          "2021-03-26T00:00:00",
          "2021-03-29T00:00:00",
          "2021-03-30T00:00:00",
          "2021-03-31T00:00:00",
          "2021-04-01T00:00:00",
          "2021-04-05T00:00:00",
          "2021-04-06T00:00:00",
          "2021-04-07T00:00:00",
          "2021-04-08T00:00:00",
          "2021-04-09T00:00:00",
          "2021-04-12T00:00:00",
          "2021-04-13T00:00:00",
          "2021-04-14T00:00:00",
          "2021-04-15T00:00:00",
          "2021-04-16T00:00:00",
          "2021-04-19T00:00:00",
          "2021-04-20T00:00:00",
          "2021-04-21T00:00:00",
          "2021-04-22T00:00:00",
          "2021-04-23T00:00:00",
          "2021-04-26T00:00:00",
          "2021-04-27T00:00:00",
          "2021-04-28T00:00:00",
          "2021-04-29T00:00:00",
          "2021-04-30T00:00:00",
          "2021-05-03T00:00:00",
          "2021-05-04T00:00:00",
          "2021-05-05T00:00:00",
          "2021-05-06T00:00:00",
          "2021-05-07T00:00:00",
          "2021-05-10T00:00:00",
          "2021-05-11T00:00:00",
          "2021-05-12T00:00:00",
          "2021-05-13T00:00:00",
          "2021-05-14T00:00:00",
          "2021-05-17T00:00:00",
          "2021-05-18T00:00:00",
          "2021-05-19T00:00:00",
          "2021-05-20T00:00:00",
          "2021-05-21T00:00:00",
          "2021-05-24T00:00:00",
          "2021-05-25T00:00:00",
          "2021-05-26T00:00:00",
          "2021-05-27T00:00:00",
          "2021-05-28T00:00:00",
          "2021-06-01T00:00:00"
         ],
         "y": [
          0,
          -0.006203497286820375,
          -0.04714647289015246,
          0.0037220510433444956,
          0.06079401310272717,
          0.18486348555165738,
          0.2593050980278939,
          0.214640130542152,
          0.11414380579689601,
          0.13275429765735713,
          0.09677415538004215,
          0.09429270913656627,
          0.07940438664131896,
          0.04094291644239742,
          -0.011166330612837474,
          0.04342424436400398,
          0.049627741650824356,
          0.0037220510433444956,
          0,
          0.03225797291210117,
          0.016128927295115923,
          0.058312566859251284,
          0.04838701852908642,
          0.028535921868756673,
          0.06823811518941615,
          0.08312643768466346,
          0.058312566859251284,
          0.017990011977722833,
          -0.007444220408558315,
          -0.05334991101603818,
          -0.05583129809857939,
          -0.08933005329335317,
          -0.1389578541051122,
          -0.11166259619715878,
          -0.1141439832797,
          -0.0756824539198438,
          -0.017369768738723187,
          0.04218352124226604,
          0.08684860704987728,
          0.06699751038954754,
          0.04590569060747986,
          0.06699751038954754,
          0.10421825746673115,
          0.09801487850178009,
          0.049627741650824356,
          -0.008684943530296255,
          -0.027295317068888058,
          -0.03349881435570843,
          -0.0818858920457295,
          -0.09305216349763232,
          -0.05024816237262799,
          -0.03225809123397049,
          -0.054590634137776116,
          -0.08312661516746744,
          -0.06451618246794098,
          -0.07320106683730258,
          -0.1799007705475096,
          -0.17121594533908266,
          -0.12531019557066814,
          -0.10669982203207636,
          -0.12158814452732365,
          -0.08684866621081194
         ]
        },
        {
         "name": "ARKG",
         "type": "scatter",
         "x": [
          "2021-03-04T00:00:00",
          "2021-03-05T00:00:00",
          "2021-03-08T00:00:00",
          "2021-03-09T00:00:00",
          "2021-03-10T00:00:00",
          "2021-03-11T00:00:00",
          "2021-03-12T00:00:00",
          "2021-03-15T00:00:00",
          "2021-03-16T00:00:00",
          "2021-03-17T00:00:00",
          "2021-03-18T00:00:00",
          "2021-03-19T00:00:00",
          "2021-03-22T00:00:00",
          "2021-03-23T00:00:00",
          "2021-03-24T00:00:00",
          "2021-03-25T00:00:00",
          "2021-03-26T00:00:00",
          "2021-03-29T00:00:00",
          "2021-03-30T00:00:00",
          "2021-03-31T00:00:00",
          "2021-04-01T00:00:00",
          "2021-04-05T00:00:00",
          "2021-04-06T00:00:00",
          "2021-04-07T00:00:00",
          "2021-04-08T00:00:00",
          "2021-04-09T00:00:00",
          "2021-04-12T00:00:00",
          "2021-04-13T00:00:00",
          "2021-04-14T00:00:00",
          "2021-04-15T00:00:00",
          "2021-04-16T00:00:00",
          "2021-04-19T00:00:00",
          "2021-04-20T00:00:00",
          "2021-04-21T00:00:00",
          "2021-04-22T00:00:00",
          "2021-04-23T00:00:00",
          "2021-04-26T00:00:00",
          "2021-04-27T00:00:00",
          "2021-04-28T00:00:00",
          "2021-04-29T00:00:00",
          "2021-04-30T00:00:00",
          "2021-05-03T00:00:00",
          "2021-05-04T00:00:00",
          "2021-05-05T00:00:00",
          "2021-05-06T00:00:00",
          "2021-05-07T00:00:00",
          "2021-05-10T00:00:00",
          "2021-05-11T00:00:00",
          "2021-05-12T00:00:00",
          "2021-05-13T00:00:00",
          "2021-05-14T00:00:00",
          "2021-05-17T00:00:00",
          "2021-05-18T00:00:00",
          "2021-05-19T00:00:00",
          "2021-05-20T00:00:00",
          "2021-05-21T00:00:00",
          "2021-05-24T00:00:00",
          "2021-05-25T00:00:00",
          "2021-05-26T00:00:00",
          "2021-05-27T00:00:00",
          "2021-05-28T00:00:00",
          "2021-06-01T00:00:00"
         ],
         "y": [
          0,
          0.00011749250033092377,
          -0.039821443662883815,
          0.03359568545312896,
          0.036649863118100395,
          0.09479619352977493,
          0.07835082830420323,
          0.10254908538227497,
          0.08422419863348425,
          0.09232938874593918,
          0.041466069805959925,
          0.06742635590691977,
          0.0915071204846606,
          0.04921887203794103,
          -0.004816117067340589,
          -0.001879431902700078,
          -0.00646065358989776,
          -0.024315749578402674,
          -0.008340175113116778,
          0.04228833806723851,
          0.051450781441633876,
          0.06648659514531026,
          0.06660408764564119,
          0.03065900028848845,
          0.041700965186102834,
          0.03065900028848845,
          0.017502708108031083,
          0.04921887203794103,
          0.05098090106082912,
          0.061200508076645975,
          0.04193586056624574,
          0.01773760348817399,
          0.00869265261410955,
          0.03512281909587415,
          0.039175369341842146,
          0.05227304970291246,
          0.08469398939377007,
          0.08257966211092709,
          0.07576653102003655,
          0.05297782546386012,
          0.04393287458979568,
          0.015975574465285896,
          -0.020086915771678822,
          -0.035710102356490886,
          -0.062140268838255484,
          -0.05004105067870067,
          -0.1057206659270584,
          -0.09632323755200119,
          -0.11911194310817762,
          -0.13497002507313258,
          -0.10066956385905595,
          -0.10266648826208696,
          -0.08492888477391297,
          -0.10172672750047745,
          -0.07470927775809612,
          -0.07940790232510578,
          -0.07153760759279376,
          -0.0663690130244604,
          -0.05051093105950542,
          -0.0446375607302244,
          -0.03970395116255289,
          -0.04498994861069824
         ]
        },
        {
         "name": "ROKU",
         "type": "scatter",
         "x": [
          "2021-03-04T00:00:00",
          "2021-03-05T00:00:00",
          "2021-03-08T00:00:00",
          "2021-03-09T00:00:00",
          "2021-03-10T00:00:00",
          "2021-03-11T00:00:00",
          "2021-03-12T00:00:00",
          "2021-03-15T00:00:00",
          "2021-03-16T00:00:00",
          "2021-03-17T00:00:00",
          "2021-03-18T00:00:00",
          "2021-03-19T00:00:00",
          "2021-03-22T00:00:00",
          "2021-03-23T00:00:00",
          "2021-03-24T00:00:00",
          "2021-03-25T00:00:00",
          "2021-03-26T00:00:00",
          "2021-03-29T00:00:00",
          "2021-03-30T00:00:00",
          "2021-03-31T00:00:00",
          "2021-04-01T00:00:00",
          "2021-04-05T00:00:00",
          "2021-04-06T00:00:00",
          "2021-04-07T00:00:00",
          "2021-04-08T00:00:00",
          "2021-04-09T00:00:00",
          "2021-04-12T00:00:00",
          "2021-04-13T00:00:00",
          "2021-04-14T00:00:00",
          "2021-04-15T00:00:00",
          "2021-04-16T00:00:00",
          "2021-04-19T00:00:00",
          "2021-04-20T00:00:00",
          "2021-04-21T00:00:00",
          "2021-04-22T00:00:00",
          "2021-04-23T00:00:00",
          "2021-04-26T00:00:00",
          "2021-04-27T00:00:00",
          "2021-04-28T00:00:00",
          "2021-04-29T00:00:00",
          "2021-04-30T00:00:00",
          "2021-05-03T00:00:00",
          "2021-05-04T00:00:00",
          "2021-05-05T00:00:00",
          "2021-05-06T00:00:00",
          "2021-05-07T00:00:00",
          "2021-05-10T00:00:00",
          "2021-05-11T00:00:00",
          "2021-05-12T00:00:00",
          "2021-05-13T00:00:00",
          "2021-05-14T00:00:00",
          "2021-05-17T00:00:00",
          "2021-05-18T00:00:00",
          "2021-05-19T00:00:00",
          "2021-05-20T00:00:00",
          "2021-05-21T00:00:00",
          "2021-05-24T00:00:00",
          "2021-05-25T00:00:00",
          "2021-05-26T00:00:00",
          "2021-05-27T00:00:00",
          "2021-05-28T00:00:00",
          "2021-06-01T00:00:00"
         ],
         "y": [
          0,
          -0.017808038462914552,
          -0.09101266468851385,
          0.00322259509707718,
          -0.00947354784404912,
          0.00941793031225005,
          0.000027723983076670293,
          0.008251149103989693,
          -0.017696972964962143,
          0.024336654954767518,
          -0.0500069437131926,
          -0.034560361215521154,
          -0.010084747214078833,
          -0.049201337330334736,
          -0.11529378689430515,
          -0.11759971011057206,
          -0.14760384242535848,
          -0.16435616517796509,
          -0.13332412591877024,
          -0.09495769421921887,
          -0.07792753815608551,
          -0.08795666783836528,
          -0.0016113823313614545,
          0.005472985564367882,
          0.03536596759837902,
          0.038088598389024626,
          0.031032039259194823,
          0.07784411185838691,
          0.04086676192864644,
          0.07970551873437559,
          0.046034105416588034,
          0.0033337453778524546,
          -0.014168651008635808,
          -0.009251332065321435,
          -0.027476078102614685,
          -0.008556791180415982,
          0.02411443917603983,
          0.001944663608041549,
          -0.006139802466196664,
          -0.009029031503770886,
          -0.04717324742459458,
          -0.0684539903120364,
          -0.11212672454620418,
          -0.1549659588487917,
          -0.21050150565815126,
          -0.11932215793988593,
          -0.1626337173486512,
          -0.1273232824992484,
          -0.14424228828160648,
          -0.13988055117652276,
          -0.12223919574335969,
          -0.13201838566383509,
          -0.0956244263382248,
          -0.10865402012167692,
          -0.06659258343604772,
          -0.08140024258061278,
          -0.035366052381201885,
          -0.039588830439610805,
          -0.03044873343788751,
          -0.030337583157112238,
          -0.03678294291691232,
          -0.03400477937729052
         ]
        },
        {
         "name": "ETSY",
         "type": "scatter",
         "x": [
          "2021-03-04T00:00:00",
          "2021-03-05T00:00:00",
          "2021-03-08T00:00:00",
          "2021-03-09T00:00:00",
          "2021-03-10T00:00:00",
          "2021-03-11T00:00:00",
          "2021-03-12T00:00:00",
          "2021-03-15T00:00:00",
          "2021-03-16T00:00:00",
          "2021-03-17T00:00:00",
          "2021-03-18T00:00:00",
          "2021-03-19T00:00:00",
          "2021-03-22T00:00:00",
          "2021-03-23T00:00:00",
          "2021-03-24T00:00:00",
          "2021-03-25T00:00:00",
          "2021-03-26T00:00:00",
          "2021-03-29T00:00:00",
          "2021-03-30T00:00:00",
          "2021-03-31T00:00:00",
          "2021-04-01T00:00:00",
          "2021-04-05T00:00:00",
          "2021-04-06T00:00:00",
          "2021-04-07T00:00:00",
          "2021-04-08T00:00:00",
          "2021-04-09T00:00:00",
          "2021-04-12T00:00:00",
          "2021-04-13T00:00:00",
          "2021-04-14T00:00:00",
          "2021-04-15T00:00:00",
          "2021-04-16T00:00:00",
          "2021-04-19T00:00:00",
          "2021-04-20T00:00:00",
          "2021-04-21T00:00:00",
          "2021-04-22T00:00:00",
          "2021-04-23T00:00:00",
          "2021-04-26T00:00:00",
          "2021-04-27T00:00:00",
          "2021-04-28T00:00:00",
          "2021-04-29T00:00:00",
          "2021-04-30T00:00:00",
          "2021-05-03T00:00:00",
          "2021-05-04T00:00:00",
          "2021-05-05T00:00:00",
          "2021-05-06T00:00:00",
          "2021-05-07T00:00:00",
          "2021-05-10T00:00:00",
          "2021-05-11T00:00:00",
          "2021-05-12T00:00:00",
          "2021-05-13T00:00:00",
          "2021-05-14T00:00:00",
          "2021-05-17T00:00:00",
          "2021-05-18T00:00:00",
          "2021-05-19T00:00:00",
          "2021-05-20T00:00:00",
          "2021-05-21T00:00:00",
          "2021-05-24T00:00:00",
          "2021-05-25T00:00:00",
          "2021-05-26T00:00:00",
          "2021-05-27T00:00:00",
          "2021-05-28T00:00:00",
          "2021-06-01T00:00:00"
         ],
         "y": [
          0,
          0.011105486524279036,
          -0.03957602905162431,
          0.04386666791961784,
          0.03952542317527303,
          0.11479045701034656,
          0.11630485904222256,
          0.1268550673890033,
          0.09025739057615367,
          0.1026753948067125,
          0.05759711283076948,
          0.08738009603870757,
          0.10938918476166944,
          0.10888435840914844,
          0.005451724073654427,
          -0.009591161518090021,
          0.021302378044844663,
          -0.009035883340591721,
          0.00388687021680112,
          0.01802116080483216,
          0.05098430355145416,
          -0.0045432060956280065,
          0.03992926885215243,
          0.029883886857892693,
          0.08727911536306597,
          0.1033316536598524,
          0.1011105409498592,
          0.1308934471321103,
          0.1008076759486214,
          0.10696611070039302,
          0.11049974111666604,
          0.07617362883878694,
          0.044220061771519936,
          0.05885910168638499,
          0.06148406007325759,
          0.08324073561995896,
          0.03573945660842652,
          0.04740029833589084,
          0.0668854093476217,
          0.05401310761520616,
          0.0034830245399217205,
          -0.03730438749096681,
          -0.04871281604217064,
          -0.0682988307038561,
          -0.2040384259585192,
          -0.1645129257575592,
          -0.15633518559570356,
          -0.14265526953521623,
          -0.19565880147106737,
          -0.20954067888283792,
          -0.17662798796119322,
          -0.1661787602900541,
          -0.15572945559322796,
          -0.1649672232594159,
          -0.12993440030341957,
          -0.15416460173637467,
          -0.1661787602900541,
          -0.15673903127258296,
          -0.15083293267138484,
          -0.15830388512943627,
          -0.1684503248250246,
          -0.17486117275305674
         ]
        },
        {
         "name": "SUNW",
         "type": "scatter",
         "x": [
          "2021-03-04T00:00:00",
          "2021-03-05T00:00:00",
          "2021-03-08T00:00:00",
          "2021-03-09T00:00:00",
          "2021-03-10T00:00:00",
          "2021-03-11T00:00:00",
          "2021-03-12T00:00:00",
          "2021-03-15T00:00:00",
          "2021-03-16T00:00:00",
          "2021-03-17T00:00:00",
          "2021-03-18T00:00:00",
          "2021-03-19T00:00:00",
          "2021-03-22T00:00:00",
          "2021-03-23T00:00:00",
          "2021-03-24T00:00:00",
          "2021-03-25T00:00:00",
          "2021-03-26T00:00:00",
          "2021-03-29T00:00:00",
          "2021-03-30T00:00:00",
          "2021-03-31T00:00:00",
          "2021-04-01T00:00:00",
          "2021-04-05T00:00:00",
          "2021-04-06T00:00:00",
          "2021-04-07T00:00:00",
          "2021-04-08T00:00:00",
          "2021-04-09T00:00:00",
          "2021-04-12T00:00:00",
          "2021-04-13T00:00:00",
          "2021-04-14T00:00:00",
          "2021-04-15T00:00:00",
          "2021-04-16T00:00:00",
          "2021-04-19T00:00:00",
          "2021-04-20T00:00:00",
          "2021-04-21T00:00:00",
          "2021-04-22T00:00:00",
          "2021-04-23T00:00:00",
          "2021-04-26T00:00:00",
          "2021-04-27T00:00:00",
          "2021-04-28T00:00:00",
          "2021-04-29T00:00:00",
          "2021-04-30T00:00:00",
          "2021-05-03T00:00:00",
          "2021-05-04T00:00:00",
          "2021-05-05T00:00:00",
          "2021-05-06T00:00:00",
          "2021-05-07T00:00:00",
          "2021-05-10T00:00:00",
          "2021-05-11T00:00:00",
          "2021-05-12T00:00:00",
          "2021-05-13T00:00:00",
          "2021-05-14T00:00:00",
          "2021-05-17T00:00:00",
          "2021-05-18T00:00:00",
          "2021-05-19T00:00:00",
          "2021-05-20T00:00:00",
          "2021-05-21T00:00:00",
          "2021-05-24T00:00:00",
          "2021-05-25T00:00:00",
          "2021-05-26T00:00:00",
          "2021-05-27T00:00:00",
          "2021-05-28T00:00:00",
          "2021-06-01T00:00:00"
         ],
         "y": [
          0,
          -0.044104391202538715,
          -0.016201562291973882,
          0.1962196554943703,
          0.24572462468708364,
          0.42754276748741316,
          0.42754276748741316,
          0.3474348091479602,
          0.21782179577651883,
          0.2781278351103065,
          0.1881188314287458,
          0.30153019666893827,
          0.30063008603069663,
          0.18361836407681276,
          0.1719172691367719,
          0.19261929878067885,
          0.23492355454600938,
          0.10711076245105122,
          0.164716469870114,
          0.32133220151387865,
          0.5301530625865314,
          0.345634587871477,
          0.3834383762848745,
          0.290729126527864,
          0.2529253381144665,
          0.1989199015698201,
          0.0936093603952521,
          0.06300637124851251,
          0.04500450184078034,
          -0.03870381321236405,
          -0.03060298914673958,
          -0.07560749098751991,
          -0.10441043053632637,
          -0.04050403448884729,
          -0.03240321042322282,
          0.011701180779315893,
          0.10981100852650102,
          0.10261029509911818,
          0.09270933559628552,
          0.0360036529761893,
          0.007200713427382849,
          -0.06930688819837869,
          -0.09090902848052723,
          -0.12241221410478349,
          -0.21242121778634415,
          -0.1611161131564226,
          -0.2547254735516747,
          -0.2574257196271245,
          -0.2970296863973677,
          -0.3141314022472207,
          -0.27722772447206484,
          -0.32223218339320764,
          -0.24482442820956699,
          -0.2160215745000356,
          -0.2106209965098609,
          -0.2070206397961695,
          -0.23942393605866738,
          -0.2619261869790575,
          -0.21782179577651883,
          -0.19531954485612865,
          -0.22052204185196864,
          -0.15841578124169772
         ]
        },
        {
         "name": "DKNG",
         "type": "scatter",
         "x": [
          "2021-03-04T00:00:00",
          "2021-03-05T00:00:00",
          "2021-03-08T00:00:00",
          "2021-03-09T00:00:00",
          "2021-03-10T00:00:00",
          "2021-03-11T00:00:00",
          "2021-03-12T00:00:00",
          "2021-03-15T00:00:00",
          "2021-03-16T00:00:00",
          "2021-03-17T00:00:00",
          "2021-03-18T00:00:00",
          "2021-03-19T00:00:00",
          "2021-03-22T00:00:00",
          "2021-03-23T00:00:00",
          "2021-03-24T00:00:00",
          "2021-03-25T00:00:00",
          "2021-03-26T00:00:00",
          "2021-03-29T00:00:00",
          "2021-03-30T00:00:00",
          "2021-03-31T00:00:00",
          "2021-04-01T00:00:00",
          "2021-04-05T00:00:00",
          "2021-04-06T00:00:00",
          "2021-04-07T00:00:00",
          "2021-04-08T00:00:00",
          "2021-04-09T00:00:00",
          "2021-04-12T00:00:00",
          "2021-04-13T00:00:00",
          "2021-04-14T00:00:00",
          "2021-04-15T00:00:00",
          "2021-04-16T00:00:00",
          "2021-04-19T00:00:00",
          "2021-04-20T00:00:00",
          "2021-04-21T00:00:00",
          "2021-04-22T00:00:00",
          "2021-04-23T00:00:00",
          "2021-04-26T00:00:00",
          "2021-04-27T00:00:00",
          "2021-04-28T00:00:00",
          "2021-04-29T00:00:00",
          "2021-04-30T00:00:00",
          "2021-05-03T00:00:00",
          "2021-05-04T00:00:00",
          "2021-05-05T00:00:00",
          "2021-05-06T00:00:00",
          "2021-05-07T00:00:00",
          "2021-05-10T00:00:00",
          "2021-05-11T00:00:00",
          "2021-05-12T00:00:00",
          "2021-05-13T00:00:00",
          "2021-05-14T00:00:00",
          "2021-05-17T00:00:00",
          "2021-05-18T00:00:00",
          "2021-05-19T00:00:00",
          "2021-05-20T00:00:00",
          "2021-05-21T00:00:00",
          "2021-05-24T00:00:00",
          "2021-05-25T00:00:00",
          "2021-05-26T00:00:00",
          "2021-05-27T00:00:00",
          "2021-05-28T00:00:00",
          "2021-06-01T00:00:00"
         ],
         "y": [
          0,
          -0.03860441601581334,
          -0.022774993553340294,
          0.0046842338272024085,
          0.11920531555975646,
          0.15667906294373737,
          0.15894040020740222,
          0.09433048242580487,
          0.08447746010542022,
          0.14117269746419062,
          0.09206914516214004,
          0.16265552470264494,
          0.15845584554142236,
          0.12663544131660354,
          0.07623966108284781,
          0.06380230613269121,
          0.02729766808066997,
          -0.059925683954394925,
          -0.014698753830640628,
          -0.009368406037585644,
          0.01566792477941949,
          0.011629804918069656,
          0.030528176293113673,
          0.002907451229517414,
          -0.012921971232955633,
          0.006461016424887403,
          -0.06267163750085879,
          -0.04312709054314302,
          -0.048941993002177844,
          -0.07155548887246459,
          -0.06347924914976491,
          -0.08447746010542022,
          -0.1001453848848397,
          -0.050557277916809286,
          -0.07656277968259328,
          -0.061217911886100075,
          -0.043288649843015746,
          -0.04490387314082801,
          -0.03585852408616866,
          -0.07187854585539087,
          -0.0848005170883465,
          -0.07801644368053282,
          -0.09336131147702602,
          -0.09255369982811988,
          -0.16184785143691963,
          -0.21789697482983744,
          -0.2676465794809214,
          -0.28912940671937576,
          -0.319819080695543,
          -0.3379098404216809,
          -0.274915207554715,
          -0.2972056464420754,
          -0.28492972755815316,
          -0.29833631507390784,
          -0.28056855071387704,
          -0.27911482509911834,
          -0.2269423238844968,
          -0.21789697482983744,
          -0.20109838141858555,
          -0.1859150113051459,
          -0.19318363937893943,
          -0.19932159882090056
         ]
        },
        {
         "name": "BNGO",
         "type": "scatter",
         "x": [
          "2021-03-04T00:00:00",
          "2021-03-05T00:00:00",
          "2021-03-08T00:00:00",
          "2021-03-09T00:00:00",
          "2021-03-10T00:00:00",
          "2021-03-11T00:00:00",
          "2021-03-12T00:00:00",
          "2021-03-15T00:00:00",
          "2021-03-16T00:00:00",
          "2021-03-17T00:00:00",
          "2021-03-18T00:00:00",
          "2021-03-19T00:00:00",
          "2021-03-22T00:00:00",
          "2021-03-23T00:00:00",
          "2021-03-24T00:00:00",
          "2021-03-25T00:00:00",
          "2021-03-26T00:00:00",
          "2021-03-29T00:00:00",
          "2021-03-30T00:00:00",
          "2021-03-31T00:00:00",
          "2021-04-01T00:00:00",
          "2021-04-05T00:00:00",
          "2021-04-06T00:00:00",
          "2021-04-07T00:00:00",
          "2021-04-08T00:00:00",
          "2021-04-09T00:00:00",
          "2021-04-12T00:00:00",
          "2021-04-13T00:00:00",
          "2021-04-14T00:00:00",
          "2021-04-15T00:00:00",
          "2021-04-16T00:00:00",
          "2021-04-19T00:00:00",
          "2021-04-20T00:00:00",
          "2021-04-21T00:00:00",
          "2021-04-22T00:00:00",
          "2021-04-23T00:00:00",
          "2021-04-26T00:00:00",
          "2021-04-27T00:00:00",
          "2021-04-28T00:00:00",
          "2021-04-29T00:00:00",
          "2021-04-30T00:00:00",
          "2021-05-03T00:00:00",
          "2021-05-04T00:00:00",
          "2021-05-05T00:00:00",
          "2021-05-06T00:00:00",
          "2021-05-07T00:00:00",
          "2021-05-10T00:00:00",
          "2021-05-11T00:00:00",
          "2021-05-12T00:00:00",
          "2021-05-13T00:00:00",
          "2021-05-14T00:00:00",
          "2021-05-17T00:00:00",
          "2021-05-18T00:00:00",
          "2021-05-19T00:00:00",
          "2021-05-20T00:00:00",
          "2021-05-21T00:00:00",
          "2021-05-24T00:00:00",
          "2021-05-25T00:00:00",
          "2021-05-26T00:00:00",
          "2021-05-27T00:00:00",
          "2021-05-28T00:00:00",
          "2021-06-01T00:00:00"
         ],
         "y": [
          0,
          0.03623188355719686,
          0.12608693819340502,
          0.30724642508622285,
          0.2565217328206804,
          0.38115936250051746,
          0.35942028765166617,
          0.4014492670494679,
          0.2652173074747541,
          0.34637678745688855,
          0.2449275411394708,
          0.30869559538612373,
          0.3115942124132597,
          0.21304344490931076,
          0.07681155444143054,
          0.14492753422878743,
          0.1231883902731026,
          0.06521736276022091,
          0.11884053383923221,
          0.1710144655115091,
          0.13478258195431222,
          0.18405796570628669,
          0.13768112987461464,
          0.07246376711439372,
          0.09130436314977614,
          0.0565217189993137,
          -0.023188452469252815,
          -0.0014493085135679866,
          -0.0681159797873569,
          -0.11449274651219539,
          -0.17971017837924988,
          -0.23623189737856357,
          -0.22028984926348355,
          -0.14347829482205302,
          -0.1362318904678802,
          -0.10724641126485615,
          0.10434779423772018,
          0.02173914395568483,
          0.010144883167641637,
          -0.04202897939780167,
          -0.07681162354826411,
          -0.1318841031408434,
          -0.16086958234386745,
          -0.1971014659010643,
          -0.23043480153795876,
          -0.21594206193644672,
          -0.2739130203424949,
          -0.2579710413342484,
          -0.3130435209268277,
          -0.3608695961652342,
          -0.21739130134318116,
          -0.18840582214015708,
          -0.15652172590999705,
          -0.18840582214015708,
          -0.1855072742198547,
          -0.2000000138213667,
          -0.21159420550257635,
          -0.20579710966197154,
          -0.127536246706973,
          -0.09855076750394894,
          -0.10579710275128817,
          -0.08405795879560334
         ]
        },
        {
         "name": "IPOD",
         "type": "scatter",
         "x": [
          "2021-03-04T00:00:00",
          "2021-03-05T00:00:00",
          "2021-03-08T00:00:00",
          "2021-03-09T00:00:00",
          "2021-03-10T00:00:00",
          "2021-03-11T00:00:00",
          "2021-03-12T00:00:00",
          "2021-03-15T00:00:00",
          "2021-03-16T00:00:00",
          "2021-03-17T00:00:00",
          "2021-03-18T00:00:00",
          "2021-03-19T00:00:00",
          "2021-03-22T00:00:00",
          "2021-03-23T00:00:00",
          "2021-03-24T00:00:00",
          "2021-03-25T00:00:00",
          "2021-03-26T00:00:00",
          "2021-03-29T00:00:00",
          "2021-03-30T00:00:00",
          "2021-03-31T00:00:00",
          "2021-04-01T00:00:00",
          "2021-04-05T00:00:00",
          "2021-04-06T00:00:00",
          "2021-04-07T00:00:00",
          "2021-04-08T00:00:00",
          "2021-04-09T00:00:00",
          "2021-04-12T00:00:00",
          "2021-04-13T00:00:00",
          "2021-04-14T00:00:00",
          "2021-04-15T00:00:00",
          "2021-04-16T00:00:00",
          "2021-04-19T00:00:00",
          "2021-04-20T00:00:00",
          "2021-04-21T00:00:00",
          "2021-04-22T00:00:00",
          "2021-04-23T00:00:00",
          "2021-04-26T00:00:00",
          "2021-04-27T00:00:00",
          "2021-04-28T00:00:00",
          "2021-04-29T00:00:00",
          "2021-04-30T00:00:00",
          "2021-05-03T00:00:00",
          "2021-05-04T00:00:00",
          "2021-05-05T00:00:00",
          "2021-05-06T00:00:00",
          "2021-05-07T00:00:00",
          "2021-05-10T00:00:00",
          "2021-05-11T00:00:00",
          "2021-05-12T00:00:00",
          "2021-05-13T00:00:00",
          "2021-05-14T00:00:00",
          "2021-05-17T00:00:00",
          "2021-05-18T00:00:00",
          "2021-05-19T00:00:00",
          "2021-05-20T00:00:00",
          "2021-05-21T00:00:00",
          "2021-05-24T00:00:00",
          "2021-05-25T00:00:00",
          "2021-05-26T00:00:00",
          "2021-05-27T00:00:00",
          "2021-05-28T00:00:00",
          "2021-06-01T00:00:00"
         ],
         "y": [
          0,
          0.0016259759170101768,
          -0.06991874772484713,
          0.0024390026427632983,
          0.0008130267257531217,
          0.050406493979252544,
          0.07235767283311437,
          0.049593467253499425,
          -0.0162601468425821,
          -0.039024429956693106,
          -0.050406493979252544,
          -0.028455315125390724,
          -0.029268341851143846,
          -0.06829269427334089,
          -0.1016260146842582,
          -0.11382118296706684,
          -0.08943092393594565,
          -0.11869918825259343,
          -0.1016260146842582,
          -0.10894310014704417,
          -0.09186992657870895,
          -0.1040650173270215,
          -0.10325206813576446,
          -0.1040650173270215,
          -0.07723575565313702,
          -0.06422763817907134,
          -0.10243904141001133,
          -0.10569107077852775,
          -0.10813007342129105,
          -0.1121951295155606,
          -0.12032524170409968,
          -0.12764232716688564,
          -0.14146339383220838,
          -0.12682930044113253,
          -0.1235772710726161,
          -0.10975612687279729,
          -0.11382118296706684,
          -0.12195121762110986,
          -0.12276424434686298,
          -0.1121951295155606,
          -0.12439022026387316,
          -0.13577236182092867,
          -0.13495933509517552,
          -0.1552845380320272,
          -0.1674797063148358,
          -0.16260162349481314,
          -0.16666667958908268,
          -0.16829273304058892,
          -0.17479679177762175,
          -0.17479679177762175,
          -0.16504062613757645,
          -0.17398376505186863,
          -0.16341465022056625,
          -0.17398376505186863,
          -0.16016262085204983,
          -0.16016262085204983,
          -0.16016262085204983,
          -0.14715450337798416,
          -0.14959350602074745,
          -0.14552844992647793,
          -0.14390247400946773,
          -0.14796753010373728
         ]
        },
        {
         "name": "PINS",
         "type": "scatter",
         "x": [
          "2021-03-04T00:00:00",
          "2021-03-05T00:00:00",
          "2021-03-08T00:00:00",
          "2021-03-09T00:00:00",
          "2021-03-10T00:00:00",
          "2021-03-11T00:00:00",
          "2021-03-12T00:00:00",
          "2021-03-15T00:00:00",
          "2021-03-16T00:00:00",
          "2021-03-17T00:00:00",
          "2021-03-18T00:00:00",
          "2021-03-19T00:00:00",
          "2021-03-22T00:00:00",
          "2021-03-23T00:00:00",
          "2021-03-24T00:00:00",
          "2021-03-25T00:00:00",
          "2021-03-26T00:00:00",
          "2021-03-29T00:00:00",
          "2021-03-30T00:00:00",
          "2021-03-31T00:00:00",
          "2021-04-01T00:00:00",
          "2021-04-05T00:00:00",
          "2021-04-06T00:00:00",
          "2021-04-07T00:00:00",
          "2021-04-08T00:00:00",
          "2021-04-09T00:00:00",
          "2021-04-12T00:00:00",
          "2021-04-13T00:00:00",
          "2021-04-14T00:00:00",
          "2021-04-15T00:00:00",
          "2021-04-16T00:00:00",
          "2021-04-19T00:00:00",
          "2021-04-20T00:00:00",
          "2021-04-21T00:00:00",
          "2021-04-22T00:00:00",
          "2021-04-23T00:00:00",
          "2021-04-26T00:00:00",
          "2021-04-27T00:00:00",
          "2021-04-28T00:00:00",
          "2021-04-29T00:00:00",
          "2021-04-30T00:00:00",
          "2021-05-03T00:00:00",
          "2021-05-04T00:00:00",
          "2021-05-05T00:00:00",
          "2021-05-06T00:00:00",
          "2021-05-07T00:00:00",
          "2021-05-10T00:00:00",
          "2021-05-11T00:00:00",
          "2021-05-12T00:00:00",
          "2021-05-13T00:00:00",
          "2021-05-14T00:00:00",
          "2021-05-17T00:00:00",
          "2021-05-18T00:00:00",
          "2021-05-19T00:00:00",
          "2021-05-20T00:00:00",
          "2021-05-21T00:00:00",
          "2021-05-24T00:00:00",
          "2021-05-25T00:00:00",
          "2021-05-26T00:00:00",
          "2021-05-27T00:00:00",
          "2021-05-28T00:00:00",
          "2021-06-01T00:00:00"
         ],
         "y": [
          0,
          -0.010168462891926362,
          -0.09224280937285133,
          -0.019755854928895013,
          0.0018885079855959152,
          0.04416038752538514,
          0.04227199036772265,
          0.057379500112822834,
          0.07190593900296531,
          0.0887565504850052,
          0.007989585720751733,
          0.06057533440112353,
          0.050987831536221453,
          0.03486347550192863,
          0.011040124588329642,
          -0.009151616602733725,
          0.0033411297090234775,
          0.007844290300028948,
          0.006827444010836312,
          0.07539225330477815,
          0.12914014369506535,
          0.15528766720056175,
          0.20990710845931884,
          0.21731562332511287,
          0.24898326453874078,
          0.2424463005414166,
          0.21993038675845583,
          0.21876824504854042,
          0.21281235190617395,
          0.2264672399278466,
          0.10720518993912886,
          0.07364915156783844,
          0.036025617211844045,
          0.053312114956052294,
          0.04575830466953548,
          0.08933762133996291,
          0.11461370480492289,
          0.1269611556959573,
          -0.03646128181814555,
          -0.009151616602733725,
          -0.03588021096318784,
          -0.07452059160837486,
          -0.09500286822691709,
          -0.10183025682378669,
          -0.13974427119329322,
          -0.1304473591698367,
          -0.15223701750505042,
          -0.13262634716894478,
          -0.17024982611097245,
          -0.19450895245880637,
          -0.15674023351002261,
          -0.15601392264830882,
          -0.15339915921496586,
          -0.14831487235503596,
          -0.10894823626210186,
          -0.11592092027969424,
          -0.0861417316376955,
          -0.07379428074666108,
          -0.08570595620346058,
          -0.06594993503266543,
          -0.05142349614252295,
          -0.06493308874347278
         ]
        },
        {
         "name": "GHVI",
         "type": "scatter",
         "x": [
          "2021-03-04T00:00:00",
          "2021-03-05T00:00:00",
          "2021-03-08T00:00:00",
          "2021-03-09T00:00:00",
          "2021-03-10T00:00:00",
          "2021-03-11T00:00:00",
          "2021-03-12T00:00:00",
          "2021-03-15T00:00:00",
          "2021-03-16T00:00:00",
          "2021-03-17T00:00:00",
          "2021-03-18T00:00:00",
          "2021-03-19T00:00:00",
          "2021-03-22T00:00:00",
          "2021-03-23T00:00:00",
          "2021-03-24T00:00:00",
          "2021-03-25T00:00:00",
          "2021-03-26T00:00:00",
          "2021-03-29T00:00:00",
          "2021-03-30T00:00:00",
          "2021-03-31T00:00:00",
          "2021-04-01T00:00:00",
          "2021-04-05T00:00:00",
          "2021-04-06T00:00:00",
          "2021-04-07T00:00:00",
          "2021-04-08T00:00:00",
          "2021-04-09T00:00:00",
          "2021-04-12T00:00:00",
          "2021-04-13T00:00:00",
          "2021-04-14T00:00:00",
          "2021-04-15T00:00:00",
          "2021-04-16T00:00:00",
          "2021-04-19T00:00:00",
          "2021-04-20T00:00:00",
          "2021-04-21T00:00:00",
          "2021-04-22T00:00:00",
          "2021-04-23T00:00:00",
          "2021-04-26T00:00:00",
          "2021-04-27T00:00:00",
          "2021-04-28T00:00:00",
          "2021-04-29T00:00:00",
          "2021-04-30T00:00:00",
          "2021-05-03T00:00:00",
          "2021-05-04T00:00:00",
          "2021-05-05T00:00:00",
          "2021-05-06T00:00:00",
          "2021-05-07T00:00:00",
          "2021-05-10T00:00:00",
          "2021-05-11T00:00:00",
          "2021-05-12T00:00:00",
          "2021-05-13T00:00:00",
          "2021-05-14T00:00:00",
          "2021-05-17T00:00:00",
          "2021-05-18T00:00:00",
          "2021-05-19T00:00:00",
          "2021-05-20T00:00:00",
          "2021-05-21T00:00:00",
          "2021-05-24T00:00:00",
          "2021-05-25T00:00:00",
          "2021-05-26T00:00:00",
          "2021-05-27T00:00:00",
          "2021-05-28T00:00:00",
          "2021-06-01T00:00:00"
         ],
         "y": [
          0,
          0.04916789753411712,
          0.10892583595287175,
          0.20574880925973016,
          0.2821482920248807,
          0.2859303824976961,
          0.25945531635547814,
          0.2662631946285485,
          0.15128592735267013,
          0.1936459466137168,
          0.14901658650247887,
          0.20953097187129727,
          0.1936459466137168,
          0.1006051359184255,
          0.055219328857123794,
          0.08472011066084507,
          0.0642964758416338,
          0.002269268711439583,
          -0.015128578307516677,
          0.036308587938040024,
          0.06656581669182506,
          0.013615684407389172,
          0.055219328857123794,
          0.04311646621111045,
          0.04538573492255003,
          0.03177005051516086,
          0.022692903530650853,
          -0.015128578307516677,
          -0.019667187869147517,
          -0.03177005051516086,
          -0.046898628822677535,
          -0.083963735849533,
          -0.09606659849554633,
          -0.037065107026855455,
          -0.02647506614221794,
          0.021936456580587103,
          0.02118000963052335,
          0.04084719749967087,
          0.027987887903593772,
          -0.007564325223134176,
          -0.04160364444973462,
          -0.06354010103032172,
          -0.06127083231888214,
          -0.09833586720698592,
          -0.11875950202619719,
          -0.12102877073763676,
          -0.13842661775659304,
          -0.1406959586067843,
          -0.17624809959476057,
          -0.16414523694874722,
          -0.1354009020950897,
          -0.15658098386436473,
          -0.14372167426828764,
          -0.16036307433718014,
          -0.008320772173197929,
          0.04841145058405337,
          0.034039319226600445,
          0.0862329324222209,
          0.07413006977620756,
          0.1210286985988851,
          0.06656581669182506,
          0.051437166245556706
         ]
        },
        {
         "name": "UPWK",
         "type": "scatter",
         "x": [
          "2021-03-04T00:00:00",
          "2021-03-05T00:00:00",
          "2021-03-08T00:00:00",
          "2021-03-09T00:00:00",
          "2021-03-10T00:00:00",
          "2021-03-11T00:00:00",
          "2021-03-12T00:00:00",
          "2021-03-15T00:00:00",
          "2021-03-16T00:00:00",
          "2021-03-17T00:00:00",
          "2021-03-18T00:00:00",
          "2021-03-19T00:00:00",
          "2021-03-22T00:00:00",
          "2021-03-23T00:00:00",
          "2021-03-24T00:00:00",
          "2021-03-25T00:00:00",
          "2021-03-26T00:00:00",
          "2021-03-29T00:00:00",
          "2021-03-30T00:00:00",
          "2021-03-31T00:00:00",
          "2021-04-01T00:00:00",
          "2021-04-05T00:00:00",
          "2021-04-06T00:00:00",
          "2021-04-07T00:00:00",
          "2021-04-08T00:00:00",
          "2021-04-09T00:00:00",
          "2021-04-12T00:00:00",
          "2021-04-13T00:00:00",
          "2021-04-14T00:00:00",
          "2021-04-15T00:00:00",
          "2021-04-16T00:00:00",
          "2021-04-19T00:00:00",
          "2021-04-20T00:00:00",
          "2021-04-21T00:00:00",
          "2021-04-22T00:00:00",
          "2021-04-23T00:00:00",
          "2021-04-26T00:00:00",
          "2021-04-27T00:00:00",
          "2021-04-28T00:00:00",
          "2021-04-29T00:00:00",
          "2021-04-30T00:00:00",
          "2021-05-03T00:00:00",
          "2021-05-04T00:00:00",
          "2021-05-05T00:00:00",
          "2021-05-06T00:00:00",
          "2021-05-07T00:00:00",
          "2021-05-10T00:00:00",
          "2021-05-11T00:00:00",
          "2021-05-12T00:00:00",
          "2021-05-13T00:00:00",
          "2021-05-14T00:00:00",
          "2021-05-17T00:00:00",
          "2021-05-18T00:00:00",
          "2021-05-19T00:00:00",
          "2021-05-20T00:00:00",
          "2021-05-21T00:00:00",
          "2021-05-24T00:00:00",
          "2021-05-25T00:00:00",
          "2021-05-26T00:00:00",
          "2021-05-27T00:00:00",
          "2021-05-28T00:00:00",
          "2021-06-01T00:00:00"
         ],
         "y": [
          0,
          0.015373982120117266,
          -0.032354373631637165,
          0.04726933162095041,
          0.05736576170170154,
          0.12849927119852916,
          0.13171173984851153,
          0.12115646070336782,
          0.11060118155822411,
          0.12138588523556411,
          0.025470324667662678,
          0.04336850184117345,
          0.04933450254353989,
          0.03212477403302943,
          -0.023864177875877215,
          -0.0025241075201877833,
          0.014915045522518967,
          -0.054612229649317466,
          -0.026847221993663295,
          0.027306071058055874,
          0.06769152878144324,
          0.04222111658057484,
          0.08467183275975741,
          0.047728268218548704,
          0.11794399205338545,
          0.10050475147747298,
          0.10188156127026787,
          0.15465804452919216,
          0.11427258680580478,
          0.14823310722922742,
          0.12459835388554648,
          0.07159244609442592,
          0.012849874599929484,
          0.040614882255583656,
          0.03740241360560129,
          0.10417615672505365,
          0.12597516367834138,
          0.11955022637837663,
          0.1346947839662976,
          0.07136293402902391,
          0.05690682510410324,
          0.005966000702366443,
          -0.0146857085235284,
          -0.059889869221889325,
          -0.08122993957757875,
          -0.03533733021621752,
          -0.12322171915916302,
          -0.0633318499372737,
          -0.12391008028895761,
          -0.12826984666633287,
          -0.08237723730497164,
          -0.07870583205739097,
          -0.07709959773239979,
          -0.06677383065265809,
          -0.05208812212912969,
          -0.06103725448248793,
          -0.005966088235572165,
          0.007572235027357628,
          0.04038545772338737,
          0.08926111120253469,
          0.08008255431698015,
          0.11909128978077833
         ]
        },
        {
         "name": "COIN",
         "type": "scatter",
         "x": [
          "2021-04-14T00:00:00",
          "2021-04-15T00:00:00",
          "2021-04-16T00:00:00",
          "2021-04-19T00:00:00",
          "2021-04-20T00:00:00",
          "2021-04-21T00:00:00",
          "2021-04-22T00:00:00",
          "2021-04-23T00:00:00",
          "2021-04-26T00:00:00",
          "2021-04-27T00:00:00",
          "2021-04-28T00:00:00",
          "2021-04-29T00:00:00",
          "2021-04-30T00:00:00",
          "2021-05-03T00:00:00",
          "2021-05-04T00:00:00",
          "2021-05-05T00:00:00",
          "2021-05-06T00:00:00",
          "2021-05-07T00:00:00",
          "2021-05-10T00:00:00",
          "2021-05-11T00:00:00",
          "2021-05-12T00:00:00",
          "2021-05-13T00:00:00",
          "2021-05-14T00:00:00",
          "2021-05-17T00:00:00",
          "2021-05-18T00:00:00",
          "2021-05-19T00:00:00",
          "2021-05-20T00:00:00",
          "2021-05-21T00:00:00",
          "2021-05-24T00:00:00",
          "2021-05-25T00:00:00",
          "2021-05-26T00:00:00",
          "2021-05-27T00:00:00",
          "2021-05-28T00:00:00",
          "2021-06-01T00:00:00"
         ],
         "y": [
          0,
          -0.016845372242780775,
          0.041793594710980556,
          0.0143779737975337,
          -0.022724477527774966,
          -0.049835461838664566,
          -0.10609841203174207,
          -0.111733863811914,
          -0.07231628586161727,
          -0.08005360934878325,
          -0.09208605793450061,
          -0.10207752494891968,
          -0.09333490996951868,
          -0.10378337836879324,
          -0.14505908155922254,
          -0.16839283229211202,
          -0.21786276739252355,
          -0.19672227005119142,
          -0.10609841203174207,
          -0.07700742924728916,
          -0.1360729060370385,
          -0.19245763650150752,
          -0.2129584620508969,
          -0.24381623487193874,
          -0.27196295574291124,
          -0.3152187038879235,
          -0.289021582903686,
          -0.31658947563739187,
          -0.3136956138371764,
          -0.2615754704413717,
          -0.26428656887246066,
          -0.2473193698772687,
          -0.27945657924423534,
          -0.27217621066090525
         ]
        },
        {
         "name": "NIO",
         "type": "scatter",
         "x": [
          "2021-03-04T00:00:00",
          "2021-03-05T00:00:00",
          "2021-03-08T00:00:00",
          "2021-03-09T00:00:00",
          "2021-03-10T00:00:00",
          "2021-03-11T00:00:00",
          "2021-03-12T00:00:00",
          "2021-03-15T00:00:00",
          "2021-03-16T00:00:00",
          "2021-03-17T00:00:00",
          "2021-03-18T00:00:00",
          "2021-03-19T00:00:00",
          "2021-03-22T00:00:00",
          "2021-03-23T00:00:00",
          "2021-03-24T00:00:00",
          "2021-03-25T00:00:00",
          "2021-03-26T00:00:00",
          "2021-03-29T00:00:00",
          "2021-03-30T00:00:00",
          "2021-03-31T00:00:00",
          "2021-04-01T00:00:00",
          "2021-04-05T00:00:00",
          "2021-04-06T00:00:00",
          "2021-04-07T00:00:00",
          "2021-04-08T00:00:00",
          "2021-04-09T00:00:00",
          "2021-04-12T00:00:00",
          "2021-04-13T00:00:00",
          "2021-04-14T00:00:00",
          "2021-04-15T00:00:00",
          "2021-04-16T00:00:00",
          "2021-04-19T00:00:00",
          "2021-04-20T00:00:00",
          "2021-04-21T00:00:00",
          "2021-04-22T00:00:00",
          "2021-04-23T00:00:00",
          "2021-04-26T00:00:00",
          "2021-04-27T00:00:00",
          "2021-04-28T00:00:00",
          "2021-04-29T00:00:00",
          "2021-04-30T00:00:00",
          "2021-05-03T00:00:00",
          "2021-05-04T00:00:00",
          "2021-05-05T00:00:00",
          "2021-05-06T00:00:00",
          "2021-05-07T00:00:00",
          "2021-05-10T00:00:00",
          "2021-05-11T00:00:00",
          "2021-05-12T00:00:00",
          "2021-05-13T00:00:00",
          "2021-05-14T00:00:00",
          "2021-05-17T00:00:00",
          "2021-05-18T00:00:00",
          "2021-05-19T00:00:00",
          "2021-05-20T00:00:00",
          "2021-05-21T00:00:00",
          "2021-05-24T00:00:00",
          "2021-05-25T00:00:00",
          "2021-05-26T00:00:00",
          "2021-05-27T00:00:00",
          "2021-05-28T00:00:00",
          "2021-06-01T00:00:00"
         ],
         "y": [
          0,
          -0.029786105023047453,
          -0.1036150667338965,
          0.05269856820655615,
          0.05193485180561048,
          0.17184318252977368,
          0.15835034149699292,
          0.143839147185942,
          0.11201633560635431,
          0.13951119431105088,
          0.05982694403893322,
          0.1036150667338965,
          0.09317718842041228,
          0.048370712447178874,
          -0.059063130522473695,
          -0.03411405789793859,
          -0.08019342691125274,
          -0.09597761137789822,
          -0.04404275957228774,
          -0.007637455355998282,
          0.009674161912538545,
          0.0007638135164595258,
          0.01832997054680696,
          -0.051171038289150955,
          -0.014765734072861497,
          -0.029531565261236847,
          -0.054480637885771954,
          -0.02036657998783337,
          -0.057535600605068495,
          -0.09215883514214215,
          -0.08121178018952287,
          -0.06364562315917544,
          -0.059826846923419365,
          -0.00967406479702469,
          0.007382915594187675,
          0.0458249263670174,
          0.08503055642527893,
          0.049134428848124544,
          0.04862525220898948,
          -0.007382818478673821,
          0.014256654549240284,
          0.006619199193242003,
          -0.034368597659749194,
          -0.03996944357472106,
          -0.0661914092393369,
          -0.05957230716160876,
          -0.12601825616275628,
          -0.11227087536816491,
          -0.14256615703034745,
          -0.20519347546900965,
          -0.14918535622358944,
          -0.13925655743372642,
          -0.12958249263670174,
          -0.14816700294531931,
          -0.12601825616275628,
          -0.1328919951178089,
          -0.08630344946535967,
          -0.08172095682865793,
          -0.03869655053464033,
          -0.009419525035214085,
          -0.01680244062940176,
          0.07790227770841572
         ]
        },
        {
         "name": "XPEV",
         "type": "scatter",
         "x": [
          "2021-03-04T00:00:00",
          "2021-03-05T00:00:00",
          "2021-03-08T00:00:00",
          "2021-03-09T00:00:00",
          "2021-03-10T00:00:00",
          "2021-03-11T00:00:00",
          "2021-03-12T00:00:00",
          "2021-03-15T00:00:00",
          "2021-03-16T00:00:00",
          "2021-03-17T00:00:00",
          "2021-03-18T00:00:00",
          "2021-03-19T00:00:00",
          "2021-03-22T00:00:00",
          "2021-03-23T00:00:00",
          "2021-03-24T00:00:00",
          "2021-03-25T00:00:00",
          "2021-03-26T00:00:00",
          "2021-03-29T00:00:00",
          "2021-03-30T00:00:00",
          "2021-03-31T00:00:00",
          "2021-04-01T00:00:00",
          "2021-04-05T00:00:00",
          "2021-04-06T00:00:00",
          "2021-04-07T00:00:00",
          "2021-04-08T00:00:00",
          "2021-04-09T00:00:00",
          "2021-04-12T00:00:00",
          "2021-04-13T00:00:00",
          "2021-04-14T00:00:00",
          "2021-04-15T00:00:00",
          "2021-04-16T00:00:00",
          "2021-04-19T00:00:00",
          "2021-04-20T00:00:00",
          "2021-04-21T00:00:00",
          "2021-04-22T00:00:00",
          "2021-04-23T00:00:00",
          "2021-04-26T00:00:00",
          "2021-04-27T00:00:00",
          "2021-04-28T00:00:00",
          "2021-04-29T00:00:00",
          "2021-04-30T00:00:00",
          "2021-05-03T00:00:00",
          "2021-05-04T00:00:00",
          "2021-05-05T00:00:00",
          "2021-05-06T00:00:00",
          "2021-05-07T00:00:00",
          "2021-05-10T00:00:00",
          "2021-05-11T00:00:00",
          "2021-05-12T00:00:00",
          "2021-05-13T00:00:00",
          "2021-05-14T00:00:00",
          "2021-05-17T00:00:00",
          "2021-05-18T00:00:00",
          "2021-05-19T00:00:00",
          "2021-05-20T00:00:00",
          "2021-05-21T00:00:00",
          "2021-05-24T00:00:00",
          "2021-05-25T00:00:00",
          "2021-05-26T00:00:00",
          "2021-05-27T00:00:00",
          "2021-05-28T00:00:00",
          "2021-06-01T00:00:00"
         ],
         "y": [
          0,
          -0.04529972398015318,
          -0.08310628349228771,
          0.020776522149930074,
          0.04564033122381618,
          0.18562672512404263,
          0.19720711155182816,
          0.20470021105565767,
          0.223773826915651,
          0.23024516965268066,
          0.19209806786107225,
          0.2765667153638228,
          0.2901907452535864,
          0.2373978568054146,
          0.05074930995038295,
          0.10796996263779554,
          0.09468660495588412,
          0.06982286084618715,
          0.15190732260748585,
          0.24352852733459207,
          0.25851498619900765,
          0.22649855493657675,
          0.2605584997326074,
          0.1604223088064935,
          0.20742506900496172,
          0.17472755318358307,
          0.15769758078556775,
          0.20844682577176157,
          0.1202315635529071,
          0.06948225360252415,
          0.053133495691834835,
          0.0626703036218315,
          0.06505448936328338,
          0.11035414837924742,
          0.10252037666756578,
          0.13419613572214453,
          0.12397817826901099,
          0.07595366130374293,
          0.07935966877618382,
          0.0395095307662604,
          0.018732943652141194,
          -0.011580386427785548,
          -0.013283422646100563,
          -0.04666215295480519,
          -0.10149868486495504,
          -0.09094005520396936,
          -0.1328338366758708,
          -0.150885565840686,
          -0.15667575905457876,
          -0.19754771879549118,
          -0.124659392756337,
          -0.11035421334343656,
          -0.06948231856671329,
          -0.058583146626253746,
          -0.019073615859993336,
          -0.026566780328011987,
          -0.007833836675870794,
          0.000681149523136866,
          0.07527244681641691,
          0.10320159115489178,
          0.09434606267641026,
          0.1784740379713087
         ]
        },
        {
         "name": "RIOT",
         "type": "scatter",
         "x": [
          "2021-03-04T00:00:00",
          "2021-03-05T00:00:00",
          "2021-03-08T00:00:00",
          "2021-03-09T00:00:00",
          "2021-03-10T00:00:00",
          "2021-03-11T00:00:00",
          "2021-03-12T00:00:00",
          "2021-03-15T00:00:00",
          "2021-03-16T00:00:00",
          "2021-03-17T00:00:00",
          "2021-03-18T00:00:00",
          "2021-03-19T00:00:00",
          "2021-03-22T00:00:00",
          "2021-03-23T00:00:00",
          "2021-03-24T00:00:00",
          "2021-03-25T00:00:00",
          "2021-03-26T00:00:00",
          "2021-03-29T00:00:00",
          "2021-03-30T00:00:00",
          "2021-03-31T00:00:00",
          "2021-04-01T00:00:00",
          "2021-04-05T00:00:00",
          "2021-04-06T00:00:00",
          "2021-04-07T00:00:00",
          "2021-04-08T00:00:00",
          "2021-04-09T00:00:00",
          "2021-04-12T00:00:00",
          "2021-04-13T00:00:00",
          "2021-04-14T00:00:00",
          "2021-04-15T00:00:00",
          "2021-04-16T00:00:00",
          "2021-04-19T00:00:00",
          "2021-04-20T00:00:00",
          "2021-04-21T00:00:00",
          "2021-04-22T00:00:00",
          "2021-04-23T00:00:00",
          "2021-04-26T00:00:00",
          "2021-04-27T00:00:00",
          "2021-04-28T00:00:00",
          "2021-04-29T00:00:00",
          "2021-04-30T00:00:00",
          "2021-05-03T00:00:00",
          "2021-05-04T00:00:00",
          "2021-05-05T00:00:00",
          "2021-05-06T00:00:00",
          "2021-05-07T00:00:00",
          "2021-05-10T00:00:00",
          "2021-05-11T00:00:00",
          "2021-05-12T00:00:00",
          "2021-05-13T00:00:00",
          "2021-05-14T00:00:00",
          "2021-05-17T00:00:00",
          "2021-05-18T00:00:00",
          "2021-05-19T00:00:00",
          "2021-05-20T00:00:00",
          "2021-05-21T00:00:00",
          "2021-05-24T00:00:00",
          "2021-05-25T00:00:00",
          "2021-05-26T00:00:00",
          "2021-05-27T00:00:00",
          "2021-05-28T00:00:00",
          "2021-06-01T00:00:00"
         ],
         "y": [
          0,
          -0.0900880920295481,
          -0.11989165191977715,
          0.1776924535832573,
          0.27568297204961295,
          0.42944231349283113,
          0.41815308365168413,
          0.43215170453830964,
          0.2865206223615155,
          0.46172943159892227,
          0.3589974572704821,
          0.36938361418312854,
          0.26461948890809395,
          0.13163237516018025,
          0.03206137140646309,
          0.0876043615537092,
          0.08873335344181463,
          0.08128242040426316,
          0.1630164203377708,
          0.20275455761140182,
          0.17475722970816232,
          0.2847143903745259,
          0.22149463436011188,
          0.09212007071616568,
          0.11876266003167171,
          0.12056897814864968,
          0.1634679998670153,
          0.3379994828755496,
          0.13253553421866923,
          0.08624970909596413,
          0.007902426436807547,
          -0.07654096454217862,
          -0.1293745636439462,
          -0.06728379951763762,
          -0.1761119682958958,
          -0.13118088176092416,
          -0.07676679737179508,
          -0.08512080333784712,
          -0.008128259266423998,
          -0.08941067967068715,
          -0.055542990147246105,
          -0.09708735940786667,
          -0.1517272766266122,
          -0.17317683055078922,
          -0.24475050640126686,
          -0.24610524498900033,
          -0.323775115289296,
          -0.32558139034127975,
          -0.4012192388899636,
          -0.4980808515982022,
          -0.41250846873111063,
          -0.4511176571816304,
          -0.42289458257876283,
          -0.45495599705022016,
          -0.4540528379917312,
          -0.48430797741120474,
          -0.4140889540184721,
          -0.4323775373679261,
          -0.375931388162191,
          -0.35651389905462,
          -0.3874464077679603,
          -0.34003163382214396
         ]
        },
        {
         "name": "PLTR",
         "type": "scatter",
         "x": [
          "2021-03-04T00:00:00",
          "2021-03-05T00:00:00",
          "2021-03-08T00:00:00",
          "2021-03-09T00:00:00",
          "2021-03-10T00:00:00",
          "2021-03-11T00:00:00",
          "2021-03-12T00:00:00",
          "2021-03-15T00:00:00",
          "2021-03-16T00:00:00",
          "2021-03-17T00:00:00",
          "2021-03-18T00:00:00",
          "2021-03-19T00:00:00",
          "2021-03-22T00:00:00",
          "2021-03-23T00:00:00",
          "2021-03-24T00:00:00",
          "2021-03-25T00:00:00",
          "2021-03-26T00:00:00",
          "2021-03-29T00:00:00",
          "2021-03-30T00:00:00",
          "2021-03-31T00:00:00",
          "2021-04-01T00:00:00",
          "2021-04-05T00:00:00",
          "2021-04-06T00:00:00",
          "2021-04-07T00:00:00",
          "2021-04-08T00:00:00",
          "2021-04-09T00:00:00",
          "2021-04-12T00:00:00",
          "2021-04-13T00:00:00",
          "2021-04-14T00:00:00",
          "2021-04-15T00:00:00",
          "2021-04-16T00:00:00",
          "2021-04-19T00:00:00",
          "2021-04-20T00:00:00",
          "2021-04-21T00:00:00",
          "2021-04-22T00:00:00",
          "2021-04-23T00:00:00",
          "2021-04-26T00:00:00",
          "2021-04-27T00:00:00",
          "2021-04-28T00:00:00",
          "2021-04-29T00:00:00",
          "2021-04-30T00:00:00",
          "2021-05-03T00:00:00",
          "2021-05-04T00:00:00",
          "2021-05-05T00:00:00",
          "2021-05-06T00:00:00",
          "2021-05-07T00:00:00",
          "2021-05-10T00:00:00",
          "2021-05-11T00:00:00",
          "2021-05-12T00:00:00",
          "2021-05-13T00:00:00",
          "2021-05-14T00:00:00",
          "2021-05-17T00:00:00",
          "2021-05-18T00:00:00",
          "2021-05-19T00:00:00",
          "2021-05-20T00:00:00",
          "2021-05-21T00:00:00",
          "2021-05-24T00:00:00",
          "2021-05-25T00:00:00",
          "2021-05-26T00:00:00",
          "2021-05-27T00:00:00",
          "2021-05-28T00:00:00",
          "2021-06-01T00:00:00"
         ],
         "y": [
          0,
          -0.03154059012272589,
          -0.08936510818361328,
          -0.019005229359255794,
          0.0008087528562025698,
          0.0808734345742386,
          0.08855643245432814,
          0.0832996931428463,
          0.03558435440373874,
          0.01940960578735708,
          -0.030327537965339473,
          -0.016579047917565516,
          -0.020622735071660934,
          -0.05944194664637509,
          -0.11524465969367348,
          -0.086938926741923,
          -0.086938926741923,
          -0.12131015186135789,
          -0.10877471397097035,
          -0.058228817362071236,
          -0.06712494452646464,
          -0.05216332519438683,
          -0.059037570218273806,
          -0.07399918955035162,
          -0.05337645447869068,
          -0.027901279396731763,
          -0.056207012348482244,
          0.027901356523649196,
          -0.04164976944450572,
          -0.06389001022857178,
          -0.0913869903241197,
          -0.11281840112506578,
          -0.11928826972085146,
          -0.084917121728334,
          -0.07561661813583932,
          -0.05337645447869068,
          -0.0250707215269402,
          -0.03437122511943489,
          -0.035584277276821306,
          -0.054993883064178385,
          -0.06833799668385106,
          -0.09826123534800668,
          -0.12494946258735203,
          -0.1447634448028104,
          -0.18762634353161994,
          -0.2013748335793939,
          -0.25313385947259687,
          -0.1827739806482394,
          -0.23615043512693007,
          -0.2571774694997749,
          -0.18803071995972123,
          -0.1726648013264596,
          -0.14112413407681626,
          -0.16417305059016746,
          -0.16659923203185772,
          -0.1609381162922746,
          -0.1419328869330188,
          -0.1314193311831377,
          -0.10553977967307751,
          -0.08208648673162501,
          -0.07197730740984519,
          -0.06752932095456592
         ]
        },
        {
         "name": "TSLA",
         "type": "scatter",
         "x": [
          "2021-03-04T00:00:00",
          "2021-03-05T00:00:00",
          "2021-03-08T00:00:00",
          "2021-03-09T00:00:00",
          "2021-03-10T00:00:00",
          "2021-03-11T00:00:00",
          "2021-03-12T00:00:00",
          "2021-03-15T00:00:00",
          "2021-03-16T00:00:00",
          "2021-03-17T00:00:00",
          "2021-03-18T00:00:00",
          "2021-03-19T00:00:00",
          "2021-03-22T00:00:00",
          "2021-03-23T00:00:00",
          "2021-03-24T00:00:00",
          "2021-03-25T00:00:00",
          "2021-03-26T00:00:00",
          "2021-03-29T00:00:00",
          "2021-03-30T00:00:00",
          "2021-03-31T00:00:00",
          "2021-04-01T00:00:00",
          "2021-04-05T00:00:00",
          "2021-04-06T00:00:00",
          "2021-04-07T00:00:00",
          "2021-04-08T00:00:00",
          "2021-04-09T00:00:00",
          "2021-04-12T00:00:00",
          "2021-04-13T00:00:00",
          "2021-04-14T00:00:00",
          "2021-04-15T00:00:00",
          "2021-04-16T00:00:00",
          "2021-04-19T00:00:00",
          "2021-04-20T00:00:00",
          "2021-04-21T00:00:00",
          "2021-04-22T00:00:00",
          "2021-04-23T00:00:00",
          "2021-04-26T00:00:00",
          "2021-04-27T00:00:00",
          "2021-04-28T00:00:00",
          "2021-04-29T00:00:00",
          "2021-04-30T00:00:00",
          "2021-05-03T00:00:00",
          "2021-05-04T00:00:00",
          "2021-05-05T00:00:00",
          "2021-05-06T00:00:00",
          "2021-05-07T00:00:00",
          "2021-05-10T00:00:00",
          "2021-05-11T00:00:00",
          "2021-05-12T00:00:00",
          "2021-05-13T00:00:00",
          "2021-05-14T00:00:00",
          "2021-05-17T00:00:00",
          "2021-05-18T00:00:00",
          "2021-05-19T00:00:00",
          "2021-05-20T00:00:00",
          "2021-05-21T00:00:00",
          "2021-05-24T00:00:00",
          "2021-05-25T00:00:00",
          "2021-05-26T00:00:00",
          "2021-05-27T00:00:00",
          "2021-05-28T00:00:00",
          "2021-06-01T00:00:00"
         ],
         "y": [
          0,
          -0.03779928897736158,
          -0.09403965340470077,
          0.08390192849446255,
          0.07501930183772353,
          0.12577235587903873,
          0.1163265604778311,
          0.13919284188364722,
          0.08921215599833152,
          0.1293286476593778,
          0.05104269209981503,
          0.053794400979092535,
          0.07814108742246977,
          0.06552518431892283,
          0.014208961533139004,
          0.030493711593369773,
          -0.004392991210776461,
          -0.016333072177823822,
          0.022817959288223066,
          0.07481010242619263,
          0.06486546955495429,
          0.11201400791402356,
          0.11293124420711606,
          0.0797019311069998,
          0.10034755584863116,
          0.08943746278239342,
          0.1296021783453466,
          0.2266992860603557,
          0.17827944385957004,
          0.18893211361237,
          0.1904287242381483,
          0.14995816502847814,
          0.1569741043539701,
          0.19741244881857825,
          0.1581005400585935,
          0.17372557535485572,
          0.18788621477040168,
          0.1340434916737161,
          0.1174047722805476,
          0.0894052480373314,
          0.14160659058683184,
          0.10211769716037826,
          0.08393404502383842,
          0.07965370720509292,
          0.06774584098310758,
          0.0819548025162466,
          0.012229620809861012,
          -0.006822847286492112,
          -0.05076916141384623,
          -0.08005599865562368,
          -0.051010575570439164,
          -0.07178486286094633,
          -0.07011136578438533,
          -0.09329940177807713,
          -0.05577364348668436,
          -0.06526776100548505,
          -0.024137487031846337,
          -0.026953527185561744,
          -0.0037171690742768895,
          0.015142206983076356,
          0.006082595659868471,
          0.003958583230869819
         ]
        },
        {
         "name": "JMIA",
         "type": "scatter",
         "x": [
          "2021-03-04T00:00:00",
          "2021-03-05T00:00:00",
          "2021-03-08T00:00:00",
          "2021-03-09T00:00:00",
          "2021-03-10T00:00:00",
          "2021-03-11T00:00:00",
          "2021-03-12T00:00:00",
          "2021-03-15T00:00:00",
          "2021-03-16T00:00:00",
          "2021-03-17T00:00:00",
          "2021-03-18T00:00:00",
          "2021-03-19T00:00:00",
          "2021-03-22T00:00:00",
          "2021-03-23T00:00:00",
          "2021-03-24T00:00:00",
          "2021-03-25T00:00:00",
          "2021-03-26T00:00:00",
          "2021-03-29T00:00:00",
          "2021-03-30T00:00:00",
          "2021-03-31T00:00:00",
          "2021-04-01T00:00:00",
          "2021-04-05T00:00:00",
          "2021-04-06T00:00:00",
          "2021-04-07T00:00:00",
          "2021-04-08T00:00:00",
          "2021-04-09T00:00:00",
          "2021-04-12T00:00:00",
          "2021-04-13T00:00:00",
          "2021-04-14T00:00:00",
          "2021-04-15T00:00:00",
          "2021-04-16T00:00:00",
          "2021-04-19T00:00:00",
          "2021-04-20T00:00:00",
          "2021-04-21T00:00:00",
          "2021-04-22T00:00:00",
          "2021-04-23T00:00:00",
          "2021-04-26T00:00:00",
          "2021-04-27T00:00:00",
          "2021-04-28T00:00:00",
          "2021-04-29T00:00:00",
          "2021-04-30T00:00:00",
          "2021-05-03T00:00:00",
          "2021-05-04T00:00:00",
          "2021-05-05T00:00:00",
          "2021-05-06T00:00:00",
          "2021-05-07T00:00:00",
          "2021-05-10T00:00:00",
          "2021-05-11T00:00:00",
          "2021-05-12T00:00:00",
          "2021-05-13T00:00:00",
          "2021-05-14T00:00:00",
          "2021-05-17T00:00:00",
          "2021-05-18T00:00:00",
          "2021-05-19T00:00:00",
          "2021-05-20T00:00:00",
          "2021-05-21T00:00:00",
          "2021-05-24T00:00:00",
          "2021-05-25T00:00:00",
          "2021-05-26T00:00:00",
          "2021-05-27T00:00:00",
          "2021-05-28T00:00:00",
          "2021-06-01T00:00:00"
         ],
         "y": [
          0,
          -0.028876088327512216,
          -0.11992708013395105,
          0.08298653890142868,
          0.09859524065887883,
          0.27965661769120503,
          0.24661810304148682,
          0.34105101661586523,
          0.25312174531337533,
          0.3028096675388007,
          0.10561918622104306,
          0.09625392547149074,
          0.06555672600916063,
          0.005983338981612742,
          -0.11394374115233831,
          -0.08090522650262012,
          -0.101196657872552,
          -0.16805409248854922,
          -0.07570239207527378,
          -0.07752340397238612,
          -0.011186272646664646,
          -0.04058266426445261,
          0.004422528348491066,
          -0.03798124705077944,
          -0.009625362775837405,
          -0.03225801009545179,
          -0.07700310068211037,
          -0.07049945841022189,
          -0.08558785687739628,
          -0.10952131204155281,
          -0.16545257603717048,
          -0.2278875815423822,
          -0.26326741137948845,
          -0.2117585764946563,
          -0.20915710966213036,
          -0.19016648613674061,
          -0.13449527454855528,
          -0.16207075350693648,
          -0.15946923705555774,
          -0.20889695801699248,
          -0.2086368063718546,
          -0.1873048676590768,
          -0.29786678628118113,
          -0.32075958524593334,
          -0.3298646943503478,
          -0.30619144045018193,
          -0.38995833504931865,
          -0.34339228218440054,
          -0.3990634441537331,
          -0.3990634441537331,
          -0.32414150701387295,
          -0.32049943360079547,
          -0.2819978832597403,
          -0.29526531944865514,
          -0.27731525288496417,
          -0.2983870895714569,
          -0.28980228375731815,
          -0.2957856227389309,
          -0.2458376481060732,
          -0.22736727825210645,
          -0.2406347144410213,
          -0.16805409248854922
         ]
        }
       ],
       "layout": {
        "template": {
         "data": {
          "bar": [
           {
            "error_x": {
             "color": "#2a3f5f"
            },
            "error_y": {
             "color": "#2a3f5f"
            },
            "marker": {
             "line": {
              "color": "#E5ECF6",
              "width": 0.5
             }
            },
            "type": "bar"
           }
          ],
          "barpolar": [
           {
            "marker": {
             "line": {
              "color": "#E5ECF6",
              "width": 0.5
             }
            },
            "type": "barpolar"
           }
          ],
          "carpet": [
           {
            "aaxis": {
             "endlinecolor": "#2a3f5f",
             "gridcolor": "white",
             "linecolor": "white",
             "minorgridcolor": "white",
             "startlinecolor": "#2a3f5f"
            },
            "baxis": {
             "endlinecolor": "#2a3f5f",
             "gridcolor": "white",
             "linecolor": "white",
             "minorgridcolor": "white",
             "startlinecolor": "#2a3f5f"
            },
            "type": "carpet"
           }
          ],
          "choropleth": [
           {
            "colorbar": {
             "outlinewidth": 0,
             "ticks": ""
            },
            "type": "choropleth"
           }
          ],
          "contour": [
           {
            "colorbar": {
             "outlinewidth": 0,
             "ticks": ""
            },
            "colorscale": [
             [
              0,
              "#0d0887"
             ],
             [
              0.1111111111111111,
              "#46039f"
             ],
             [
              0.2222222222222222,
              "#7201a8"
             ],
             [
              0.3333333333333333,
              "#9c179e"
             ],
             [
              0.4444444444444444,
              "#bd3786"
             ],
             [
              0.5555555555555556,
              "#d8576b"
             ],
             [
              0.6666666666666666,
              "#ed7953"
             ],
             [
              0.7777777777777778,
              "#fb9f3a"
             ],
             [
              0.8888888888888888,
              "#fdca26"
             ],
             [
              1,
              "#f0f921"
             ]
            ],
            "type": "contour"
           }
          ],
          "contourcarpet": [
           {
            "colorbar": {
             "outlinewidth": 0,
             "ticks": ""
            },
            "type": "contourcarpet"
           }
          ],
          "heatmap": [
           {
            "colorbar": {
             "outlinewidth": 0,
             "ticks": ""
            },
            "colorscale": [
             [
              0,
              "#0d0887"
             ],
             [
              0.1111111111111111,
              "#46039f"
             ],
             [
              0.2222222222222222,
              "#7201a8"
             ],
             [
              0.3333333333333333,
              "#9c179e"
             ],
             [
              0.4444444444444444,
              "#bd3786"
             ],
             [
              0.5555555555555556,
              "#d8576b"
             ],
             [
              0.6666666666666666,
              "#ed7953"
             ],
             [
              0.7777777777777778,
              "#fb9f3a"
             ],
             [
              0.8888888888888888,
              "#fdca26"
             ],
             [
              1,
              "#f0f921"
             ]
            ],
            "type": "heatmap"
           }
          ],
          "heatmapgl": [
           {
            "colorbar": {
             "outlinewidth": 0,
             "ticks": ""
            },
            "colorscale": [
             [
              0,
              "#0d0887"
             ],
             [
              0.1111111111111111,
              "#46039f"
             ],
             [
              0.2222222222222222,
              "#7201a8"
             ],
             [
              0.3333333333333333,
              "#9c179e"
             ],
             [
              0.4444444444444444,
              "#bd3786"
             ],
             [
              0.5555555555555556,
              "#d8576b"
             ],
             [
              0.6666666666666666,
              "#ed7953"
             ],
             [
              0.7777777777777778,
              "#fb9f3a"
             ],
             [
              0.8888888888888888,
              "#fdca26"
             ],
             [
              1,
              "#f0f921"
             ]
            ],
            "type": "heatmapgl"
           }
          ],
          "histogram": [
           {
            "marker": {
             "colorbar": {
              "outlinewidth": 0,
              "ticks": ""
             }
            },
            "type": "histogram"
           }
          ],
          "histogram2d": [
           {
            "colorbar": {
             "outlinewidth": 0,
             "ticks": ""
            },
            "colorscale": [
             [
              0,
              "#0d0887"
             ],
             [
              0.1111111111111111,
              "#46039f"
             ],
             [
              0.2222222222222222,
              "#7201a8"
             ],
             [
              0.3333333333333333,
              "#9c179e"
             ],
             [
              0.4444444444444444,
              "#bd3786"
             ],
             [
              0.5555555555555556,
              "#d8576b"
             ],
             [
              0.6666666666666666,
              "#ed7953"
             ],
             [
              0.7777777777777778,
              "#fb9f3a"
             ],
             [
              0.8888888888888888,
              "#fdca26"
             ],
             [
              1,
              "#f0f921"
             ]
            ],
            "type": "histogram2d"
           }
          ],
          "histogram2dcontour": [
           {
            "colorbar": {
             "outlinewidth": 0,
             "ticks": ""
            },
            "colorscale": [
             [
              0,
              "#0d0887"
             ],
             [
              0.1111111111111111,
              "#46039f"
             ],
             [
              0.2222222222222222,
              "#7201a8"
             ],
             [
              0.3333333333333333,
              "#9c179e"
             ],
             [
              0.4444444444444444,
              "#bd3786"
             ],
             [
              0.5555555555555556,
              "#d8576b"
             ],
             [
              0.6666666666666666,
              "#ed7953"
             ],
             [
              0.7777777777777778,
              "#fb9f3a"
             ],
             [
              0.8888888888888888,
              "#fdca26"
             ],
             [
              1,
              "#f0f921"
             ]
            ],
            "type": "histogram2dcontour"
           }
          ],
          "mesh3d": [
           {
            "colorbar": {
             "outlinewidth": 0,
             "ticks": ""
            },
            "type": "mesh3d"
           }
          ],
          "parcoords": [
           {
            "line": {
             "colorbar": {
              "outlinewidth": 0,
              "ticks": ""
             }
            },
            "type": "parcoords"
           }
          ],
          "pie": [
           {
            "automargin": true,
            "type": "pie"
           }
          ],
          "scatter": [
           {
            "marker": {
             "colorbar": {
              "outlinewidth": 0,
              "ticks": ""
             }
            },
            "type": "scatter"
           }
          ],
          "scatter3d": [
           {
            "line": {
             "colorbar": {
              "outlinewidth": 0,
              "ticks": ""
             }
            },
            "marker": {
             "colorbar": {
              "outlinewidth": 0,
              "ticks": ""
             }
            },
            "type": "scatter3d"
           }
          ],
          "scattercarpet": [
           {
            "marker": {
             "colorbar": {
              "outlinewidth": 0,
              "ticks": ""
             }
            },
            "type": "scattercarpet"
           }
          ],
          "scattergeo": [
           {
            "marker": {
             "colorbar": {
              "outlinewidth": 0,
              "ticks": ""
             }
            },
            "type": "scattergeo"
           }
          ],
          "scattergl": [
           {
            "marker": {
             "colorbar": {
              "outlinewidth": 0,
              "ticks": ""
             }
            },
            "type": "scattergl"
           }
          ],
          "scattermapbox": [
           {
            "marker": {
             "colorbar": {
              "outlinewidth": 0,
              "ticks": ""
             }
            },
            "type": "scattermapbox"
           }
          ],
          "scatterpolar": [
           {
            "marker": {
             "colorbar": {
              "outlinewidth": 0,
              "ticks": ""
             }
            },
            "type": "scatterpolar"
           }
          ],
          "scatterpolargl": [
           {
            "marker": {
             "colorbar": {
              "outlinewidth": 0,
              "ticks": ""
             }
            },
            "type": "scatterpolargl"
           }
          ],
          "scatterternary": [
           {
            "marker": {
             "colorbar": {
              "outlinewidth": 0,
              "ticks": ""
             }
            },
            "type": "scatterternary"
           }
          ],
          "surface": [
           {
            "colorbar": {
             "outlinewidth": 0,
             "ticks": ""
            },
            "colorscale": [
             [
              0,
              "#0d0887"
             ],
             [
              0.1111111111111111,
              "#46039f"
             ],
             [
              0.2222222222222222,
              "#7201a8"
             ],
             [
              0.3333333333333333,
              "#9c179e"
             ],
             [
              0.4444444444444444,
              "#bd3786"
             ],
             [
              0.5555555555555556,
              "#d8576b"
             ],
             [
              0.6666666666666666,
              "#ed7953"
             ],
             [
              0.7777777777777778,
              "#fb9f3a"
             ],
             [
              0.8888888888888888,
              "#fdca26"
             ],
             [
              1,
              "#f0f921"
             ]
            ],
            "type": "surface"
           }
          ],
          "table": [
           {
            "cells": {
             "fill": {
              "color": "#EBF0F8"
             },
             "line": {
              "color": "white"
             }
            },
            "header": {
             "fill": {
              "color": "#C8D4E3"
             },
             "line": {
              "color": "white"
             }
            },
            "type": "table"
           }
          ]
         },
         "layout": {
          "annotationdefaults": {
           "arrowcolor": "#2a3f5f",
           "arrowhead": 0,
           "arrowwidth": 1
          },
          "autotypenumbers": "strict",
          "coloraxis": {
           "colorbar": {
            "outlinewidth": 0,
            "ticks": ""
           }
          },
          "colorscale": {
           "diverging": [
            [
             0,
             "#8e0152"
            ],
            [
             0.1,
             "#c51b7d"
            ],
            [
             0.2,
             "#de77ae"
            ],
            [
             0.3,
             "#f1b6da"
            ],
            [
             0.4,
             "#fde0ef"
            ],
            [
             0.5,
             "#f7f7f7"
            ],
            [
             0.6,
             "#e6f5d0"
            ],
            [
             0.7,
             "#b8e186"
            ],
            [
             0.8,
             "#7fbc41"
            ],
            [
             0.9,
             "#4d9221"
            ],
            [
             1,
             "#276419"
            ]
           ],
           "sequential": [
            [
             0,
             "#0d0887"
            ],
            [
             0.1111111111111111,
             "#46039f"
            ],
            [
             0.2222222222222222,
             "#7201a8"
            ],
            [
             0.3333333333333333,
             "#9c179e"
            ],
            [
             0.4444444444444444,
             "#bd3786"
            ],
            [
             0.5555555555555556,
             "#d8576b"
            ],
            [
             0.6666666666666666,
             "#ed7953"
            ],
            [
             0.7777777777777778,
             "#fb9f3a"
            ],
            [
             0.8888888888888888,
             "#fdca26"
            ],
            [
             1,
             "#f0f921"
            ]
           ],
           "sequentialminus": [
            [
             0,
             "#0d0887"
            ],
            [
             0.1111111111111111,
             "#46039f"
            ],
            [
             0.2222222222222222,
             "#7201a8"
            ],
            [
             0.3333333333333333,
             "#9c179e"
            ],
            [
             0.4444444444444444,
             "#bd3786"
            ],
            [
             0.5555555555555556,
             "#d8576b"
            ],
            [
             0.6666666666666666,
             "#ed7953"
            ],
            [
             0.7777777777777778,
             "#fb9f3a"
            ],
            [
             0.8888888888888888,
             "#fdca26"
            ],
            [
             1,
             "#f0f921"
            ]
           ]
          },
          "colorway": [
           "#636efa",
           "#EF553B",
           "#00cc96",
           "#ab63fa",
           "#FFA15A",
           "#19d3f3",
           "#FF6692",
           "#B6E880",
           "#FF97FF",
           "#FECB52"
          ],
          "font": {
           "color": "#2a3f5f"
          },
          "geo": {
           "bgcolor": "white",
           "lakecolor": "white",
           "landcolor": "#E5ECF6",
           "showlakes": true,
           "showland": true,
           "subunitcolor": "white"
          },
          "hoverlabel": {
           "align": "left"
          },
          "hovermode": "closest",
          "mapbox": {
           "style": "light"
          },
          "paper_bgcolor": "white",
          "plot_bgcolor": "#E5ECF6",
          "polar": {
           "angularaxis": {
            "gridcolor": "white",
            "linecolor": "white",
            "ticks": ""
           },
           "bgcolor": "#E5ECF6",
           "radialaxis": {
            "gridcolor": "white",
            "linecolor": "white",
            "ticks": ""
           }
          },
          "scene": {
           "xaxis": {
            "backgroundcolor": "#E5ECF6",
            "gridcolor": "white",
            "gridwidth": 2,
            "linecolor": "white",
            "showbackground": true,
            "ticks": "",
            "zerolinecolor": "white"
           },
           "yaxis": {
            "backgroundcolor": "#E5ECF6",
            "gridcolor": "white",
            "gridwidth": 2,
            "linecolor": "white",
            "showbackground": true,
            "ticks": "",
            "zerolinecolor": "white"
           },
           "zaxis": {
            "backgroundcolor": "#E5ECF6",
            "gridcolor": "white",
            "gridwidth": 2,
            "linecolor": "white",
            "showbackground": true,
            "ticks": "",
            "zerolinecolor": "white"
           }
          },
          "shapedefaults": {
           "line": {
            "color": "#2a3f5f"
           }
          },
          "ternary": {
           "aaxis": {
            "gridcolor": "white",
            "linecolor": "white",
            "ticks": ""
           },
           "baxis": {
            "gridcolor": "white",
            "linecolor": "white",
            "ticks": ""
           },
           "bgcolor": "#E5ECF6",
           "caxis": {
            "gridcolor": "white",
            "linecolor": "white",
            "ticks": ""
           }
          },
          "title": {
           "x": 0.05
          },
          "xaxis": {
           "automargin": true,
           "gridcolor": "white",
           "linecolor": "white",
           "ticks": "",
           "title": {
            "standoff": 15
           },
           "zerolinecolor": "white",
           "zerolinewidth": 2
          },
          "yaxis": {
           "automargin": true,
           "gridcolor": "white",
           "linecolor": "white",
           "ticks": "",
           "title": {
            "standoff": 15
           },
           "zerolinecolor": "white",
           "zerolinewidth": 2
          }
         }
        },
        "title": {
         "text": "Comparison Charts"
        }
       }
      },
      "text/html": [
       "<div>                            <div id=\"7c0408db-c84f-4fb7-a132-0bbd43bab438\" class=\"plotly-graph-div\" style=\"height:525px; width:100%;\"></div>            <script type=\"text/javascript\">                require([\"plotly\"], function(Plotly) {                    window.PLOTLYENV=window.PLOTLYENV || {};                                    if (document.getElementById(\"7c0408db-c84f-4fb7-a132-0bbd43bab438\")) {                    Plotly.newPlot(                        \"7c0408db-c84f-4fb7-a132-0bbd43bab438\",                        [{\"name\": \"ELY\", \"type\": \"scatter\", \"x\": [\"2021-03-04T00:00:00\", \"2021-03-05T00:00:00\", \"2021-03-08T00:00:00\", \"2021-03-09T00:00:00\", \"2021-03-10T00:00:00\", \"2021-03-11T00:00:00\", \"2021-03-12T00:00:00\", \"2021-03-15T00:00:00\", \"2021-03-16T00:00:00\", \"2021-03-17T00:00:00\", \"2021-03-18T00:00:00\", \"2021-03-19T00:00:00\", \"2021-03-22T00:00:00\", \"2021-03-23T00:00:00\", \"2021-03-24T00:00:00\", \"2021-03-25T00:00:00\", \"2021-03-26T00:00:00\", \"2021-03-29T00:00:00\", \"2021-03-30T00:00:00\", \"2021-03-31T00:00:00\", \"2021-04-01T00:00:00\", \"2021-04-05T00:00:00\", \"2021-04-06T00:00:00\", \"2021-04-07T00:00:00\", \"2021-04-08T00:00:00\", \"2021-04-09T00:00:00\", \"2021-04-12T00:00:00\", \"2021-04-13T00:00:00\", \"2021-04-14T00:00:00\", \"2021-04-15T00:00:00\", \"2021-04-16T00:00:00\", \"2021-04-19T00:00:00\", \"2021-04-20T00:00:00\", \"2021-04-21T00:00:00\", \"2021-04-22T00:00:00\", \"2021-04-23T00:00:00\", \"2021-04-26T00:00:00\", \"2021-04-27T00:00:00\", \"2021-04-28T00:00:00\", \"2021-04-29T00:00:00\", \"2021-04-30T00:00:00\", \"2021-05-03T00:00:00\", \"2021-05-04T00:00:00\", \"2021-05-05T00:00:00\", \"2021-05-06T00:00:00\", \"2021-05-07T00:00:00\", \"2021-05-10T00:00:00\", \"2021-05-11T00:00:00\", \"2021-05-12T00:00:00\", \"2021-05-13T00:00:00\", \"2021-05-14T00:00:00\", \"2021-05-17T00:00:00\", \"2021-05-18T00:00:00\", \"2021-05-19T00:00:00\", \"2021-05-20T00:00:00\", \"2021-05-21T00:00:00\", \"2021-05-24T00:00:00\", \"2021-05-25T00:00:00\", \"2021-05-26T00:00:00\", \"2021-05-27T00:00:00\", \"2021-05-28T00:00:00\", \"2021-06-01T00:00:00\"], \"y\": [0.0, 0.04685214864361819, 0.08052711520916465, 0.10834557192114691, 0.10907758329151408, 0.12811127522315002, 0.13103953014993214, 0.11127382684792902, 0.0823572483577393, 0.08491946269178559, 0.0695461068724034, 0.04062959819731815, 0.0442899343095719, -0.013177182078071718, -0.043191812531364435, -0.02525624237793597, 0.011346979114392607, -0.03660322149232858, -0.019033691931635933, -0.020863825080210573, -0.006222550446300037, -0.007686643002138856, -0.0014640925558388187, 0.0007320811854716443, -0.002196173741310463, 0.017569529560692645, 0.02489020178520015, 0.021229865672946397, 0.05893120894348244, 0.05783308716527497, 0.0666178519456213, 0.05453879164575704, 0.03843342445600769, 0.07833087165274973, 0.0666178519456213, 0.07210839102155416, 0.06918006627966758, 0.08272328895047512, 0.0907759725453498, 0.09004396117498262, 0.059663290128954084, 0.06332355642610336, 0.05673503520217198, 0.05563691342396451, 0.1325036925208754, 0.13945825433754264, 0.09553443043581102, 0.24048315403418202, 0.15483161015692481, 0.19253302324256533, 0.23792093970013575, 0.26244517070770457, 0.28513912893648974, 0.24670577429558654, 0.24450953073917162, 0.24304536836822832, 0.27598832356340763, 0.29099563879005397, 0.3609077862551932, 0.35651543877257225, 0.35139087047427076, 0.3649341629601828]}, {\"name\": \"WBA\", \"type\": \"scatter\", \"x\": [\"2021-03-04T00:00:00\", \"2021-03-05T00:00:00\", \"2021-03-08T00:00:00\", \"2021-03-09T00:00:00\", \"2021-03-10T00:00:00\", \"2021-03-11T00:00:00\", \"2021-03-12T00:00:00\", \"2021-03-15T00:00:00\", \"2021-03-16T00:00:00\", \"2021-03-17T00:00:00\", \"2021-03-18T00:00:00\", \"2021-03-19T00:00:00\", \"2021-03-22T00:00:00\", \"2021-03-23T00:00:00\", \"2021-03-24T00:00:00\", \"2021-03-25T00:00:00\", \"2021-03-26T00:00:00\", \"2021-03-29T00:00:00\", \"2021-03-30T00:00:00\", \"2021-03-31T00:00:00\", \"2021-04-01T00:00:00\", \"2021-04-05T00:00:00\", \"2021-04-06T00:00:00\", \"2021-04-07T00:00:00\", \"2021-04-08T00:00:00\", \"2021-04-09T00:00:00\", \"2021-04-12T00:00:00\", \"2021-04-13T00:00:00\", \"2021-04-14T00:00:00\", \"2021-04-15T00:00:00\", \"2021-04-16T00:00:00\", \"2021-04-19T00:00:00\", \"2021-04-20T00:00:00\", \"2021-04-21T00:00:00\", \"2021-04-22T00:00:00\", \"2021-04-23T00:00:00\", \"2021-04-26T00:00:00\", \"2021-04-27T00:00:00\", \"2021-04-28T00:00:00\", \"2021-04-29T00:00:00\", \"2021-04-30T00:00:00\", \"2021-05-03T00:00:00\", \"2021-05-04T00:00:00\", \"2021-05-05T00:00:00\", \"2021-05-06T00:00:00\", \"2021-05-07T00:00:00\", \"2021-05-10T00:00:00\", \"2021-05-11T00:00:00\", \"2021-05-12T00:00:00\", \"2021-05-13T00:00:00\", \"2021-05-14T00:00:00\", \"2021-05-17T00:00:00\", \"2021-05-18T00:00:00\", \"2021-05-19T00:00:00\", \"2021-05-20T00:00:00\", \"2021-05-21T00:00:00\", \"2021-05-24T00:00:00\", \"2021-05-25T00:00:00\", \"2021-05-26T00:00:00\", \"2021-05-27T00:00:00\", \"2021-05-28T00:00:00\", \"2021-06-01T00:00:00\"], \"y\": [0.0, 0.007255658304724461, 0.034571039496036654, 0.03414422648914024, 0.07810498932438342, 0.0994451512316604, 0.13550999554870585, 0.17477589671434576, 0.1675202384096213, 0.1545027266211812, 0.1246265487947478, 0.12121212614583378, 0.13337601192048107, 0.11032859798561845, 0.1049935575087992, 0.1034997526877904, 0.11032859798561845, 0.127827524237085, 0.13060176807878301, 0.1715749212720086, 0.16837386442341412, 0.21212118005208047, 0.18864703451657872, 0.1860862378814575, 0.16922749043720695, 0.15620997864876685, 0.16730687260930174, 0.16517280757481967, 0.1623986451393789, 0.14639352370892117, 0.13743061337661108, 0.14788732852993, 0.1382842393904039, 0.1534357348070688, 0.1220657521596266, 0.13145539409257584, 0.12526672760196378, 0.12057186593236052, 0.11822451650381616, 0.12548017480854062, 0.13316256471390422, 0.15877077528388805, 0.1549295396280776, 0.1623986451393789, 0.16218519793280206, 0.16367900275381086, 0.176056335735035, 0.15749041766945607, 0.13188220709947227, 0.15535635263497402, 0.1675202384096213, 0.180110937191165, 0.17925731117737218, 0.16965430344410337, 0.16517280757481967, 0.17114810826511218, 0.17008111645099977, 0.1564233444490864, 0.10990178497872204, 0.13188220709947227, 0.12377292278095497, 0.1276141584367654]}, {\"name\": \"GOOGL\", \"type\": \"scatter\", \"x\": [\"2021-03-04T00:00:00\", \"2021-03-05T00:00:00\", \"2021-03-08T00:00:00\", \"2021-03-09T00:00:00\", \"2021-03-10T00:00:00\", \"2021-03-11T00:00:00\", \"2021-03-12T00:00:00\", \"2021-03-15T00:00:00\", \"2021-03-16T00:00:00\", \"2021-03-17T00:00:00\", \"2021-03-18T00:00:00\", \"2021-03-19T00:00:00\", \"2021-03-22T00:00:00\", \"2021-03-23T00:00:00\", \"2021-03-24T00:00:00\", \"2021-03-25T00:00:00\", \"2021-03-26T00:00:00\", \"2021-03-29T00:00:00\", \"2021-03-30T00:00:00\", \"2021-03-31T00:00:00\", \"2021-04-01T00:00:00\", \"2021-04-05T00:00:00\", \"2021-04-06T00:00:00\", \"2021-04-07T00:00:00\", \"2021-04-08T00:00:00\", \"2021-04-09T00:00:00\", \"2021-04-12T00:00:00\", \"2021-04-13T00:00:00\", \"2021-04-14T00:00:00\", \"2021-04-15T00:00:00\", \"2021-04-16T00:00:00\", \"2021-04-19T00:00:00\", \"2021-04-20T00:00:00\", \"2021-04-21T00:00:00\", \"2021-04-22T00:00:00\", \"2021-04-23T00:00:00\", \"2021-04-26T00:00:00\", \"2021-04-27T00:00:00\", \"2021-04-28T00:00:00\", \"2021-04-29T00:00:00\", \"2021-04-30T00:00:00\", \"2021-05-03T00:00:00\", \"2021-05-04T00:00:00\", \"2021-05-05T00:00:00\", \"2021-05-06T00:00:00\", \"2021-05-07T00:00:00\", \"2021-05-10T00:00:00\", \"2021-05-11T00:00:00\", \"2021-05-12T00:00:00\", \"2021-05-13T00:00:00\", \"2021-05-14T00:00:00\", \"2021-05-17T00:00:00\", \"2021-05-18T00:00:00\", \"2021-05-19T00:00:00\", \"2021-05-20T00:00:00\", \"2021-05-21T00:00:00\", \"2021-05-24T00:00:00\", \"2021-05-25T00:00:00\", \"2021-05-26T00:00:00\", \"2021-05-27T00:00:00\", \"2021-05-28T00:00:00\", \"2021-06-01T00:00:00\"], \"y\": [0.0, 0.03104335595672897, -0.012994573565947094, 0.0031613337090395455, 0.0011110941063038522, 0.03274939825488666, 0.007900933593927004, 0.010083870710249788, 0.024563204017775824, 0.023742171911999524, -0.006190029921458796, -0.003426908787114117, -0.0015930303496798546, 0.003638228527204641, -0.0006883345921892119, -0.0007227843311304106, -0.004523298736552823, 0.00583106844304885, 0.006165362948105429, 0.014056513776444601, 0.04712550237952269, 0.09097161767631709, 0.08620254946073255, 0.10083924725519905, 0.10644411175039184, 0.11639528494705453, 0.10358766423267858, 0.10841074771837998, 0.10225516753586239, 0.12356371146123009, 0.1223345639812375, 0.12578109831649406, 0.12049576415252591, 0.12017131243002396, 0.10747172225588174, 0.1307812318542452, 0.13569782177421558, 0.12638090788265843, 0.15984324768612088, 0.17642197449218894, 0.1571194376650279, 0.15199638937927754, 0.1341737509193849, 0.13807749450769732, 0.14917919295784918, 0.15634749943809115, 0.12675949490921085, 0.11609544018093915, 0.0817726971414819, 0.09592757872650598, 0.12018595656992231, 0.12536806155100047, 0.11236370521946554, 0.11680340032127082, 0.13423268758077908, 0.12792958569387566, 0.16082656567011494, 0.16172634003632827, 0.17030084404861254, 0.1616328336020593, 0.1587665433017914, 0.1707285249540045]}, {\"name\": \"DBX\", \"type\": \"scatter\", \"x\": [\"2021-03-04T00:00:00\", \"2021-03-05T00:00:00\", \"2021-03-08T00:00:00\", \"2021-03-09T00:00:00\", \"2021-03-10T00:00:00\", \"2021-03-11T00:00:00\", \"2021-03-12T00:00:00\", \"2021-03-15T00:00:00\", \"2021-03-16T00:00:00\", \"2021-03-17T00:00:00\", \"2021-03-18T00:00:00\", \"2021-03-19T00:00:00\", \"2021-03-22T00:00:00\", \"2021-03-23T00:00:00\", \"2021-03-24T00:00:00\", \"2021-03-25T00:00:00\", \"2021-03-26T00:00:00\", \"2021-03-29T00:00:00\", \"2021-03-30T00:00:00\", \"2021-03-31T00:00:00\", \"2021-04-01T00:00:00\", \"2021-04-05T00:00:00\", \"2021-04-06T00:00:00\", \"2021-04-07T00:00:00\", \"2021-04-08T00:00:00\", \"2021-04-09T00:00:00\", \"2021-04-12T00:00:00\", \"2021-04-13T00:00:00\", \"2021-04-14T00:00:00\", \"2021-04-15T00:00:00\", \"2021-04-16T00:00:00\", \"2021-04-19T00:00:00\", \"2021-04-20T00:00:00\", \"2021-04-21T00:00:00\", \"2021-04-22T00:00:00\", \"2021-04-23T00:00:00\", \"2021-04-26T00:00:00\", \"2021-04-27T00:00:00\", \"2021-04-28T00:00:00\", \"2021-04-29T00:00:00\", \"2021-04-30T00:00:00\", \"2021-05-03T00:00:00\", \"2021-05-04T00:00:00\", \"2021-05-05T00:00:00\", \"2021-05-06T00:00:00\", \"2021-05-07T00:00:00\", \"2021-05-10T00:00:00\", \"2021-05-11T00:00:00\", \"2021-05-12T00:00:00\", \"2021-05-13T00:00:00\", \"2021-05-14T00:00:00\", \"2021-05-17T00:00:00\", \"2021-05-18T00:00:00\", \"2021-05-19T00:00:00\", \"2021-05-20T00:00:00\", \"2021-05-21T00:00:00\", \"2021-05-24T00:00:00\", \"2021-05-25T00:00:00\", \"2021-05-26T00:00:00\", \"2021-05-27T00:00:00\", \"2021-05-28T00:00:00\", \"2021-06-01T00:00:00\"], \"y\": [0.0, 0.018655111471084677, 0.030802647085546368, 0.0733188976136875, 0.06203906084632661, 0.10412154469923386, 0.17396964692451813, 0.2130151848125726, 0.20390459516296372, 0.2173535962997601, 0.1427332331637379, 0.16529290669845967, 0.18524948369187902, 0.18655103196253023, 0.1514100561381129, 0.1431670825872883, 0.15357922050754838, 0.1349241090364637, 0.1388286711001008, 0.15661608372408467, 0.1882863469084153, 0.209110705497252, 0.2065076089559496, 0.19826471815344152, 0.2013015813699778, 0.17093278370798184, 0.1301518481257258, 0.1353579584600141, 0.1418655343166371, 0.1440347814343891, 0.14446854810962298, 0.13318879409057863, 0.11583514814182863, 0.12147510789966734, 0.12754883433273992, 0.13904555443771774, 0.15227767223689717, 0.1440347814343891, 0.1514100561381129, 0.1383948216765504, 0.11496753204304436, 0.09848158494139515, 0.08546643322814919, 0.0785250079479758, 0.06420830796407863, 0.07158358266780242, 0.10325384585213306, 0.10845987343810484, 0.07635576083022379, 0.060303745900441526, 0.10108459873438105, 0.13232109524347782, 0.1388286711001008, 0.14446854810962298, 0.16182219405837298, 0.15921909751707056, 0.17787420898815523, 0.15965294694062096, 0.18915404575551611, 0.2047722940100645, 0.18655103196253023, 0.16312365958070765]}, {\"name\": \"FB\", \"type\": \"scatter\", \"x\": [\"2021-03-04T00:00:00\", \"2021-03-05T00:00:00\", \"2021-03-08T00:00:00\", \"2021-03-09T00:00:00\", \"2021-03-10T00:00:00\", \"2021-03-11T00:00:00\", \"2021-03-12T00:00:00\", \"2021-03-15T00:00:00\", \"2021-03-16T00:00:00\", \"2021-03-17T00:00:00\", \"2021-03-18T00:00:00\", \"2021-03-19T00:00:00\", \"2021-03-22T00:00:00\", \"2021-03-23T00:00:00\", \"2021-03-24T00:00:00\", \"2021-03-25T00:00:00\", \"2021-03-26T00:00:00\", \"2021-03-29T00:00:00\", \"2021-03-30T00:00:00\", \"2021-03-31T00:00:00\", \"2021-04-01T00:00:00\", \"2021-04-05T00:00:00\", \"2021-04-06T00:00:00\", \"2021-04-07T00:00:00\", \"2021-04-08T00:00:00\", \"2021-04-09T00:00:00\", \"2021-04-12T00:00:00\", \"2021-04-13T00:00:00\", \"2021-04-14T00:00:00\", \"2021-04-15T00:00:00\", \"2021-04-16T00:00:00\", \"2021-04-19T00:00:00\", \"2021-04-20T00:00:00\", \"2021-04-21T00:00:00\", \"2021-04-22T00:00:00\", \"2021-04-23T00:00:00\", \"2021-04-26T00:00:00\", \"2021-04-27T00:00:00\", \"2021-04-28T00:00:00\", \"2021-04-29T00:00:00\", \"2021-04-30T00:00:00\", \"2021-05-03T00:00:00\", \"2021-05-04T00:00:00\", \"2021-05-05T00:00:00\", \"2021-05-06T00:00:00\", \"2021-05-07T00:00:00\", \"2021-05-10T00:00:00\", \"2021-05-11T00:00:00\", \"2021-05-12T00:00:00\", \"2021-05-13T00:00:00\", \"2021-05-14T00:00:00\", \"2021-05-17T00:00:00\", \"2021-05-18T00:00:00\", \"2021-05-19T00:00:00\", \"2021-05-20T00:00:00\", \"2021-05-21T00:00:00\", \"2021-05-24T00:00:00\", \"2021-05-25T00:00:00\", \"2021-05-26T00:00:00\", \"2021-05-27T00:00:00\", \"2021-05-28T00:00:00\", \"2021-06-01T00:00:00\"], \"y\": [0.0, 0.025772332531186822, -0.009043692584101011, 0.03143912096492587, 0.028178772066728357, 0.06303364893273768, 0.04176361836778109, 0.06252904997519647, 0.08399310239284143, 0.10235209446471527, 0.08143137430487347, 0.12602844611475386, 0.13934168551213477, 0.12804684194491864, 0.09509392410736918, 0.08189712151169319, 0.0985094431075336, 0.1287843145058697, 0.11783878134376835, 0.14318421841885692, 0.1592143560061727, 0.19899854874497, 0.18871290309283625, 0.21522270818497413, 0.2149509828308428, 0.21277741689871113, 0.2092066093461203, 0.202297749393889, 0.17536093039519338, 0.19476785368241156, 0.18840232598798343, 0.17310966096161873, 0.17470104288522578, 0.17012103741755255, 0.15090813598302275, 0.16880138084807686, 0.17621483975784935, 0.1782719688882761, 0.19197325199103377, 0.2789550963784009, 0.26176047232357635, 0.2520570106799672, 0.2356775626875367, 0.22271375214573008, 0.24212067543294827, 0.2384721643789145, 0.18758726837604894, 0.1897608343081806, 0.1743128807293895, 0.1848315184353926, 0.22628467814878042, 0.22442157087104203, 0.20307395525510202, 0.21716340051369595, 0.2366479088518976, 0.22741031286556773, 0.2600139202980024, 0.27227911002957944, 0.27177451107203826, 0.29153074476437124, 0.27592762108361324, 0.2774801512564988]}, {\"name\": \"VGZ\", \"type\": \"scatter\", \"x\": [\"2021-03-04T00:00:00\", \"2021-03-05T00:00:00\", \"2021-03-08T00:00:00\", \"2021-03-09T00:00:00\", \"2021-03-10T00:00:00\", \"2021-03-11T00:00:00\", \"2021-03-12T00:00:00\", \"2021-03-15T00:00:00\", \"2021-03-16T00:00:00\", \"2021-03-17T00:00:00\", \"2021-03-18T00:00:00\", \"2021-03-19T00:00:00\", \"2021-03-22T00:00:00\", \"2021-03-23T00:00:00\", \"2021-03-24T00:00:00\", \"2021-03-25T00:00:00\", \"2021-03-26T00:00:00\", \"2021-03-29T00:00:00\", \"2021-03-30T00:00:00\", \"2021-03-31T00:00:00\", \"2021-04-01T00:00:00\", \"2021-04-05T00:00:00\", \"2021-04-06T00:00:00\", \"2021-04-07T00:00:00\", \"2021-04-08T00:00:00\", \"2021-04-09T00:00:00\", \"2021-04-12T00:00:00\", \"2021-04-13T00:00:00\", \"2021-04-14T00:00:00\", \"2021-04-15T00:00:00\", \"2021-04-16T00:00:00\", \"2021-04-19T00:00:00\", \"2021-04-20T00:00:00\", \"2021-04-21T00:00:00\", \"2021-04-22T00:00:00\", \"2021-04-23T00:00:00\", \"2021-04-26T00:00:00\", \"2021-04-27T00:00:00\", \"2021-04-28T00:00:00\", \"2021-04-29T00:00:00\", \"2021-04-30T00:00:00\", \"2021-05-03T00:00:00\", \"2021-05-04T00:00:00\", \"2021-05-05T00:00:00\", \"2021-05-06T00:00:00\", \"2021-05-07T00:00:00\", \"2021-05-10T00:00:00\", \"2021-05-11T00:00:00\", \"2021-05-12T00:00:00\", \"2021-05-13T00:00:00\", \"2021-05-14T00:00:00\", \"2021-05-17T00:00:00\", \"2021-05-18T00:00:00\", \"2021-05-19T00:00:00\", \"2021-05-20T00:00:00\", \"2021-05-21T00:00:00\", \"2021-05-24T00:00:00\", \"2021-05-25T00:00:00\", \"2021-05-26T00:00:00\", \"2021-05-27T00:00:00\", \"2021-05-28T00:00:00\", \"2021-06-01T00:00:00\"], \"y\": [0.0, 0.0, -0.032258097595362786, 0.021505355669564928, 0.04301077543014525, 0.10752684243884003, 0.09677416460405756, 0.0860214867692751, 0.0860214867692751, 0.10752684243884003, 0.09677416460405756, 0.06451613109971018, 0.09677416460405756, 0.10752684243884003, 0.09677416460405756, 0.11827952027362248, 0.13978487594318742, 0.13978487594318742, 0.12903219810840497, 0.13978487594318742, 0.12903219810840497, 0.13978487594318742, 0.18279571546434806, 0.21505374896869545, 0.2258064268034779, 0.2258064268034779, 0.16129035979478312, 0.16129035979478312, 0.1720430376295656, 0.2258064268034779, 0.23655910463826038, 0.204301071133913, 0.1935483932991305, 0.24731178247304283, 0.204301071133913, 0.18279571546434806, 0.18279571546434806, 0.1720430376295656, 0.18279571546434806, 0.1720430376295656, 0.13978487594318742, 0.1720430376295656, 0.13978487594318742, 0.1720430376295656, 0.1935483932991305, 0.2258064268034779, 0.18279571546434806, 0.204301071133913, 0.13978487594318742, 0.09677416460405756, 0.12903219810840497, 0.1935483932991305, 0.204301071133913, 0.15053768196000067, 0.13978487594318742, 0.1935483932991305, 0.18279571546434806, 0.18279571546434806, 0.1720430376295656, 0.24731178247304283, 0.2258064268034779, 0.279569944159421]}, {\"name\": \"PFE\", \"type\": \"scatter\", \"x\": [\"2021-03-04T00:00:00\", \"2021-03-05T00:00:00\", \"2021-03-08T00:00:00\", \"2021-03-09T00:00:00\", \"2021-03-10T00:00:00\", \"2021-03-11T00:00:00\", \"2021-03-12T00:00:00\", \"2021-03-15T00:00:00\", \"2021-03-16T00:00:00\", \"2021-03-17T00:00:00\", \"2021-03-18T00:00:00\", \"2021-03-19T00:00:00\", \"2021-03-22T00:00:00\", \"2021-03-23T00:00:00\", \"2021-03-24T00:00:00\", \"2021-03-25T00:00:00\", \"2021-03-26T00:00:00\", \"2021-03-29T00:00:00\", \"2021-03-30T00:00:00\", \"2021-03-31T00:00:00\", \"2021-04-01T00:00:00\", \"2021-04-05T00:00:00\", \"2021-04-06T00:00:00\", \"2021-04-07T00:00:00\", \"2021-04-08T00:00:00\", \"2021-04-09T00:00:00\", \"2021-04-12T00:00:00\", \"2021-04-13T00:00:00\", \"2021-04-14T00:00:00\", \"2021-04-15T00:00:00\", \"2021-04-16T00:00:00\", \"2021-04-19T00:00:00\", \"2021-04-20T00:00:00\", \"2021-04-21T00:00:00\", \"2021-04-22T00:00:00\", \"2021-04-23T00:00:00\", \"2021-04-26T00:00:00\", \"2021-04-27T00:00:00\", \"2021-04-28T00:00:00\", \"2021-04-29T00:00:00\", \"2021-04-30T00:00:00\", \"2021-05-03T00:00:00\", \"2021-05-04T00:00:00\", \"2021-05-05T00:00:00\", \"2021-05-06T00:00:00\", \"2021-05-07T00:00:00\", \"2021-05-10T00:00:00\", \"2021-05-11T00:00:00\", \"2021-05-12T00:00:00\", \"2021-05-13T00:00:00\", \"2021-05-14T00:00:00\", \"2021-05-17T00:00:00\", \"2021-05-18T00:00:00\", \"2021-05-19T00:00:00\", \"2021-05-20T00:00:00\", \"2021-05-21T00:00:00\", \"2021-05-24T00:00:00\", \"2021-05-25T00:00:00\", \"2021-05-26T00:00:00\", \"2021-05-27T00:00:00\", \"2021-05-28T00:00:00\", \"2021-06-01T00:00:00\"], \"y\": [0.0, 0.005555515276914111, 0.004385897889925909, 0.007309941357396413, 0.02134501537869514, 0.014912231291113262, 0.021637363955015573, 0.03538008939999387, 0.04766084888166352, 0.046491231494675316, 0.04590642280118122, 0.038888830020105236, 0.05263155546508353, 0.03391812343668523, 0.04122806479408164, 0.04298237933371071, 0.05994149682247994, 0.07076017879998774, 0.05584794750887447, 0.05935668812898584, 0.06140346278578858, 0.06081865409229448, 0.05409352142839217, 0.04999997211478669, 0.05146193807809533, 0.07017537010649363, 0.08099416362485465, 0.08654967890176876, 0.0868420274780892, 0.09941513553607928, 0.1277777436958504, 0.13830407709703776, 0.14122800902365504, 0.15584789173844785, 0.12982451835265313, 0.13040932704614724, 0.13099413573964133, 0.12426900307573903, 0.13479533647692638, 0.12865490096566493, 0.1301169784698268, 0.16461991060000614, 0.1681286512201175, 0.1687134599136116, 0.1459063670307546, 0.15730996924260973, 0.16549706786982066, 0.15058472503785417, 0.16052624974554744, 0.1725145491100434, 0.17017542587692025, 0.1728070092272171, 0.17105258314673477, 0.16461991060000614, 0.17309935780353752, 0.1681286512201175, 0.16403510190651202, 0.1500000278852133, 0.13801161697986408, 0.1301169784698268, 0.13245610170294997, 0.12573096903904765]}, {\"name\": \"BA\", \"type\": \"scatter\", \"x\": [\"2021-03-04T00:00:00\", \"2021-03-05T00:00:00\", \"2021-03-08T00:00:00\", \"2021-03-09T00:00:00\", \"2021-03-10T00:00:00\", \"2021-03-11T00:00:00\", \"2021-03-12T00:00:00\", \"2021-03-15T00:00:00\", \"2021-03-16T00:00:00\", \"2021-03-17T00:00:00\", \"2021-03-18T00:00:00\", \"2021-03-19T00:00:00\", \"2021-03-22T00:00:00\", \"2021-03-23T00:00:00\", \"2021-03-24T00:00:00\", \"2021-03-25T00:00:00\", \"2021-03-26T00:00:00\", \"2021-03-29T00:00:00\", \"2021-03-30T00:00:00\", \"2021-03-31T00:00:00\", \"2021-04-01T00:00:00\", \"2021-04-05T00:00:00\", \"2021-04-06T00:00:00\", \"2021-04-07T00:00:00\", \"2021-04-08T00:00:00\", \"2021-04-09T00:00:00\", \"2021-04-12T00:00:00\", \"2021-04-13T00:00:00\", \"2021-04-14T00:00:00\", \"2021-04-15T00:00:00\", \"2021-04-16T00:00:00\", \"2021-04-19T00:00:00\", \"2021-04-20T00:00:00\", \"2021-04-21T00:00:00\", \"2021-04-22T00:00:00\", \"2021-04-23T00:00:00\", \"2021-04-26T00:00:00\", \"2021-04-27T00:00:00\", \"2021-04-28T00:00:00\", \"2021-04-29T00:00:00\", \"2021-04-30T00:00:00\", \"2021-05-03T00:00:00\", \"2021-05-04T00:00:00\", \"2021-05-05T00:00:00\", \"2021-05-06T00:00:00\", \"2021-05-07T00:00:00\", \"2021-05-10T00:00:00\", \"2021-05-11T00:00:00\", \"2021-05-12T00:00:00\", \"2021-05-13T00:00:00\", \"2021-05-14T00:00:00\", \"2021-05-17T00:00:00\", \"2021-05-18T00:00:00\", \"2021-05-19T00:00:00\", \"2021-05-20T00:00:00\", \"2021-05-21T00:00:00\", \"2021-05-24T00:00:00\", \"2021-05-25T00:00:00\", \"2021-05-26T00:00:00\", \"2021-05-27T00:00:00\", \"2021-05-28T00:00:00\", \"2021-06-01T00:00:00\"], \"y\": [0.0, -0.006630792793581952, -0.003026157777816257, 0.026256035424346225, 0.09180716927436383, 0.12144538503299643, 0.1979439918053019, 0.18210136151635867, 0.13573049302978726, 0.17302295608726934, 0.1395131053716083, 0.1384451056065574, 0.11801872734328607, 0.07360594896512059, 0.06466111141102203, 0.10004002961988158, 0.08971557919532655, 0.11485913749919788, 0.12148986238842041, 0.1335498803355426, 0.12571758780627837, 0.1541986453759338, 0.1355524477993725, 0.12402649763913519, 0.13457340274516955, 0.12304745258493223, 0.11040895739986059, 0.12709713277237542, 0.12335892988161894, 0.11748472746076062, 0.10444566445943547, 0.08651144409145495, 0.04160914318618798, 0.049886480887129714, 0.04281071082622969, 0.060833953809417585, 0.07445149404869218, 0.07903517411866083, 0.04783943606787584, 0.0499755035023371, 0.042721688211022305, 0.046637868427834135, 0.039695598337565474, 0.015442062472689715, 0.02269587776400451, 0.04788391342329982, 0.03658041794454183, 0.018557242865713357, -0.01748924310066244, -0.009211905399720709, 0.016732652727938807, 0.014552040033694143, 0.012638495185071635, -0.001290590255249092, 0.013083472452389708, 0.04499132352047435, 0.05665077365134303, 0.07133638156002796, 0.07413994884764605, 0.11566013732298606, 0.09928350715151738, 0.1335943576909666]}, {\"name\": \"MARA\", \"type\": \"scatter\", \"x\": [\"2021-03-04T00:00:00\", \"2021-03-05T00:00:00\", \"2021-03-08T00:00:00\", \"2021-03-09T00:00:00\", \"2021-03-10T00:00:00\", \"2021-03-11T00:00:00\", \"2021-03-12T00:00:00\", \"2021-03-15T00:00:00\", \"2021-03-16T00:00:00\", \"2021-03-17T00:00:00\", \"2021-03-18T00:00:00\", \"2021-03-19T00:00:00\", \"2021-03-22T00:00:00\", \"2021-03-23T00:00:00\", \"2021-03-24T00:00:00\", \"2021-03-25T00:00:00\", \"2021-03-26T00:00:00\", \"2021-03-29T00:00:00\", \"2021-03-30T00:00:00\", \"2021-03-31T00:00:00\", \"2021-04-01T00:00:00\", \"2021-04-05T00:00:00\", \"2021-04-06T00:00:00\", \"2021-04-07T00:00:00\", \"2021-04-08T00:00:00\", \"2021-04-09T00:00:00\", \"2021-04-12T00:00:00\", \"2021-04-13T00:00:00\", \"2021-04-14T00:00:00\", \"2021-04-15T00:00:00\", \"2021-04-16T00:00:00\", \"2021-04-19T00:00:00\", \"2021-04-20T00:00:00\", \"2021-04-21T00:00:00\", \"2021-04-22T00:00:00\", \"2021-04-23T00:00:00\", \"2021-04-26T00:00:00\", \"2021-04-27T00:00:00\", \"2021-04-28T00:00:00\", \"2021-04-29T00:00:00\", \"2021-04-30T00:00:00\", \"2021-05-03T00:00:00\", \"2021-05-04T00:00:00\", \"2021-05-05T00:00:00\", \"2021-05-06T00:00:00\", \"2021-05-07T00:00:00\", \"2021-05-10T00:00:00\", \"2021-05-11T00:00:00\", \"2021-05-12T00:00:00\", \"2021-05-13T00:00:00\", \"2021-05-14T00:00:00\", \"2021-05-17T00:00:00\", \"2021-05-18T00:00:00\", \"2021-05-19T00:00:00\", \"2021-05-20T00:00:00\", \"2021-05-21T00:00:00\", \"2021-05-24T00:00:00\", \"2021-05-25T00:00:00\", \"2021-05-26T00:00:00\", \"2021-05-27T00:00:00\", \"2021-05-28T00:00:00\", \"2021-06-01T00:00:00\"], \"y\": [0.0, -0.06185559945986458, -0.10934077713765171, 0.14870360468055394, 0.19306468694871753, 0.3061544381639448, 0.27147775373547783, 0.346454255985625, 0.1983755895590503, 0.3489535323133238, 0.2983443783979677, 0.34489226786684046, 0.24929721260139606, 0.188378722592364, 0.0634177663367309, 0.06841619982007403, 0.12746023258333194, 0.19119034887499792, 0.37894413321338266, 0.5001562941495221, 0.5260856306030975, 0.7669479643565918, 0.6385505627364001, 0.445173406660693, 0.5563887006301461, 0.5307717141315057, 0.5641987603961232, 0.5932521922593222, 0.34239311071119616, 0.3164636550855661, 0.21618251629171364, 0.11059047488752839, 0.048734815841636546, 0.09122156003608053, -0.029678191359096506, 0.009059697929826489, 0.0665417425742999, 0.0659169234923752, 0.17588257929797887, 0.07029053789379362, 0.14901595463548903, 0.1315214970298153, 0.060606140054096966, 0.04810999675971184, -0.019056505310485507, -0.021243312511194726, -0.13089655877583606, -0.18931577245716927, -0.2861605254724904, -0.38581690477044545, -0.278975284788438, -0.30146823546348217, -0.28178691107107195, -0.32177443852384435, -0.3161511859585765, -0.34739142502248477, -0.2767884775877288, -0.29334576615654273, -0.2108715540953536, -0.1927522178217279, -0.2261792640863454, -0.21274595175510047]}, {\"name\": \"COUR\", \"type\": \"scatter\", \"x\": [\"2021-03-31T00:00:00\", \"2021-04-01T00:00:00\", \"2021-04-05T00:00:00\", \"2021-04-06T00:00:00\", \"2021-04-07T00:00:00\", \"2021-04-08T00:00:00\", \"2021-04-09T00:00:00\", \"2021-04-12T00:00:00\", \"2021-04-13T00:00:00\", \"2021-04-14T00:00:00\", \"2021-04-15T00:00:00\", \"2021-04-16T00:00:00\", \"2021-04-19T00:00:00\", \"2021-04-20T00:00:00\", \"2021-04-21T00:00:00\", \"2021-04-22T00:00:00\", \"2021-04-23T00:00:00\", \"2021-04-26T00:00:00\", \"2021-04-27T00:00:00\", \"2021-04-28T00:00:00\", \"2021-04-29T00:00:00\", \"2021-04-30T00:00:00\", \"2021-05-03T00:00:00\", \"2021-05-04T00:00:00\", \"2021-05-05T00:00:00\", \"2021-05-06T00:00:00\", \"2021-05-07T00:00:00\", \"2021-05-10T00:00:00\", \"2021-05-11T00:00:00\", \"2021-05-12T00:00:00\", \"2021-05-13T00:00:00\", \"2021-05-14T00:00:00\", \"2021-05-17T00:00:00\", \"2021-05-18T00:00:00\", \"2021-05-19T00:00:00\", \"2021-05-20T00:00:00\", \"2021-05-21T00:00:00\", \"2021-05-24T00:00:00\", \"2021-05-25T00:00:00\", \"2021-05-26T00:00:00\", \"2021-05-27T00:00:00\", \"2021-05-28T00:00:00\", \"2021-06-01T00:00:00\"], \"y\": [0.0, 0.01733330620659722, 0.1024444580078125, 0.24955554538302951, 0.28888888888888886, 0.24444444444444444, 0.19222225613064237, 0.14177780151367186, 0.14111107720269098, 0.07955559624565972, 0.05444446139865451, 0.021777767605251738, -0.06488884819878472, -0.08888888888888889, -0.06977776421440972, -0.01866667005750868, 0.030444420708550347, 0.06111111111111111, 0.03644443088107639, 0.008888922797309028, 0.003333367241753472, -0.006666649712456597, 0.024666680230034724, 0.014444478352864583, -0.0664444817437066, -0.13377778795030382, -0.19688890245225693, -0.22666668362087675, -0.10088890923394098, -0.21733330620659722, -0.23777779473198785, -0.152888912624783, -0.15755555894639756, -0.14444444444444443, -0.14733335706922743, -0.1773333231608073, -0.16600002712673612, -0.16666666666666666, -0.17599995930989584, -0.15600001017252604, -0.15555555555555556, -0.15555555555555556, -0.1437778049045139]}, {\"name\": \"CRWD\", \"type\": \"scatter\", \"x\": [\"2021-03-04T00:00:00\", \"2021-03-05T00:00:00\", \"2021-03-08T00:00:00\", \"2021-03-09T00:00:00\", \"2021-03-10T00:00:00\", \"2021-03-11T00:00:00\", \"2021-03-12T00:00:00\", \"2021-03-15T00:00:00\", \"2021-03-16T00:00:00\", \"2021-03-17T00:00:00\", \"2021-03-18T00:00:00\", \"2021-03-19T00:00:00\", \"2021-03-22T00:00:00\", \"2021-03-23T00:00:00\", \"2021-03-24T00:00:00\", \"2021-03-25T00:00:00\", \"2021-03-26T00:00:00\", \"2021-03-29T00:00:00\", \"2021-03-30T00:00:00\", \"2021-03-31T00:00:00\", \"2021-04-01T00:00:00\", \"2021-04-05T00:00:00\", \"2021-04-06T00:00:00\", \"2021-04-07T00:00:00\", \"2021-04-08T00:00:00\", \"2021-04-09T00:00:00\", \"2021-04-12T00:00:00\", \"2021-04-13T00:00:00\", \"2021-04-14T00:00:00\", \"2021-04-15T00:00:00\", \"2021-04-16T00:00:00\", \"2021-04-19T00:00:00\", \"2021-04-20T00:00:00\", \"2021-04-21T00:00:00\", \"2021-04-22T00:00:00\", \"2021-04-23T00:00:00\", \"2021-04-26T00:00:00\", \"2021-04-27T00:00:00\", \"2021-04-28T00:00:00\", \"2021-04-29T00:00:00\", \"2021-04-30T00:00:00\", \"2021-05-03T00:00:00\", \"2021-05-04T00:00:00\", \"2021-05-05T00:00:00\", \"2021-05-06T00:00:00\", \"2021-05-07T00:00:00\", \"2021-05-10T00:00:00\", \"2021-05-11T00:00:00\", \"2021-05-12T00:00:00\", \"2021-05-13T00:00:00\", \"2021-05-14T00:00:00\", \"2021-05-17T00:00:00\", \"2021-05-18T00:00:00\", \"2021-05-19T00:00:00\", \"2021-05-20T00:00:00\", \"2021-05-21T00:00:00\", \"2021-05-24T00:00:00\", \"2021-05-25T00:00:00\", \"2021-05-26T00:00:00\", \"2021-05-27T00:00:00\", \"2021-05-28T00:00:00\", \"2021-06-01T00:00:00\"], \"y\": [0.0, -0.05114259855454623, -0.06860461742218583, 0.03165967374703239, 0.00968959564724059, 0.06637648165177909, 0.03114148057293474, 0.03917300038038257, 0.017202922280590772, 0.07793146203452254, -0.014404884709925281, 0.008497846225029141, 0.014197575814215175, -0.012384057835228644, -0.05901859715762268, -0.07166175157990015, -0.07930466603936355, -0.0991761171296842, -0.09176644494418908, -0.0543033871601156, -0.030882463051063534, -0.033006944373615225, 0.007202442354962641, 0.004870652136700846, 0.054199653647082936, 0.05020978758902838, 0.05699777028292604, 0.12104254078162095, 0.07881232717834645, 0.10420229047075644, 0.11508363554020848, 0.10560126972350038, 0.07052178984902742, 0.09005642328270237, 0.12301150089980126, 0.13632829063537014, 0.16311723318052407, 0.1464324250088533, 0.1411990218372486, 0.09606711621545355, 0.08041861532680049, 0.06285294201130584, 0.024871691053134724, 0.001295403870066501, -0.030675154155353428, -0.019742021394562673, -0.028032558723881707, 0.010933211825968372, -0.019275615911803743, -0.047826367809783096, -0.012176828004696156, -0.02311003983066453, 0.019638287881530003, 0.029638846872335752, 0.05720500011345853, 0.09124825177009142, 0.11067930982108895, 0.10295867429202865, 0.13974817582798832, 0.15451573250763986, 0.15109584731502168, 0.1506813876539567]}, {\"name\": \"DIS\", \"type\": \"scatter\", \"x\": [\"2021-03-04T00:00:00\", \"2021-03-05T00:00:00\", \"2021-03-08T00:00:00\", \"2021-03-09T00:00:00\", \"2021-03-10T00:00:00\", \"2021-03-11T00:00:00\", \"2021-03-12T00:00:00\", \"2021-03-15T00:00:00\", \"2021-03-16T00:00:00\", \"2021-03-17T00:00:00\", \"2021-03-18T00:00:00\", \"2021-03-19T00:00:00\", \"2021-03-22T00:00:00\", \"2021-03-23T00:00:00\", \"2021-03-24T00:00:00\", \"2021-03-25T00:00:00\", \"2021-03-26T00:00:00\", \"2021-03-29T00:00:00\", \"2021-03-30T00:00:00\", \"2021-03-31T00:00:00\", \"2021-04-01T00:00:00\", \"2021-04-05T00:00:00\", \"2021-04-06T00:00:00\", \"2021-04-07T00:00:00\", \"2021-04-08T00:00:00\", \"2021-04-09T00:00:00\", \"2021-04-12T00:00:00\", \"2021-04-13T00:00:00\", \"2021-04-14T00:00:00\", \"2021-04-15T00:00:00\", \"2021-04-16T00:00:00\", \"2021-04-19T00:00:00\", \"2021-04-20T00:00:00\", \"2021-04-21T00:00:00\", \"2021-04-22T00:00:00\", \"2021-04-23T00:00:00\", \"2021-04-26T00:00:00\", \"2021-04-27T00:00:00\", \"2021-04-28T00:00:00\", \"2021-04-29T00:00:00\", \"2021-04-30T00:00:00\", \"2021-05-03T00:00:00\", \"2021-05-04T00:00:00\", \"2021-05-05T00:00:00\", \"2021-05-06T00:00:00\", \"2021-05-07T00:00:00\", \"2021-05-10T00:00:00\", \"2021-05-11T00:00:00\", \"2021-05-12T00:00:00\", \"2021-05-13T00:00:00\", \"2021-05-14T00:00:00\", \"2021-05-17T00:00:00\", \"2021-05-18T00:00:00\", \"2021-05-19T00:00:00\", \"2021-05-20T00:00:00\", \"2021-05-21T00:00:00\", \"2021-05-24T00:00:00\", \"2021-05-25T00:00:00\", \"2021-05-26T00:00:00\", \"2021-05-27T00:00:00\", \"2021-05-28T00:00:00\", \"2021-06-01T00:00:00\"], \"y\": [0.0, 0.010423904305651651, 0.07381803421221297, 0.034462563259094935, 0.037387644657427485, 0.046375585158293604, 0.04855610775985264, 0.04642873894705509, 0.03302668060513195, 0.038344980910892015, 0.022602776299480293, 0.016539917196946717, 0.025687400214919838, 0.003722793983867541, -0.017603561027934225, -0.005956470374188066, -0.011221616891186647, -0.016912156019922204, -0.013295750764400174, -0.01866720485892173, 0.004999215271546071, 0.0024996076357730354, 0.00904109428962761, -0.0024996076357730354, -0.0037759477726290284, -0.0007445587967735083, -0.00819014676450859, -0.013508447070268659, -0.0030313889758555204, -0.01116846310242516, -0.004095113957665563, -0.003191012643785056, -0.027867922816478874, -0.026166027766240836, -0.028027465333585876, -0.026644655317561834, -0.019996779935361746, -0.018029034790493732, -0.02467691017269382, -0.01435939459538768, -0.010689754400281627, -0.013402139492745685, -0.020103168663707257, -0.034675340715785964, -0.03318622312223894, -0.016965390959506225, -0.019837237418254747, -0.03382439319066694, -0.054140258160242684, -0.05153434294694668, -0.0762112531196405, -0.09546347425822874, -0.09759084307102628, -0.09977128452176279, -0.08865605635892165, -0.08312505974729309, -0.07296708668709395, -0.06307504487234732, -0.06147953855045479, -0.04781154896307913, -0.04988568283629266, -0.048875192794066644]}, {\"name\": \"GME\", \"type\": \"scatter\", \"x\": [\"2021-03-04T00:00:00\", \"2021-03-05T00:00:00\", \"2021-03-08T00:00:00\", \"2021-03-09T00:00:00\", \"2021-03-10T00:00:00\", \"2021-03-11T00:00:00\", \"2021-03-12T00:00:00\", \"2021-03-15T00:00:00\", \"2021-03-16T00:00:00\", \"2021-03-17T00:00:00\", \"2021-03-18T00:00:00\", \"2021-03-19T00:00:00\", \"2021-03-22T00:00:00\", \"2021-03-23T00:00:00\", \"2021-03-24T00:00:00\", \"2021-03-25T00:00:00\", \"2021-03-26T00:00:00\", \"2021-03-29T00:00:00\", \"2021-03-30T00:00:00\", \"2021-03-31T00:00:00\", \"2021-04-01T00:00:00\", \"2021-04-05T00:00:00\", \"2021-04-06T00:00:00\", \"2021-04-07T00:00:00\", \"2021-04-08T00:00:00\", \"2021-04-09T00:00:00\", \"2021-04-12T00:00:00\", \"2021-04-13T00:00:00\", \"2021-04-14T00:00:00\", \"2021-04-15T00:00:00\", \"2021-04-16T00:00:00\", \"2021-04-19T00:00:00\", \"2021-04-20T00:00:00\", \"2021-04-21T00:00:00\", \"2021-04-22T00:00:00\", \"2021-04-23T00:00:00\", \"2021-04-26T00:00:00\", \"2021-04-27T00:00:00\", \"2021-04-28T00:00:00\", \"2021-04-29T00:00:00\", \"2021-04-30T00:00:00\", \"2021-05-03T00:00:00\", \"2021-05-04T00:00:00\", \"2021-05-05T00:00:00\", \"2021-05-06T00:00:00\", \"2021-05-07T00:00:00\", \"2021-05-10T00:00:00\", \"2021-05-11T00:00:00\", \"2021-05-12T00:00:00\", \"2021-05-13T00:00:00\", \"2021-05-14T00:00:00\", \"2021-05-17T00:00:00\", \"2021-05-18T00:00:00\", \"2021-05-19T00:00:00\", \"2021-05-20T00:00:00\", \"2021-05-21T00:00:00\", \"2021-05-24T00:00:00\", \"2021-05-25T00:00:00\", \"2021-05-26T00:00:00\", \"2021-05-27T00:00:00\", \"2021-05-28T00:00:00\", \"2021-06-01T00:00:00\"], \"y\": [0.0, 0.04072534296245312, 0.46958814529917486, 0.865507990255589, 1.0022666247006753, 0.9644880091402852, 0.9984887631446363, 0.6633168812812079, 0.5728748664063392, 0.5852662476984997, 0.5243671378617405, 0.5131846999373969, 0.46951262957288076, 0.3732526756201801, -0.09074430836241554, 0.38836412184433616, 0.3675858832861216, 0.369852623277982, 0.46928596710281323, 0.4342274164744186, 0.4465431667490999, 0.4125424127447488, 0.39403091417839464, 0.34469205147982, 0.286437375557577, 0.19652431664032263, 0.06603694621320337, 0.06528144307670669, 0.25825456063105784, 0.18201734210007506, 0.16879482665393852, 0.24193417103908488, 0.19780877573443367, 0.19765762899066025, 0.14219864901789203, 0.14227416474418617, 0.27638824998357103, 0.3431809299156414, 0.349301047189835, 0.3312428735636159, 0.31159794735573904, 0.22553826572081778, 0.21443134352276827, 0.20498668963267075, 0.21654693677085532, 0.2173025551985372, 0.08213067333510882, 0.11008682579156046, 0.09399309866965501, 0.24291645193683425, 0.2083112262485747, 0.36456364015776443, 0.3650924808241936, 0.27563274684707434, 0.28817527488300826, 0.33577623825615166, 0.3601056759003377, 0.5823950360227308, 0.8327161796190549, 0.9201359513655665, 0.6773705308813204, 0.8815262016512003]}, {\"name\": \"AAPL\", \"type\": \"scatter\", \"x\": [\"2021-03-04T00:00:00\", \"2021-03-05T00:00:00\", \"2021-03-08T00:00:00\", \"2021-03-09T00:00:00\", \"2021-03-10T00:00:00\", \"2021-03-11T00:00:00\", \"2021-03-12T00:00:00\", \"2021-03-15T00:00:00\", \"2021-03-16T00:00:00\", \"2021-03-17T00:00:00\", \"2021-03-18T00:00:00\", \"2021-03-19T00:00:00\", \"2021-03-22T00:00:00\", \"2021-03-23T00:00:00\", \"2021-03-24T00:00:00\", \"2021-03-25T00:00:00\", \"2021-03-26T00:00:00\", \"2021-03-29T00:00:00\", \"2021-03-30T00:00:00\", \"2021-03-31T00:00:00\", \"2021-04-01T00:00:00\", \"2021-04-05T00:00:00\", \"2021-04-06T00:00:00\", \"2021-04-07T00:00:00\", \"2021-04-08T00:00:00\", \"2021-04-09T00:00:00\", \"2021-04-12T00:00:00\", \"2021-04-13T00:00:00\", \"2021-04-14T00:00:00\", \"2021-04-15T00:00:00\", \"2021-04-16T00:00:00\", \"2021-04-19T00:00:00\", \"2021-04-20T00:00:00\", \"2021-04-21T00:00:00\", \"2021-04-22T00:00:00\", \"2021-04-23T00:00:00\", \"2021-04-26T00:00:00\", \"2021-04-27T00:00:00\", \"2021-04-28T00:00:00\", \"2021-04-29T00:00:00\", \"2021-04-30T00:00:00\", \"2021-05-03T00:00:00\", \"2021-05-04T00:00:00\", \"2021-05-05T00:00:00\", \"2021-05-06T00:00:00\", \"2021-05-07T00:00:00\", \"2021-05-10T00:00:00\", \"2021-05-11T00:00:00\", \"2021-05-12T00:00:00\", \"2021-05-13T00:00:00\", \"2021-05-14T00:00:00\", \"2021-05-17T00:00:00\", \"2021-05-18T00:00:00\", \"2021-05-19T00:00:00\", \"2021-05-20T00:00:00\", \"2021-05-21T00:00:00\", \"2021-05-24T00:00:00\", \"2021-05-25T00:00:00\", \"2021-05-26T00:00:00\", \"2021-05-27T00:00:00\", \"2021-05-28T00:00:00\", \"2021-06-01T00:00:00\"], \"y\": [0.0, 0.010738374635987435, -0.03138264154883381, 0.00799133527363285, -0.0012485965197182034, 0.015233512635434775, 0.007491896665745568, 0.032131862970152004, 0.04528429672674008, 0.0385416214823127, 0.003329738908052171, -0.0011653990913951693, 0.02713728636281738, 0.02006163087663606, -0.00033298024175394404, 0.003829177515939452, 0.008990275998894681, 0.010488655332043795, -0.0019145570032260914, 0.016815152906394192, 0.023890808392575513, 0.04803133608909466, 0.05061185357582865, 0.06467996711986825, 0.0851577756665813, 0.10713396354644344, 0.09248321396619352, 0.11903767376433877, 0.09905936733500029, 0.11962043681952363, 0.116790200028846, 0.12245067361020125, 0.10804964333389497, 0.11129612130413684, 0.09831020942316937, 0.11812212099586178, 0.12145179639442669, 0.1187047570320721, 0.11196208178764472, 0.11112959942851623, 0.09431457354109658, 0.10330472252101672, 0.06426372594030401, 0.06634486832863797, 0.07999674069311333, 0.08390917914686309, 0.05593941042491721, 0.048114597026904966, 0.021976187879862153, 0.04028972011940546, 0.060933987032251835, 0.05111129218371593, 0.039290779394143625, 0.03795892193661512, 0.05976858794085666, 0.04411889763534491, 0.05802048930376391, 0.05635565160448146, 0.05593941042491721, 0.042870237606139436, 0.03729296145310723, 0.03454592209075264]}, {\"name\": \"FVRR\", \"type\": \"scatter\", \"x\": [\"2021-03-04T00:00:00\", \"2021-03-05T00:00:00\", \"2021-03-08T00:00:00\", \"2021-03-09T00:00:00\", \"2021-03-10T00:00:00\", \"2021-03-11T00:00:00\", \"2021-03-12T00:00:00\", \"2021-03-15T00:00:00\", \"2021-03-16T00:00:00\", \"2021-03-17T00:00:00\", \"2021-03-18T00:00:00\", \"2021-03-19T00:00:00\", \"2021-03-22T00:00:00\", \"2021-03-23T00:00:00\", \"2021-03-24T00:00:00\", \"2021-03-25T00:00:00\", \"2021-03-26T00:00:00\", \"2021-03-29T00:00:00\", \"2021-03-30T00:00:00\", \"2021-03-31T00:00:00\", \"2021-04-01T00:00:00\", \"2021-04-05T00:00:00\", \"2021-04-06T00:00:00\", \"2021-04-07T00:00:00\", \"2021-04-08T00:00:00\", \"2021-04-09T00:00:00\", \"2021-04-12T00:00:00\", \"2021-04-13T00:00:00\", \"2021-04-14T00:00:00\", \"2021-04-15T00:00:00\", \"2021-04-16T00:00:00\", \"2021-04-19T00:00:00\", \"2021-04-20T00:00:00\", \"2021-04-21T00:00:00\", \"2021-04-22T00:00:00\", \"2021-04-23T00:00:00\", \"2021-04-26T00:00:00\", \"2021-04-27T00:00:00\", \"2021-04-28T00:00:00\", \"2021-04-29T00:00:00\", \"2021-04-30T00:00:00\", \"2021-05-03T00:00:00\", \"2021-05-04T00:00:00\", \"2021-05-05T00:00:00\", \"2021-05-06T00:00:00\", \"2021-05-07T00:00:00\", \"2021-05-10T00:00:00\", \"2021-05-11T00:00:00\", \"2021-05-12T00:00:00\", \"2021-05-13T00:00:00\", \"2021-05-14T00:00:00\", \"2021-05-17T00:00:00\", \"2021-05-18T00:00:00\", \"2021-05-19T00:00:00\", \"2021-05-20T00:00:00\", \"2021-05-21T00:00:00\", \"2021-05-24T00:00:00\", \"2021-05-25T00:00:00\", \"2021-05-26T00:00:00\", \"2021-05-27T00:00:00\", \"2021-05-28T00:00:00\", \"2021-06-01T00:00:00\"], \"y\": [0.0, -0.03461705301777517, -0.1305444490090973, 0.015050948415835043, 0.016777373383456553, 0.08840195555673237, 0.07959279093459039, 0.06821604284403301, 0.04780877974129901, 0.057503345923579606, -0.043559081911262336, -0.004293940889381409, -0.001770668026966246, -0.02266487496911429, -0.10190345124232485, -0.09995567588466868, -0.10633018885639595, -0.1466577712224499, -0.11261614816277825, -0.03860115739843246, -0.003629889719277451, -0.0366533820407763, -0.014696733754455208, -0.030721502302462844, 0.01416561440235192, 0.0033200532105533273, 0.003364363816553551, 0.0301018292850146, -0.019743211932630046, 0.010225820627694858, -0.043072138071848294, -0.06139882909223644, -0.07649402056741622, -0.03776006644429407, -0.03776006644429407, -0.029393535055565904, -0.003629889719277451, -0.007304090044555125, -0.014342586639730861, -0.04741032202057444, -0.07892867221783094, -0.11270470182812321, -0.15152720961659033, -0.1860114659096758, -0.20407256348068456, -0.2017263979489593, -0.2599380381019876, -0.21841521766707092, -0.26228420363371285, -0.3007082537014554, -0.2487826404014649, -0.24785299578198156, -0.24271796393846176, -0.23939791072790842, -0.19318282677619672, -0.18946431584491882, -0.16086762868414656, -0.16024788812004284, -0.14741030851124334, -0.1273571925232337, -0.0911465112625267, -0.08778214744597315]}, {\"name\": \"KGC\", \"type\": \"scatter\", \"x\": [\"2021-03-04T00:00:00\", \"2021-03-05T00:00:00\", \"2021-03-08T00:00:00\", \"2021-03-09T00:00:00\", \"2021-03-10T00:00:00\", \"2021-03-11T00:00:00\", \"2021-03-12T00:00:00\", \"2021-03-15T00:00:00\", \"2021-03-16T00:00:00\", \"2021-03-17T00:00:00\", \"2021-03-18T00:00:00\", \"2021-03-19T00:00:00\", \"2021-03-22T00:00:00\", \"2021-03-23T00:00:00\", \"2021-03-24T00:00:00\", \"2021-03-25T00:00:00\", \"2021-03-26T00:00:00\", \"2021-03-29T00:00:00\", \"2021-03-30T00:00:00\", \"2021-03-31T00:00:00\", \"2021-04-01T00:00:00\", \"2021-04-05T00:00:00\", \"2021-04-06T00:00:00\", \"2021-04-07T00:00:00\", \"2021-04-08T00:00:00\", \"2021-04-09T00:00:00\", \"2021-04-12T00:00:00\", \"2021-04-13T00:00:00\", \"2021-04-14T00:00:00\", \"2021-04-15T00:00:00\", \"2021-04-16T00:00:00\", \"2021-04-19T00:00:00\", \"2021-04-20T00:00:00\", \"2021-04-21T00:00:00\", \"2021-04-22T00:00:00\", \"2021-04-23T00:00:00\", \"2021-04-26T00:00:00\", \"2021-04-27T00:00:00\", \"2021-04-28T00:00:00\", \"2021-04-29T00:00:00\", \"2021-04-30T00:00:00\", \"2021-05-03T00:00:00\", \"2021-05-04T00:00:00\", \"2021-05-05T00:00:00\", \"2021-05-06T00:00:00\", \"2021-05-07T00:00:00\", \"2021-05-10T00:00:00\", \"2021-05-11T00:00:00\", \"2021-05-12T00:00:00\", \"2021-05-13T00:00:00\", \"2021-05-14T00:00:00\", \"2021-05-17T00:00:00\", \"2021-05-18T00:00:00\", \"2021-05-19T00:00:00\", \"2021-05-20T00:00:00\", \"2021-05-21T00:00:00\", \"2021-05-24T00:00:00\", \"2021-05-25T00:00:00\", \"2021-05-26T00:00:00\", \"2021-05-27T00:00:00\", \"2021-05-28T00:00:00\", \"2021-06-01T00:00:00\"], \"y\": [0.0, 0.015503935570056991, -0.0015503492000594383, 0.027907024883507568, 0.031007797211870216, 0.055813975838771374, 0.043410886525320797, 0.06666671595216252, 0.06666671595216252, 0.09457366690742632, 0.06046517129543722, 0.0728682606088878, 0.07596903293725045, 0.041860463397017586, 0.027907024883507568, 0.018604707898419635, 0.041860463397017586, 0.041860463397017586, -0.0015503492000594383, 0.03410856954023286, 0.08837212225070103, 0.09147289457906367, 0.12403104099099332, 0.11162795167754275, 0.15658918740292296, 0.14883721961789448, 0.12093026866263068, 0.1379845534327471, 0.11007752854923954, 0.15658918740292296, 0.16279073205964825, 0.15503876427461977, 0.17674424450140205, 0.19689922767163737, 0.16899227671637354, 0.13953490263280655, 0.13953490263280655, 0.11007752854923954, 0.12248061786269011, 0.10232563469245481, 0.09147289457906367, 0.1426356749611692, 0.12403104099099332, 0.1317830087760218, 0.17674424450140205, 0.2, 0.2, 0.18759691068654943, 0.13488378110438445, 0.16279073205964825, 0.20620161858496905, 0.2806202283939163, 0.274418683737191, 0.24186053732526136, 0.258914748167134, 0.24651165885368342, 0.24651165885368342, 0.25116278038210554, 0.25581404976701516, 0.2356589187402923, 0.25581404976701516, 0.2604651712954372]}, {\"name\": \"SQ\", \"type\": \"scatter\", \"x\": [\"2021-03-04T00:00:00\", \"2021-03-05T00:00:00\", \"2021-03-08T00:00:00\", \"2021-03-09T00:00:00\", \"2021-03-10T00:00:00\", \"2021-03-11T00:00:00\", \"2021-03-12T00:00:00\", \"2021-03-15T00:00:00\", \"2021-03-16T00:00:00\", \"2021-03-17T00:00:00\", \"2021-03-18T00:00:00\", \"2021-03-19T00:00:00\", \"2021-03-22T00:00:00\", \"2021-03-23T00:00:00\", \"2021-03-24T00:00:00\", \"2021-03-25T00:00:00\", \"2021-03-26T00:00:00\", \"2021-03-29T00:00:00\", \"2021-03-30T00:00:00\", \"2021-03-31T00:00:00\", \"2021-04-01T00:00:00\", \"2021-04-05T00:00:00\", \"2021-04-06T00:00:00\", \"2021-04-07T00:00:00\", \"2021-04-08T00:00:00\", \"2021-04-09T00:00:00\", \"2021-04-12T00:00:00\", \"2021-04-13T00:00:00\", \"2021-04-14T00:00:00\", \"2021-04-15T00:00:00\", \"2021-04-16T00:00:00\", \"2021-04-19T00:00:00\", \"2021-04-20T00:00:00\", \"2021-04-21T00:00:00\", \"2021-04-22T00:00:00\", \"2021-04-23T00:00:00\", \"2021-04-26T00:00:00\", \"2021-04-27T00:00:00\", \"2021-04-28T00:00:00\", \"2021-04-29T00:00:00\", \"2021-04-30T00:00:00\", \"2021-05-03T00:00:00\", \"2021-05-04T00:00:00\", \"2021-05-05T00:00:00\", \"2021-05-06T00:00:00\", \"2021-05-07T00:00:00\", \"2021-05-10T00:00:00\", \"2021-05-11T00:00:00\", \"2021-05-12T00:00:00\", \"2021-05-13T00:00:00\", \"2021-05-14T00:00:00\", \"2021-05-17T00:00:00\", \"2021-05-18T00:00:00\", \"2021-05-19T00:00:00\", \"2021-05-20T00:00:00\", \"2021-05-21T00:00:00\", \"2021-05-24T00:00:00\", \"2021-05-25T00:00:00\", \"2021-05-26T00:00:00\", \"2021-05-27T00:00:00\", \"2021-05-28T00:00:00\", \"2021-06-01T00:00:00\"], \"y\": [0.0, -0.00901973896649354, -0.07572917113499092, 0.030584646141554556, 0.03809345692013773, 0.10672586954696187, 0.10851149924848316, 0.15026780603055057, 0.11423468032554504, 0.12847395763979702, 0.026967626440593563, 0.02944000992614218, 0.035346371920978184, 0.021931199147559005, -0.02243491173991272, -0.0455107471028841, -0.022022789606446068, -0.051417109097720105, -0.025548288711570256, 0.03955862481012969, 0.05082180604647933, 0.05283637696369315, 0.08282585978010745, 0.12229289413135008, 0.182958613548206, 0.19797623510537235, 0.2142301531998884, 0.2509958628498899, 0.18309596430501146, 0.20452352072326702, 0.1725653670136578, 0.12325441929203859, 0.12403276353495298, 0.1228881273195406, 0.12224713383343168, 0.12829077672202288, 0.17105443882574745, 0.16198886969828524, 0.1638660898586936, 0.13438024977158275, 0.12091938656329543, 0.11569977835248675, 0.058513797742836625, 0.061627174714494165, 0.025410937954764793, 0.06840347141113161, -0.009065569127462201, 0.010255895777742722, -0.053752141826463255, -0.09743142906685741, -0.04834942256093071, -0.0709216850576489, -0.06982280914015492, -0.08378738494079596, -0.06181035563226829, -0.084245267372181, -0.03415597540764741, -0.010118614883987515, 0.017993647772018423, 0.011400531993155098, 0.01881782217590147, 0.016208018070497127]}, {\"name\": \"CHPT\", \"type\": \"scatter\", \"x\": [\"2021-03-04T00:00:00\", \"2021-03-05T00:00:00\", \"2021-03-08T00:00:00\", \"2021-03-09T00:00:00\", \"2021-03-10T00:00:00\", \"2021-03-11T00:00:00\", \"2021-03-12T00:00:00\", \"2021-03-15T00:00:00\", \"2021-03-16T00:00:00\", \"2021-03-17T00:00:00\", \"2021-03-18T00:00:00\", \"2021-03-19T00:00:00\", \"2021-03-22T00:00:00\", \"2021-03-23T00:00:00\", \"2021-03-24T00:00:00\", \"2021-03-25T00:00:00\", \"2021-03-26T00:00:00\", \"2021-03-29T00:00:00\", \"2021-03-30T00:00:00\", \"2021-03-31T00:00:00\", \"2021-04-01T00:00:00\", \"2021-04-05T00:00:00\", \"2021-04-06T00:00:00\", \"2021-04-07T00:00:00\", \"2021-04-08T00:00:00\", \"2021-04-09T00:00:00\", \"2021-04-12T00:00:00\", \"2021-04-13T00:00:00\", \"2021-04-14T00:00:00\", \"2021-04-15T00:00:00\", \"2021-04-16T00:00:00\", \"2021-04-19T00:00:00\", \"2021-04-20T00:00:00\", \"2021-04-21T00:00:00\", \"2021-04-22T00:00:00\", \"2021-04-23T00:00:00\", \"2021-04-26T00:00:00\", \"2021-04-27T00:00:00\", \"2021-04-28T00:00:00\", \"2021-04-29T00:00:00\", \"2021-04-30T00:00:00\", \"2021-05-03T00:00:00\", \"2021-05-04T00:00:00\", \"2021-05-05T00:00:00\", \"2021-05-06T00:00:00\", \"2021-05-07T00:00:00\", \"2021-05-10T00:00:00\", \"2021-05-11T00:00:00\", \"2021-05-12T00:00:00\", \"2021-05-13T00:00:00\", \"2021-05-14T00:00:00\", \"2021-05-17T00:00:00\", \"2021-05-18T00:00:00\", \"2021-05-19T00:00:00\", \"2021-05-20T00:00:00\", \"2021-05-21T00:00:00\", \"2021-05-24T00:00:00\", \"2021-05-25T00:00:00\", \"2021-05-26T00:00:00\", \"2021-05-27T00:00:00\", \"2021-05-28T00:00:00\", \"2021-06-01T00:00:00\"], \"y\": [0.0, 0.07930607802151295, 0.060718763993920434, 0.1763734249995194, 0.18256919634205027, 0.25691868880294133, 0.14993809192018412, 0.07021895197136818, 0.02023964052031149, -0.008261002195538774, -0.008674064122841765, -0.028913625859646238, 0.021065685591410456, -0.052870666158670615, -0.1453944107198512, -0.1652209893128597, -0.15406855362619998, -0.13589422274240345, -0.07228418282437613, 0.10285013517674134, 0.23254858657661398, 0.16232963460524577, 0.2841801457368826, 0.17843873463603438, 0.18050396548904232, 0.1420900728684413, 0.05947957821201146, 0.025609288008236343, -0.03263110442186614, -0.013217666539667654, -0.0801321230926119, -0.1069805180992502, -0.16563397245665568, -0.11648078486020497, -0.0883932040716577, 0.007021895197136818, 0.09169769949008164, 0.038826954547904, 0.08756715900055874, 0.031805059350767176, 0.04584884974504082, -0.026022271152032313, -0.04502264710692781, -0.04502264710692781, -0.07063193511516415, -0.0652622876272393, -0.11854601571321291, -0.08384960165483181, -0.13506809888779747, -0.1652209893128597, -0.09087149685196863, -0.046674894816139775, -0.019000375954895496, -0.01693514510188756, 0.005369726271431871, -0.021891730662509417, -0.03345722827647212, -0.0495662495237537, 0.0346964140583811, 0.04626191167234381, 0.005782788198734863, 0.07228418282437613]}, {\"name\": \"PLUG\", \"type\": \"scatter\", \"x\": [\"2021-03-04T00:00:00\", \"2021-03-05T00:00:00\", \"2021-03-08T00:00:00\", \"2021-03-09T00:00:00\", \"2021-03-10T00:00:00\", \"2021-03-11T00:00:00\", \"2021-03-12T00:00:00\", \"2021-03-15T00:00:00\", \"2021-03-16T00:00:00\", \"2021-03-17T00:00:00\", \"2021-03-18T00:00:00\", \"2021-03-19T00:00:00\", \"2021-03-22T00:00:00\", \"2021-03-23T00:00:00\", \"2021-03-24T00:00:00\", \"2021-03-25T00:00:00\", \"2021-03-26T00:00:00\", \"2021-03-29T00:00:00\", \"2021-03-30T00:00:00\", \"2021-03-31T00:00:00\", \"2021-04-01T00:00:00\", \"2021-04-05T00:00:00\", \"2021-04-06T00:00:00\", \"2021-04-07T00:00:00\", \"2021-04-08T00:00:00\", \"2021-04-09T00:00:00\", \"2021-04-12T00:00:00\", \"2021-04-13T00:00:00\", \"2021-04-14T00:00:00\", \"2021-04-15T00:00:00\", \"2021-04-16T00:00:00\", \"2021-04-19T00:00:00\", \"2021-04-20T00:00:00\", \"2021-04-21T00:00:00\", \"2021-04-22T00:00:00\", \"2021-04-23T00:00:00\", \"2021-04-26T00:00:00\", \"2021-04-27T00:00:00\", \"2021-04-28T00:00:00\", \"2021-04-29T00:00:00\", \"2021-04-30T00:00:00\", \"2021-05-03T00:00:00\", \"2021-05-04T00:00:00\", \"2021-05-05T00:00:00\", \"2021-05-06T00:00:00\", \"2021-05-07T00:00:00\", \"2021-05-10T00:00:00\", \"2021-05-11T00:00:00\", \"2021-05-12T00:00:00\", \"2021-05-13T00:00:00\", \"2021-05-14T00:00:00\", \"2021-05-17T00:00:00\", \"2021-05-18T00:00:00\", \"2021-05-19T00:00:00\", \"2021-05-20T00:00:00\", \"2021-05-21T00:00:00\", \"2021-05-24T00:00:00\", \"2021-05-25T00:00:00\", \"2021-05-26T00:00:00\", \"2021-05-27T00:00:00\", \"2021-05-28T00:00:00\", \"2021-06-01T00:00:00\"], \"y\": [0.0, -0.017991034794289925, -0.047726132572834076, 0.05747124464648423, 0.07021492606569649, 0.20339828327186638, 0.18065965666009245, 0.16091950407411, 0.0664667620436292, -0.01724134479801407, -0.09145426800468935, -0.043478302312943765, -0.02773614686794008, -0.08070963281585183, -0.17041478302884863, -0.14792608485575687, -0.14967520264744943, -0.2308845493610096, -0.14942527420876728, -0.10444778254281312, -0.11894058175371792, -0.16441783497726575, -0.13368321408353423, -0.2013993323612623, -0.18490758223975343, -0.19290357652171103, -0.25837081545015284, -0.26811592752380303, -0.2906047210166654, -0.34807596566314963, -0.3193403433399075, -0.36931535526202786, -0.369065474483231, -0.3218391034679906, -0.3378310920319058, -0.3008495946479093, -0.26811592752380303, -0.28660672387568664, -0.27886056271264054, -0.29360319504245685, -0.28760619933098863, -0.3345827372273175, -0.38530734382594306, -0.3930534573291038, -0.4362818788632507, -0.4240380066615175, -0.4985007629871043, -0.4102948497870032, -0.44427787314520834, -0.45127439197186386, -0.38580710538353674, -0.37681158798639175, -0.32483757749378206, -0.3135932284072362, -0.3135932284072362, -0.3030984739971955, -0.32033981879520956, -0.3050974725676849, -0.258120934671356, -0.25212393895988783, -0.232883547931499, -0.22813595611401502]}, {\"name\": \"MP\", \"type\": \"scatter\", \"x\": [\"2021-05-14T00:00:00\", \"2021-05-17T00:00:00\", \"2021-05-18T00:00:00\", \"2021-05-19T00:00:00\", \"2021-05-20T00:00:00\", \"2021-05-21T00:00:00\", \"2021-05-24T00:00:00\", \"2021-05-25T00:00:00\", \"2021-05-26T00:00:00\", \"2021-05-27T00:00:00\", \"2021-05-28T00:00:00\", \"2021-06-01T00:00:00\"], \"y\": [0.0, 0.05011482034730966, 0.07459834768441741, 0.0478194349344555, 0.05011482034730966, 0.013389456374980955, 0.013006892139505262, -0.009946451222366794, 0.045906686723744115, 0.07306809074251464, 0.07421578344894172, 0.08301454196488144]}, {\"name\": \"SFT\", \"type\": \"scatter\", \"x\": [\"2021-03-04T00:00:00\", \"2021-03-05T00:00:00\", \"2021-03-08T00:00:00\", \"2021-03-09T00:00:00\", \"2021-03-10T00:00:00\", \"2021-03-11T00:00:00\", \"2021-03-12T00:00:00\", \"2021-03-15T00:00:00\", \"2021-03-16T00:00:00\", \"2021-03-17T00:00:00\", \"2021-03-18T00:00:00\", \"2021-03-19T00:00:00\", \"2021-03-22T00:00:00\", \"2021-03-23T00:00:00\", \"2021-03-24T00:00:00\", \"2021-03-25T00:00:00\", \"2021-03-26T00:00:00\", \"2021-03-29T00:00:00\", \"2021-03-30T00:00:00\", \"2021-03-31T00:00:00\", \"2021-04-01T00:00:00\", \"2021-04-05T00:00:00\", \"2021-04-06T00:00:00\", \"2021-04-07T00:00:00\", \"2021-04-08T00:00:00\", \"2021-04-09T00:00:00\", \"2021-04-12T00:00:00\", \"2021-04-13T00:00:00\", \"2021-04-14T00:00:00\", \"2021-04-15T00:00:00\", \"2021-04-16T00:00:00\", \"2021-04-19T00:00:00\", \"2021-04-20T00:00:00\", \"2021-04-21T00:00:00\", \"2021-04-22T00:00:00\", \"2021-04-23T00:00:00\", \"2021-04-26T00:00:00\", \"2021-04-27T00:00:00\", \"2021-04-28T00:00:00\", \"2021-04-29T00:00:00\", \"2021-04-30T00:00:00\", \"2021-05-03T00:00:00\", \"2021-05-04T00:00:00\", \"2021-05-05T00:00:00\", \"2021-05-06T00:00:00\", \"2021-05-07T00:00:00\", \"2021-05-10T00:00:00\", \"2021-05-11T00:00:00\", \"2021-05-12T00:00:00\", \"2021-05-13T00:00:00\", \"2021-05-14T00:00:00\", \"2021-05-17T00:00:00\", \"2021-05-18T00:00:00\", \"2021-05-19T00:00:00\", \"2021-05-20T00:00:00\", \"2021-05-21T00:00:00\", \"2021-05-24T00:00:00\", \"2021-05-25T00:00:00\", \"2021-05-26T00:00:00\", \"2021-05-27T00:00:00\", \"2021-05-28T00:00:00\", \"2021-06-01T00:00:00\"], \"y\": [0.0, -0.006203497286820375, -0.04714647289015246, 0.0037220510433444956, 0.06079401310272717, 0.18486348555165738, 0.2593050980278939, 0.214640130542152, 0.11414380579689601, 0.13275429765735713, 0.09677415538004215, 0.09429270913656627, 0.07940438664131896, 0.04094291644239742, -0.011166330612837474, 0.04342424436400398, 0.049627741650824356, 0.0037220510433444956, 0.0, 0.03225797291210117, 0.016128927295115923, 0.058312566859251284, 0.04838701852908642, 0.028535921868756673, 0.06823811518941615, 0.08312643768466346, 0.058312566859251284, 0.017990011977722833, -0.007444220408558315, -0.05334991101603818, -0.05583129809857939, -0.08933005329335317, -0.1389578541051122, -0.11166259619715878, -0.1141439832797, -0.0756824539198438, -0.017369768738723187, 0.04218352124226604, 0.08684860704987728, 0.06699751038954754, 0.04590569060747986, 0.06699751038954754, 0.10421825746673115, 0.09801487850178009, 0.049627741650824356, -0.008684943530296255, -0.027295317068888058, -0.03349881435570843, -0.0818858920457295, -0.09305216349763232, -0.05024816237262799, -0.03225809123397049, -0.054590634137776116, -0.08312661516746744, -0.06451618246794098, -0.07320106683730258, -0.1799007705475096, -0.17121594533908266, -0.12531019557066814, -0.10669982203207636, -0.12158814452732365, -0.08684866621081194]}, {\"name\": \"ARKG\", \"type\": \"scatter\", \"x\": [\"2021-03-04T00:00:00\", \"2021-03-05T00:00:00\", \"2021-03-08T00:00:00\", \"2021-03-09T00:00:00\", \"2021-03-10T00:00:00\", \"2021-03-11T00:00:00\", \"2021-03-12T00:00:00\", \"2021-03-15T00:00:00\", \"2021-03-16T00:00:00\", \"2021-03-17T00:00:00\", \"2021-03-18T00:00:00\", \"2021-03-19T00:00:00\", \"2021-03-22T00:00:00\", \"2021-03-23T00:00:00\", \"2021-03-24T00:00:00\", \"2021-03-25T00:00:00\", \"2021-03-26T00:00:00\", \"2021-03-29T00:00:00\", \"2021-03-30T00:00:00\", \"2021-03-31T00:00:00\", \"2021-04-01T00:00:00\", \"2021-04-05T00:00:00\", \"2021-04-06T00:00:00\", \"2021-04-07T00:00:00\", \"2021-04-08T00:00:00\", \"2021-04-09T00:00:00\", \"2021-04-12T00:00:00\", \"2021-04-13T00:00:00\", \"2021-04-14T00:00:00\", \"2021-04-15T00:00:00\", \"2021-04-16T00:00:00\", \"2021-04-19T00:00:00\", \"2021-04-20T00:00:00\", \"2021-04-21T00:00:00\", \"2021-04-22T00:00:00\", \"2021-04-23T00:00:00\", \"2021-04-26T00:00:00\", \"2021-04-27T00:00:00\", \"2021-04-28T00:00:00\", \"2021-04-29T00:00:00\", \"2021-04-30T00:00:00\", \"2021-05-03T00:00:00\", \"2021-05-04T00:00:00\", \"2021-05-05T00:00:00\", \"2021-05-06T00:00:00\", \"2021-05-07T00:00:00\", \"2021-05-10T00:00:00\", \"2021-05-11T00:00:00\", \"2021-05-12T00:00:00\", \"2021-05-13T00:00:00\", \"2021-05-14T00:00:00\", \"2021-05-17T00:00:00\", \"2021-05-18T00:00:00\", \"2021-05-19T00:00:00\", \"2021-05-20T00:00:00\", \"2021-05-21T00:00:00\", \"2021-05-24T00:00:00\", \"2021-05-25T00:00:00\", \"2021-05-26T00:00:00\", \"2021-05-27T00:00:00\", \"2021-05-28T00:00:00\", \"2021-06-01T00:00:00\"], \"y\": [0.0, 0.00011749250033092377, -0.039821443662883815, 0.03359568545312896, 0.036649863118100395, 0.09479619352977493, 0.07835082830420323, 0.10254908538227497, 0.08422419863348425, 0.09232938874593918, 0.041466069805959925, 0.06742635590691977, 0.0915071204846606, 0.04921887203794103, -0.004816117067340589, -0.001879431902700078, -0.00646065358989776, -0.024315749578402674, -0.008340175113116778, 0.04228833806723851, 0.051450781441633876, 0.06648659514531026, 0.06660408764564119, 0.03065900028848845, 0.041700965186102834, 0.03065900028848845, 0.017502708108031083, 0.04921887203794103, 0.05098090106082912, 0.061200508076645975, 0.04193586056624574, 0.01773760348817399, 0.00869265261410955, 0.03512281909587415, 0.039175369341842146, 0.05227304970291246, 0.08469398939377007, 0.08257966211092709, 0.07576653102003655, 0.05297782546386012, 0.04393287458979568, 0.015975574465285896, -0.020086915771678822, -0.035710102356490886, -0.062140268838255484, -0.05004105067870067, -0.1057206659270584, -0.09632323755200119, -0.11911194310817762, -0.13497002507313258, -0.10066956385905595, -0.10266648826208696, -0.08492888477391297, -0.10172672750047745, -0.07470927775809612, -0.07940790232510578, -0.07153760759279376, -0.0663690130244604, -0.05051093105950542, -0.0446375607302244, -0.03970395116255289, -0.04498994861069824]}, {\"name\": \"ROKU\", \"type\": \"scatter\", \"x\": [\"2021-03-04T00:00:00\", \"2021-03-05T00:00:00\", \"2021-03-08T00:00:00\", \"2021-03-09T00:00:00\", \"2021-03-10T00:00:00\", \"2021-03-11T00:00:00\", \"2021-03-12T00:00:00\", \"2021-03-15T00:00:00\", \"2021-03-16T00:00:00\", \"2021-03-17T00:00:00\", \"2021-03-18T00:00:00\", \"2021-03-19T00:00:00\", \"2021-03-22T00:00:00\", \"2021-03-23T00:00:00\", \"2021-03-24T00:00:00\", \"2021-03-25T00:00:00\", \"2021-03-26T00:00:00\", \"2021-03-29T00:00:00\", \"2021-03-30T00:00:00\", \"2021-03-31T00:00:00\", \"2021-04-01T00:00:00\", \"2021-04-05T00:00:00\", \"2021-04-06T00:00:00\", \"2021-04-07T00:00:00\", \"2021-04-08T00:00:00\", \"2021-04-09T00:00:00\", \"2021-04-12T00:00:00\", \"2021-04-13T00:00:00\", \"2021-04-14T00:00:00\", \"2021-04-15T00:00:00\", \"2021-04-16T00:00:00\", \"2021-04-19T00:00:00\", \"2021-04-20T00:00:00\", \"2021-04-21T00:00:00\", \"2021-04-22T00:00:00\", \"2021-04-23T00:00:00\", \"2021-04-26T00:00:00\", \"2021-04-27T00:00:00\", \"2021-04-28T00:00:00\", \"2021-04-29T00:00:00\", \"2021-04-30T00:00:00\", \"2021-05-03T00:00:00\", \"2021-05-04T00:00:00\", \"2021-05-05T00:00:00\", \"2021-05-06T00:00:00\", \"2021-05-07T00:00:00\", \"2021-05-10T00:00:00\", \"2021-05-11T00:00:00\", \"2021-05-12T00:00:00\", \"2021-05-13T00:00:00\", \"2021-05-14T00:00:00\", \"2021-05-17T00:00:00\", \"2021-05-18T00:00:00\", \"2021-05-19T00:00:00\", \"2021-05-20T00:00:00\", \"2021-05-21T00:00:00\", \"2021-05-24T00:00:00\", \"2021-05-25T00:00:00\", \"2021-05-26T00:00:00\", \"2021-05-27T00:00:00\", \"2021-05-28T00:00:00\", \"2021-06-01T00:00:00\"], \"y\": [0.0, -0.017808038462914552, -0.09101266468851385, 0.00322259509707718, -0.00947354784404912, 0.00941793031225005, 2.7723983076670293e-05, 0.008251149103989693, -0.017696972964962143, 0.024336654954767518, -0.0500069437131926, -0.034560361215521154, -0.010084747214078833, -0.049201337330334736, -0.11529378689430515, -0.11759971011057206, -0.14760384242535848, -0.16435616517796509, -0.13332412591877024, -0.09495769421921887, -0.07792753815608551, -0.08795666783836528, -0.0016113823313614545, 0.005472985564367882, 0.03536596759837902, 0.038088598389024626, 0.031032039259194823, 0.07784411185838691, 0.04086676192864644, 0.07970551873437559, 0.046034105416588034, 0.0033337453778524546, -0.014168651008635808, -0.009251332065321435, -0.027476078102614685, -0.008556791180415982, 0.02411443917603983, 0.001944663608041549, -0.006139802466196664, -0.009029031503770886, -0.04717324742459458, -0.0684539903120364, -0.11212672454620418, -0.1549659588487917, -0.21050150565815126, -0.11932215793988593, -0.1626337173486512, -0.1273232824992484, -0.14424228828160648, -0.13988055117652276, -0.12223919574335969, -0.13201838566383509, -0.0956244263382248, -0.10865402012167692, -0.06659258343604772, -0.08140024258061278, -0.035366052381201885, -0.039588830439610805, -0.03044873343788751, -0.030337583157112238, -0.03678294291691232, -0.03400477937729052]}, {\"name\": \"ETSY\", \"type\": \"scatter\", \"x\": [\"2021-03-04T00:00:00\", \"2021-03-05T00:00:00\", \"2021-03-08T00:00:00\", \"2021-03-09T00:00:00\", \"2021-03-10T00:00:00\", \"2021-03-11T00:00:00\", \"2021-03-12T00:00:00\", \"2021-03-15T00:00:00\", \"2021-03-16T00:00:00\", \"2021-03-17T00:00:00\", \"2021-03-18T00:00:00\", \"2021-03-19T00:00:00\", \"2021-03-22T00:00:00\", \"2021-03-23T00:00:00\", \"2021-03-24T00:00:00\", \"2021-03-25T00:00:00\", \"2021-03-26T00:00:00\", \"2021-03-29T00:00:00\", \"2021-03-30T00:00:00\", \"2021-03-31T00:00:00\", \"2021-04-01T00:00:00\", \"2021-04-05T00:00:00\", \"2021-04-06T00:00:00\", \"2021-04-07T00:00:00\", \"2021-04-08T00:00:00\", \"2021-04-09T00:00:00\", \"2021-04-12T00:00:00\", \"2021-04-13T00:00:00\", \"2021-04-14T00:00:00\", \"2021-04-15T00:00:00\", \"2021-04-16T00:00:00\", \"2021-04-19T00:00:00\", \"2021-04-20T00:00:00\", \"2021-04-21T00:00:00\", \"2021-04-22T00:00:00\", \"2021-04-23T00:00:00\", \"2021-04-26T00:00:00\", \"2021-04-27T00:00:00\", \"2021-04-28T00:00:00\", \"2021-04-29T00:00:00\", \"2021-04-30T00:00:00\", \"2021-05-03T00:00:00\", \"2021-05-04T00:00:00\", \"2021-05-05T00:00:00\", \"2021-05-06T00:00:00\", \"2021-05-07T00:00:00\", \"2021-05-10T00:00:00\", \"2021-05-11T00:00:00\", \"2021-05-12T00:00:00\", \"2021-05-13T00:00:00\", \"2021-05-14T00:00:00\", \"2021-05-17T00:00:00\", \"2021-05-18T00:00:00\", \"2021-05-19T00:00:00\", \"2021-05-20T00:00:00\", \"2021-05-21T00:00:00\", \"2021-05-24T00:00:00\", \"2021-05-25T00:00:00\", \"2021-05-26T00:00:00\", \"2021-05-27T00:00:00\", \"2021-05-28T00:00:00\", \"2021-06-01T00:00:00\"], \"y\": [0.0, 0.011105486524279036, -0.03957602905162431, 0.04386666791961784, 0.03952542317527303, 0.11479045701034656, 0.11630485904222256, 0.1268550673890033, 0.09025739057615367, 0.1026753948067125, 0.05759711283076948, 0.08738009603870757, 0.10938918476166944, 0.10888435840914844, 0.005451724073654427, -0.009591161518090021, 0.021302378044844663, -0.009035883340591721, 0.00388687021680112, 0.01802116080483216, 0.05098430355145416, -0.0045432060956280065, 0.03992926885215243, 0.029883886857892693, 0.08727911536306597, 0.1033316536598524, 0.1011105409498592, 0.1308934471321103, 0.1008076759486214, 0.10696611070039302, 0.11049974111666604, 0.07617362883878694, 0.044220061771519936, 0.05885910168638499, 0.06148406007325759, 0.08324073561995896, 0.03573945660842652, 0.04740029833589084, 0.0668854093476217, 0.05401310761520616, 0.0034830245399217205, -0.03730438749096681, -0.04871281604217064, -0.0682988307038561, -0.2040384259585192, -0.1645129257575592, -0.15633518559570356, -0.14265526953521623, -0.19565880147106737, -0.20954067888283792, -0.17662798796119322, -0.1661787602900541, -0.15572945559322796, -0.1649672232594159, -0.12993440030341957, -0.15416460173637467, -0.1661787602900541, -0.15673903127258296, -0.15083293267138484, -0.15830388512943627, -0.1684503248250246, -0.17486117275305674]}, {\"name\": \"SUNW\", \"type\": \"scatter\", \"x\": [\"2021-03-04T00:00:00\", \"2021-03-05T00:00:00\", \"2021-03-08T00:00:00\", \"2021-03-09T00:00:00\", \"2021-03-10T00:00:00\", \"2021-03-11T00:00:00\", \"2021-03-12T00:00:00\", \"2021-03-15T00:00:00\", \"2021-03-16T00:00:00\", \"2021-03-17T00:00:00\", \"2021-03-18T00:00:00\", \"2021-03-19T00:00:00\", \"2021-03-22T00:00:00\", \"2021-03-23T00:00:00\", \"2021-03-24T00:00:00\", \"2021-03-25T00:00:00\", \"2021-03-26T00:00:00\", \"2021-03-29T00:00:00\", \"2021-03-30T00:00:00\", \"2021-03-31T00:00:00\", \"2021-04-01T00:00:00\", \"2021-04-05T00:00:00\", \"2021-04-06T00:00:00\", \"2021-04-07T00:00:00\", \"2021-04-08T00:00:00\", \"2021-04-09T00:00:00\", \"2021-04-12T00:00:00\", \"2021-04-13T00:00:00\", \"2021-04-14T00:00:00\", \"2021-04-15T00:00:00\", \"2021-04-16T00:00:00\", \"2021-04-19T00:00:00\", \"2021-04-20T00:00:00\", \"2021-04-21T00:00:00\", \"2021-04-22T00:00:00\", \"2021-04-23T00:00:00\", \"2021-04-26T00:00:00\", \"2021-04-27T00:00:00\", \"2021-04-28T00:00:00\", \"2021-04-29T00:00:00\", \"2021-04-30T00:00:00\", \"2021-05-03T00:00:00\", \"2021-05-04T00:00:00\", \"2021-05-05T00:00:00\", \"2021-05-06T00:00:00\", \"2021-05-07T00:00:00\", \"2021-05-10T00:00:00\", \"2021-05-11T00:00:00\", \"2021-05-12T00:00:00\", \"2021-05-13T00:00:00\", \"2021-05-14T00:00:00\", \"2021-05-17T00:00:00\", \"2021-05-18T00:00:00\", \"2021-05-19T00:00:00\", \"2021-05-20T00:00:00\", \"2021-05-21T00:00:00\", \"2021-05-24T00:00:00\", \"2021-05-25T00:00:00\", \"2021-05-26T00:00:00\", \"2021-05-27T00:00:00\", \"2021-05-28T00:00:00\", \"2021-06-01T00:00:00\"], \"y\": [0.0, -0.044104391202538715, -0.016201562291973882, 0.1962196554943703, 0.24572462468708364, 0.42754276748741316, 0.42754276748741316, 0.3474348091479602, 0.21782179577651883, 0.2781278351103065, 0.1881188314287458, 0.30153019666893827, 0.30063008603069663, 0.18361836407681276, 0.1719172691367719, 0.19261929878067885, 0.23492355454600938, 0.10711076245105122, 0.164716469870114, 0.32133220151387865, 0.5301530625865314, 0.345634587871477, 0.3834383762848745, 0.290729126527864, 0.2529253381144665, 0.1989199015698201, 0.0936093603952521, 0.06300637124851251, 0.04500450184078034, -0.03870381321236405, -0.03060298914673958, -0.07560749098751991, -0.10441043053632637, -0.04050403448884729, -0.03240321042322282, 0.011701180779315893, 0.10981100852650102, 0.10261029509911818, 0.09270933559628552, 0.0360036529761893, 0.007200713427382849, -0.06930688819837869, -0.09090902848052723, -0.12241221410478349, -0.21242121778634415, -0.1611161131564226, -0.2547254735516747, -0.2574257196271245, -0.2970296863973677, -0.3141314022472207, -0.27722772447206484, -0.32223218339320764, -0.24482442820956699, -0.2160215745000356, -0.2106209965098609, -0.2070206397961695, -0.23942393605866738, -0.2619261869790575, -0.21782179577651883, -0.19531954485612865, -0.22052204185196864, -0.15841578124169772]}, {\"name\": \"DKNG\", \"type\": \"scatter\", \"x\": [\"2021-03-04T00:00:00\", \"2021-03-05T00:00:00\", \"2021-03-08T00:00:00\", \"2021-03-09T00:00:00\", \"2021-03-10T00:00:00\", \"2021-03-11T00:00:00\", \"2021-03-12T00:00:00\", \"2021-03-15T00:00:00\", \"2021-03-16T00:00:00\", \"2021-03-17T00:00:00\", \"2021-03-18T00:00:00\", \"2021-03-19T00:00:00\", \"2021-03-22T00:00:00\", \"2021-03-23T00:00:00\", \"2021-03-24T00:00:00\", \"2021-03-25T00:00:00\", \"2021-03-26T00:00:00\", \"2021-03-29T00:00:00\", \"2021-03-30T00:00:00\", \"2021-03-31T00:00:00\", \"2021-04-01T00:00:00\", \"2021-04-05T00:00:00\", \"2021-04-06T00:00:00\", \"2021-04-07T00:00:00\", \"2021-04-08T00:00:00\", \"2021-04-09T00:00:00\", \"2021-04-12T00:00:00\", \"2021-04-13T00:00:00\", \"2021-04-14T00:00:00\", \"2021-04-15T00:00:00\", \"2021-04-16T00:00:00\", \"2021-04-19T00:00:00\", \"2021-04-20T00:00:00\", \"2021-04-21T00:00:00\", \"2021-04-22T00:00:00\", \"2021-04-23T00:00:00\", \"2021-04-26T00:00:00\", \"2021-04-27T00:00:00\", \"2021-04-28T00:00:00\", \"2021-04-29T00:00:00\", \"2021-04-30T00:00:00\", \"2021-05-03T00:00:00\", \"2021-05-04T00:00:00\", \"2021-05-05T00:00:00\", \"2021-05-06T00:00:00\", \"2021-05-07T00:00:00\", \"2021-05-10T00:00:00\", \"2021-05-11T00:00:00\", \"2021-05-12T00:00:00\", \"2021-05-13T00:00:00\", \"2021-05-14T00:00:00\", \"2021-05-17T00:00:00\", \"2021-05-18T00:00:00\", \"2021-05-19T00:00:00\", \"2021-05-20T00:00:00\", \"2021-05-21T00:00:00\", \"2021-05-24T00:00:00\", \"2021-05-25T00:00:00\", \"2021-05-26T00:00:00\", \"2021-05-27T00:00:00\", \"2021-05-28T00:00:00\", \"2021-06-01T00:00:00\"], \"y\": [0.0, -0.03860441601581334, -0.022774993553340294, 0.0046842338272024085, 0.11920531555975646, 0.15667906294373737, 0.15894040020740222, 0.09433048242580487, 0.08447746010542022, 0.14117269746419062, 0.09206914516214004, 0.16265552470264494, 0.15845584554142236, 0.12663544131660354, 0.07623966108284781, 0.06380230613269121, 0.02729766808066997, -0.059925683954394925, -0.014698753830640628, -0.009368406037585644, 0.01566792477941949, 0.011629804918069656, 0.030528176293113673, 0.002907451229517414, -0.012921971232955633, 0.006461016424887403, -0.06267163750085879, -0.04312709054314302, -0.048941993002177844, -0.07155548887246459, -0.06347924914976491, -0.08447746010542022, -0.1001453848848397, -0.050557277916809286, -0.07656277968259328, -0.061217911886100075, -0.043288649843015746, -0.04490387314082801, -0.03585852408616866, -0.07187854585539087, -0.0848005170883465, -0.07801644368053282, -0.09336131147702602, -0.09255369982811988, -0.16184785143691963, -0.21789697482983744, -0.2676465794809214, -0.28912940671937576, -0.319819080695543, -0.3379098404216809, -0.274915207554715, -0.2972056464420754, -0.28492972755815316, -0.29833631507390784, -0.28056855071387704, -0.27911482509911834, -0.2269423238844968, -0.21789697482983744, -0.20109838141858555, -0.1859150113051459, -0.19318363937893943, -0.19932159882090056]}, {\"name\": \"BNGO\", \"type\": \"scatter\", \"x\": [\"2021-03-04T00:00:00\", \"2021-03-05T00:00:00\", \"2021-03-08T00:00:00\", \"2021-03-09T00:00:00\", \"2021-03-10T00:00:00\", \"2021-03-11T00:00:00\", \"2021-03-12T00:00:00\", \"2021-03-15T00:00:00\", \"2021-03-16T00:00:00\", \"2021-03-17T00:00:00\", \"2021-03-18T00:00:00\", \"2021-03-19T00:00:00\", \"2021-03-22T00:00:00\", \"2021-03-23T00:00:00\", \"2021-03-24T00:00:00\", \"2021-03-25T00:00:00\", \"2021-03-26T00:00:00\", \"2021-03-29T00:00:00\", \"2021-03-30T00:00:00\", \"2021-03-31T00:00:00\", \"2021-04-01T00:00:00\", \"2021-04-05T00:00:00\", \"2021-04-06T00:00:00\", \"2021-04-07T00:00:00\", \"2021-04-08T00:00:00\", \"2021-04-09T00:00:00\", \"2021-04-12T00:00:00\", \"2021-04-13T00:00:00\", \"2021-04-14T00:00:00\", \"2021-04-15T00:00:00\", \"2021-04-16T00:00:00\", \"2021-04-19T00:00:00\", \"2021-04-20T00:00:00\", \"2021-04-21T00:00:00\", \"2021-04-22T00:00:00\", \"2021-04-23T00:00:00\", \"2021-04-26T00:00:00\", \"2021-04-27T00:00:00\", \"2021-04-28T00:00:00\", \"2021-04-29T00:00:00\", \"2021-04-30T00:00:00\", \"2021-05-03T00:00:00\", \"2021-05-04T00:00:00\", \"2021-05-05T00:00:00\", \"2021-05-06T00:00:00\", \"2021-05-07T00:00:00\", \"2021-05-10T00:00:00\", \"2021-05-11T00:00:00\", \"2021-05-12T00:00:00\", \"2021-05-13T00:00:00\", \"2021-05-14T00:00:00\", \"2021-05-17T00:00:00\", \"2021-05-18T00:00:00\", \"2021-05-19T00:00:00\", \"2021-05-20T00:00:00\", \"2021-05-21T00:00:00\", \"2021-05-24T00:00:00\", \"2021-05-25T00:00:00\", \"2021-05-26T00:00:00\", \"2021-05-27T00:00:00\", \"2021-05-28T00:00:00\", \"2021-06-01T00:00:00\"], \"y\": [0.0, 0.03623188355719686, 0.12608693819340502, 0.30724642508622285, 0.2565217328206804, 0.38115936250051746, 0.35942028765166617, 0.4014492670494679, 0.2652173074747541, 0.34637678745688855, 0.2449275411394708, 0.30869559538612373, 0.3115942124132597, 0.21304344490931076, 0.07681155444143054, 0.14492753422878743, 0.1231883902731026, 0.06521736276022091, 0.11884053383923221, 0.1710144655115091, 0.13478258195431222, 0.18405796570628669, 0.13768112987461464, 0.07246376711439372, 0.09130436314977614, 0.0565217189993137, -0.023188452469252815, -0.0014493085135679866, -0.0681159797873569, -0.11449274651219539, -0.17971017837924988, -0.23623189737856357, -0.22028984926348355, -0.14347829482205302, -0.1362318904678802, -0.10724641126485615, 0.10434779423772018, 0.02173914395568483, 0.010144883167641637, -0.04202897939780167, -0.07681162354826411, -0.1318841031408434, -0.16086958234386745, -0.1971014659010643, -0.23043480153795876, -0.21594206193644672, -0.2739130203424949, -0.2579710413342484, -0.3130435209268277, -0.3608695961652342, -0.21739130134318116, -0.18840582214015708, -0.15652172590999705, -0.18840582214015708, -0.1855072742198547, -0.2000000138213667, -0.21159420550257635, -0.20579710966197154, -0.127536246706973, -0.09855076750394894, -0.10579710275128817, -0.08405795879560334]}, {\"name\": \"IPOD\", \"type\": \"scatter\", \"x\": [\"2021-03-04T00:00:00\", \"2021-03-05T00:00:00\", \"2021-03-08T00:00:00\", \"2021-03-09T00:00:00\", \"2021-03-10T00:00:00\", \"2021-03-11T00:00:00\", \"2021-03-12T00:00:00\", \"2021-03-15T00:00:00\", \"2021-03-16T00:00:00\", \"2021-03-17T00:00:00\", \"2021-03-18T00:00:00\", \"2021-03-19T00:00:00\", \"2021-03-22T00:00:00\", \"2021-03-23T00:00:00\", \"2021-03-24T00:00:00\", \"2021-03-25T00:00:00\", \"2021-03-26T00:00:00\", \"2021-03-29T00:00:00\", \"2021-03-30T00:00:00\", \"2021-03-31T00:00:00\", \"2021-04-01T00:00:00\", \"2021-04-05T00:00:00\", \"2021-04-06T00:00:00\", \"2021-04-07T00:00:00\", \"2021-04-08T00:00:00\", \"2021-04-09T00:00:00\", \"2021-04-12T00:00:00\", \"2021-04-13T00:00:00\", \"2021-04-14T00:00:00\", \"2021-04-15T00:00:00\", \"2021-04-16T00:00:00\", \"2021-04-19T00:00:00\", \"2021-04-20T00:00:00\", \"2021-04-21T00:00:00\", \"2021-04-22T00:00:00\", \"2021-04-23T00:00:00\", \"2021-04-26T00:00:00\", \"2021-04-27T00:00:00\", \"2021-04-28T00:00:00\", \"2021-04-29T00:00:00\", \"2021-04-30T00:00:00\", \"2021-05-03T00:00:00\", \"2021-05-04T00:00:00\", \"2021-05-05T00:00:00\", \"2021-05-06T00:00:00\", \"2021-05-07T00:00:00\", \"2021-05-10T00:00:00\", \"2021-05-11T00:00:00\", \"2021-05-12T00:00:00\", \"2021-05-13T00:00:00\", \"2021-05-14T00:00:00\", \"2021-05-17T00:00:00\", \"2021-05-18T00:00:00\", \"2021-05-19T00:00:00\", \"2021-05-20T00:00:00\", \"2021-05-21T00:00:00\", \"2021-05-24T00:00:00\", \"2021-05-25T00:00:00\", \"2021-05-26T00:00:00\", \"2021-05-27T00:00:00\", \"2021-05-28T00:00:00\", \"2021-06-01T00:00:00\"], \"y\": [0.0, 0.0016259759170101768, -0.06991874772484713, 0.0024390026427632983, 0.0008130267257531217, 0.050406493979252544, 0.07235767283311437, 0.049593467253499425, -0.0162601468425821, -0.039024429956693106, -0.050406493979252544, -0.028455315125390724, -0.029268341851143846, -0.06829269427334089, -0.1016260146842582, -0.11382118296706684, -0.08943092393594565, -0.11869918825259343, -0.1016260146842582, -0.10894310014704417, -0.09186992657870895, -0.1040650173270215, -0.10325206813576446, -0.1040650173270215, -0.07723575565313702, -0.06422763817907134, -0.10243904141001133, -0.10569107077852775, -0.10813007342129105, -0.1121951295155606, -0.12032524170409968, -0.12764232716688564, -0.14146339383220838, -0.12682930044113253, -0.1235772710726161, -0.10975612687279729, -0.11382118296706684, -0.12195121762110986, -0.12276424434686298, -0.1121951295155606, -0.12439022026387316, -0.13577236182092867, -0.13495933509517552, -0.1552845380320272, -0.1674797063148358, -0.16260162349481314, -0.16666667958908268, -0.16829273304058892, -0.17479679177762175, -0.17479679177762175, -0.16504062613757645, -0.17398376505186863, -0.16341465022056625, -0.17398376505186863, -0.16016262085204983, -0.16016262085204983, -0.16016262085204983, -0.14715450337798416, -0.14959350602074745, -0.14552844992647793, -0.14390247400946773, -0.14796753010373728]}, {\"name\": \"PINS\", \"type\": \"scatter\", \"x\": [\"2021-03-04T00:00:00\", \"2021-03-05T00:00:00\", \"2021-03-08T00:00:00\", \"2021-03-09T00:00:00\", \"2021-03-10T00:00:00\", \"2021-03-11T00:00:00\", \"2021-03-12T00:00:00\", \"2021-03-15T00:00:00\", \"2021-03-16T00:00:00\", \"2021-03-17T00:00:00\", \"2021-03-18T00:00:00\", \"2021-03-19T00:00:00\", \"2021-03-22T00:00:00\", \"2021-03-23T00:00:00\", \"2021-03-24T00:00:00\", \"2021-03-25T00:00:00\", \"2021-03-26T00:00:00\", \"2021-03-29T00:00:00\", \"2021-03-30T00:00:00\", \"2021-03-31T00:00:00\", \"2021-04-01T00:00:00\", \"2021-04-05T00:00:00\", \"2021-04-06T00:00:00\", \"2021-04-07T00:00:00\", \"2021-04-08T00:00:00\", \"2021-04-09T00:00:00\", \"2021-04-12T00:00:00\", \"2021-04-13T00:00:00\", \"2021-04-14T00:00:00\", \"2021-04-15T00:00:00\", \"2021-04-16T00:00:00\", \"2021-04-19T00:00:00\", \"2021-04-20T00:00:00\", \"2021-04-21T00:00:00\", \"2021-04-22T00:00:00\", \"2021-04-23T00:00:00\", \"2021-04-26T00:00:00\", \"2021-04-27T00:00:00\", \"2021-04-28T00:00:00\", \"2021-04-29T00:00:00\", \"2021-04-30T00:00:00\", \"2021-05-03T00:00:00\", \"2021-05-04T00:00:00\", \"2021-05-05T00:00:00\", \"2021-05-06T00:00:00\", \"2021-05-07T00:00:00\", \"2021-05-10T00:00:00\", \"2021-05-11T00:00:00\", \"2021-05-12T00:00:00\", \"2021-05-13T00:00:00\", \"2021-05-14T00:00:00\", \"2021-05-17T00:00:00\", \"2021-05-18T00:00:00\", \"2021-05-19T00:00:00\", \"2021-05-20T00:00:00\", \"2021-05-21T00:00:00\", \"2021-05-24T00:00:00\", \"2021-05-25T00:00:00\", \"2021-05-26T00:00:00\", \"2021-05-27T00:00:00\", \"2021-05-28T00:00:00\", \"2021-06-01T00:00:00\"], \"y\": [0.0, -0.010168462891926362, -0.09224280937285133, -0.019755854928895013, 0.0018885079855959152, 0.04416038752538514, 0.04227199036772265, 0.057379500112822834, 0.07190593900296531, 0.0887565504850052, 0.007989585720751733, 0.06057533440112353, 0.050987831536221453, 0.03486347550192863, 0.011040124588329642, -0.009151616602733725, 0.0033411297090234775, 0.007844290300028948, 0.006827444010836312, 0.07539225330477815, 0.12914014369506535, 0.15528766720056175, 0.20990710845931884, 0.21731562332511287, 0.24898326453874078, 0.2424463005414166, 0.21993038675845583, 0.21876824504854042, 0.21281235190617395, 0.2264672399278466, 0.10720518993912886, 0.07364915156783844, 0.036025617211844045, 0.053312114956052294, 0.04575830466953548, 0.08933762133996291, 0.11461370480492289, 0.1269611556959573, -0.03646128181814555, -0.009151616602733725, -0.03588021096318784, -0.07452059160837486, -0.09500286822691709, -0.10183025682378669, -0.13974427119329322, -0.1304473591698367, -0.15223701750505042, -0.13262634716894478, -0.17024982611097245, -0.19450895245880637, -0.15674023351002261, -0.15601392264830882, -0.15339915921496586, -0.14831487235503596, -0.10894823626210186, -0.11592092027969424, -0.0861417316376955, -0.07379428074666108, -0.08570595620346058, -0.06594993503266543, -0.05142349614252295, -0.06493308874347278]}, {\"name\": \"GHVI\", \"type\": \"scatter\", \"x\": [\"2021-03-04T00:00:00\", \"2021-03-05T00:00:00\", \"2021-03-08T00:00:00\", \"2021-03-09T00:00:00\", \"2021-03-10T00:00:00\", \"2021-03-11T00:00:00\", \"2021-03-12T00:00:00\", \"2021-03-15T00:00:00\", \"2021-03-16T00:00:00\", \"2021-03-17T00:00:00\", \"2021-03-18T00:00:00\", \"2021-03-19T00:00:00\", \"2021-03-22T00:00:00\", \"2021-03-23T00:00:00\", \"2021-03-24T00:00:00\", \"2021-03-25T00:00:00\", \"2021-03-26T00:00:00\", \"2021-03-29T00:00:00\", \"2021-03-30T00:00:00\", \"2021-03-31T00:00:00\", \"2021-04-01T00:00:00\", \"2021-04-05T00:00:00\", \"2021-04-06T00:00:00\", \"2021-04-07T00:00:00\", \"2021-04-08T00:00:00\", \"2021-04-09T00:00:00\", \"2021-04-12T00:00:00\", \"2021-04-13T00:00:00\", \"2021-04-14T00:00:00\", \"2021-04-15T00:00:00\", \"2021-04-16T00:00:00\", \"2021-04-19T00:00:00\", \"2021-04-20T00:00:00\", \"2021-04-21T00:00:00\", \"2021-04-22T00:00:00\", \"2021-04-23T00:00:00\", \"2021-04-26T00:00:00\", \"2021-04-27T00:00:00\", \"2021-04-28T00:00:00\", \"2021-04-29T00:00:00\", \"2021-04-30T00:00:00\", \"2021-05-03T00:00:00\", \"2021-05-04T00:00:00\", \"2021-05-05T00:00:00\", \"2021-05-06T00:00:00\", \"2021-05-07T00:00:00\", \"2021-05-10T00:00:00\", \"2021-05-11T00:00:00\", \"2021-05-12T00:00:00\", \"2021-05-13T00:00:00\", \"2021-05-14T00:00:00\", \"2021-05-17T00:00:00\", \"2021-05-18T00:00:00\", \"2021-05-19T00:00:00\", \"2021-05-20T00:00:00\", \"2021-05-21T00:00:00\", \"2021-05-24T00:00:00\", \"2021-05-25T00:00:00\", \"2021-05-26T00:00:00\", \"2021-05-27T00:00:00\", \"2021-05-28T00:00:00\", \"2021-06-01T00:00:00\"], \"y\": [0.0, 0.04916789753411712, 0.10892583595287175, 0.20574880925973016, 0.2821482920248807, 0.2859303824976961, 0.25945531635547814, 0.2662631946285485, 0.15128592735267013, 0.1936459466137168, 0.14901658650247887, 0.20953097187129727, 0.1936459466137168, 0.1006051359184255, 0.055219328857123794, 0.08472011066084507, 0.0642964758416338, 0.002269268711439583, -0.015128578307516677, 0.036308587938040024, 0.06656581669182506, 0.013615684407389172, 0.055219328857123794, 0.04311646621111045, 0.04538573492255003, 0.03177005051516086, 0.022692903530650853, -0.015128578307516677, -0.019667187869147517, -0.03177005051516086, -0.046898628822677535, -0.083963735849533, -0.09606659849554633, -0.037065107026855455, -0.02647506614221794, 0.021936456580587103, 0.02118000963052335, 0.04084719749967087, 0.027987887903593772, -0.007564325223134176, -0.04160364444973462, -0.06354010103032172, -0.06127083231888214, -0.09833586720698592, -0.11875950202619719, -0.12102877073763676, -0.13842661775659304, -0.1406959586067843, -0.17624809959476057, -0.16414523694874722, -0.1354009020950897, -0.15658098386436473, -0.14372167426828764, -0.16036307433718014, -0.008320772173197929, 0.04841145058405337, 0.034039319226600445, 0.0862329324222209, 0.07413006977620756, 0.1210286985988851, 0.06656581669182506, 0.051437166245556706]}, {\"name\": \"UPWK\", \"type\": \"scatter\", \"x\": [\"2021-03-04T00:00:00\", \"2021-03-05T00:00:00\", \"2021-03-08T00:00:00\", \"2021-03-09T00:00:00\", \"2021-03-10T00:00:00\", \"2021-03-11T00:00:00\", \"2021-03-12T00:00:00\", \"2021-03-15T00:00:00\", \"2021-03-16T00:00:00\", \"2021-03-17T00:00:00\", \"2021-03-18T00:00:00\", \"2021-03-19T00:00:00\", \"2021-03-22T00:00:00\", \"2021-03-23T00:00:00\", \"2021-03-24T00:00:00\", \"2021-03-25T00:00:00\", \"2021-03-26T00:00:00\", \"2021-03-29T00:00:00\", \"2021-03-30T00:00:00\", \"2021-03-31T00:00:00\", \"2021-04-01T00:00:00\", \"2021-04-05T00:00:00\", \"2021-04-06T00:00:00\", \"2021-04-07T00:00:00\", \"2021-04-08T00:00:00\", \"2021-04-09T00:00:00\", \"2021-04-12T00:00:00\", \"2021-04-13T00:00:00\", \"2021-04-14T00:00:00\", \"2021-04-15T00:00:00\", \"2021-04-16T00:00:00\", \"2021-04-19T00:00:00\", \"2021-04-20T00:00:00\", \"2021-04-21T00:00:00\", \"2021-04-22T00:00:00\", \"2021-04-23T00:00:00\", \"2021-04-26T00:00:00\", \"2021-04-27T00:00:00\", \"2021-04-28T00:00:00\", \"2021-04-29T00:00:00\", \"2021-04-30T00:00:00\", \"2021-05-03T00:00:00\", \"2021-05-04T00:00:00\", \"2021-05-05T00:00:00\", \"2021-05-06T00:00:00\", \"2021-05-07T00:00:00\", \"2021-05-10T00:00:00\", \"2021-05-11T00:00:00\", \"2021-05-12T00:00:00\", \"2021-05-13T00:00:00\", \"2021-05-14T00:00:00\", \"2021-05-17T00:00:00\", \"2021-05-18T00:00:00\", \"2021-05-19T00:00:00\", \"2021-05-20T00:00:00\", \"2021-05-21T00:00:00\", \"2021-05-24T00:00:00\", \"2021-05-25T00:00:00\", \"2021-05-26T00:00:00\", \"2021-05-27T00:00:00\", \"2021-05-28T00:00:00\", \"2021-06-01T00:00:00\"], \"y\": [0.0, 0.015373982120117266, -0.032354373631637165, 0.04726933162095041, 0.05736576170170154, 0.12849927119852916, 0.13171173984851153, 0.12115646070336782, 0.11060118155822411, 0.12138588523556411, 0.025470324667662678, 0.04336850184117345, 0.04933450254353989, 0.03212477403302943, -0.023864177875877215, -0.0025241075201877833, 0.014915045522518967, -0.054612229649317466, -0.026847221993663295, 0.027306071058055874, 0.06769152878144324, 0.04222111658057484, 0.08467183275975741, 0.047728268218548704, 0.11794399205338545, 0.10050475147747298, 0.10188156127026787, 0.15465804452919216, 0.11427258680580478, 0.14823310722922742, 0.12459835388554648, 0.07159244609442592, 0.012849874599929484, 0.040614882255583656, 0.03740241360560129, 0.10417615672505365, 0.12597516367834138, 0.11955022637837663, 0.1346947839662976, 0.07136293402902391, 0.05690682510410324, 0.005966000702366443, -0.0146857085235284, -0.059889869221889325, -0.08122993957757875, -0.03533733021621752, -0.12322171915916302, -0.0633318499372737, -0.12391008028895761, -0.12826984666633287, -0.08237723730497164, -0.07870583205739097, -0.07709959773239979, -0.06677383065265809, -0.05208812212912969, -0.06103725448248793, -0.005966088235572165, 0.007572235027357628, 0.04038545772338737, 0.08926111120253469, 0.08008255431698015, 0.11909128978077833]}, {\"name\": \"COIN\", \"type\": \"scatter\", \"x\": [\"2021-04-14T00:00:00\", \"2021-04-15T00:00:00\", \"2021-04-16T00:00:00\", \"2021-04-19T00:00:00\", \"2021-04-20T00:00:00\", \"2021-04-21T00:00:00\", \"2021-04-22T00:00:00\", \"2021-04-23T00:00:00\", \"2021-04-26T00:00:00\", \"2021-04-27T00:00:00\", \"2021-04-28T00:00:00\", \"2021-04-29T00:00:00\", \"2021-04-30T00:00:00\", \"2021-05-03T00:00:00\", \"2021-05-04T00:00:00\", \"2021-05-05T00:00:00\", \"2021-05-06T00:00:00\", \"2021-05-07T00:00:00\", \"2021-05-10T00:00:00\", \"2021-05-11T00:00:00\", \"2021-05-12T00:00:00\", \"2021-05-13T00:00:00\", \"2021-05-14T00:00:00\", \"2021-05-17T00:00:00\", \"2021-05-18T00:00:00\", \"2021-05-19T00:00:00\", \"2021-05-20T00:00:00\", \"2021-05-21T00:00:00\", \"2021-05-24T00:00:00\", \"2021-05-25T00:00:00\", \"2021-05-26T00:00:00\", \"2021-05-27T00:00:00\", \"2021-05-28T00:00:00\", \"2021-06-01T00:00:00\"], \"y\": [0.0, -0.016845372242780775, 0.041793594710980556, 0.0143779737975337, -0.022724477527774966, -0.049835461838664566, -0.10609841203174207, -0.111733863811914, -0.07231628586161727, -0.08005360934878325, -0.09208605793450061, -0.10207752494891968, -0.09333490996951868, -0.10378337836879324, -0.14505908155922254, -0.16839283229211202, -0.21786276739252355, -0.19672227005119142, -0.10609841203174207, -0.07700742924728916, -0.1360729060370385, -0.19245763650150752, -0.2129584620508969, -0.24381623487193874, -0.27196295574291124, -0.3152187038879235, -0.289021582903686, -0.31658947563739187, -0.3136956138371764, -0.2615754704413717, -0.26428656887246066, -0.2473193698772687, -0.27945657924423534, -0.27217621066090525]}, {\"name\": \"NIO\", \"type\": \"scatter\", \"x\": [\"2021-03-04T00:00:00\", \"2021-03-05T00:00:00\", \"2021-03-08T00:00:00\", \"2021-03-09T00:00:00\", \"2021-03-10T00:00:00\", \"2021-03-11T00:00:00\", \"2021-03-12T00:00:00\", \"2021-03-15T00:00:00\", \"2021-03-16T00:00:00\", \"2021-03-17T00:00:00\", \"2021-03-18T00:00:00\", \"2021-03-19T00:00:00\", \"2021-03-22T00:00:00\", \"2021-03-23T00:00:00\", \"2021-03-24T00:00:00\", \"2021-03-25T00:00:00\", \"2021-03-26T00:00:00\", \"2021-03-29T00:00:00\", \"2021-03-30T00:00:00\", \"2021-03-31T00:00:00\", \"2021-04-01T00:00:00\", \"2021-04-05T00:00:00\", \"2021-04-06T00:00:00\", \"2021-04-07T00:00:00\", \"2021-04-08T00:00:00\", \"2021-04-09T00:00:00\", \"2021-04-12T00:00:00\", \"2021-04-13T00:00:00\", \"2021-04-14T00:00:00\", \"2021-04-15T00:00:00\", \"2021-04-16T00:00:00\", \"2021-04-19T00:00:00\", \"2021-04-20T00:00:00\", \"2021-04-21T00:00:00\", \"2021-04-22T00:00:00\", \"2021-04-23T00:00:00\", \"2021-04-26T00:00:00\", \"2021-04-27T00:00:00\", \"2021-04-28T00:00:00\", \"2021-04-29T00:00:00\", \"2021-04-30T00:00:00\", \"2021-05-03T00:00:00\", \"2021-05-04T00:00:00\", \"2021-05-05T00:00:00\", \"2021-05-06T00:00:00\", \"2021-05-07T00:00:00\", \"2021-05-10T00:00:00\", \"2021-05-11T00:00:00\", \"2021-05-12T00:00:00\", \"2021-05-13T00:00:00\", \"2021-05-14T00:00:00\", \"2021-05-17T00:00:00\", \"2021-05-18T00:00:00\", \"2021-05-19T00:00:00\", \"2021-05-20T00:00:00\", \"2021-05-21T00:00:00\", \"2021-05-24T00:00:00\", \"2021-05-25T00:00:00\", \"2021-05-26T00:00:00\", \"2021-05-27T00:00:00\", \"2021-05-28T00:00:00\", \"2021-06-01T00:00:00\"], \"y\": [0.0, -0.029786105023047453, -0.1036150667338965, 0.05269856820655615, 0.05193485180561048, 0.17184318252977368, 0.15835034149699292, 0.143839147185942, 0.11201633560635431, 0.13951119431105088, 0.05982694403893322, 0.1036150667338965, 0.09317718842041228, 0.048370712447178874, -0.059063130522473695, -0.03411405789793859, -0.08019342691125274, -0.09597761137789822, -0.04404275957228774, -0.007637455355998282, 0.009674161912538545, 0.0007638135164595258, 0.01832997054680696, -0.051171038289150955, -0.014765734072861497, -0.029531565261236847, -0.054480637885771954, -0.02036657998783337, -0.057535600605068495, -0.09215883514214215, -0.08121178018952287, -0.06364562315917544, -0.059826846923419365, -0.00967406479702469, 0.007382915594187675, 0.0458249263670174, 0.08503055642527893, 0.049134428848124544, 0.04862525220898948, -0.007382818478673821, 0.014256654549240284, 0.006619199193242003, -0.034368597659749194, -0.03996944357472106, -0.0661914092393369, -0.05957230716160876, -0.12601825616275628, -0.11227087536816491, -0.14256615703034745, -0.20519347546900965, -0.14918535622358944, -0.13925655743372642, -0.12958249263670174, -0.14816700294531931, -0.12601825616275628, -0.1328919951178089, -0.08630344946535967, -0.08172095682865793, -0.03869655053464033, -0.009419525035214085, -0.01680244062940176, 0.07790227770841572]}, {\"name\": \"XPEV\", \"type\": \"scatter\", \"x\": [\"2021-03-04T00:00:00\", \"2021-03-05T00:00:00\", \"2021-03-08T00:00:00\", \"2021-03-09T00:00:00\", \"2021-03-10T00:00:00\", \"2021-03-11T00:00:00\", \"2021-03-12T00:00:00\", \"2021-03-15T00:00:00\", \"2021-03-16T00:00:00\", \"2021-03-17T00:00:00\", \"2021-03-18T00:00:00\", \"2021-03-19T00:00:00\", \"2021-03-22T00:00:00\", \"2021-03-23T00:00:00\", \"2021-03-24T00:00:00\", \"2021-03-25T00:00:00\", \"2021-03-26T00:00:00\", \"2021-03-29T00:00:00\", \"2021-03-30T00:00:00\", \"2021-03-31T00:00:00\", \"2021-04-01T00:00:00\", \"2021-04-05T00:00:00\", \"2021-04-06T00:00:00\", \"2021-04-07T00:00:00\", \"2021-04-08T00:00:00\", \"2021-04-09T00:00:00\", \"2021-04-12T00:00:00\", \"2021-04-13T00:00:00\", \"2021-04-14T00:00:00\", \"2021-04-15T00:00:00\", \"2021-04-16T00:00:00\", \"2021-04-19T00:00:00\", \"2021-04-20T00:00:00\", \"2021-04-21T00:00:00\", \"2021-04-22T00:00:00\", \"2021-04-23T00:00:00\", \"2021-04-26T00:00:00\", \"2021-04-27T00:00:00\", \"2021-04-28T00:00:00\", \"2021-04-29T00:00:00\", \"2021-04-30T00:00:00\", \"2021-05-03T00:00:00\", \"2021-05-04T00:00:00\", \"2021-05-05T00:00:00\", \"2021-05-06T00:00:00\", \"2021-05-07T00:00:00\", \"2021-05-10T00:00:00\", \"2021-05-11T00:00:00\", \"2021-05-12T00:00:00\", \"2021-05-13T00:00:00\", \"2021-05-14T00:00:00\", \"2021-05-17T00:00:00\", \"2021-05-18T00:00:00\", \"2021-05-19T00:00:00\", \"2021-05-20T00:00:00\", \"2021-05-21T00:00:00\", \"2021-05-24T00:00:00\", \"2021-05-25T00:00:00\", \"2021-05-26T00:00:00\", \"2021-05-27T00:00:00\", \"2021-05-28T00:00:00\", \"2021-06-01T00:00:00\"], \"y\": [0.0, -0.04529972398015318, -0.08310628349228771, 0.020776522149930074, 0.04564033122381618, 0.18562672512404263, 0.19720711155182816, 0.20470021105565767, 0.223773826915651, 0.23024516965268066, 0.19209806786107225, 0.2765667153638228, 0.2901907452535864, 0.2373978568054146, 0.05074930995038295, 0.10796996263779554, 0.09468660495588412, 0.06982286084618715, 0.15190732260748585, 0.24352852733459207, 0.25851498619900765, 0.22649855493657675, 0.2605584997326074, 0.1604223088064935, 0.20742506900496172, 0.17472755318358307, 0.15769758078556775, 0.20844682577176157, 0.1202315635529071, 0.06948225360252415, 0.053133495691834835, 0.0626703036218315, 0.06505448936328338, 0.11035414837924742, 0.10252037666756578, 0.13419613572214453, 0.12397817826901099, 0.07595366130374293, 0.07935966877618382, 0.0395095307662604, 0.018732943652141194, -0.011580386427785548, -0.013283422646100563, -0.04666215295480519, -0.10149868486495504, -0.09094005520396936, -0.1328338366758708, -0.150885565840686, -0.15667575905457876, -0.19754771879549118, -0.124659392756337, -0.11035421334343656, -0.06948231856671329, -0.058583146626253746, -0.019073615859993336, -0.026566780328011987, -0.007833836675870794, 0.000681149523136866, 0.07527244681641691, 0.10320159115489178, 0.09434606267641026, 0.1784740379713087]}, {\"name\": \"RIOT\", \"type\": \"scatter\", \"x\": [\"2021-03-04T00:00:00\", \"2021-03-05T00:00:00\", \"2021-03-08T00:00:00\", \"2021-03-09T00:00:00\", \"2021-03-10T00:00:00\", \"2021-03-11T00:00:00\", \"2021-03-12T00:00:00\", \"2021-03-15T00:00:00\", \"2021-03-16T00:00:00\", \"2021-03-17T00:00:00\", \"2021-03-18T00:00:00\", \"2021-03-19T00:00:00\", \"2021-03-22T00:00:00\", \"2021-03-23T00:00:00\", \"2021-03-24T00:00:00\", \"2021-03-25T00:00:00\", \"2021-03-26T00:00:00\", \"2021-03-29T00:00:00\", \"2021-03-30T00:00:00\", \"2021-03-31T00:00:00\", \"2021-04-01T00:00:00\", \"2021-04-05T00:00:00\", \"2021-04-06T00:00:00\", \"2021-04-07T00:00:00\", \"2021-04-08T00:00:00\", \"2021-04-09T00:00:00\", \"2021-04-12T00:00:00\", \"2021-04-13T00:00:00\", \"2021-04-14T00:00:00\", \"2021-04-15T00:00:00\", \"2021-04-16T00:00:00\", \"2021-04-19T00:00:00\", \"2021-04-20T00:00:00\", \"2021-04-21T00:00:00\", \"2021-04-22T00:00:00\", \"2021-04-23T00:00:00\", \"2021-04-26T00:00:00\", \"2021-04-27T00:00:00\", \"2021-04-28T00:00:00\", \"2021-04-29T00:00:00\", \"2021-04-30T00:00:00\", \"2021-05-03T00:00:00\", \"2021-05-04T00:00:00\", \"2021-05-05T00:00:00\", \"2021-05-06T00:00:00\", \"2021-05-07T00:00:00\", \"2021-05-10T00:00:00\", \"2021-05-11T00:00:00\", \"2021-05-12T00:00:00\", \"2021-05-13T00:00:00\", \"2021-05-14T00:00:00\", \"2021-05-17T00:00:00\", \"2021-05-18T00:00:00\", \"2021-05-19T00:00:00\", \"2021-05-20T00:00:00\", \"2021-05-21T00:00:00\", \"2021-05-24T00:00:00\", \"2021-05-25T00:00:00\", \"2021-05-26T00:00:00\", \"2021-05-27T00:00:00\", \"2021-05-28T00:00:00\", \"2021-06-01T00:00:00\"], \"y\": [0.0, -0.0900880920295481, -0.11989165191977715, 0.1776924535832573, 0.27568297204961295, 0.42944231349283113, 0.41815308365168413, 0.43215170453830964, 0.2865206223615155, 0.46172943159892227, 0.3589974572704821, 0.36938361418312854, 0.26461948890809395, 0.13163237516018025, 0.03206137140646309, 0.0876043615537092, 0.08873335344181463, 0.08128242040426316, 0.1630164203377708, 0.20275455761140182, 0.17475722970816232, 0.2847143903745259, 0.22149463436011188, 0.09212007071616568, 0.11876266003167171, 0.12056897814864968, 0.1634679998670153, 0.3379994828755496, 0.13253553421866923, 0.08624970909596413, 0.007902426436807547, -0.07654096454217862, -0.1293745636439462, -0.06728379951763762, -0.1761119682958958, -0.13118088176092416, -0.07676679737179508, -0.08512080333784712, -0.008128259266423998, -0.08941067967068715, -0.055542990147246105, -0.09708735940786667, -0.1517272766266122, -0.17317683055078922, -0.24475050640126686, -0.24610524498900033, -0.323775115289296, -0.32558139034127975, -0.4012192388899636, -0.4980808515982022, -0.41250846873111063, -0.4511176571816304, -0.42289458257876283, -0.45495599705022016, -0.4540528379917312, -0.48430797741120474, -0.4140889540184721, -0.4323775373679261, -0.375931388162191, -0.35651389905462, -0.3874464077679603, -0.34003163382214396]}, {\"name\": \"PLTR\", \"type\": \"scatter\", \"x\": [\"2021-03-04T00:00:00\", \"2021-03-05T00:00:00\", \"2021-03-08T00:00:00\", \"2021-03-09T00:00:00\", \"2021-03-10T00:00:00\", \"2021-03-11T00:00:00\", \"2021-03-12T00:00:00\", \"2021-03-15T00:00:00\", \"2021-03-16T00:00:00\", \"2021-03-17T00:00:00\", \"2021-03-18T00:00:00\", \"2021-03-19T00:00:00\", \"2021-03-22T00:00:00\", \"2021-03-23T00:00:00\", \"2021-03-24T00:00:00\", \"2021-03-25T00:00:00\", \"2021-03-26T00:00:00\", \"2021-03-29T00:00:00\", \"2021-03-30T00:00:00\", \"2021-03-31T00:00:00\", \"2021-04-01T00:00:00\", \"2021-04-05T00:00:00\", \"2021-04-06T00:00:00\", \"2021-04-07T00:00:00\", \"2021-04-08T00:00:00\", \"2021-04-09T00:00:00\", \"2021-04-12T00:00:00\", \"2021-04-13T00:00:00\", \"2021-04-14T00:00:00\", \"2021-04-15T00:00:00\", \"2021-04-16T00:00:00\", \"2021-04-19T00:00:00\", \"2021-04-20T00:00:00\", \"2021-04-21T00:00:00\", \"2021-04-22T00:00:00\", \"2021-04-23T00:00:00\", \"2021-04-26T00:00:00\", \"2021-04-27T00:00:00\", \"2021-04-28T00:00:00\", \"2021-04-29T00:00:00\", \"2021-04-30T00:00:00\", \"2021-05-03T00:00:00\", \"2021-05-04T00:00:00\", \"2021-05-05T00:00:00\", \"2021-05-06T00:00:00\", \"2021-05-07T00:00:00\", \"2021-05-10T00:00:00\", \"2021-05-11T00:00:00\", \"2021-05-12T00:00:00\", \"2021-05-13T00:00:00\", \"2021-05-14T00:00:00\", \"2021-05-17T00:00:00\", \"2021-05-18T00:00:00\", \"2021-05-19T00:00:00\", \"2021-05-20T00:00:00\", \"2021-05-21T00:00:00\", \"2021-05-24T00:00:00\", \"2021-05-25T00:00:00\", \"2021-05-26T00:00:00\", \"2021-05-27T00:00:00\", \"2021-05-28T00:00:00\", \"2021-06-01T00:00:00\"], \"y\": [0.0, -0.03154059012272589, -0.08936510818361328, -0.019005229359255794, 0.0008087528562025698, 0.0808734345742386, 0.08855643245432814, 0.0832996931428463, 0.03558435440373874, 0.01940960578735708, -0.030327537965339473, -0.016579047917565516, -0.020622735071660934, -0.05944194664637509, -0.11524465969367348, -0.086938926741923, -0.086938926741923, -0.12131015186135789, -0.10877471397097035, -0.058228817362071236, -0.06712494452646464, -0.05216332519438683, -0.059037570218273806, -0.07399918955035162, -0.05337645447869068, -0.027901279396731763, -0.056207012348482244, 0.027901356523649196, -0.04164976944450572, -0.06389001022857178, -0.0913869903241197, -0.11281840112506578, -0.11928826972085146, -0.084917121728334, -0.07561661813583932, -0.05337645447869068, -0.0250707215269402, -0.03437122511943489, -0.035584277276821306, -0.054993883064178385, -0.06833799668385106, -0.09826123534800668, -0.12494946258735203, -0.1447634448028104, -0.18762634353161994, -0.2013748335793939, -0.25313385947259687, -0.1827739806482394, -0.23615043512693007, -0.2571774694997749, -0.18803071995972123, -0.1726648013264596, -0.14112413407681626, -0.16417305059016746, -0.16659923203185772, -0.1609381162922746, -0.1419328869330188, -0.1314193311831377, -0.10553977967307751, -0.08208648673162501, -0.07197730740984519, -0.06752932095456592]}, {\"name\": \"TSLA\", \"type\": \"scatter\", \"x\": [\"2021-03-04T00:00:00\", \"2021-03-05T00:00:00\", \"2021-03-08T00:00:00\", \"2021-03-09T00:00:00\", \"2021-03-10T00:00:00\", \"2021-03-11T00:00:00\", \"2021-03-12T00:00:00\", \"2021-03-15T00:00:00\", \"2021-03-16T00:00:00\", \"2021-03-17T00:00:00\", \"2021-03-18T00:00:00\", \"2021-03-19T00:00:00\", \"2021-03-22T00:00:00\", \"2021-03-23T00:00:00\", \"2021-03-24T00:00:00\", \"2021-03-25T00:00:00\", \"2021-03-26T00:00:00\", \"2021-03-29T00:00:00\", \"2021-03-30T00:00:00\", \"2021-03-31T00:00:00\", \"2021-04-01T00:00:00\", \"2021-04-05T00:00:00\", \"2021-04-06T00:00:00\", \"2021-04-07T00:00:00\", \"2021-04-08T00:00:00\", \"2021-04-09T00:00:00\", \"2021-04-12T00:00:00\", \"2021-04-13T00:00:00\", \"2021-04-14T00:00:00\", \"2021-04-15T00:00:00\", \"2021-04-16T00:00:00\", \"2021-04-19T00:00:00\", \"2021-04-20T00:00:00\", \"2021-04-21T00:00:00\", \"2021-04-22T00:00:00\", \"2021-04-23T00:00:00\", \"2021-04-26T00:00:00\", \"2021-04-27T00:00:00\", \"2021-04-28T00:00:00\", \"2021-04-29T00:00:00\", \"2021-04-30T00:00:00\", \"2021-05-03T00:00:00\", \"2021-05-04T00:00:00\", \"2021-05-05T00:00:00\", \"2021-05-06T00:00:00\", \"2021-05-07T00:00:00\", \"2021-05-10T00:00:00\", \"2021-05-11T00:00:00\", \"2021-05-12T00:00:00\", \"2021-05-13T00:00:00\", \"2021-05-14T00:00:00\", \"2021-05-17T00:00:00\", \"2021-05-18T00:00:00\", \"2021-05-19T00:00:00\", \"2021-05-20T00:00:00\", \"2021-05-21T00:00:00\", \"2021-05-24T00:00:00\", \"2021-05-25T00:00:00\", \"2021-05-26T00:00:00\", \"2021-05-27T00:00:00\", \"2021-05-28T00:00:00\", \"2021-06-01T00:00:00\"], \"y\": [0.0, -0.03779928897736158, -0.09403965340470077, 0.08390192849446255, 0.07501930183772353, 0.12577235587903873, 0.1163265604778311, 0.13919284188364722, 0.08921215599833152, 0.1293286476593778, 0.05104269209981503, 0.053794400979092535, 0.07814108742246977, 0.06552518431892283, 0.014208961533139004, 0.030493711593369773, -0.004392991210776461, -0.016333072177823822, 0.022817959288223066, 0.07481010242619263, 0.06486546955495429, 0.11201400791402356, 0.11293124420711606, 0.0797019311069998, 0.10034755584863116, 0.08943746278239342, 0.1296021783453466, 0.2266992860603557, 0.17827944385957004, 0.18893211361237, 0.1904287242381483, 0.14995816502847814, 0.1569741043539701, 0.19741244881857825, 0.1581005400585935, 0.17372557535485572, 0.18788621477040168, 0.1340434916737161, 0.1174047722805476, 0.0894052480373314, 0.14160659058683184, 0.10211769716037826, 0.08393404502383842, 0.07965370720509292, 0.06774584098310758, 0.0819548025162466, 0.012229620809861012, -0.006822847286492112, -0.05076916141384623, -0.08005599865562368, -0.051010575570439164, -0.07178486286094633, -0.07011136578438533, -0.09329940177807713, -0.05577364348668436, -0.06526776100548505, -0.024137487031846337, -0.026953527185561744, -0.0037171690742768895, 0.015142206983076356, 0.006082595659868471, 0.003958583230869819]}, {\"name\": \"JMIA\", \"type\": \"scatter\", \"x\": [\"2021-03-04T00:00:00\", \"2021-03-05T00:00:00\", \"2021-03-08T00:00:00\", \"2021-03-09T00:00:00\", \"2021-03-10T00:00:00\", \"2021-03-11T00:00:00\", \"2021-03-12T00:00:00\", \"2021-03-15T00:00:00\", \"2021-03-16T00:00:00\", \"2021-03-17T00:00:00\", \"2021-03-18T00:00:00\", \"2021-03-19T00:00:00\", \"2021-03-22T00:00:00\", \"2021-03-23T00:00:00\", \"2021-03-24T00:00:00\", \"2021-03-25T00:00:00\", \"2021-03-26T00:00:00\", \"2021-03-29T00:00:00\", \"2021-03-30T00:00:00\", \"2021-03-31T00:00:00\", \"2021-04-01T00:00:00\", \"2021-04-05T00:00:00\", \"2021-04-06T00:00:00\", \"2021-04-07T00:00:00\", \"2021-04-08T00:00:00\", \"2021-04-09T00:00:00\", \"2021-04-12T00:00:00\", \"2021-04-13T00:00:00\", \"2021-04-14T00:00:00\", \"2021-04-15T00:00:00\", \"2021-04-16T00:00:00\", \"2021-04-19T00:00:00\", \"2021-04-20T00:00:00\", \"2021-04-21T00:00:00\", \"2021-04-22T00:00:00\", \"2021-04-23T00:00:00\", \"2021-04-26T00:00:00\", \"2021-04-27T00:00:00\", \"2021-04-28T00:00:00\", \"2021-04-29T00:00:00\", \"2021-04-30T00:00:00\", \"2021-05-03T00:00:00\", \"2021-05-04T00:00:00\", \"2021-05-05T00:00:00\", \"2021-05-06T00:00:00\", \"2021-05-07T00:00:00\", \"2021-05-10T00:00:00\", \"2021-05-11T00:00:00\", \"2021-05-12T00:00:00\", \"2021-05-13T00:00:00\", \"2021-05-14T00:00:00\", \"2021-05-17T00:00:00\", \"2021-05-18T00:00:00\", \"2021-05-19T00:00:00\", \"2021-05-20T00:00:00\", \"2021-05-21T00:00:00\", \"2021-05-24T00:00:00\", \"2021-05-25T00:00:00\", \"2021-05-26T00:00:00\", \"2021-05-27T00:00:00\", \"2021-05-28T00:00:00\", \"2021-06-01T00:00:00\"], \"y\": [0.0, -0.028876088327512216, -0.11992708013395105, 0.08298653890142868, 0.09859524065887883, 0.27965661769120503, 0.24661810304148682, 0.34105101661586523, 0.25312174531337533, 0.3028096675388007, 0.10561918622104306, 0.09625392547149074, 0.06555672600916063, 0.005983338981612742, -0.11394374115233831, -0.08090522650262012, -0.101196657872552, -0.16805409248854922, -0.07570239207527378, -0.07752340397238612, -0.011186272646664646, -0.04058266426445261, 0.004422528348491066, -0.03798124705077944, -0.009625362775837405, -0.03225801009545179, -0.07700310068211037, -0.07049945841022189, -0.08558785687739628, -0.10952131204155281, -0.16545257603717048, -0.2278875815423822, -0.26326741137948845, -0.2117585764946563, -0.20915710966213036, -0.19016648613674061, -0.13449527454855528, -0.16207075350693648, -0.15946923705555774, -0.20889695801699248, -0.2086368063718546, -0.1873048676590768, -0.29786678628118113, -0.32075958524593334, -0.3298646943503478, -0.30619144045018193, -0.38995833504931865, -0.34339228218440054, -0.3990634441537331, -0.3990634441537331, -0.32414150701387295, -0.32049943360079547, -0.2819978832597403, -0.29526531944865514, -0.27731525288496417, -0.2983870895714569, -0.28980228375731815, -0.2957856227389309, -0.2458376481060732, -0.22736727825210645, -0.2406347144410213, -0.16805409248854922]}],                        {\"template\": {\"data\": {\"bar\": [{\"error_x\": {\"color\": \"#2a3f5f\"}, \"error_y\": {\"color\": \"#2a3f5f\"}, \"marker\": {\"line\": {\"color\": \"#E5ECF6\", \"width\": 0.5}}, \"type\": \"bar\"}], \"barpolar\": [{\"marker\": {\"line\": {\"color\": \"#E5ECF6\", \"width\": 0.5}}, \"type\": \"barpolar\"}], \"carpet\": [{\"aaxis\": {\"endlinecolor\": \"#2a3f5f\", \"gridcolor\": \"white\", \"linecolor\": \"white\", \"minorgridcolor\": \"white\", \"startlinecolor\": \"#2a3f5f\"}, \"baxis\": {\"endlinecolor\": \"#2a3f5f\", \"gridcolor\": \"white\", \"linecolor\": \"white\", \"minorgridcolor\": \"white\", \"startlinecolor\": \"#2a3f5f\"}, \"type\": \"carpet\"}], \"choropleth\": [{\"colorbar\": {\"outlinewidth\": 0, \"ticks\": \"\"}, \"type\": \"choropleth\"}], \"contour\": [{\"colorbar\": {\"outlinewidth\": 0, \"ticks\": \"\"}, \"colorscale\": [[0.0, \"#0d0887\"], [0.1111111111111111, \"#46039f\"], [0.2222222222222222, \"#7201a8\"], [0.3333333333333333, \"#9c179e\"], [0.4444444444444444, \"#bd3786\"], [0.5555555555555556, \"#d8576b\"], [0.6666666666666666, \"#ed7953\"], [0.7777777777777778, \"#fb9f3a\"], [0.8888888888888888, \"#fdca26\"], [1.0, \"#f0f921\"]], \"type\": \"contour\"}], \"contourcarpet\": [{\"colorbar\": {\"outlinewidth\": 0, \"ticks\": \"\"}, \"type\": \"contourcarpet\"}], \"heatmap\": [{\"colorbar\": {\"outlinewidth\": 0, \"ticks\": \"\"}, \"colorscale\": [[0.0, \"#0d0887\"], [0.1111111111111111, \"#46039f\"], [0.2222222222222222, \"#7201a8\"], [0.3333333333333333, \"#9c179e\"], [0.4444444444444444, \"#bd3786\"], [0.5555555555555556, \"#d8576b\"], [0.6666666666666666, \"#ed7953\"], [0.7777777777777778, \"#fb9f3a\"], [0.8888888888888888, \"#fdca26\"], [1.0, \"#f0f921\"]], \"type\": \"heatmap\"}], \"heatmapgl\": [{\"colorbar\": {\"outlinewidth\": 0, \"ticks\": \"\"}, \"colorscale\": [[0.0, \"#0d0887\"], [0.1111111111111111, \"#46039f\"], [0.2222222222222222, \"#7201a8\"], [0.3333333333333333, \"#9c179e\"], [0.4444444444444444, \"#bd3786\"], [0.5555555555555556, \"#d8576b\"], [0.6666666666666666, \"#ed7953\"], [0.7777777777777778, \"#fb9f3a\"], [0.8888888888888888, \"#fdca26\"], [1.0, \"#f0f921\"]], \"type\": \"heatmapgl\"}], \"histogram\": [{\"marker\": {\"colorbar\": {\"outlinewidth\": 0, \"ticks\": \"\"}}, \"type\": \"histogram\"}], \"histogram2d\": [{\"colorbar\": {\"outlinewidth\": 0, \"ticks\": \"\"}, \"colorscale\": [[0.0, \"#0d0887\"], [0.1111111111111111, \"#46039f\"], [0.2222222222222222, \"#7201a8\"], [0.3333333333333333, \"#9c179e\"], [0.4444444444444444, \"#bd3786\"], [0.5555555555555556, \"#d8576b\"], [0.6666666666666666, \"#ed7953\"], [0.7777777777777778, \"#fb9f3a\"], [0.8888888888888888, \"#fdca26\"], [1.0, \"#f0f921\"]], \"type\": \"histogram2d\"}], \"histogram2dcontour\": [{\"colorbar\": {\"outlinewidth\": 0, \"ticks\": \"\"}, \"colorscale\": [[0.0, \"#0d0887\"], [0.1111111111111111, \"#46039f\"], [0.2222222222222222, \"#7201a8\"], [0.3333333333333333, \"#9c179e\"], [0.4444444444444444, \"#bd3786\"], [0.5555555555555556, \"#d8576b\"], [0.6666666666666666, \"#ed7953\"], [0.7777777777777778, \"#fb9f3a\"], [0.8888888888888888, \"#fdca26\"], [1.0, \"#f0f921\"]], \"type\": \"histogram2dcontour\"}], \"mesh3d\": [{\"colorbar\": {\"outlinewidth\": 0, \"ticks\": \"\"}, \"type\": \"mesh3d\"}], \"parcoords\": [{\"line\": {\"colorbar\": {\"outlinewidth\": 0, \"ticks\": \"\"}}, \"type\": \"parcoords\"}], \"pie\": [{\"automargin\": true, \"type\": \"pie\"}], \"scatter\": [{\"marker\": {\"colorbar\": {\"outlinewidth\": 0, \"ticks\": \"\"}}, \"type\": \"scatter\"}], \"scatter3d\": [{\"line\": {\"colorbar\": {\"outlinewidth\": 0, \"ticks\": \"\"}}, \"marker\": {\"colorbar\": {\"outlinewidth\": 0, \"ticks\": \"\"}}, \"type\": \"scatter3d\"}], \"scattercarpet\": [{\"marker\": {\"colorbar\": {\"outlinewidth\": 0, \"ticks\": \"\"}}, \"type\": \"scattercarpet\"}], \"scattergeo\": [{\"marker\": {\"colorbar\": {\"outlinewidth\": 0, \"ticks\": \"\"}}, \"type\": \"scattergeo\"}], \"scattergl\": [{\"marker\": {\"colorbar\": {\"outlinewidth\": 0, \"ticks\": \"\"}}, \"type\": \"scattergl\"}], \"scattermapbox\": [{\"marker\": {\"colorbar\": {\"outlinewidth\": 0, \"ticks\": \"\"}}, \"type\": \"scattermapbox\"}], \"scatterpolar\": [{\"marker\": {\"colorbar\": {\"outlinewidth\": 0, \"ticks\": \"\"}}, \"type\": \"scatterpolar\"}], \"scatterpolargl\": [{\"marker\": {\"colorbar\": {\"outlinewidth\": 0, \"ticks\": \"\"}}, \"type\": \"scatterpolargl\"}], \"scatterternary\": [{\"marker\": {\"colorbar\": {\"outlinewidth\": 0, \"ticks\": \"\"}}, \"type\": \"scatterternary\"}], \"surface\": [{\"colorbar\": {\"outlinewidth\": 0, \"ticks\": \"\"}, \"colorscale\": [[0.0, \"#0d0887\"], [0.1111111111111111, \"#46039f\"], [0.2222222222222222, \"#7201a8\"], [0.3333333333333333, \"#9c179e\"], [0.4444444444444444, \"#bd3786\"], [0.5555555555555556, \"#d8576b\"], [0.6666666666666666, \"#ed7953\"], [0.7777777777777778, \"#fb9f3a\"], [0.8888888888888888, \"#fdca26\"], [1.0, \"#f0f921\"]], \"type\": \"surface\"}], \"table\": [{\"cells\": {\"fill\": {\"color\": \"#EBF0F8\"}, \"line\": {\"color\": \"white\"}}, \"header\": {\"fill\": {\"color\": \"#C8D4E3\"}, \"line\": {\"color\": \"white\"}}, \"type\": \"table\"}]}, \"layout\": {\"annotationdefaults\": {\"arrowcolor\": \"#2a3f5f\", \"arrowhead\": 0, \"arrowwidth\": 1}, \"autotypenumbers\": \"strict\", \"coloraxis\": {\"colorbar\": {\"outlinewidth\": 0, \"ticks\": \"\"}}, \"colorscale\": {\"diverging\": [[0, \"#8e0152\"], [0.1, \"#c51b7d\"], [0.2, \"#de77ae\"], [0.3, \"#f1b6da\"], [0.4, \"#fde0ef\"], [0.5, \"#f7f7f7\"], [0.6, \"#e6f5d0\"], [0.7, \"#b8e186\"], [0.8, \"#7fbc41\"], [0.9, \"#4d9221\"], [1, \"#276419\"]], \"sequential\": [[0.0, \"#0d0887\"], [0.1111111111111111, \"#46039f\"], [0.2222222222222222, \"#7201a8\"], [0.3333333333333333, \"#9c179e\"], [0.4444444444444444, \"#bd3786\"], [0.5555555555555556, \"#d8576b\"], [0.6666666666666666, \"#ed7953\"], [0.7777777777777778, \"#fb9f3a\"], [0.8888888888888888, \"#fdca26\"], [1.0, \"#f0f921\"]], \"sequentialminus\": [[0.0, \"#0d0887\"], [0.1111111111111111, \"#46039f\"], [0.2222222222222222, \"#7201a8\"], [0.3333333333333333, \"#9c179e\"], [0.4444444444444444, \"#bd3786\"], [0.5555555555555556, \"#d8576b\"], [0.6666666666666666, \"#ed7953\"], [0.7777777777777778, \"#fb9f3a\"], [0.8888888888888888, \"#fdca26\"], [1.0, \"#f0f921\"]]}, \"colorway\": [\"#636efa\", \"#EF553B\", \"#00cc96\", \"#ab63fa\", \"#FFA15A\", \"#19d3f3\", \"#FF6692\", \"#B6E880\", \"#FF97FF\", \"#FECB52\"], \"font\": {\"color\": \"#2a3f5f\"}, \"geo\": {\"bgcolor\": \"white\", \"lakecolor\": \"white\", \"landcolor\": \"#E5ECF6\", \"showlakes\": true, \"showland\": true, \"subunitcolor\": \"white\"}, \"hoverlabel\": {\"align\": \"left\"}, \"hovermode\": \"closest\", \"mapbox\": {\"style\": \"light\"}, \"paper_bgcolor\": \"white\", \"plot_bgcolor\": \"#E5ECF6\", \"polar\": {\"angularaxis\": {\"gridcolor\": \"white\", \"linecolor\": \"white\", \"ticks\": \"\"}, \"bgcolor\": \"#E5ECF6\", \"radialaxis\": {\"gridcolor\": \"white\", \"linecolor\": \"white\", \"ticks\": \"\"}}, \"scene\": {\"xaxis\": {\"backgroundcolor\": \"#E5ECF6\", \"gridcolor\": \"white\", \"gridwidth\": 2, \"linecolor\": \"white\", \"showbackground\": true, \"ticks\": \"\", \"zerolinecolor\": \"white\"}, \"yaxis\": {\"backgroundcolor\": \"#E5ECF6\", \"gridcolor\": \"white\", \"gridwidth\": 2, \"linecolor\": \"white\", \"showbackground\": true, \"ticks\": \"\", \"zerolinecolor\": \"white\"}, \"zaxis\": {\"backgroundcolor\": \"#E5ECF6\", \"gridcolor\": \"white\", \"gridwidth\": 2, \"linecolor\": \"white\", \"showbackground\": true, \"ticks\": \"\", \"zerolinecolor\": \"white\"}}, \"shapedefaults\": {\"line\": {\"color\": \"#2a3f5f\"}}, \"ternary\": {\"aaxis\": {\"gridcolor\": \"white\", \"linecolor\": \"white\", \"ticks\": \"\"}, \"baxis\": {\"gridcolor\": \"white\", \"linecolor\": \"white\", \"ticks\": \"\"}, \"bgcolor\": \"#E5ECF6\", \"caxis\": {\"gridcolor\": \"white\", \"linecolor\": \"white\", \"ticks\": \"\"}}, \"title\": {\"x\": 0.05}, \"xaxis\": {\"automargin\": true, \"gridcolor\": \"white\", \"linecolor\": \"white\", \"ticks\": \"\", \"title\": {\"standoff\": 15}, \"zerolinecolor\": \"white\", \"zerolinewidth\": 2}, \"yaxis\": {\"automargin\": true, \"gridcolor\": \"white\", \"linecolor\": \"white\", \"ticks\": \"\", \"title\": {\"standoff\": 15}, \"zerolinecolor\": \"white\", \"zerolinewidth\": 2}}}, \"title\": {\"text\": \"Comparison Charts\"}},                        {\"responsive\": true}                    ).then(function(){\n",
       "                            \n",
       "var gd = document.getElementById('7c0408db-c84f-4fb7-a132-0bbd43bab438');\n",
       "var x = new MutationObserver(function (mutations, observer) {{\n",
       "        var display = window.getComputedStyle(gd).display;\n",
       "        if (!display || display === 'none') {{\n",
       "            console.log([gd, 'removed!']);\n",
       "            Plotly.purge(gd);\n",
       "            observer.disconnect();\n",
       "        }}\n",
       "}});\n",
       "\n",
       "// Listen for the removal of the full notebook cells\n",
       "var notebookContainer = gd.closest('#notebook-container');\n",
       "if (notebookContainer) {{\n",
       "    x.observe(notebookContainer, {childList: true});\n",
       "}}\n",
       "\n",
       "// Listen for the clearing of the current output cell\n",
       "var outputEl = gd.closest('.output');\n",
       "if (outputEl) {{\n",
       "    x.observe(outputEl, {childList: true});\n",
       "}}\n",
       "\n",
       "                        })                };                });            </script>        </div>"
      ]
     },
     "metadata": {}
    }
   ],
   "metadata": {}
  },
  {
   "cell_type": "code",
   "execution_count": 9,
   "source": [
    "pyo.plot(fig)"
   ],
   "outputs": [
    {
     "output_type": "execute_result",
     "data": {
      "text/plain": [
       "'temp-plot.html'"
      ]
     },
     "metadata": {},
     "execution_count": 9
    }
   ],
   "metadata": {}
  },
  {
   "cell_type": "code",
   "execution_count": 10,
   "source": [
    "%run ./master_plotly"
   ],
   "outputs": [
    {
     "output_type": "stream",
     "name": "stdout",
     "text": [
      "Great! Enabled axis to bar function\n"
     ]
    }
   ],
   "metadata": {}
  },
  {
   "cell_type": "code",
   "execution_count": 11,
   "source": [
    "x = dict(zip(comparison, performances))\n",
    "\n",
    "sorted_x = dict(sorted(x.items(), key=lambda item: item[1], reverse = True))\n",
    "\n",
    "sorted_x"
   ],
   "outputs": [
    {
     "output_type": "execute_result",
     "data": {
      "text/plain": [
       "{'GME': 0.8815262016512003,\n",
       " 'ELY': 0.3649341629601828,\n",
       " 'VGZ': 0.279569944159421,\n",
       " 'FB': 0.2774801512564988,\n",
       " 'KGC': 0.2604651712954372,\n",
       " 'XPEV': 0.1784740379713087,\n",
       " 'GOOGL': 0.1707285249540045,\n",
       " 'DBX': 0.16312365958070765,\n",
       " 'CRWD': 0.1506813876539567,\n",
       " 'BA': 0.1335943576909666,\n",
       " 'WBA': 0.1276141584367654,\n",
       " 'PFE': 0.12573096903904765,\n",
       " 'UPWK': 0.11909128978077833,\n",
       " 'MP': 0.08301454196488144,\n",
       " 'NIO': 0.07790227770841572,\n",
       " 'CHPT': 0.07228418282437613,\n",
       " 'GHVI': 0.051437166245556706,\n",
       " 'AAPL': 0.03454592209075264,\n",
       " 'SQ': 0.016208018070497127,\n",
       " 'TSLA': 0.003958583230869819,\n",
       " 'ROKU': -0.03400477937729052,\n",
       " 'ARKG': -0.04498994861069824,\n",
       " 'DIS': -0.048875192794066644,\n",
       " 'PINS': -0.06493308874347278,\n",
       " 'PLTR': -0.06752932095456592,\n",
       " 'BNGO': -0.08405795879560334,\n",
       " 'SFT': -0.08684866621081194,\n",
       " 'FVRR': -0.08778214744597315,\n",
       " 'COUR': -0.1437778049045139,\n",
       " 'IPOD': -0.14796753010373728,\n",
       " 'SUNW': -0.15841578124169772,\n",
       " 'JMIA': -0.16805409248854922,\n",
       " 'ETSY': -0.17486117275305674,\n",
       " 'DKNG': -0.19932159882090056,\n",
       " 'MARA': -0.21274595175510047,\n",
       " 'PLUG': -0.22813595611401502,\n",
       " 'COIN': -0.27217621066090525,\n",
       " 'RIOT': -0.34003163382214396}"
      ]
     },
     "metadata": {},
     "execution_count": 11
    }
   ],
   "metadata": {}
  },
  {
   "cell_type": "code",
   "execution_count": 12,
   "source": [
    "# stock performances since relative start date\n",
    "bar(x = list(sorted_x.keys()), y = list(sorted_x.values()), title = \"Comparing Performances Since Relative Start Date\")"
   ],
   "outputs": [
    {
     "output_type": "display_data",
     "data": {
      "application/vnd.plotly.v1+json": {
       "config": {
        "plotlyServerURL": "https://plot.ly"
       },
       "data": [
        {
         "marker": {
          "color": "#FFD700"
         },
         "type": "bar",
         "x": [
          "GME",
          "ELY",
          "VGZ",
          "FB",
          "KGC",
          "XPEV",
          "GOOGL",
          "DBX",
          "CRWD",
          "BA",
          "WBA",
          "PFE",
          "UPWK",
          "MP",
          "NIO",
          "CHPT",
          "GHVI",
          "AAPL",
          "SQ",
          "TSLA",
          "ROKU",
          "ARKG",
          "DIS",
          "PINS",
          "PLTR",
          "BNGO",
          "SFT",
          "FVRR",
          "COUR",
          "IPOD",
          "SUNW",
          "JMIA",
          "ETSY",
          "DKNG",
          "MARA",
          "PLUG",
          "COIN",
          "RIOT"
         ],
         "y": [
          0.8815262016512003,
          0.3649341629601828,
          0.279569944159421,
          0.2774801512564988,
          0.2604651712954372,
          0.1784740379713087,
          0.1707285249540045,
          0.16312365958070765,
          0.1506813876539567,
          0.1335943576909666,
          0.1276141584367654,
          0.12573096903904765,
          0.11909128978077833,
          0.08301454196488144,
          0.07790227770841572,
          0.07228418282437613,
          0.051437166245556706,
          0.03454592209075264,
          0.016208018070497127,
          0.003958583230869819,
          -0.03400477937729052,
          -0.04498994861069824,
          -0.048875192794066644,
          -0.06493308874347278,
          -0.06752932095456592,
          -0.08405795879560334,
          -0.08684866621081194,
          -0.08778214744597315,
          -0.1437778049045139,
          -0.14796753010373728,
          -0.15841578124169772,
          -0.16805409248854922,
          -0.17486117275305674,
          -0.19932159882090056,
          -0.21274595175510047,
          -0.22813595611401502,
          -0.27217621066090525,
          -0.34003163382214396
         ]
        }
       ],
       "layout": {
        "barmode": "stack",
        "template": {
         "data": {
          "bar": [
           {
            "error_x": {
             "color": "#2a3f5f"
            },
            "error_y": {
             "color": "#2a3f5f"
            },
            "marker": {
             "line": {
              "color": "#E5ECF6",
              "width": 0.5
             }
            },
            "type": "bar"
           }
          ],
          "barpolar": [
           {
            "marker": {
             "line": {
              "color": "#E5ECF6",
              "width": 0.5
             }
            },
            "type": "barpolar"
           }
          ],
          "carpet": [
           {
            "aaxis": {
             "endlinecolor": "#2a3f5f",
             "gridcolor": "white",
             "linecolor": "white",
             "minorgridcolor": "white",
             "startlinecolor": "#2a3f5f"
            },
            "baxis": {
             "endlinecolor": "#2a3f5f",
             "gridcolor": "white",
             "linecolor": "white",
             "minorgridcolor": "white",
             "startlinecolor": "#2a3f5f"
            },
            "type": "carpet"
           }
          ],
          "choropleth": [
           {
            "colorbar": {
             "outlinewidth": 0,
             "ticks": ""
            },
            "type": "choropleth"
           }
          ],
          "contour": [
           {
            "colorbar": {
             "outlinewidth": 0,
             "ticks": ""
            },
            "colorscale": [
             [
              0,
              "#0d0887"
             ],
             [
              0.1111111111111111,
              "#46039f"
             ],
             [
              0.2222222222222222,
              "#7201a8"
             ],
             [
              0.3333333333333333,
              "#9c179e"
             ],
             [
              0.4444444444444444,
              "#bd3786"
             ],
             [
              0.5555555555555556,
              "#d8576b"
             ],
             [
              0.6666666666666666,
              "#ed7953"
             ],
             [
              0.7777777777777778,
              "#fb9f3a"
             ],
             [
              0.8888888888888888,
              "#fdca26"
             ],
             [
              1,
              "#f0f921"
             ]
            ],
            "type": "contour"
           }
          ],
          "contourcarpet": [
           {
            "colorbar": {
             "outlinewidth": 0,
             "ticks": ""
            },
            "type": "contourcarpet"
           }
          ],
          "heatmap": [
           {
            "colorbar": {
             "outlinewidth": 0,
             "ticks": ""
            },
            "colorscale": [
             [
              0,
              "#0d0887"
             ],
             [
              0.1111111111111111,
              "#46039f"
             ],
             [
              0.2222222222222222,
              "#7201a8"
             ],
             [
              0.3333333333333333,
              "#9c179e"
             ],
             [
              0.4444444444444444,
              "#bd3786"
             ],
             [
              0.5555555555555556,
              "#d8576b"
             ],
             [
              0.6666666666666666,
              "#ed7953"
             ],
             [
              0.7777777777777778,
              "#fb9f3a"
             ],
             [
              0.8888888888888888,
              "#fdca26"
             ],
             [
              1,
              "#f0f921"
             ]
            ],
            "type": "heatmap"
           }
          ],
          "heatmapgl": [
           {
            "colorbar": {
             "outlinewidth": 0,
             "ticks": ""
            },
            "colorscale": [
             [
              0,
              "#0d0887"
             ],
             [
              0.1111111111111111,
              "#46039f"
             ],
             [
              0.2222222222222222,
              "#7201a8"
             ],
             [
              0.3333333333333333,
              "#9c179e"
             ],
             [
              0.4444444444444444,
              "#bd3786"
             ],
             [
              0.5555555555555556,
              "#d8576b"
             ],
             [
              0.6666666666666666,
              "#ed7953"
             ],
             [
              0.7777777777777778,
              "#fb9f3a"
             ],
             [
              0.8888888888888888,
              "#fdca26"
             ],
             [
              1,
              "#f0f921"
             ]
            ],
            "type": "heatmapgl"
           }
          ],
          "histogram": [
           {
            "marker": {
             "colorbar": {
              "outlinewidth": 0,
              "ticks": ""
             }
            },
            "type": "histogram"
           }
          ],
          "histogram2d": [
           {
            "colorbar": {
             "outlinewidth": 0,
             "ticks": ""
            },
            "colorscale": [
             [
              0,
              "#0d0887"
             ],
             [
              0.1111111111111111,
              "#46039f"
             ],
             [
              0.2222222222222222,
              "#7201a8"
             ],
             [
              0.3333333333333333,
              "#9c179e"
             ],
             [
              0.4444444444444444,
              "#bd3786"
             ],
             [
              0.5555555555555556,
              "#d8576b"
             ],
             [
              0.6666666666666666,
              "#ed7953"
             ],
             [
              0.7777777777777778,
              "#fb9f3a"
             ],
             [
              0.8888888888888888,
              "#fdca26"
             ],
             [
              1,
              "#f0f921"
             ]
            ],
            "type": "histogram2d"
           }
          ],
          "histogram2dcontour": [
           {
            "colorbar": {
             "outlinewidth": 0,
             "ticks": ""
            },
            "colorscale": [
             [
              0,
              "#0d0887"
             ],
             [
              0.1111111111111111,
              "#46039f"
             ],
             [
              0.2222222222222222,
              "#7201a8"
             ],
             [
              0.3333333333333333,
              "#9c179e"
             ],
             [
              0.4444444444444444,
              "#bd3786"
             ],
             [
              0.5555555555555556,
              "#d8576b"
             ],
             [
              0.6666666666666666,
              "#ed7953"
             ],
             [
              0.7777777777777778,
              "#fb9f3a"
             ],
             [
              0.8888888888888888,
              "#fdca26"
             ],
             [
              1,
              "#f0f921"
             ]
            ],
            "type": "histogram2dcontour"
           }
          ],
          "mesh3d": [
           {
            "colorbar": {
             "outlinewidth": 0,
             "ticks": ""
            },
            "type": "mesh3d"
           }
          ],
          "parcoords": [
           {
            "line": {
             "colorbar": {
              "outlinewidth": 0,
              "ticks": ""
             }
            },
            "type": "parcoords"
           }
          ],
          "pie": [
           {
            "automargin": true,
            "type": "pie"
           }
          ],
          "scatter": [
           {
            "marker": {
             "colorbar": {
              "outlinewidth": 0,
              "ticks": ""
             }
            },
            "type": "scatter"
           }
          ],
          "scatter3d": [
           {
            "line": {
             "colorbar": {
              "outlinewidth": 0,
              "ticks": ""
             }
            },
            "marker": {
             "colorbar": {
              "outlinewidth": 0,
              "ticks": ""
             }
            },
            "type": "scatter3d"
           }
          ],
          "scattercarpet": [
           {
            "marker": {
             "colorbar": {
              "outlinewidth": 0,
              "ticks": ""
             }
            },
            "type": "scattercarpet"
           }
          ],
          "scattergeo": [
           {
            "marker": {
             "colorbar": {
              "outlinewidth": 0,
              "ticks": ""
             }
            },
            "type": "scattergeo"
           }
          ],
          "scattergl": [
           {
            "marker": {
             "colorbar": {
              "outlinewidth": 0,
              "ticks": ""
             }
            },
            "type": "scattergl"
           }
          ],
          "scattermapbox": [
           {
            "marker": {
             "colorbar": {
              "outlinewidth": 0,
              "ticks": ""
             }
            },
            "type": "scattermapbox"
           }
          ],
          "scatterpolar": [
           {
            "marker": {
             "colorbar": {
              "outlinewidth": 0,
              "ticks": ""
             }
            },
            "type": "scatterpolar"
           }
          ],
          "scatterpolargl": [
           {
            "marker": {
             "colorbar": {
              "outlinewidth": 0,
              "ticks": ""
             }
            },
            "type": "scatterpolargl"
           }
          ],
          "scatterternary": [
           {
            "marker": {
             "colorbar": {
              "outlinewidth": 0,
              "ticks": ""
             }
            },
            "type": "scatterternary"
           }
          ],
          "surface": [
           {
            "colorbar": {
             "outlinewidth": 0,
             "ticks": ""
            },
            "colorscale": [
             [
              0,
              "#0d0887"
             ],
             [
              0.1111111111111111,
              "#46039f"
             ],
             [
              0.2222222222222222,
              "#7201a8"
             ],
             [
              0.3333333333333333,
              "#9c179e"
             ],
             [
              0.4444444444444444,
              "#bd3786"
             ],
             [
              0.5555555555555556,
              "#d8576b"
             ],
             [
              0.6666666666666666,
              "#ed7953"
             ],
             [
              0.7777777777777778,
              "#fb9f3a"
             ],
             [
              0.8888888888888888,
              "#fdca26"
             ],
             [
              1,
              "#f0f921"
             ]
            ],
            "type": "surface"
           }
          ],
          "table": [
           {
            "cells": {
             "fill": {
              "color": "#EBF0F8"
             },
             "line": {
              "color": "white"
             }
            },
            "header": {
             "fill": {
              "color": "#C8D4E3"
             },
             "line": {
              "color": "white"
             }
            },
            "type": "table"
           }
          ]
         },
         "layout": {
          "annotationdefaults": {
           "arrowcolor": "#2a3f5f",
           "arrowhead": 0,
           "arrowwidth": 1
          },
          "autotypenumbers": "strict",
          "coloraxis": {
           "colorbar": {
            "outlinewidth": 0,
            "ticks": ""
           }
          },
          "colorscale": {
           "diverging": [
            [
             0,
             "#8e0152"
            ],
            [
             0.1,
             "#c51b7d"
            ],
            [
             0.2,
             "#de77ae"
            ],
            [
             0.3,
             "#f1b6da"
            ],
            [
             0.4,
             "#fde0ef"
            ],
            [
             0.5,
             "#f7f7f7"
            ],
            [
             0.6,
             "#e6f5d0"
            ],
            [
             0.7,
             "#b8e186"
            ],
            [
             0.8,
             "#7fbc41"
            ],
            [
             0.9,
             "#4d9221"
            ],
            [
             1,
             "#276419"
            ]
           ],
           "sequential": [
            [
             0,
             "#0d0887"
            ],
            [
             0.1111111111111111,
             "#46039f"
            ],
            [
             0.2222222222222222,
             "#7201a8"
            ],
            [
             0.3333333333333333,
             "#9c179e"
            ],
            [
             0.4444444444444444,
             "#bd3786"
            ],
            [
             0.5555555555555556,
             "#d8576b"
            ],
            [
             0.6666666666666666,
             "#ed7953"
            ],
            [
             0.7777777777777778,
             "#fb9f3a"
            ],
            [
             0.8888888888888888,
             "#fdca26"
            ],
            [
             1,
             "#f0f921"
            ]
           ],
           "sequentialminus": [
            [
             0,
             "#0d0887"
            ],
            [
             0.1111111111111111,
             "#46039f"
            ],
            [
             0.2222222222222222,
             "#7201a8"
            ],
            [
             0.3333333333333333,
             "#9c179e"
            ],
            [
             0.4444444444444444,
             "#bd3786"
            ],
            [
             0.5555555555555556,
             "#d8576b"
            ],
            [
             0.6666666666666666,
             "#ed7953"
            ],
            [
             0.7777777777777778,
             "#fb9f3a"
            ],
            [
             0.8888888888888888,
             "#fdca26"
            ],
            [
             1,
             "#f0f921"
            ]
           ]
          },
          "colorway": [
           "#636efa",
           "#EF553B",
           "#00cc96",
           "#ab63fa",
           "#FFA15A",
           "#19d3f3",
           "#FF6692",
           "#B6E880",
           "#FF97FF",
           "#FECB52"
          ],
          "font": {
           "color": "#2a3f5f"
          },
          "geo": {
           "bgcolor": "white",
           "lakecolor": "white",
           "landcolor": "#E5ECF6",
           "showlakes": true,
           "showland": true,
           "subunitcolor": "white"
          },
          "hoverlabel": {
           "align": "left"
          },
          "hovermode": "closest",
          "mapbox": {
           "style": "light"
          },
          "paper_bgcolor": "white",
          "plot_bgcolor": "#E5ECF6",
          "polar": {
           "angularaxis": {
            "gridcolor": "white",
            "linecolor": "white",
            "ticks": ""
           },
           "bgcolor": "#E5ECF6",
           "radialaxis": {
            "gridcolor": "white",
            "linecolor": "white",
            "ticks": ""
           }
          },
          "scene": {
           "xaxis": {
            "backgroundcolor": "#E5ECF6",
            "gridcolor": "white",
            "gridwidth": 2,
            "linecolor": "white",
            "showbackground": true,
            "ticks": "",
            "zerolinecolor": "white"
           },
           "yaxis": {
            "backgroundcolor": "#E5ECF6",
            "gridcolor": "white",
            "gridwidth": 2,
            "linecolor": "white",
            "showbackground": true,
            "ticks": "",
            "zerolinecolor": "white"
           },
           "zaxis": {
            "backgroundcolor": "#E5ECF6",
            "gridcolor": "white",
            "gridwidth": 2,
            "linecolor": "white",
            "showbackground": true,
            "ticks": "",
            "zerolinecolor": "white"
           }
          },
          "shapedefaults": {
           "line": {
            "color": "#2a3f5f"
           }
          },
          "ternary": {
           "aaxis": {
            "gridcolor": "white",
            "linecolor": "white",
            "ticks": ""
           },
           "baxis": {
            "gridcolor": "white",
            "linecolor": "white",
            "ticks": ""
           },
           "bgcolor": "#E5ECF6",
           "caxis": {
            "gridcolor": "white",
            "linecolor": "white",
            "ticks": ""
           }
          },
          "title": {
           "x": 0.05
          },
          "xaxis": {
           "automargin": true,
           "gridcolor": "white",
           "linecolor": "white",
           "ticks": "",
           "title": {
            "standoff": 15
           },
           "zerolinecolor": "white",
           "zerolinewidth": 2
          },
          "yaxis": {
           "automargin": true,
           "gridcolor": "white",
           "linecolor": "white",
           "ticks": "",
           "title": {
            "standoff": 15
           },
           "zerolinecolor": "white",
           "zerolinewidth": 2
          }
         }
        },
        "title": {
         "text": "Comparing Performances Since Relative Start Date"
        },
        "xaxis": {
         "dtick": 1,
         "showticklabels": true,
         "tickangle": 90,
         "type": "category"
        }
       }
      },
      "text/html": [
       "<div>                            <div id=\"b1752b52-40a1-4ffc-8990-576efbd5a9ef\" class=\"plotly-graph-div\" style=\"height:525px; width:100%;\"></div>            <script type=\"text/javascript\">                require([\"plotly\"], function(Plotly) {                    window.PLOTLYENV=window.PLOTLYENV || {};                                    if (document.getElementById(\"b1752b52-40a1-4ffc-8990-576efbd5a9ef\")) {                    Plotly.newPlot(                        \"b1752b52-40a1-4ffc-8990-576efbd5a9ef\",                        [{\"marker\": {\"color\": \"#FFD700\"}, \"type\": \"bar\", \"x\": [\"GME\", \"ELY\", \"VGZ\", \"FB\", \"KGC\", \"XPEV\", \"GOOGL\", \"DBX\", \"CRWD\", \"BA\", \"WBA\", \"PFE\", \"UPWK\", \"MP\", \"NIO\", \"CHPT\", \"GHVI\", \"AAPL\", \"SQ\", \"TSLA\", \"ROKU\", \"ARKG\", \"DIS\", \"PINS\", \"PLTR\", \"BNGO\", \"SFT\", \"FVRR\", \"COUR\", \"IPOD\", \"SUNW\", \"JMIA\", \"ETSY\", \"DKNG\", \"MARA\", \"PLUG\", \"COIN\", \"RIOT\"], \"y\": [0.8815262016512003, 0.3649341629601828, 0.279569944159421, 0.2774801512564988, 0.2604651712954372, 0.1784740379713087, 0.1707285249540045, 0.16312365958070765, 0.1506813876539567, 0.1335943576909666, 0.1276141584367654, 0.12573096903904765, 0.11909128978077833, 0.08301454196488144, 0.07790227770841572, 0.07228418282437613, 0.051437166245556706, 0.03454592209075264, 0.016208018070497127, 0.003958583230869819, -0.03400477937729052, -0.04498994861069824, -0.048875192794066644, -0.06493308874347278, -0.06752932095456592, -0.08405795879560334, -0.08684866621081194, -0.08778214744597315, -0.1437778049045139, -0.14796753010373728, -0.15841578124169772, -0.16805409248854922, -0.17486117275305674, -0.19932159882090056, -0.21274595175510047, -0.22813595611401502, -0.27217621066090525, -0.34003163382214396]}],                        {\"barmode\": \"stack\", \"template\": {\"data\": {\"bar\": [{\"error_x\": {\"color\": \"#2a3f5f\"}, \"error_y\": {\"color\": \"#2a3f5f\"}, \"marker\": {\"line\": {\"color\": \"#E5ECF6\", \"width\": 0.5}}, \"type\": \"bar\"}], \"barpolar\": [{\"marker\": {\"line\": {\"color\": \"#E5ECF6\", \"width\": 0.5}}, \"type\": \"barpolar\"}], \"carpet\": [{\"aaxis\": {\"endlinecolor\": \"#2a3f5f\", \"gridcolor\": \"white\", \"linecolor\": \"white\", \"minorgridcolor\": \"white\", \"startlinecolor\": \"#2a3f5f\"}, \"baxis\": {\"endlinecolor\": \"#2a3f5f\", \"gridcolor\": \"white\", \"linecolor\": \"white\", \"minorgridcolor\": \"white\", \"startlinecolor\": \"#2a3f5f\"}, \"type\": \"carpet\"}], \"choropleth\": [{\"colorbar\": {\"outlinewidth\": 0, \"ticks\": \"\"}, \"type\": \"choropleth\"}], \"contour\": [{\"colorbar\": {\"outlinewidth\": 0, \"ticks\": \"\"}, \"colorscale\": [[0.0, \"#0d0887\"], [0.1111111111111111, \"#46039f\"], [0.2222222222222222, \"#7201a8\"], [0.3333333333333333, \"#9c179e\"], [0.4444444444444444, \"#bd3786\"], [0.5555555555555556, \"#d8576b\"], [0.6666666666666666, \"#ed7953\"], [0.7777777777777778, \"#fb9f3a\"], [0.8888888888888888, \"#fdca26\"], [1.0, \"#f0f921\"]], \"type\": \"contour\"}], \"contourcarpet\": [{\"colorbar\": {\"outlinewidth\": 0, \"ticks\": \"\"}, \"type\": \"contourcarpet\"}], \"heatmap\": [{\"colorbar\": {\"outlinewidth\": 0, \"ticks\": \"\"}, \"colorscale\": [[0.0, \"#0d0887\"], [0.1111111111111111, \"#46039f\"], [0.2222222222222222, \"#7201a8\"], [0.3333333333333333, \"#9c179e\"], [0.4444444444444444, \"#bd3786\"], [0.5555555555555556, \"#d8576b\"], [0.6666666666666666, \"#ed7953\"], [0.7777777777777778, \"#fb9f3a\"], [0.8888888888888888, \"#fdca26\"], [1.0, \"#f0f921\"]], \"type\": \"heatmap\"}], \"heatmapgl\": [{\"colorbar\": {\"outlinewidth\": 0, \"ticks\": \"\"}, \"colorscale\": [[0.0, \"#0d0887\"], [0.1111111111111111, \"#46039f\"], [0.2222222222222222, \"#7201a8\"], [0.3333333333333333, \"#9c179e\"], [0.4444444444444444, \"#bd3786\"], [0.5555555555555556, \"#d8576b\"], [0.6666666666666666, \"#ed7953\"], [0.7777777777777778, \"#fb9f3a\"], [0.8888888888888888, \"#fdca26\"], [1.0, \"#f0f921\"]], \"type\": \"heatmapgl\"}], \"histogram\": [{\"marker\": {\"colorbar\": {\"outlinewidth\": 0, \"ticks\": \"\"}}, \"type\": \"histogram\"}], \"histogram2d\": [{\"colorbar\": {\"outlinewidth\": 0, \"ticks\": \"\"}, \"colorscale\": [[0.0, \"#0d0887\"], [0.1111111111111111, \"#46039f\"], [0.2222222222222222, \"#7201a8\"], [0.3333333333333333, \"#9c179e\"], [0.4444444444444444, \"#bd3786\"], [0.5555555555555556, \"#d8576b\"], [0.6666666666666666, \"#ed7953\"], [0.7777777777777778, \"#fb9f3a\"], [0.8888888888888888, \"#fdca26\"], [1.0, \"#f0f921\"]], \"type\": \"histogram2d\"}], \"histogram2dcontour\": [{\"colorbar\": {\"outlinewidth\": 0, \"ticks\": \"\"}, \"colorscale\": [[0.0, \"#0d0887\"], [0.1111111111111111, \"#46039f\"], [0.2222222222222222, \"#7201a8\"], [0.3333333333333333, \"#9c179e\"], [0.4444444444444444, \"#bd3786\"], [0.5555555555555556, \"#d8576b\"], [0.6666666666666666, \"#ed7953\"], [0.7777777777777778, \"#fb9f3a\"], [0.8888888888888888, \"#fdca26\"], [1.0, \"#f0f921\"]], \"type\": \"histogram2dcontour\"}], \"mesh3d\": [{\"colorbar\": {\"outlinewidth\": 0, \"ticks\": \"\"}, \"type\": \"mesh3d\"}], \"parcoords\": [{\"line\": {\"colorbar\": {\"outlinewidth\": 0, \"ticks\": \"\"}}, \"type\": \"parcoords\"}], \"pie\": [{\"automargin\": true, \"type\": \"pie\"}], \"scatter\": [{\"marker\": {\"colorbar\": {\"outlinewidth\": 0, \"ticks\": \"\"}}, \"type\": \"scatter\"}], \"scatter3d\": [{\"line\": {\"colorbar\": {\"outlinewidth\": 0, \"ticks\": \"\"}}, \"marker\": {\"colorbar\": {\"outlinewidth\": 0, \"ticks\": \"\"}}, \"type\": \"scatter3d\"}], \"scattercarpet\": [{\"marker\": {\"colorbar\": {\"outlinewidth\": 0, \"ticks\": \"\"}}, \"type\": \"scattercarpet\"}], \"scattergeo\": [{\"marker\": {\"colorbar\": {\"outlinewidth\": 0, \"ticks\": \"\"}}, \"type\": \"scattergeo\"}], \"scattergl\": [{\"marker\": {\"colorbar\": {\"outlinewidth\": 0, \"ticks\": \"\"}}, \"type\": \"scattergl\"}], \"scattermapbox\": [{\"marker\": {\"colorbar\": {\"outlinewidth\": 0, \"ticks\": \"\"}}, \"type\": \"scattermapbox\"}], \"scatterpolar\": [{\"marker\": {\"colorbar\": {\"outlinewidth\": 0, \"ticks\": \"\"}}, \"type\": \"scatterpolar\"}], \"scatterpolargl\": [{\"marker\": {\"colorbar\": {\"outlinewidth\": 0, \"ticks\": \"\"}}, \"type\": \"scatterpolargl\"}], \"scatterternary\": [{\"marker\": {\"colorbar\": {\"outlinewidth\": 0, \"ticks\": \"\"}}, \"type\": \"scatterternary\"}], \"surface\": [{\"colorbar\": {\"outlinewidth\": 0, \"ticks\": \"\"}, \"colorscale\": [[0.0, \"#0d0887\"], [0.1111111111111111, \"#46039f\"], [0.2222222222222222, \"#7201a8\"], [0.3333333333333333, \"#9c179e\"], [0.4444444444444444, \"#bd3786\"], [0.5555555555555556, \"#d8576b\"], [0.6666666666666666, \"#ed7953\"], [0.7777777777777778, \"#fb9f3a\"], [0.8888888888888888, \"#fdca26\"], [1.0, \"#f0f921\"]], \"type\": \"surface\"}], \"table\": [{\"cells\": {\"fill\": {\"color\": \"#EBF0F8\"}, \"line\": {\"color\": \"white\"}}, \"header\": {\"fill\": {\"color\": \"#C8D4E3\"}, \"line\": {\"color\": \"white\"}}, \"type\": \"table\"}]}, \"layout\": {\"annotationdefaults\": {\"arrowcolor\": \"#2a3f5f\", \"arrowhead\": 0, \"arrowwidth\": 1}, \"autotypenumbers\": \"strict\", \"coloraxis\": {\"colorbar\": {\"outlinewidth\": 0, \"ticks\": \"\"}}, \"colorscale\": {\"diverging\": [[0, \"#8e0152\"], [0.1, \"#c51b7d\"], [0.2, \"#de77ae\"], [0.3, \"#f1b6da\"], [0.4, \"#fde0ef\"], [0.5, \"#f7f7f7\"], [0.6, \"#e6f5d0\"], [0.7, \"#b8e186\"], [0.8, \"#7fbc41\"], [0.9, \"#4d9221\"], [1, \"#276419\"]], \"sequential\": [[0.0, \"#0d0887\"], [0.1111111111111111, \"#46039f\"], [0.2222222222222222, \"#7201a8\"], [0.3333333333333333, \"#9c179e\"], [0.4444444444444444, \"#bd3786\"], [0.5555555555555556, \"#d8576b\"], [0.6666666666666666, \"#ed7953\"], [0.7777777777777778, \"#fb9f3a\"], [0.8888888888888888, \"#fdca26\"], [1.0, \"#f0f921\"]], \"sequentialminus\": [[0.0, \"#0d0887\"], [0.1111111111111111, \"#46039f\"], [0.2222222222222222, \"#7201a8\"], [0.3333333333333333, \"#9c179e\"], [0.4444444444444444, \"#bd3786\"], [0.5555555555555556, \"#d8576b\"], [0.6666666666666666, \"#ed7953\"], [0.7777777777777778, \"#fb9f3a\"], [0.8888888888888888, \"#fdca26\"], [1.0, \"#f0f921\"]]}, \"colorway\": [\"#636efa\", \"#EF553B\", \"#00cc96\", \"#ab63fa\", \"#FFA15A\", \"#19d3f3\", \"#FF6692\", \"#B6E880\", \"#FF97FF\", \"#FECB52\"], \"font\": {\"color\": \"#2a3f5f\"}, \"geo\": {\"bgcolor\": \"white\", \"lakecolor\": \"white\", \"landcolor\": \"#E5ECF6\", \"showlakes\": true, \"showland\": true, \"subunitcolor\": \"white\"}, \"hoverlabel\": {\"align\": \"left\"}, \"hovermode\": \"closest\", \"mapbox\": {\"style\": \"light\"}, \"paper_bgcolor\": \"white\", \"plot_bgcolor\": \"#E5ECF6\", \"polar\": {\"angularaxis\": {\"gridcolor\": \"white\", \"linecolor\": \"white\", \"ticks\": \"\"}, \"bgcolor\": \"#E5ECF6\", \"radialaxis\": {\"gridcolor\": \"white\", \"linecolor\": \"white\", \"ticks\": \"\"}}, \"scene\": {\"xaxis\": {\"backgroundcolor\": \"#E5ECF6\", \"gridcolor\": \"white\", \"gridwidth\": 2, \"linecolor\": \"white\", \"showbackground\": true, \"ticks\": \"\", \"zerolinecolor\": \"white\"}, \"yaxis\": {\"backgroundcolor\": \"#E5ECF6\", \"gridcolor\": \"white\", \"gridwidth\": 2, \"linecolor\": \"white\", \"showbackground\": true, \"ticks\": \"\", \"zerolinecolor\": \"white\"}, \"zaxis\": {\"backgroundcolor\": \"#E5ECF6\", \"gridcolor\": \"white\", \"gridwidth\": 2, \"linecolor\": \"white\", \"showbackground\": true, \"ticks\": \"\", \"zerolinecolor\": \"white\"}}, \"shapedefaults\": {\"line\": {\"color\": \"#2a3f5f\"}}, \"ternary\": {\"aaxis\": {\"gridcolor\": \"white\", \"linecolor\": \"white\", \"ticks\": \"\"}, \"baxis\": {\"gridcolor\": \"white\", \"linecolor\": \"white\", \"ticks\": \"\"}, \"bgcolor\": \"#E5ECF6\", \"caxis\": {\"gridcolor\": \"white\", \"linecolor\": \"white\", \"ticks\": \"\"}}, \"title\": {\"x\": 0.05}, \"xaxis\": {\"automargin\": true, \"gridcolor\": \"white\", \"linecolor\": \"white\", \"ticks\": \"\", \"title\": {\"standoff\": 15}, \"zerolinecolor\": \"white\", \"zerolinewidth\": 2}, \"yaxis\": {\"automargin\": true, \"gridcolor\": \"white\", \"linecolor\": \"white\", \"ticks\": \"\", \"title\": {\"standoff\": 15}, \"zerolinecolor\": \"white\", \"zerolinewidth\": 2}}}, \"title\": {\"text\": \"Comparing Performances Since Relative Start Date\"}, \"xaxis\": {\"dtick\": 1, \"showticklabels\": true, \"tickangle\": 90, \"type\": \"category\"}},                        {\"responsive\": true}                    ).then(function(){\n",
       "                            \n",
       "var gd = document.getElementById('b1752b52-40a1-4ffc-8990-576efbd5a9ef');\n",
       "var x = new MutationObserver(function (mutations, observer) {{\n",
       "        var display = window.getComputedStyle(gd).display;\n",
       "        if (!display || display === 'none') {{\n",
       "            console.log([gd, 'removed!']);\n",
       "            Plotly.purge(gd);\n",
       "            observer.disconnect();\n",
       "        }}\n",
       "}});\n",
       "\n",
       "// Listen for the removal of the full notebook cells\n",
       "var notebookContainer = gd.closest('#notebook-container');\n",
       "if (notebookContainer) {{\n",
       "    x.observe(notebookContainer, {childList: true});\n",
       "}}\n",
       "\n",
       "// Listen for the clearing of the current output cell\n",
       "var outputEl = gd.closest('.output');\n",
       "if (outputEl) {{\n",
       "    x.observe(outputEl, {childList: true});\n",
       "}}\n",
       "\n",
       "                        })                };                });            </script>        </div>"
      ]
     },
     "metadata": {}
    }
   ],
   "metadata": {}
  },
  {
   "cell_type": "code",
   "execution_count": 13,
   "source": [
    "# weighted performance of my portfolio\n",
    "\n"
   ],
   "outputs": [],
   "metadata": {}
  },
  {
   "cell_type": "code",
   "execution_count": 6,
   "source": [
    "# df.to_csv('holdings.csv)"
   ],
   "outputs": [],
   "metadata": {}
  }
 ],
 "metadata": {
  "kernelspec": {
   "name": "python3",
   "display_name": "Python 3.8.5 64-bit ('invest': conda)"
  },
  "language_info": {
   "codemirror_mode": {
    "name": "ipython",
    "version": 3
   },
   "file_extension": ".py",
   "mimetype": "text/x-python",
   "name": "python",
   "nbconvert_exporter": "python",
   "pygments_lexer": "ipython3",
   "version": "3.8.5"
  },
  "metadata": {
   "interpreter": {
    "hash": "31f2aee4e71d21fbe5cf8b01ff0e069b9275f58929596ceb00d14d90e3e16cd6"
   }
  },
  "interpreter": {
   "hash": "826a2d72db831f098c5aa0810b6cb97b01d7a61e7bcc13f7a9f53643f57a2666"
  }
 },
 "nbformat": 4,
 "nbformat_minor": 5
}